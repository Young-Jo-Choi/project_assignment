{
 "cells": [
  {
   "cell_type": "code",
   "execution_count": 1,
   "metadata": {},
   "outputs": [],
   "source": [
    "import os\n",
    "import pandas as pd\n",
    "import numpy as np\n",
    "from IPython.display import display\n",
    "from src.load_df import *\n",
    "from warnings import filterwarnings\n",
    "filterwarnings('ignore')"
   ]
  },
  {
   "cell_type": "code",
   "execution_count": null,
   "metadata": {},
   "outputs": [],
   "source": [
    "filelist = make_filelist(data_path='../국립암센터_데이터')\n",
    "make_list = lambda x:make_filelist(data_path=f'../국립암센터_데이터/{x}/')"
   ]
  },
  {
   "cell_type": "code",
   "execution_count": 939,
   "metadata": {},
   "outputs": [
    {
     "name": "stderr",
     "output_type": "stream",
     "text": [
      "Skipping line 247334: unexpected end of data\n",
      "Skipping line 902421: unexpected end of data\n"
     ]
    }
   ],
   "source": [
    "read_df = lambda x:read_table(f'../국립암센터_데이터/{x.split(\"_\")[0]}/{x}')\n",
    "\n",
    "df = read_df('BRST_PT_BSNF.csv')\n",
    "df_dead = read_df('BRST_DEAD_NFRM.csv')\n",
    "df_image = read_df('BRST_EX_IMAG.csv')\n",
    "df_diag = read_df('BRST_EX_DIAG.csv')"
   ]
  },
  {
   "cell_type": "code",
   "execution_count": null,
   "metadata": {},
   "outputs": [],
   "source": [
    "from IPython.display import display\n",
    "display(df.head())\n",
    "display(df_image.head())\n",
    "display(df_diag.head())"
   ]
  },
  {
   "cell_type": "code",
   "execution_count": 13,
   "metadata": {},
   "outputs": [
    {
     "data": {
      "text/plain": [
       "(13815, 7645, 1984)"
      ]
     },
     "execution_count": 13,
     "metadata": {},
     "output_type": "execute_result"
    }
   ],
   "source": [
    "df['PT_SBST_NO'].nunique(), df_image['PT_SBST_NO'].nunique(), df_diag['PT_SBST_NO'].nunique()"
   ]
  },
  {
   "cell_type": "code",
   "execution_count": 15,
   "metadata": {},
   "outputs": [
    {
     "name": "stdout",
     "output_type": "stream",
     "text": [
      "demographic과 진단서의 교집합\n",
      "7645\n",
      "demographic과 진단검사수치의 교집합\n",
      "1984\n",
      "진단검사수치와 진단서의 교집합\n",
      "1947\n",
      "전체 교집합\n",
      "1947\n"
     ]
    }
   ],
   "source": [
    "print('demographic과 진단서의 교집합')\n",
    "print(len(np.intersect1d(df['PT_SBST_NO'], df_image['PT_SBST_NO'])))\n",
    "\n",
    "print('demographic과 진단검사수치의 교집합')\n",
    "print(len(np.intersect1d(df['PT_SBST_NO'], df_diag['PT_SBST_NO'])))\n",
    "\n",
    "print('진단검사수치와 진단서의 교집합')\n",
    "print(len(np.intersect1d(df_diag['PT_SBST_NO'], df_image['PT_SBST_NO'])))\n",
    "\n",
    "print('전체 교집합')\n",
    "print(len(np.intersect1d(df['PT_SBST_NO'],np.intersect1d(df_diag['PT_SBST_NO'], df_image['PT_SBST_NO']))))\n"
   ]
  },
  {
   "cell_type": "markdown",
   "metadata": {},
   "source": [
    "# Pivot <- 진단검사"
   ]
  },
  {
   "cell_type": "code",
   "execution_count": 941,
   "metadata": {},
   "outputs": [
    {
     "name": "stdout",
     "output_type": "stream",
     "text": [
      "실제 검사명은 생략\n"
     ]
    }
   ],
   "source": [
    "# 이중 검사명에 #이 들어간 것은 포함하지 않음\n",
    "df_diag['CEXM_NM'].unique()"
   ]
  },
  {
   "cell_type": "code",
   "execution_count": 104,
   "metadata": {},
   "outputs": [],
   "source": [
    "# 검사 단위가 %대신 #인 것들은 생략\n",
    "df_diag = df_diag[df_diag['CEXM_NM'].str.contains('#')==False]"
   ]
  },
  {
   "cell_type": "code",
   "execution_count": 942,
   "metadata": {},
   "outputs": [
    {
     "data": {
      "text/plain": [
       "CEXM_NM               \n",
       "AFP[Serum]       ng/mL      102\n",
       "                 IU/mL       44\n",
       "ALT(GPT)[Serum]  IU/L     26922\n",
       "AST(GOT)[Serum]  IU/L     26890\n",
       "Albumin[Serum]   g/dL     26416\n",
       "Name: CEXM_KIND_REF_VL_UNIT_CONT, dtype: int64"
      ]
     },
     "execution_count": 942,
     "metadata": {},
     "output_type": "execute_result"
    }
   ],
   "source": [
    "# 검사단위가 두개 이상이면 다수인 쪽을 따르기로\n",
    "# 200개 미만인 검사명들은 버리기로 함\n",
    "\n",
    "grouped_unit = df_diag.groupby('CEXM_NM')['CEXM_KIND_REF_VL_UNIT_CONT'].apply(pd.value_counts)\n",
    "grouped_unit.head()"
   ]
  },
  {
   "cell_type": "code",
   "execution_count": null,
   "metadata": {},
   "outputs": [],
   "source": [
    "cond = grouped_unit>=500\n",
    "using_diagnosis = grouped_unit[cond]"
   ]
  },
  {
   "cell_type": "code",
   "execution_count": 124,
   "metadata": {},
   "outputs": [],
   "source": [
    "# 사용할 변수만 취합\n",
    "using_diagnosis = np.array(using_diagnosis.index.tolist())[:,0]\n",
    "df_diag_simple = df_diag[df_diag['CEXM_NM'].isin(using_diagnosis)]\n",
    "# 검사수치가 빈 것들은 날림\n",
    "df_diag_simple = df_diag_simple.dropna(subset = ['CEXM_RSLT_CONT'])\n",
    "# 같은 환자가 같은 날짜에 같은 검사명을 받은 경우 하나만 남김(검사수치가 거의 비슷한 값으로 입력되어 있음)\n",
    "df_diag_simple = df_diag_simple.drop_duplicates(subset = ['PT_SBST_NO','CEXM_YMD','CEXM_NM'])"
   ]
  },
  {
   "cell_type": "code",
   "execution_count": 141,
   "metadata": {},
   "outputs": [],
   "source": [
    "df_diag_pivot = df_diag_simple.pivot(index=['PT_SBST_NO','CEXM_YMD'],columns='CEXM_NM',values='CEXM_RSLT_CONT')\n",
    "df_diag_pivot = df_diag_pivot.reset_index()"
   ]
  },
  {
   "cell_type": "markdown",
   "metadata": {},
   "source": [
    "# 의미없는 정보는 버림"
   ]
  },
  {
   "cell_type": "code",
   "execution_count": 158,
   "metadata": {},
   "outputs": [],
   "source": [
    "cond_demo = df['PT_SBST_NO'].isin(df_diag_pivot['PT_SBST_NO'])\n",
    "cond_img = df_image['PT_SBST_NO'].isin(df_diag_pivot['PT_SBST_NO'])\n",
    "\n",
    "df_essential = df[cond_demo]\n",
    "df_img_essential = df_image[cond_img]"
   ]
  },
  {
   "cell_type": "code",
   "execution_count": 159,
   "metadata": {},
   "outputs": [],
   "source": [
    "del df\n",
    "del df_image"
   ]
  },
  {
   "cell_type": "code",
   "execution_count": 160,
   "metadata": {},
   "outputs": [
    {
     "data": {
      "text/plain": [
       "Index(['CENTER_CD', 'IRB_APRV_NO', 'PT_SBST_NO', 'FRMD_YMD',\n",
       "       'BRST_CNCT_LAST_MTRT_YMD', 'CENTER_LAST_VST_YMD', 'BRYM', 'IDGN_AGE',\n",
       "       'INOP_AGE', 'PT_SEX_CD', 'PT_SEX_CD_ETC_CONT', 'CRTN_DT'],\n",
       "      dtype='object')"
      ]
     },
     "execution_count": 160,
     "metadata": {},
     "output_type": "execute_result"
    }
   ],
   "source": [
    "df_essential.columns"
   ]
  },
  {
   "cell_type": "code",
   "execution_count": 161,
   "metadata": {},
   "outputs": [],
   "source": [
    "df_essential = df_essential.drop(['CENTER_CD', 'IRB_APRV_NO','PT_SEX_CD_ETC_CONT', 'CRTN_DT'],axis=1)"
   ]
  },
  {
   "cell_type": "code",
   "execution_count": 163,
   "metadata": {},
   "outputs": [],
   "source": [
    "df_img_essential = df_img_essential.drop(['CENTER_CD', 'IRB_APRV_NO','CRTN_DT','IMEX_RSLT_CONT'],axis=1)"
   ]
  },
  {
   "cell_type": "code",
   "execution_count": 164,
   "metadata": {},
   "outputs": [
    {
     "data": {
      "text/plain": [
       "((1984, 8), (38072, 35), (64663, 10))"
      ]
     },
     "execution_count": 164,
     "metadata": {},
     "output_type": "execute_result"
    }
   ],
   "source": [
    "df_essential.shape, df_diag_pivot.shape, df_img_essential.shape"
   ]
  },
  {
   "cell_type": "markdown",
   "metadata": {},
   "source": [
    "# merge\n",
    "\n",
    "기본환자정보 + 진단검사수치 + 진단서가 있는 환자를 대상으로 진행\n",
    "\n",
    "df_image : IMEX_YMD(영상검사일자)<br>\n",
    "df_diag : CEXM_YMD(진단검사일자)"
   ]
  },
  {
   "cell_type": "code",
   "execution_count": 943,
   "metadata": {},
   "outputs": [
    {
     "data": {
      "text/plain": [
       "((64663, 10), (38072, 35))"
      ]
     },
     "execution_count": 943,
     "metadata": {},
     "output_type": "execute_result"
    }
   ],
   "source": [
    "df_img_essential.shape, df_diag_pivot.shape"
   ]
  },
  {
   "cell_type": "markdown",
   "metadata": {},
   "source": [
    "다음과 같이 하면 중복 데이터가 많이 생김\n",
    "- df_merged = pd.merge(df_diag_pivot, df_img_essential, how='right', on='PT_SBST_NO')\n",
    "- 날짜까지 고려하여 병합하되 일치하지 않을 수 있으므로 가장 최근접의 날짜로 병합\n",
    "\n",
    "기준 : PT_SBST_NO, df_diag_essential의 날짜 + 가장 직후의 image 소견서\n",
    "- ex) df_image : 20180520, 20180526, df_diag : 20180515, 20180524\n",
    "- diag0515 <-> image0520, diag0524 <-> image0526\n",
    "\n",
    "구간화 기준 : df_diag, 단 같은 환자대체번호에 대하여"
   ]
  },
  {
   "cell_type": "code",
   "execution_count": 357,
   "metadata": {},
   "outputs": [],
   "source": [
    "def get_merge(PT_SBST_NO):\n",
    "    df_img_temp = df_img_essential.query(f'PT_SBST_NO=={PT_SBST_NO}')\n",
    "    df_diag_temp = df_diag_pivot.query(f'PT_SBST_NO=={PT_SBST_NO}')\n",
    "    standard = df_img_temp['IMEX_YMD'].unique().tolist()\n",
    "    if max(standard) < df_diag_temp['CEXM_YMD'].max():\n",
    "        standard += [df_diag_temp['CEXM_YMD'].max()]\n",
    "    if min(standard) >= df_diag_temp['CEXM_YMD'].min():\n",
    "        standard += [df_diag_temp['CEXM_YMD'].min()-1]\n",
    "    df_diag_temp['IMEX_YMD'] = pd.cut(df_diag_temp['CEXM_YMD'], bins=np.unique(standard)).astype(str).replace('.0','').str.split(',').str[1].str[:-1].astype(int)\n",
    "    merged = pd.merge(df_diag_temp, df_img_temp, how='left',on=['PT_SBST_NO','IMEX_YMD']).drop_duplicates(subset = ['PT_SBST_NO','CEXM_YMD'], keep='last')\n",
    "    return merged"
   ]
  },
  {
   "cell_type": "code",
   "execution_count": 944,
   "metadata": {},
   "outputs": [
    {
     "name": "stdout",
     "output_type": "stream",
     "text": [
      "0\n",
      "500\n",
      "1000\n",
      "1500\n"
     ]
    }
   ],
   "source": [
    "df_img_diag = pd.DataFrame()\n",
    "for i,pt_sbst_no in enumerate(df_img_essential['PT_SBST_NO'].unique()):\n",
    "    if i%500==0:\n",
    "        print(i)\n",
    "    merged = get_merge(pt_sbst_no)\n",
    "    df_img_diag = pd.concat([df_img_diag,merged])"
   ]
  },
  {
   "cell_type": "code",
   "execution_count": 365,
   "metadata": {},
   "outputs": [
    {
     "data": {
      "text/plain": [
       "(37963, 51)"
      ]
     },
     "execution_count": 365,
     "metadata": {},
     "output_type": "execute_result"
    }
   ],
   "source": [
    "df_result = pd.merge(df_essential,df_img_diag, how='right', on='PT_SBST_NO')\n",
    "df_result.shape"
   ]
  },
  {
   "cell_type": "markdown",
   "metadata": {},
   "source": [
    "# 사망"
   ]
  },
  {
   "cell_type": "code",
   "execution_count": 368,
   "metadata": {},
   "outputs": [],
   "source": [
    "dead = read_df('BRST_DEAD_NFRM.csv')"
   ]
  },
  {
   "cell_type": "code",
   "execution_count": 374,
   "metadata": {},
   "outputs": [],
   "source": [
    "df_result_dead = pd.merge(df_result,dead[['PT_SBST_NO','DEATH_YMD']] ,how='left')"
   ]
  },
  {
   "cell_type": "code",
   "execution_count": 375,
   "metadata": {},
   "outputs": [
    {
     "data": {
      "text/plain": [
       "32703"
      ]
     },
     "execution_count": 375,
     "metadata": {},
     "output_type": "execute_result"
    }
   ],
   "source": [
    "df_result_dead['DEATH_YMD'].isnull().sum()"
   ]
  },
  {
   "cell_type": "code",
   "execution_count": 376,
   "metadata": {},
   "outputs": [
    {
     "data": {
      "text/plain": [
       "(37963, 52)"
      ]
     },
     "execution_count": 376,
     "metadata": {},
     "output_type": "execute_result"
    }
   ],
   "source": [
    "df_result_dead.shape"
   ]
  },
  {
   "cell_type": "code",
   "execution_count": 378,
   "metadata": {},
   "outputs": [
    {
     "data": {
      "text/plain": [
       "PT_SBST_NO       0\n",
       "DEATH_YMD     1826\n",
       "dtype: int64"
      ]
     },
     "execution_count": 378,
     "metadata": {},
     "output_type": "execute_result"
    }
   ],
   "source": [
    "df_result_dead.drop_duplicates(subset=['PT_SBST_NO'])[['PT_SBST_NO','DEATH_YMD']].isnull().sum()"
   ]
  },
  {
   "cell_type": "code",
   "execution_count": 380,
   "metadata": {},
   "outputs": [],
   "source": [
    "temp = df_result_dead.drop_duplicates(subset=['PT_SBST_NO'])[['PT_SBST_NO','FRMD_YMD','DEATH_YMD']]\n",
    "dead_period = (pd.to_datetime(temp['DEATH_YMD'],format='%Y%m%d') - pd.to_datetime(temp['FRMD_YMD'],format='%Y%m%d')).dropna().astype(str).str.split(' ').str[0].astype(int)"
   ]
  },
  {
   "cell_type": "code",
   "execution_count": 392,
   "metadata": {},
   "outputs": [
    {
     "data": {
      "text/plain": [
       "count     121.000000\n",
       "mean      865.677686\n",
       "std       720.461429\n",
       "min         3.000000\n",
       "25%       364.000000\n",
       "50%       673.000000\n",
       "75%      1128.000000\n",
       "max      3596.000000\n",
       "dtype: float64"
      ]
     },
     "execution_count": 392,
     "metadata": {},
     "output_type": "execute_result"
    }
   ],
   "source": [
    "dead_period.describe()"
   ]
  },
  {
   "cell_type": "code",
   "execution_count": 398,
   "metadata": {},
   "outputs": [
    {
     "data": {
      "text/plain": [
       "count    1947.000000\n",
       "mean       19.498202\n",
       "std        19.430493\n",
       "min         1.000000\n",
       "25%         7.000000\n",
       "50%        14.000000\n",
       "75%        25.500000\n",
       "max       244.000000\n",
       "Name: FRMD_YMD, dtype: float64"
      ]
     },
     "execution_count": 398,
     "metadata": {},
     "output_type": "execute_result"
    }
   ],
   "source": [
    "df_result_dead.groupby('PT_SBST_NO').count()['FRMD_YMD'].describe()"
   ]
  },
  {
   "cell_type": "code",
   "execution_count": 410,
   "metadata": {},
   "outputs": [
    {
     "data": {
      "text/plain": [
       "(37963, 52)"
      ]
     },
     "execution_count": 410,
     "metadata": {},
     "output_type": "execute_result"
    }
   ],
   "source": [
    "df_result_dead.shape"
   ]
  },
  {
   "cell_type": "markdown",
   "metadata": {},
   "source": [
    "# 논의\n",
    "1. 진단검사 : 보간\n",
    "2. 환자당 데이터를 하나만 남길지 or 환자/날짜별로 여러개를 남길지"
   ]
  },
  {
   "cell_type": "code",
   "execution_count": 429,
   "metadata": {},
   "outputs": [],
   "source": [
    "diag = df_result_dead.iloc[:,[0]+list(range(8,43))]"
   ]
  },
  {
   "cell_type": "code",
   "execution_count": 499,
   "metadata": {},
   "outputs": [],
   "source": [
    "asnan = lambda x:np.nan if x=='' else x\n",
    "def interpolation(df):\n",
    "    df['CEXM_YMD'] = pd.to_datetime(df['CEXM_YMD'], format='%Y%m%d')\n",
    "    def interpolation_col(df,col):\n",
    "        se = df.set_index('CEXM_YMD')[col].astype(str).str.replace('<','').str.replace('>','').str.replace('-','').map(asnan).astype(float).interpolate(method='time').round(1)\n",
    "        return se.values\n",
    "    for col in np.setxor1d(df.columns,['PT_SBST_NO','CEXM_YMD']):\n",
    "        df[col] = interpolation_col(df,col)\n",
    "    return df"
   ]
  },
  {
   "cell_type": "markdown",
   "metadata": {},
   "source": [
    "'<100' -> 100\n",
    "'-' -> np.nan\n",
    "'>50' -> 50"
   ]
  },
  {
   "cell_type": "code",
   "execution_count": 500,
   "metadata": {},
   "outputs": [],
   "source": [
    "# interpolation(diag.query('PT_SBST_NO==1024060'))\n",
    "\n",
    "diag_interpol = diag.groupby('PT_SBST_NO').apply(interpolation)"
   ]
  },
  {
   "cell_type": "code",
   "execution_count": 945,
   "metadata": {},
   "outputs": [
    {
     "name": "stdout",
     "output_type": "stream",
     "text": [
      "[1.         1.         0.99299318 0.99299318 0.99286147 0.99212391\n",
      " 0.99309854 0.97294734 0.97207808 0.99259806 0.98643416 0.99301952\n",
      " 0.83639333 0.84042357 0.99294049 0.99720781 0.99710244 0.99251903\n",
      " 0.99633854 0.99715512 0.99715512 0.99718147 0.99633854 0.99720781\n",
      " 0.99720781 0.99238732 0.99291415 0.99220293 0.99712878 1.        ]\n"
     ]
    }
   ],
   "source": [
    "temp = diag_interpol.notnull().sum()/diag_interpol.shape[0]\n",
    "# 검사명에 해당하는 index는 생략\n",
    "# null값 비율만을 출력\n",
    "print(temp[temp>0.7].values)"
   ]
  },
  {
   "cell_type": "code",
   "execution_count": 530,
   "metadata": {},
   "outputs": [
    {
     "data": {
      "text/plain": [
       "(37963, 39)"
      ]
     },
     "execution_count": 530,
     "metadata": {},
     "output_type": "execute_result"
    }
   ],
   "source": [
    "df_result_dead.iloc[:,[0]+list(range(8,43))] = diag_interpol\n",
    "df_result_dead = df_result_dead.drop(temp[temp<0.7].index.tolist(),axis=1)\n",
    "drop_list = ['BRYM','INOP_AGE','IMEX_CD','IMEX_SEQ','IMEX_KIND_NM','IMEX_EDI_CD','IMEX_NM']\n",
    "df_result_dead = df_result_dead.drop(drop_list, axis=1)\n",
    "df_result_dead.shape"
   ]
  },
  {
   "cell_type": "code",
   "execution_count": 532,
   "metadata": {},
   "outputs": [],
   "source": [
    "df_result_dead.to_csv('중간결과.csv',index=False)"
   ]
  },
  {
   "cell_type": "code",
   "execution_count": null,
   "metadata": {},
   "outputs": [],
   "source": [
    "# 지켜볼 변수\n",
    "temp_list = ['FRMD_YMD','BRST_CNCT_LAST_MTRT_YMD','CENTER_LAST_VST_YMD','CEXM_YMD','IMEX_YMD']"
   ]
  },
  {
   "cell_type": "markdown",
   "metadata": {},
   "source": [
    "# translated 이후"
   ]
  },
  {
   "cell_type": "code",
   "execution_count": 559,
   "metadata": {},
   "outputs": [],
   "source": [
    "se = pd.read_csv('translate.csv')\n",
    "df = pd.read_csv('중간결과.csv')"
   ]
  },
  {
   "cell_type": "code",
   "execution_count": 561,
   "metadata": {},
   "outputs": [
    {
     "data": {
      "text/plain": [
       "((37963, 2), (37963, 39))"
      ]
     },
     "execution_count": 561,
     "metadata": {},
     "output_type": "execute_result"
    }
   ],
   "source": [
    "se.shape, df.shape"
   ]
  },
  {
   "cell_type": "code",
   "execution_count": 564,
   "metadata": {},
   "outputs": [],
   "source": [
    "temp_df = pd.DataFrame()\n",
    "temp_df['원문'] = df['IMEX_OPN_CONT']\n",
    "temp_df['번역'] = se.iloc[:,1]"
   ]
  },
  {
   "cell_type": "code",
   "execution_count": 573,
   "metadata": {},
   "outputs": [
    {
     "data": {
      "text/plain": [
       "(array([    2,     3,     4, ..., 37958, 37960, 37961]),)"
      ]
     },
     "execution_count": 573,
     "metadata": {},
     "output_type": "execute_result"
    }
   ],
   "source": [
    "temp_df.iloc[:,1].str.contains('src=ko').values.nonzero()"
   ]
  },
  {
   "cell_type": "code",
   "execution_count": 587,
   "metadata": {},
   "outputs": [],
   "source": [
    "def get_str(x):\n",
    "    x = x.split('text=')[1]\n",
    "    x = x.split(', pronunciation')[0]\n",
    "    return x"
   ]
  },
  {
   "cell_type": "code",
   "execution_count": 597,
   "metadata": {},
   "outputs": [
    {
     "data": {
      "text/html": [
       "<div>\n",
       "<style scoped>\n",
       "    .dataframe tbody tr th:only-of-type {\n",
       "        vertical-align: middle;\n",
       "    }\n",
       "\n",
       "    .dataframe tbody tr th {\n",
       "        vertical-align: top;\n",
       "    }\n",
       "\n",
       "    .dataframe thead th {\n",
       "        text-align: right;\n",
       "    }\n",
       "</style>\n",
       "<table border=\"1\" class=\"dataframe\">\n",
       "  <thead>\n",
       "    <tr style=\"text-align: right;\">\n",
       "      <th></th>\n",
       "      <th>원문</th>\n",
       "      <th>번역</th>\n",
       "    </tr>\n",
       "  </thead>\n",
       "  <tbody>\n",
       "    <tr>\n",
       "      <th>2971</th>\n",
       "      <td>Tc-99m HDP was given intravenously to the pati...</td>\n",
       "      <td>NaN</td>\n",
       "    </tr>\n",
       "    <tr>\n",
       "      <th>13252</th>\n",
       "      <td>\\r\\nTc-99m HDP was given intravenously to the ...</td>\n",
       "      <td>NaN</td>\n",
       "    </tr>\n",
       "  </tbody>\n",
       "</table>\n",
       "</div>"
      ],
      "text/plain": [
       "                                                      원문   번역\n",
       "2971   Tc-99m HDP was given intravenously to the pati...  NaN\n",
       "13252  \\r\\nTc-99m HDP was given intravenously to the ...  NaN"
      ]
     },
     "execution_count": 597,
     "metadata": {},
     "output_type": "execute_result"
    }
   ],
   "source": [
    "# 2971, 13252\n",
    "temp_df[temp_df['번역'].isnull()]"
   ]
  },
  {
   "cell_type": "code",
   "execution_count": 599,
   "metadata": {},
   "outputs": [],
   "source": [
    "temp_df = temp_df.dropna(subset=['번역'])\n",
    "temp_df['번역'] = temp_df['번역'].map(get_str)"
   ]
  },
  {
   "cell_type": "code",
   "execution_count": 601,
   "metadata": {},
   "outputs": [
    {
     "data": {
      "text/html": [
       "<div>\n",
       "<style scoped>\n",
       "    .dataframe tbody tr th:only-of-type {\n",
       "        vertical-align: middle;\n",
       "    }\n",
       "\n",
       "    .dataframe tbody tr th {\n",
       "        vertical-align: top;\n",
       "    }\n",
       "\n",
       "    .dataframe thead th {\n",
       "        text-align: right;\n",
       "    }\n",
       "</style>\n",
       "<table border=\"1\" class=\"dataframe\">\n",
       "  <thead>\n",
       "    <tr style=\"text-align: right;\">\n",
       "      <th></th>\n",
       "      <th>원문</th>\n",
       "      <th>번역</th>\n",
       "    </tr>\n",
       "  </thead>\n",
       "  <tbody>\n",
       "    <tr>\n",
       "      <th>0</th>\n",
       "      <td>\\r\\nTechnique:\\r\\nTc-99m HDP was given to the ...</td>\n",
       "      <td>Technique:\\r\\nTc-99m HDP was given to the pati...</td>\n",
       "    </tr>\n",
       "    <tr>\n",
       "      <th>1</th>\n",
       "      <td>\\r\\nTechnique: \\r\\nTc-99m RBC was given to the...</td>\n",
       "      <td>Technique: \\r\\nTc-99m RBC was given to the pat...</td>\n",
       "    </tr>\n",
       "    <tr>\n",
       "      <th>2</th>\n",
       "      <td>(Diagnostic MRI)   \\r\\n   \\r\\nNeoadjuvant chem...</td>\n",
       "      <td>(Diagnostic MRI)\\r\\n   \\r\\nNeoadjuvant chemoth...</td>\n",
       "    </tr>\n",
       "    <tr>\n",
       "      <th>3</th>\n",
       "      <td>(Diagnostic MRI)   \\r\\n   \\r\\nNeoadjuvant chem...</td>\n",
       "      <td>(Diagnostic MRI)\\r\\n   \\r\\nNeoadjuvant chemoth...</td>\n",
       "    </tr>\n",
       "    <tr>\n",
       "      <th>4</th>\n",
       "      <td>(Diagnostic MRI)   \\r\\n   \\r\\nNeoadjuvant chem...</td>\n",
       "      <td>(Diagnostic MRI)\\r\\n   \\r\\nNeoadjuvant chemoth...</td>\n",
       "    </tr>\n",
       "  </tbody>\n",
       "</table>\n",
       "</div>"
      ],
      "text/plain": [
       "                                                  원문  \\\n",
       "0  \\r\\nTechnique:\\r\\nTc-99m HDP was given to the ...   \n",
       "1  \\r\\nTechnique: \\r\\nTc-99m RBC was given to the...   \n",
       "2  (Diagnostic MRI)   \\r\\n   \\r\\nNeoadjuvant chem...   \n",
       "3  (Diagnostic MRI)   \\r\\n   \\r\\nNeoadjuvant chem...   \n",
       "4  (Diagnostic MRI)   \\r\\n   \\r\\nNeoadjuvant chem...   \n",
       "\n",
       "                                                  번역  \n",
       "0  Technique:\\r\\nTc-99m HDP was given to the pati...  \n",
       "1  Technique: \\r\\nTc-99m RBC was given to the pat...  \n",
       "2  (Diagnostic MRI)\\r\\n   \\r\\nNeoadjuvant chemoth...  \n",
       "3  (Diagnostic MRI)\\r\\n   \\r\\nNeoadjuvant chemoth...  \n",
       "4  (Diagnostic MRI)\\r\\n   \\r\\nNeoadjuvant chemoth...  "
      ]
     },
     "execution_count": 601,
     "metadata": {},
     "output_type": "execute_result"
    }
   ],
   "source": [
    "temp_df.head()"
   ]
  },
  {
   "cell_type": "code",
   "execution_count": 603,
   "metadata": {},
   "outputs": [],
   "source": [
    "new_df = pd.concat([df.drop('IMEX_OPN_CONT',axis=1), temp_df['번역']], axis=1)"
   ]
  },
  {
   "cell_type": "code",
   "execution_count": 608,
   "metadata": {},
   "outputs": [
    {
     "data": {
      "text/plain": [
       "(37963, 39)"
      ]
     },
     "execution_count": 608,
     "metadata": {},
     "output_type": "execute_result"
    }
   ],
   "source": [
    "new_df.shape"
   ]
  },
  {
   "cell_type": "code",
   "execution_count": 609,
   "metadata": {},
   "outputs": [],
   "source": [
    "new_df = new_df.drop([2971, 13252])"
   ]
  },
  {
   "cell_type": "code",
   "execution_count": 610,
   "metadata": {},
   "outputs": [
    {
     "data": {
      "text/plain": [
       "(37961, 39)"
      ]
     },
     "execution_count": 610,
     "metadata": {},
     "output_type": "execute_result"
    }
   ],
   "source": [
    "new_df.shape"
   ]
  },
  {
   "cell_type": "code",
   "execution_count": 611,
   "metadata": {},
   "outputs": [],
   "source": [
    "new_df.to_csv('translated_df.csv',index=False)"
   ]
  },
  {
   "cell_type": "code",
   "execution_count": 929,
   "metadata": {},
   "outputs": [
    {
     "name": "stdout",
     "output_type": "stream",
     "text": [
      "Technique:\n",
      "Tc-99m HDP was given to the patient intravenously\n",
      " Anterior and posterior whole body and spot views were obtained 3 hours later\n",
      " \n",
      "\n",
      "Findings and impression:\n",
      "No significant bone uptake to suggest skeletal metastasis is noted in this study\n",
      "\n"
     ]
    }
   ],
   "source": [
    "print(new_df['번역'][0].replace('.','\\n'))"
   ]
  },
  {
   "cell_type": "markdown",
   "metadata": {},
   "source": [
    "# 시간에 따른 보간\n",
    "\n",
    "- embedding은 이미 수행\n",
    "- 한개만 사용 : 첫행, 마지막 행\n",
    "- 여러개 사용 : CEXM_YMD에 따른 선형 보간 후 normalize-> 가중치로 삼아 진단검사수치 및 bert embedding을 가중합한 변수로 바꿈"
   ]
  },
  {
   "cell_type": "code",
   "execution_count": 651,
   "metadata": {},
   "outputs": [],
   "source": [
    "new_df = new_df.reset_index(drop=True)"
   ]
  },
  {
   "cell_type": "code",
   "execution_count": 652,
   "metadata": {},
   "outputs": [],
   "source": [
    "df_drop = new_df.drop(['FRMD_YMD','BRST_CNCT_LAST_MTRT_YMD','CENTER_LAST_VST_YMD','IMEX_YMD','IMEX_IN_YN','BRCN_IMEX_KIND_CD'],axis=1)"
   ]
  },
  {
   "cell_type": "code",
   "execution_count": 653,
   "metadata": {},
   "outputs": [],
   "source": [
    "embedding = pd.read_csv('embedding_biobert.csv')"
   ]
  },
  {
   "cell_type": "code",
   "execution_count": 722,
   "metadata": {},
   "outputs": [],
   "source": [
    "df_embedding = pd.concat([df_drop,embedding],axis=1)\n",
    "df_embedding = df_embedding.sort_values(by = ['PT_SBST_NO','CEXM_YMD'])"
   ]
  },
  {
   "cell_type": "code",
   "execution_count": 736,
   "metadata": {},
   "outputs": [],
   "source": [
    "df_all = df_embedding.drop(['번역'], axis=1)\n",
    "df_all['PT_SEX_CD'] = df_all['PT_SEX_CD'].map({'F':1,'M':0})"
   ]
  },
  {
   "cell_type": "code",
   "execution_count": 737,
   "metadata": {},
   "outputs": [],
   "source": [
    "# 첫째행 데이터\n",
    "df_first = df_all.groupby('PT_SBST_NO').head(1)"
   ]
  },
  {
   "cell_type": "code",
   "execution_count": 738,
   "metadata": {},
   "outputs": [],
   "source": [
    "# 마지막행 데이터\n",
    "df_last = df_all.groupby('PT_SBST_NO').tail(1)"
   ]
  },
  {
   "cell_type": "code",
   "execution_count": 746,
   "metadata": {},
   "outputs": [
    {
     "data": {
      "text/html": [
       "<div>\n",
       "<style scoped>\n",
       "    .dataframe tbody tr th:only-of-type {\n",
       "        vertical-align: middle;\n",
       "    }\n",
       "\n",
       "    .dataframe tbody tr th {\n",
       "        vertical-align: top;\n",
       "    }\n",
       "\n",
       "    .dataframe thead th {\n",
       "        text-align: right;\n",
       "    }\n",
       "</style>\n",
       "<table border=\"1\" class=\"dataframe\">\n",
       "  <thead>\n",
       "    <tr style=\"text-align: right;\">\n",
       "      <th></th>\n",
       "      <th>PT_SBST_NO</th>\n",
       "      <th>CEXM_YMD</th>\n",
       "      <th>DEATH_YMD</th>\n",
       "      <th>ALT(GPT)[Serum]</th>\n",
       "      <th>Albumin[Serum]</th>\n",
       "      <th>BUN[Serum]</th>\n",
       "    </tr>\n",
       "  </thead>\n",
       "  <tbody>\n",
       "    <tr>\n",
       "      <th>240</th>\n",
       "      <td>134754</td>\n",
       "      <td>2019-03-04</td>\n",
       "      <td>NaN</td>\n",
       "      <td>14.0</td>\n",
       "      <td>5.1</td>\n",
       "      <td>7.8</td>\n",
       "    </tr>\n",
       "    <tr>\n",
       "      <th>241</th>\n",
       "      <td>134754</td>\n",
       "      <td>2019-03-26</td>\n",
       "      <td>NaN</td>\n",
       "      <td>14.0</td>\n",
       "      <td>4.9</td>\n",
       "      <td>6.8</td>\n",
       "    </tr>\n",
       "    <tr>\n",
       "      <th>242</th>\n",
       "      <td>134754</td>\n",
       "      <td>2019-04-17</td>\n",
       "      <td>NaN</td>\n",
       "      <td>14.0</td>\n",
       "      <td>4.7</td>\n",
       "      <td>5.7</td>\n",
       "    </tr>\n",
       "    <tr>\n",
       "      <th>243</th>\n",
       "      <td>134754</td>\n",
       "      <td>2019-05-08</td>\n",
       "      <td>NaN</td>\n",
       "      <td>14.0</td>\n",
       "      <td>4.5</td>\n",
       "      <td>4.7</td>\n",
       "    </tr>\n",
       "    <tr>\n",
       "      <th>244</th>\n",
       "      <td>134754</td>\n",
       "      <td>2019-05-29</td>\n",
       "      <td>NaN</td>\n",
       "      <td>14.5</td>\n",
       "      <td>4.7</td>\n",
       "      <td>6.7</td>\n",
       "    </tr>\n",
       "    <tr>\n",
       "      <th>245</th>\n",
       "      <td>134754</td>\n",
       "      <td>2019-06-21</td>\n",
       "      <td>NaN</td>\n",
       "      <td>15.0</td>\n",
       "      <td>5.0</td>\n",
       "      <td>8.8</td>\n",
       "    </tr>\n",
       "    <tr>\n",
       "      <th>246</th>\n",
       "      <td>134754</td>\n",
       "      <td>2019-07-12</td>\n",
       "      <td>NaN</td>\n",
       "      <td>15.5</td>\n",
       "      <td>5.0</td>\n",
       "      <td>8.9</td>\n",
       "    </tr>\n",
       "    <tr>\n",
       "      <th>247</th>\n",
       "      <td>134754</td>\n",
       "      <td>2019-08-02</td>\n",
       "      <td>NaN</td>\n",
       "      <td>16.0</td>\n",
       "      <td>5.0</td>\n",
       "      <td>9.0</td>\n",
       "    </tr>\n",
       "    <tr>\n",
       "      <th>248</th>\n",
       "      <td>134754</td>\n",
       "      <td>2019-08-23</td>\n",
       "      <td>NaN</td>\n",
       "      <td>17.9</td>\n",
       "      <td>5.0</td>\n",
       "      <td>9.1</td>\n",
       "    </tr>\n",
       "    <tr>\n",
       "      <th>249</th>\n",
       "      <td>134754</td>\n",
       "      <td>2019-09-16</td>\n",
       "      <td>NaN</td>\n",
       "      <td>20.0</td>\n",
       "      <td>5.1</td>\n",
       "      <td>9.2</td>\n",
       "    </tr>\n",
       "    <tr>\n",
       "      <th>250</th>\n",
       "      <td>134754</td>\n",
       "      <td>2019-09-27</td>\n",
       "      <td>NaN</td>\n",
       "      <td>8.0</td>\n",
       "      <td>2.7</td>\n",
       "      <td>7.1</td>\n",
       "    </tr>\n",
       "    <tr>\n",
       "      <th>251</th>\n",
       "      <td>134754</td>\n",
       "      <td>2019-12-03</td>\n",
       "      <td>NaN</td>\n",
       "      <td>8.0</td>\n",
       "      <td>2.7</td>\n",
       "      <td>7.1</td>\n",
       "    </tr>\n",
       "  </tbody>\n",
       "</table>\n",
       "</div>"
      ],
      "text/plain": [
       "     PT_SBST_NO    CEXM_YMD  DEATH_YMD  ALT(GPT)[Serum]  Albumin[Serum]  \\\n",
       "240      134754  2019-03-04        NaN             14.0             5.1   \n",
       "241      134754  2019-03-26        NaN             14.0             4.9   \n",
       "242      134754  2019-04-17        NaN             14.0             4.7   \n",
       "243      134754  2019-05-08        NaN             14.0             4.5   \n",
       "244      134754  2019-05-29        NaN             14.5             4.7   \n",
       "245      134754  2019-06-21        NaN             15.0             5.0   \n",
       "246      134754  2019-07-12        NaN             15.5             5.0   \n",
       "247      134754  2019-08-02        NaN             16.0             5.0   \n",
       "248      134754  2019-08-23        NaN             17.9             5.0   \n",
       "249      134754  2019-09-16        NaN             20.0             5.1   \n",
       "250      134754  2019-09-27        NaN              8.0             2.7   \n",
       "251      134754  2019-12-03        NaN              8.0             2.7   \n",
       "\n",
       "     BUN[Serum]  \n",
       "240         7.8  \n",
       "241         6.8  \n",
       "242         5.7  \n",
       "243         4.7  \n",
       "244         6.7  \n",
       "245         8.8  \n",
       "246         8.9  \n",
       "247         9.0  \n",
       "248         9.1  \n",
       "249         9.2  \n",
       "250         7.1  \n",
       "251         7.1  "
      ]
     },
     "execution_count": 746,
     "metadata": {},
     "output_type": "execute_result"
    }
   ],
   "source": [
    "cols = ['ALT(GPT)[Serum]','Albumin[Serum]','BUN[Serum]']\n",
    "temp = df_embedding[['PT_SBST_NO','CEXM_YMD','DEATH_YMD']+cols].query('PT_SBST_NO ==134754 ')\n",
    "temp"
   ]
  },
  {
   "cell_type": "code",
   "execution_count": 858,
   "metadata": {},
   "outputs": [],
   "source": [
    "def weight_mean_by_time(df, except_cols, standard = 'CEXM_YMD'):\n",
    "    time_weight = (pd.to_datetime(df['CEXM_YMD']) - pd.to_datetime(df['CEXM_YMD'].min())).dt.days + 1\n",
    "    transformed = []\n",
    "    for col in df.columns:\n",
    "        if col in except_cols:\n",
    "            y = df[col].iloc[0]\n",
    "        else:\n",
    "            cond = df[col].notnull()\n",
    "            if cond.sum()==0:\n",
    "                y = np.nan\n",
    "            else:\n",
    "                y = np.average(df.loc[cond, col], weights = time_weight[cond])\n",
    "        transformed.append(y)\n",
    "    return pd.Series(transformed, index=df.columns)"
   ]
  },
  {
   "cell_type": "code",
   "execution_count": 844,
   "metadata": {},
   "outputs": [
    {
     "data": {
      "text/plain": [
       "PT_SBST_NO             134754\n",
       "CEXM_YMD           2019-03-04\n",
       "DEATH_YMD                 NaN\n",
       "ALT(GPT)[Serum]       13.7362\n",
       "Albumin[Serum]        4.20572\n",
       "BUN[Serum]             7.9235\n",
       "dtype: object"
      ]
     },
     "execution_count": 844,
     "metadata": {},
     "output_type": "execute_result"
    }
   ],
   "source": [
    "weight_mean_by_time(temp, except_cols = ['PT_SBST_NO','CEXM_YMD','DEATH_YMD'])"
   ]
  },
  {
   "cell_type": "code",
   "execution_count": 842,
   "metadata": {},
   "outputs": [],
   "source": [
    "except_cols = ['IDGN_AGE','PT_SEX_CD','CEXM_YMD','DEATH_YMD']\n",
    "weight_mean_by_time_cond = lambda x:weight_mean_by_time(x, except_cols=except_cols)"
   ]
  },
  {
   "cell_type": "code",
   "execution_count": 859,
   "metadata": {},
   "outputs": [],
   "source": [
    "df_aggregated = df_all.groupby('PT_SBST_NO').apply(weight_mean_by_time_cond)"
   ]
  },
  {
   "cell_type": "code",
   "execution_count": 862,
   "metadata": {},
   "outputs": [],
   "source": [
    "df_aggregated.to_csv('df_agg.csv',index=False)"
   ]
  },
  {
   "cell_type": "code",
   "execution_count": 766,
   "metadata": {},
   "outputs": [],
   "source": [
    "df_first.to_csv('df_first.csv',index=False)\n",
    "df_last.to_csv('df_last.csv',index=False)"
   ]
  },
  {
   "cell_type": "markdown",
   "metadata": {},
   "source": [
    "# 모델 결과"
   ]
  },
  {
   "cell_type": "code",
   "execution_count": 767,
   "metadata": {},
   "outputs": [],
   "source": [
    "df = pd.read_csv('df_first.csv')\n",
    "X = df.drop(['PT_SBST_NO','CEXM_YMD','DEATH_YMD'],axis=1)\n",
    "y = df['DEATH_YMD']"
   ]
  },
  {
   "cell_type": "code",
   "execution_count": 863,
   "metadata": {},
   "outputs": [],
   "source": [
    "from matplotlib import pyplot as plt\n",
    "from sklearn.linear_model import LogisticRegression\n",
    "from sklearn.metrics import roc_auc_score as auc\n",
    "from sklearn.metrics import accuracy_score as acc\n",
    "from sklearn.metrics import precision_score as precision\n",
    "from sklearn.metrics import recall_score as recall\n",
    "from sklearn.metrics import f1_score as f1\n",
    "from sklearn.metrics import roc_curve\n",
    "from sklearn.metrics import confusion_matrix\n"
   ]
  },
  {
   "cell_type": "code",
   "execution_count": 864,
   "metadata": {},
   "outputs": [],
   "source": [
    "lr = LogisticRegression(class_weight=\"balanced\")\n",
    "\n",
    "displayings = []\n",
    "files = ['df_first.csv','df_last.csv','df_agg.csv']\n",
    "for file in files:\n",
    "    df = pd.read_csv(file)\n",
    "    X = df.drop(['PT_SBST_NO','CEXM_YMD','DEATH_YMD'],axis=1)\n",
    "    y = df['DEATH_YMD']\n",
    "\n",
    "    X_median = X.median()\n",
    "    X = X.fillna(X_median)\n",
    "    y = y.fillna(0).map(lambda x:1 if x!=0 else x)\n",
    "    temp_displaying = []\n",
    "    fig, axes = plt.subplots(1,3,figsize = (10,6))\n",
    "    result_df = pd.DataFrame()\n",
    "    for method, data,ax in zip(['without embedding','only embedding', 'with embedding'],[X.iloc[:,:29], X.iloc[:,29:], X], axes):\n",
    "\n",
    "        y_pred_lr = cross_val_predict(lr, data, y, method = 'predict_proba')\n",
    "        y_pred = y_pred_lr.argmax(axis=1)\n",
    "        roc_score = auc(y,y_pred_lr[:,1])\n",
    "\n",
    "        result_se = pd.Series({'data':file,'acc':acc(y,y_pred), \n",
    "                               'recall':recall(y,y_pred), 'precision':precision(y,y_pred), 'f1_score':f1(y,y_pred), 'roc_score':roc_score})\n",
    "        result_df[method] = result_se\n",
    "        fpr, tpr, _ = roc_curve(y,y_pred_lr[:,1])\n",
    "        \n",
    "        ax.plot(fpr, tpr, '-')\n",
    "        ax.set_title(f'{method} : \\n{np.round(roc_score,4)}', fontsize=15)\n",
    "        ax.set_xlabel('fpr',fontsize=12)\n",
    "        ax.set_ylabel('tpr',fontsize=12)\n",
    "    plt.tight_layout()\n",
    "    plt.close()\n",
    "    temp_displaying.append(fig)\n",
    "    temp_displaying.append(result_df)\n",
    "    displayings.append(temp_displaying)"
   ]
  },
  {
   "cell_type": "code",
   "execution_count": 812,
   "metadata": {},
   "outputs": [],
   "source": [
    "def display_horizon(*args,display_type = 1):\n",
    "    widget_list = list()\n",
    "    for obj in args:\n",
    "        widget_temp = widgets.Output()\n",
    "        with widget_temp:\n",
    "            display.display(obj)\n",
    "            widget_list.append(widget_temp)\n",
    "    return widgets.HBox(widget_list)\n",
    "    \n"
   ]
  },
  {
   "cell_type": "code",
   "execution_count": 813,
   "metadata": {},
   "outputs": [],
   "source": [
    "from ipywidgets import widgets, Layout\n",
    "from IPython import display"
   ]
  },
  {
   "cell_type": "code",
   "execution_count": 865,
   "metadata": {},
   "outputs": [
    {
     "data": {
      "image/png": "[encoded data removed]",
      "text/plain": [
       "<Figure size 720x432 with 3 Axes>"
      ]
     },
     "metadata": {},
     "output_type": "display_data"
    },
    {
     "data": {
      "text/html": [
       "<div>\n",
       "<style scoped>\n",
       "    .dataframe tbody tr th:only-of-type {\n",
       "        vertical-align: middle;\n",
       "    }\n",
       "\n",
       "    .dataframe tbody tr th {\n",
       "        vertical-align: top;\n",
       "    }\n",
       "\n",
       "    .dataframe thead th {\n",
       "        text-align: right;\n",
       "    }\n",
       "</style>\n",
       "<table border=\"1\" class=\"dataframe\">\n",
       "  <thead>\n",
       "    <tr style=\"text-align: right;\">\n",
       "      <th></th>\n",
       "      <th>without embedding</th>\n",
       "      <th>only embedding</th>\n",
       "      <th>with embedding</th>\n",
       "    </tr>\n",
       "  </thead>\n",
       "  <tbody>\n",
       "    <tr>\n",
       "      <th>data</th>\n",
       "      <td>df_first.csv</td>\n",
       "      <td>df_first.csv</td>\n",
       "      <td>df_first.csv</td>\n",
       "    </tr>\n",
       "    <tr>\n",
       "      <th>acc</th>\n",
       "      <td>0.739599</td>\n",
       "      <td>0.873652</td>\n",
       "      <td>0.797124</td>\n",
       "    </tr>\n",
       "    <tr>\n",
       "      <th>recall</th>\n",
       "      <td>0.504132</td>\n",
       "      <td>0.438017</td>\n",
       "      <td>0.636364</td>\n",
       "    </tr>\n",
       "    <tr>\n",
       "      <th>precision</th>\n",
       "      <td>0.120079</td>\n",
       "      <td>0.229437</td>\n",
       "      <td>0.179907</td>\n",
       "    </tr>\n",
       "    <tr>\n",
       "      <th>f1_score</th>\n",
       "      <td>0.193959</td>\n",
       "      <td>0.301136</td>\n",
       "      <td>0.28051</td>\n",
       "    </tr>\n",
       "    <tr>\n",
       "      <th>roc_score</th>\n",
       "      <td>0.686113</td>\n",
       "      <td>0.726949</td>\n",
       "      <td>0.793456</td>\n",
       "    </tr>\n",
       "  </tbody>\n",
       "</table>\n",
       "</div>"
      ],
      "text/plain": [
       "          without embedding only embedding with embedding\n",
       "data           df_first.csv   df_first.csv   df_first.csv\n",
       "acc                0.739599       0.873652       0.797124\n",
       "recall             0.504132       0.438017       0.636364\n",
       "precision          0.120079       0.229437       0.179907\n",
       "f1_score           0.193959       0.301136        0.28051\n",
       "roc_score          0.686113       0.726949       0.793456"
      ]
     },
     "metadata": {},
     "output_type": "display_data"
    },
    {
     "data": {
      "image/png": "[encoded data removed]",
      "text/plain": [
       "<Figure size 720x432 with 3 Axes>"
      ]
     },
     "metadata": {},
     "output_type": "display_data"
    },
    {
     "data": {
      "text/html": [
       "<div>\n",
       "<style scoped>\n",
       "    .dataframe tbody tr th:only-of-type {\n",
       "        vertical-align: middle;\n",
       "    }\n",
       "\n",
       "    .dataframe tbody tr th {\n",
       "        vertical-align: top;\n",
       "    }\n",
       "\n",
       "    .dataframe thead th {\n",
       "        text-align: right;\n",
       "    }\n",
       "</style>\n",
       "<table border=\"1\" class=\"dataframe\">\n",
       "  <thead>\n",
       "    <tr style=\"text-align: right;\">\n",
       "      <th></th>\n",
       "      <th>without embedding</th>\n",
       "      <th>only embedding</th>\n",
       "      <th>with embedding</th>\n",
       "    </tr>\n",
       "  </thead>\n",
       "  <tbody>\n",
       "    <tr>\n",
       "      <th>data</th>\n",
       "      <td>df_last.csv</td>\n",
       "      <td>df_last.csv</td>\n",
       "      <td>df_last.csv</td>\n",
       "    </tr>\n",
       "    <tr>\n",
       "      <th>acc</th>\n",
       "      <td>0.916281</td>\n",
       "      <td>0.734463</td>\n",
       "      <td>0.919363</td>\n",
       "    </tr>\n",
       "    <tr>\n",
       "      <th>recall</th>\n",
       "      <td>0.809917</td>\n",
       "      <td>0.826446</td>\n",
       "      <td>0.876033</td>\n",
       "    </tr>\n",
       "    <tr>\n",
       "      <th>precision</th>\n",
       "      <td>0.411765</td>\n",
       "      <td>0.167785</td>\n",
       "      <td>0.427419</td>\n",
       "    </tr>\n",
       "    <tr>\n",
       "      <th>f1_score</th>\n",
       "      <td>0.545961</td>\n",
       "      <td>0.27894</td>\n",
       "      <td>0.574526</td>\n",
       "    </tr>\n",
       "    <tr>\n",
       "      <th>roc_score</th>\n",
       "      <td>0.89564</td>\n",
       "      <td>0.810709</td>\n",
       "      <td>0.937157</td>\n",
       "    </tr>\n",
       "  </tbody>\n",
       "</table>\n",
       "</div>"
      ],
      "text/plain": [
       "          without embedding only embedding with embedding\n",
       "data            df_last.csv    df_last.csv    df_last.csv\n",
       "acc                0.916281       0.734463       0.919363\n",
       "recall             0.809917       0.826446       0.876033\n",
       "precision          0.411765       0.167785       0.427419\n",
       "f1_score           0.545961        0.27894       0.574526\n",
       "roc_score           0.89564       0.810709       0.937157"
      ]
     },
     "metadata": {},
     "output_type": "display_data"
    },
    {
     "data": {
      "image/png": "[encoded data removed]",
      "text/plain": [
       "<Figure size 720x432 with 3 Axes>"
      ]
     },
     "metadata": {},
     "output_type": "display_data"
    },
    {
     "data": {
      "text/html": [
       "<div>\n",
       "<style scoped>\n",
       "    .dataframe tbody tr th:only-of-type {\n",
       "        vertical-align: middle;\n",
       "    }\n",
       "\n",
       "    .dataframe tbody tr th {\n",
       "        vertical-align: top;\n",
       "    }\n",
       "\n",
       "    .dataframe thead th {\n",
       "        text-align: right;\n",
       "    }\n",
       "</style>\n",
       "<table border=\"1\" class=\"dataframe\">\n",
       "  <thead>\n",
       "    <tr style=\"text-align: right;\">\n",
       "      <th></th>\n",
       "      <th>without embedding</th>\n",
       "      <th>only embedding</th>\n",
       "      <th>with embedding</th>\n",
       "    </tr>\n",
       "  </thead>\n",
       "  <tbody>\n",
       "    <tr>\n",
       "      <th>data</th>\n",
       "      <td>df_agg.csv</td>\n",
       "      <td>df_agg.csv</td>\n",
       "      <td>df_agg.csv</td>\n",
       "    </tr>\n",
       "    <tr>\n",
       "      <th>acc</th>\n",
       "      <td>0.896764</td>\n",
       "      <td>0.915254</td>\n",
       "      <td>0.914227</td>\n",
       "    </tr>\n",
       "    <tr>\n",
       "      <th>recall</th>\n",
       "      <td>0.77686</td>\n",
       "      <td>0.818182</td>\n",
       "      <td>0.85124</td>\n",
       "    </tr>\n",
       "    <tr>\n",
       "      <th>precision</th>\n",
       "      <td>0.350746</td>\n",
       "      <td>0.409091</td>\n",
       "      <td>0.40873</td>\n",
       "    </tr>\n",
       "    <tr>\n",
       "      <th>f1_score</th>\n",
       "      <td>0.48329</td>\n",
       "      <td>0.545455</td>\n",
       "      <td>0.552279</td>\n",
       "    </tr>\n",
       "    <tr>\n",
       "      <th>roc_score</th>\n",
       "      <td>0.893277</td>\n",
       "      <td>0.940424</td>\n",
       "      <td>0.947999</td>\n",
       "    </tr>\n",
       "  </tbody>\n",
       "</table>\n",
       "</div>"
      ],
      "text/plain": [
       "          without embedding only embedding with embedding\n",
       "data             df_agg.csv     df_agg.csv     df_agg.csv\n",
       "acc                0.896764       0.915254       0.914227\n",
       "recall              0.77686       0.818182        0.85124\n",
       "precision          0.350746       0.409091        0.40873\n",
       "f1_score            0.48329       0.545455       0.552279\n",
       "roc_score          0.893277       0.940424       0.947999"
      ]
     },
     "metadata": {},
     "output_type": "display_data"
    },
    {
     "data": {
      "application/vnd.jupyter.widget-view+json": {
       "model_id": "5805e8e4b3c54faf897509b30736f73f",
       "version_major": 2,
       "version_minor": 0
      },
      "text/plain": [
       "HBox(children=(Output(), Output()))"
      ]
     },
     "metadata": {},
     "output_type": "display_data"
    }
   ],
   "source": [
    "display_horizon(*displayings[0])\n",
    "display_horizon(*displayings[1])\n",
    "display_horizon(*displayings[2])\n"
   ]
  },
  {
   "cell_type": "code",
   "execution_count": 866,
   "metadata": {},
   "outputs": [],
   "source": [
    "from sklearn.model_selection import train_test_split\n",
    "X_train, X_test, y_train, y_test = train_test_split(X,y, test_size = 0.33, stratify = y)"
   ]
  },
  {
   "cell_type": "code",
   "execution_count": 867,
   "metadata": {},
   "outputs": [
    {
     "data": {
      "text/plain": [
       "LogisticRegression(class_weight='balanced')"
      ]
     },
     "execution_count": 867,
     "metadata": {},
     "output_type": "execute_result"
    }
   ],
   "source": [
    "lr.fit(X_train, y_train)"
   ]
  },
  {
   "cell_type": "code",
   "execution_count": 868,
   "metadata": {},
   "outputs": [],
   "source": [
    "y_pred_proba = lr.predict_proba(X_test)"
   ]
  },
  {
   "cell_type": "code",
   "execution_count": 869,
   "metadata": {},
   "outputs": [
    {
     "data": {
      "text/plain": [
       "0.9487976782752903"
      ]
     },
     "execution_count": 869,
     "metadata": {},
     "output_type": "execute_result"
    }
   ],
   "source": [
    "auc(y_test, y_pred_proba[:,1])"
   ]
  },
  {
   "cell_type": "code",
   "execution_count": 870,
   "metadata": {},
   "outputs": [
    {
     "data": {
      "text/plain": [
       "LogisticRegression(class_weight='balanced')"
      ]
     },
     "execution_count": 870,
     "metadata": {},
     "output_type": "execute_result"
    }
   ],
   "source": [
    "lr = LogisticRegression(class_weight=\"balanced\")\n",
    "lr.fit(X,y)"
   ]
  },
  {
   "cell_type": "code",
   "execution_count": 879,
   "metadata": {},
   "outputs": [],
   "source": [
    "coef = dict(zip(X.columns,lr.coef_[0]))\n",
    "coef = pd.Series(coef).sort_values()"
   ]
  },
  {
   "cell_type": "code",
   "execution_count": 900,
   "metadata": {},
   "outputs": [
    {
     "data": {
      "image/png": "[encoded data removed]",
      "text/plain": [
       "<Figure size 576x576 with 1 Axes>"
      ]
     },
     "metadata": {
      "needs_background": "light"
     },
     "output_type": "display_data"
    }
   ],
   "source": [
    "plt.figure(figsize=(8,8))\n",
    "coef.plot(kind='barh')\n",
    "plt.yticks([])\n",
    "plt.show()"
   ]
  },
  {
   "cell_type": "code",
   "execution_count": 898,
   "metadata": {},
   "outputs": [
    {
     "data": {
      "image/png": "[encoded data removed]",
      "text/plain": [
       "<Figure size 720x432 with 2 Axes>"
      ]
     },
     "metadata": {
      "needs_background": "light"
     },
     "output_type": "display_data"
    }
   ],
   "source": [
    "fig, ax = plt.subplots(1,2,figsize=(10,6))\n",
    "ax[0].barh(range(30),coef.tail(30))\n",
    "ax[0].set_yticks(range(len(coef.tail(30))))\n",
    "ax[0].set_yticklabels(coef.tail(30).index, fontsize=12)\n",
    "\n",
    "ax[1].barh(range(30),coef.head(30))\n",
    "ax[1].set_yticks(range(len(coef.head(30))))\n",
    "ax[1].set_yticklabels(coef.head(30).index, fontsize=12)\n",
    "plt.tight_layout()\n",
    "plt.show()"
   ]
  },
  {
   "cell_type": "code",
   "execution_count": null,
   "metadata": {},
   "outputs": [],
   "source": []
  }
 ],
 "metadata": {
  "kernelspec": {
   "display_name": "Python 3",
   "language": "python",
   "name": "python3"
  },
  "language_info": {
   "codemirror_mode": {
    "name": "ipython",
    "version": 3
   },
   "file_extension": ".py",
   "mimetype": "text/x-python",
   "name": "python",
   "nbconvert_exporter": "python",
   "pygments_lexer": "ipython3",
   "version": "3.6.8"
  }
 },
 "nbformat": 4,
 "nbformat_minor": 4
}
