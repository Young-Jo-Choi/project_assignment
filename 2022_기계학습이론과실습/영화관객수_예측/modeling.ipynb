{
 "cells": [
  {
   "cell_type": "code",
   "execution_count": 1,
   "metadata": {},
   "outputs": [],
   "source": [
    "import numpy as np\n",
    "import pandas as pd\n",
    "import matplotlib.pyplot as plt"
   ]
  },
  {
   "cell_type": "code",
   "execution_count": 2,
   "metadata": {},
   "outputs": [],
   "source": [
    "df = pd.read_excel('중간3.xlsx')"
   ]
  },
  {
   "cell_type": "code",
   "execution_count": 3,
   "metadata": {},
   "outputs": [],
   "source": [
    "using_data_original = ['netizen_ratings','감독 순위','title_len','log_num_reviews','fill_num_article']\n",
    "using_data_onehotencoding_pca = ['genre','released_month','companyNm_integrated']\n",
    "using_data_onehotencoding_no_pca = ['country','running_time_bins','rating']"
   ]
  },
  {
   "cell_type": "code",
   "execution_count": 6,
   "metadata": {},
   "outputs": [],
   "source": [
    "temp_X = df[using_data_original+using_data_onehotencoding_pca+using_data_onehotencoding_no_pca]\n",
    "temp_y = df['log_num_viewers']"
   ]
  },
  {
   "cell_type": "code",
   "execution_count": 10,
   "metadata": {},
   "outputs": [
    {
     "name": "stderr",
     "output_type": "stream",
     "text": [
      "C:\\Users\\hp\\Anaconda3\\lib\\site-packages\\ipykernel_launcher.py:2: SettingWithCopyWarning: \n",
      "A value is trying to be set on a copy of a slice from a DataFrame.\n",
      "Try using .loc[row_indexer,col_indexer] = value instead\n",
      "\n",
      "See the caveats in the documentation: https://pandas.pydata.org/pandas-docs/stable/user_guide/indexing.html#returning-a-view-versus-a-copy\n",
      "  \n"
     ]
    }
   ],
   "source": [
    "data = temp_X\n",
    "data['log_num_viewers'] = temp_y\n",
    "data.to_csv('final.csv',index=False)"
   ]
  },
  {
   "cell_type": "code",
   "execution_count": 31,
   "metadata": {},
   "outputs": [],
   "source": [
    "data = pd.read_csv('final.csv')\n",
    "X = data.iloc[:,:-1]\n",
    "y = data.iloc[:,-1]"
   ]
  },
  {
   "cell_type": "code",
   "execution_count": 4,
   "metadata": {},
   "outputs": [],
   "source": [
    "from sklearn.compose import ColumnTransformer\n",
    "from sklearn.preprocessing import StandardScaler, OneHotEncoder\n",
    "from sklearn.decomposition import PCA\n",
    "from sklearn.pipeline import Pipeline\n",
    "from sklearn.linear_model import LinearRegression, Lasso, Ridge ,RidgeCV, LassoCV\n",
    "from sklearn.feature_selection import SelectPercentile, f_regression, SelectFromModel\n",
    "pipe_onehot_pca = Pipeline([('onehot',OneHotEncoder(sparse=False, handle_unknown='ignore'))\n",
    "                            ,('pca',PCA(n_components=0.85,))\n",
    "                           ])\n",
    "ct = ColumnTransformer([\n",
    "                    ('scaling',StandardScaler(),using_data_original),\n",
    "                    ('pipe1',pipe_onehot_pca,['genre']),('pipe2',pipe_onehot_pca,['released_month']),\n",
    "                    ('pipe3',pipe_onehot_pca,['companyNm_integrated']),\n",
    "                    ('onehot',OneHotEncoder(sparse=False,handle_unknown='ignore'),using_data_onehotencoding_no_pca)\n",
    "                    ])\n",
    "# pipe_all = Pipeline([('ct',ct),('feature_select',SelectPercentile(score_func=f_regression,percentile=90)),('Linear',RidgeCV(np.arange(1,30,1)))])\n",
    "pipe_all = Pipeline([('ct',ct),\n",
    "                     ('feature_select',SelectPercentile(score_func=f_regression,percentile=80)),\n",
    "                     ('Linear',Ridge(alpha=1))])"
   ]
  },
  {
   "cell_type": "code",
   "execution_count": 7,
   "metadata": {},
   "outputs": [
    {
     "data": {
      "text/plain": [
       "0.7645431275301166"
      ]
     },
     "execution_count": 7,
     "metadata": {},
     "output_type": "execute_result"
    }
   ],
   "source": [
    "from sklearn.model_selection import cross_validate,cross_val_predict\n",
    "from sklearn.model_selection import KFold\n",
    "kfold = KFold(n_splits=10, shuffle=True, random_state=22)\n",
    "reg1 = cross_validate(pipe_all, temp_X, temp_y,return_train_score=True, return_estimator=True, cv=kfold)\n",
    "reg1['test_score'].mean()"
   ]
  },
  {
   "cell_type": "code",
   "execution_count": 34,
   "metadata": {},
   "outputs": [],
   "source": [
    "from sklearn.metrics import make_scorer, r2_score\n",
    "@make_scorer\n",
    "def r2_score_transform(real, pred):\n",
    "    return r2_score(np.exp(real),np.exp(pred))"
   ]
  },
  {
   "cell_type": "code",
   "execution_count": 35,
   "metadata": {},
   "outputs": [
    {
     "data": {
      "text/plain": [
       "0.7125550348939611"
      ]
     },
     "execution_count": 35,
     "metadata": {},
     "output_type": "execute_result"
    }
   ],
   "source": [
    "reg2 = cross_validate(pipe_all, X, y,return_train_score=True, return_estimator=True, cv=kfold, \n",
    "                     scoring=r2_score_transform)\n",
    "reg2['test_score'].mean()"
   ]
  },
  {
   "cell_type": "code",
   "execution_count": 78,
   "metadata": {},
   "outputs": [
    {
     "data": {
      "image/png": "[encoded data removed]",
      "text/plain": [
       "<Figure size 432x288 with 2 Axes>"
      ]
     },
     "metadata": {
      "needs_background": "light"
     },
     "output_type": "display_data"
    }
   ],
   "source": [
    "fig,ax = plt.subplots(1,2)\n",
    "ax[0].plot(reg1['train_score'],color='blue')\n",
    "ax[0].plot(reg1['test_score'],color='red',linestyle ='--')\n",
    "ax[0].set_ylim([0.5,1])\n",
    "ax[0].legend(['train_set','test_set'])\n",
    "ax[0].set_title('Performance',fontsize=16)\n",
    "ax[0].set_xlabel('cross_validation split',fontsize=14)\n",
    "ax[0].set_ylabel('r squared',fontsize=14)\n",
    "\n",
    "\n",
    "ax[1].plot(reg2['train_score'],color='blue')\n",
    "ax[1].plot(reg2['test_score'],color='red',linestyle ='--')\n",
    "ax[1].set_ylim([0.5,1])\n",
    "ax[1].legend(['train_set','test_set'])\n",
    "ax[1].set_title('Performance',fontsize=16)\n",
    "ax[1].set_xlabel('cross_validation split',fontsize=14)\n",
    "ax[1].set_ylabel('r squared',fontsize=14)\n",
    "\n",
    "plt.tight_layout()\n",
    "plt.savefig('performance.png',bbox_inches='tight')"
   ]
  },
  {
   "cell_type": "code",
   "execution_count": 14,
   "metadata": {
    "scrolled": true
   },
   "outputs": [
    {
     "name": "stdout",
     "output_type": "stream",
     "text": [
      "39\n",
      "37\n",
      "38\n",
      "38\n",
      "39\n",
      "38\n",
      "38\n",
      "38\n",
      "38\n",
      "39\n"
     ]
    }
   ],
   "source": [
    "for i in range(10):\n",
    "    coef = reg1['estimator'][i].steps[2][1].coef_\n",
    "    print(len(coef))\n"
   ]
  },
  {
   "cell_type": "code",
   "execution_count": 16,
   "metadata": {},
   "outputs": [
    {
     "data": {
      "text/plain": [
       "array([-0.04345431, -0.03093944,  0.07828884,  1.11000127,  0.10841892,\n",
       "       -0.2348961 ,  0.11064298, -0.28825733, -0.18250191,  0.1297549 ,\n",
       "        0.33259515, -0.11749646, -0.11627896, -0.10528144,  0.00464904,\n",
       "        0.03035196,  0.05626585, -0.1010578 , -0.49832237, -0.10435907,\n",
       "        0.0616921 , -0.11562272, -0.088881  ,  0.14160268,  0.10716378,\n",
       "       -0.35292306,  0.14844722,  0.71829689,  0.18426483, -0.24448603,\n",
       "       -0.04298135,  0.04822702, -0.10485405, -0.03932963,  0.09595666,\n",
       "        0.00248365,  0.4332392 , -0.21049481])"
      ]
     },
     "execution_count": 16,
     "metadata": {},
     "output_type": "execute_result"
    }
   ],
   "source": [
    "reg1['estimator'][7].steps[2][1].coef_"
   ]
  },
  {
   "cell_type": "code",
   "execution_count": null,
   "metadata": {},
   "outputs": [],
   "source": []
  }
 ],
 "metadata": {
  "kernelspec": {
   "display_name": "Python 3 (ipykernel)",
   "language": "python",
   "name": "python3"
  },
  "language_info": {
   "codemirror_mode": {
    "name": "ipython",
    "version": 3
   },
   "file_extension": ".py",
   "mimetype": "text/x-python",
   "name": "python",
   "nbconvert_exporter": "python",
   "pygments_lexer": "ipython3",
   "version": "3.7.4"
  }
 },
 "nbformat": 4,
 "nbformat_minor": 2
}
