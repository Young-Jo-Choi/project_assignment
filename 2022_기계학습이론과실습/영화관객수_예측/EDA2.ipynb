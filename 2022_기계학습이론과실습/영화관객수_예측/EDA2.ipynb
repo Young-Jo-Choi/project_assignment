{
 "cells": [
  {
   "cell_type": "code",
   "execution_count": 1,
   "metadata": {},
   "outputs": [],
   "source": [
    "import sys\n",
    "import numpy as np\n",
    "import pandas as pd\n",
    "import matplotlib.pyplot as plt\n",
    "import seaborn as sns\n",
    "from tqdm import tqdm_notebook"
   ]
  },
  {
   "cell_type": "code",
   "execution_count": 2,
   "metadata": {},
   "outputs": [],
   "source": [
    "from matplotlib import font_manager,rc\n",
    "import matplotlib\n",
    "import platform\n",
    "\n",
    "if platform.system() == 'Windows':\n",
    "    path = 'c:/windows/Fonts/malgun.ttf'\n",
    "    font_name = font_manager.FontProperties(fname=path).get_name()\n",
    "    rc('font',family = font_name)\n",
    "elif platform.system() == 'Darwin':\n",
    "    rc('font',family = 'AppleGothic')\n",
    "else:\n",
    "    print('Check your OS system')\n",
    "    \n",
    "matplotlib.rcParams['axes.unicode_minus'] = False"
   ]
  },
  {
   "cell_type": "code",
   "execution_count": 3,
   "metadata": {},
   "outputs": [],
   "source": [
    "df = pd.read_excel('중간.xlsx')"
   ]
  },
  {
   "cell_type": "markdown",
   "metadata": {},
   "source": [
    "# 범주형 변수의 처리\n",
    "- title,genre,country,rating,companyNm,running_time_bins,감독\n",
    "- genre, country, companyNm, 감독, rating, running_time_bins"
   ]
  },
  {
   "cell_type": "code",
   "execution_count": 4,
   "metadata": {},
   "outputs": [],
   "source": [
    "# genre, country, companyNm, 감독, rating\n",
    "categorical_vars = ['title','genre','country','rating','companyNm','running_time_bins','감독']"
   ]
  },
  {
   "cell_type": "markdown",
   "metadata": {},
   "source": [
    "## rating\n",
    "각 그림을 그릴 것"
   ]
  },
  {
   "cell_type": "code",
   "execution_count": 5,
   "metadata": {},
   "outputs": [
    {
     "data": {
      "text/plain": [
       "15세이상관람가    540\n",
       "12세이상관람가    365\n",
       "청소년관람불가     267\n",
       "전체관람가       239\n",
       "Name: rating, dtype: int64"
      ]
     },
     "execution_count": 5,
     "metadata": {},
     "output_type": "execute_result"
    }
   ],
   "source": [
    "df['rating'].value_counts()"
   ]
  },
  {
   "cell_type": "code",
   "execution_count": 6,
   "metadata": {},
   "outputs": [
    {
     "data": {
      "text/html": [
       "<div>\n",
       "<style scoped>\n",
       "    .dataframe tbody tr th:only-of-type {\n",
       "        vertical-align: middle;\n",
       "    }\n",
       "\n",
       "    .dataframe tbody tr th {\n",
       "        vertical-align: top;\n",
       "    }\n",
       "\n",
       "    .dataframe thead th {\n",
       "        text-align: right;\n",
       "    }\n",
       "</style>\n",
       "<table border=\"1\" class=\"dataframe\">\n",
       "  <thead>\n",
       "    <tr style=\"text-align: right;\">\n",
       "      <th></th>\n",
       "      <th>count</th>\n",
       "      <th>mean</th>\n",
       "      <th>min</th>\n",
       "      <th>max</th>\n",
       "    </tr>\n",
       "    <tr>\n",
       "      <th>rating</th>\n",
       "      <th></th>\n",
       "      <th></th>\n",
       "      <th></th>\n",
       "      <th></th>\n",
       "    </tr>\n",
       "  </thead>\n",
       "  <tbody>\n",
       "    <tr>\n",
       "      <th>12세이상관람가</th>\n",
       "      <td>365</td>\n",
       "      <td>13.177764</td>\n",
       "      <td>10.219794</td>\n",
       "      <td>16.483498</td>\n",
       "    </tr>\n",
       "    <tr>\n",
       "      <th>15세이상관람가</th>\n",
       "      <td>540</td>\n",
       "      <td>12.899662</td>\n",
       "      <td>10.470845</td>\n",
       "      <td>16.684187</td>\n",
       "    </tr>\n",
       "    <tr>\n",
       "      <th>전체관람가</th>\n",
       "      <td>239</td>\n",
       "      <td>12.720050</td>\n",
       "      <td>10.025749</td>\n",
       "      <td>16.147276</td>\n",
       "    </tr>\n",
       "    <tr>\n",
       "      <th>청소년관람불가</th>\n",
       "      <td>267</td>\n",
       "      <td>12.488422</td>\n",
       "      <td>10.487991</td>\n",
       "      <td>15.771657</td>\n",
       "    </tr>\n",
       "  </tbody>\n",
       "</table>\n",
       "</div>"
      ],
      "text/plain": [
       "          count       mean        min        max\n",
       "rating                                          \n",
       "12세이상관람가    365  13.177764  10.219794  16.483498\n",
       "15세이상관람가    540  12.899662  10.470845  16.684187\n",
       "전체관람가       239  12.720050  10.025749  16.147276\n",
       "청소년관람불가     267  12.488422  10.487991  15.771657"
      ]
     },
     "execution_count": 6,
     "metadata": {},
     "output_type": "execute_result"
    }
   ],
   "source": [
    "df.groupby('rating').agg(['count','mean','min','max'])['log_num_viewers']"
   ]
  },
  {
   "cell_type": "code",
   "execution_count": 7,
   "metadata": {},
   "outputs": [
    {
     "data": {
      "image/png": "[encoded data removed]",
      "text/plain": [
       "<Figure size 432x288 with 1 Axes>"
      ]
     },
     "metadata": {
      "needs_background": "light"
     },
     "output_type": "display_data"
    }
   ],
   "source": [
    "# label encoding을 하기에는 전체->12세->15세->청불로의 어떤 순서가 보이지는 않음\n",
    "sns.violinplot(x=df['rating'],y=df['log_num_viewers'])\n",
    "plt.show()"
   ]
  },
  {
   "cell_type": "code",
   "execution_count": 8,
   "metadata": {},
   "outputs": [
    {
     "name": "stdout",
     "output_type": "stream",
     "text": [
      "ShapiroResult(statistic=0.9669740796089172, pvalue=2.376284840011067e-07)\n",
      "ShapiroResult(statistic=0.9691852927207947, pvalue=3.1569105107820405e-09)\n",
      "ShapiroResult(statistic=0.9793404340744019, pvalue=0.0014666200149804354)\n",
      "ShapiroResult(statistic=0.9464811086654663, pvalue=2.6605075476027196e-08)\n"
     ]
    }
   ],
   "source": [
    "# 마찬가지로 모두 정규분포라 보기 어려움\n",
    "from scipy.stats import shapiro\n",
    "for rate in np.unique(df['rating']):\n",
    "    print(shapiro(df.loc[df['rating']==rate,'log_num_viewers']))"
   ]
  },
  {
   "cell_type": "code",
   "execution_count": 9,
   "metadata": {},
   "outputs": [
    {
     "data": {
      "text/plain": [
       "KruskalResult(statistic=35.38100099984821, pvalue=1.0121167193226453e-07)"
      ]
     },
     "execution_count": 9,
     "metadata": {},
     "output_type": "execute_result"
    }
   ],
   "source": [
    "# rate별로 응답변수의 차이가 있어보임\n",
    "from scipy.stats import kruskal\n",
    "test_list = [df.loc[df['rating']==rate,'log_num_viewers'] for rate in np.unique(df['rating'])]\n",
    "kruskal(test_list[0],test_list[1],test_list[2],test_list[3])"
   ]
  },
  {
   "cell_type": "markdown",
   "metadata": {},
   "source": [
    "사후 분석을 해보려했으나 정규성 가정을 만족하지 않는 경우의 사후분석에 관한 라이브러리 미설치로 수행하지 못함<br>\n",
    "어느 하나만이라도 영향이 있다면 해당 변수에 coeff를 크게 줄 수 있도록 one-hot encoding을 사용하기로 결정"
   ]
  },
  {
   "cell_type": "markdown",
   "metadata": {},
   "source": [
    "## genre"
   ]
  },
  {
   "cell_type": "code",
   "execution_count": 10,
   "metadata": {},
   "outputs": [
    {
     "data": {
      "text/plain": [
       "드라마         306\n",
       "액션          270\n",
       "애니메이션       173\n",
       "코미디         137\n",
       "멜로/로맨스       92\n",
       "범죄           70\n",
       "공포(호러)       69\n",
       "스릴러          63\n",
       "SF           58\n",
       "미스터리         35\n",
       "어드벤처         31\n",
       "사극           31\n",
       "판타지          28\n",
       "다큐멘터리        22\n",
       "가족           14\n",
       "전쟁            7\n",
       "뮤지컬           3\n",
       "서부극(웨스턴)      2\n",
       "Name: genre, dtype: int64"
      ]
     },
     "execution_count": 10,
     "metadata": {},
     "output_type": "execute_result"
    }
   ],
   "source": [
    "# 너무 많으므로 비슷한 종류끼리 통합이 필요해보임\n",
    "df['genre'].value_counts()"
   ]
  },
  {
   "cell_type": "code",
   "execution_count": 8,
   "metadata": {},
   "outputs": [
    {
     "data": {
      "image/png": "[encoded data removed]",
      "text/plain": [
       "<Figure size 432x288 with 1 Axes>"
      ]
     },
     "metadata": {
      "needs_background": "light"
     },
     "output_type": "display_data"
    }
   ],
   "source": [
    "sns.boxplot(x = df['genre'],y = df['log_num_viewers'])\n",
    "plt.xticks(rotation=90)\n",
    "plt.show()"
   ]
  },
  {
   "cell_type": "code",
   "execution_count": 10,
   "metadata": {},
   "outputs": [
    {
     "data": {
      "text/plain": [
       "PCA(copy=True, iterated_power='auto', n_components=None, random_state=None,\n",
       "    svd_solver='auto', tol=0.0, whiten=False)"
      ]
     },
     "execution_count": 10,
     "metadata": {},
     "output_type": "execute_result"
    }
   ],
   "source": [
    "# dummy변수로 만들고 pca 적용 후 설명력 체크\n",
    "from sklearn.preprocessing import StandardScaler\n",
    "from sklearn.decomposition import PCA\n",
    "pca = PCA()\n",
    "genre = pd.get_dummies(df['genre'])\n",
    "# mean_centering\n",
    "pca.fit(genre)"
   ]
  },
  {
   "cell_type": "code",
   "execution_count": 14,
   "metadata": {},
   "outputs": [
    {
     "data": {
      "image/png": "[encoded data removed]",
      "text/plain": [
       "<Figure size 432x288 with 1 Axes>"
      ]
     },
     "metadata": {
      "needs_background": "light"
     },
     "output_type": "display_data"
    }
   ],
   "source": [
    "# 85%를 설명하는 8개의 components를 사용 \n",
    "plt.bar(range(len(pca.explained_variance_ratio_)),np.cumsum(pca.explained_variance_ratio_))\n",
    "plt.xticks(range(len(pca.explained_variance_ratio_)),labels = list(range(1,len(pca.explained_variance_ratio_)+1)))\n",
    "plt.axhline(0.95)\n",
    "plt.axhline(0.9)\n",
    "plt.axhline(0.85)\n",
    "plt.axhline(0.8)\n",
    "plt.xlabel('주성분 개수',fontsize=14)\n",
    "plt.ylabel('누적 설명력',fontsize=14)\n",
    "plt.show()"
   ]
  },
  {
   "cell_type": "markdown",
   "metadata": {},
   "source": [
    "## country"
   ]
  },
  {
   "cell_type": "code",
   "execution_count": 11,
   "metadata": {
    "scrolled": true
   },
   "outputs": [
    {
     "data": {
      "text/plain": [
       "미국          675\n",
       "한국          482\n",
       "일본           72\n",
       "영국           45\n",
       "프랑스          40\n",
       "중국           23\n",
       "독일           11\n",
       "스페인          11\n",
       "홍콩           11\n",
       "벨기에           7\n",
       "캐나다           5\n",
       "인도            5\n",
       "호주            4\n",
       "이탈리아          4\n",
       "대만            2\n",
       "덴마크           2\n",
       "남아프리카공화국      2\n",
       "스웨덴           2\n",
       "뉴질랜드          2\n",
       "멕시코           1\n",
       "러시아           1\n",
       "아이슬란드         1\n",
       "페루            1\n",
       "오스트리아         1\n",
       "아일랜드          1\n",
       "Name: country, dtype: int64"
      ]
     },
     "execution_count": 11,
     "metadata": {},
     "output_type": "execute_result"
    }
   ],
   "source": [
    "df['country'].value_counts()"
   ]
  },
  {
   "cell_type": "code",
   "execution_count": 12,
   "metadata": {},
   "outputs": [
    {
     "data": {
      "text/plain": [
       "(array([ 0,  1,  2,  3,  4,  5,  6,  7,  8,  9, 10, 11, 12, 13, 14, 15, 16,\n",
       "        17, 18, 19, 20, 21, 22, 23, 24]),\n",
       " <a list of 25 Text xticklabel objects>)"
      ]
     },
     "execution_count": 12,
     "metadata": {},
     "output_type": "execute_result"
    },
    {
     "data": {
      "image/png": "[encoded data removed]",
      "text/plain": [
       "<Figure size 432x288 with 1 Axes>"
      ]
     },
     "metadata": {
      "needs_background": "light"
     },
     "output_type": "display_data"
    }
   ],
   "source": [
    "sns.boxplot(x = df['country'],y = df['log_num_viewers'])\n",
    "plt.xticks(rotation=90)"
   ]
  },
  {
   "cell_type": "code",
   "execution_count": 13,
   "metadata": {},
   "outputs": [],
   "source": [
    "# 한국, 미국, 기타 범주로 묶기로 한다.\n",
    "cond1 = df['country']!='한국'\n",
    "cond2 = df['country']!='미국'\n",
    "df.loc[cond1&cond2,'country'] = '기타'"
   ]
  },
  {
   "cell_type": "code",
   "execution_count": 14,
   "metadata": {},
   "outputs": [
    {
     "data": {
      "text/plain": [
       "미국    675\n",
       "한국    482\n",
       "기타    254\n",
       "Name: country, dtype: int64"
      ]
     },
     "execution_count": 14,
     "metadata": {},
     "output_type": "execute_result"
    }
   ],
   "source": [
    "# 다음 정보를 원핫 인코딩 하도록 한다.\n",
    "df['country'].value_counts()"
   ]
  },
  {
   "cell_type": "markdown",
   "metadata": {},
   "source": [
    "## 감독\n",
    "다음 사이트에 언급된 정도를 믿고 보는 감독의 정도(수치)로 취급<br>\n",
    "날짜이므로 각 년도별 정보를 취합(크롤링)<br>\n",
    "https://movie.naver.com/movie/sdb/rank/rpeople.naver?date=20220329&tg=2<br>\n",
    "해당 사이트는 2005년 2월 7일 이전의 정보는 집계하지 않았다. 우리가 가진 데이터셋은 2005년에 하나 이후로 2008년 영화 데이터만 있으므로 2005년도는 무시하도록 한다."
   ]
  },
  {
   "cell_type": "code",
   "execution_count": 15,
   "metadata": {},
   "outputs": [
    {
     "data": {
      "text/plain": [
       "0       2011\n",
       "1       2005\n",
       "2       2010\n",
       "3       2008\n",
       "4       2016\n",
       "        ... \n",
       "1406    2017\n",
       "1407    2017\n",
       "1408    2017\n",
       "1409    2017\n",
       "1410    2018\n",
       "Name: released_year, Length: 1411, dtype: int64"
      ]
     },
     "execution_count": 15,
     "metadata": {},
     "output_type": "execute_result"
    }
   ],
   "source": [
    "df['released_year']"
   ]
  },
  {
   "cell_type": "code",
   "execution_count": 16,
   "metadata": {},
   "outputs": [
    {
     "data": {
      "text/plain": [
       "201    J.J. 에이브럼스\n",
       "352    J.J. 에이브럼스\n",
       "457    J.J. 에이브람스\n",
       "618    J.J. 에이브럼스\n",
       "Name: 감독, dtype: object"
      ]
     },
     "execution_count": 16,
     "metadata": {},
     "output_type": "execute_result"
    }
   ],
   "source": [
    "# 일단 다음 감독 이름을 일치시키도록 한다.\n",
    "df.loc[df['감독'].str.contains('J.J'),'감독']"
   ]
  },
  {
   "cell_type": "code",
   "execution_count": 17,
   "metadata": {},
   "outputs": [],
   "source": [
    "df.loc[df['감독'].str.contains('J.J'),'감독'] = 'J.J. 에이브람스'"
   ]
  },
  {
   "cell_type": "code",
   "execution_count": 57,
   "metadata": {},
   "outputs": [],
   "source": [
    "from bs4 import BeautifulSoup\n",
    "import requests"
   ]
  },
  {
   "cell_type": "code",
   "execution_count": 58,
   "metadata": {},
   "outputs": [],
   "source": [
    "searching_year = list(np.unique(df['released_year']))\n",
    "searching_year.remove(2005)\n",
    "\n",
    "searching_month = list(np.unique(df['released_month']))\n",
    "# 2월 29일은 무시\n",
    "searching_day = [31,28,31,30,31,30,31,31,30,31,30,31]"
   ]
  },
  {
   "cell_type": "code",
   "execution_count": 59,
   "metadata": {},
   "outputs": [
    {
     "data": {
      "text/plain": [
       "0        2\n",
       "1       11\n",
       "2        4\n",
       "3       11\n",
       "4        1\n",
       "        ..\n",
       "1406     8\n",
       "1407     4\n",
       "1408     8\n",
       "1409    11\n",
       "1410     8\n",
       "Name: released_month, Length: 1411, dtype: int64"
      ]
     },
     "execution_count": 59,
     "metadata": {},
     "output_type": "execute_result"
    }
   ],
   "source": [
    "df['released_month']"
   ]
  },
  {
   "cell_type": "code",
   "execution_count": 60,
   "metadata": {},
   "outputs": [],
   "source": [
    "df['감독 순위'] = np.zeros_like(df['감독'])"
   ]
  },
  {
   "cell_type": "code",
   "execution_count": 61,
   "metadata": {},
   "outputs": [],
   "source": [
    "backup_df = df"
   ]
  },
  {
   "cell_type": "code",
   "execution_count": 62,
   "metadata": {},
   "outputs": [],
   "source": [
    "df = backup_df"
   ]
  },
  {
   "cell_type": "code",
   "execution_count": 256,
   "metadata": {},
   "outputs": [
    {
     "data": {
      "application/vnd.jupyter.widget-view+json": {
       "model_id": "f2d4b7383d1f41fe8e89cc591701ccf1",
       "version_major": 2,
       "version_minor": 0
      },
      "text/plain": [
       "HBox(children=(IntProgress(value=0, max=11), HTML(value='')))"
      ]
     },
     "metadata": {},
     "output_type": "display_data"
    },
    {
     "name": "stdout",
     "output_type": "stream",
     "text": [
      "\n"
     ]
    }
   ],
   "source": [
    "all_eval_df = pd.DataFrame()\n",
    "for year in tqdm_notebook(searching_year):\n",
    "    for month in searching_month:\n",
    "        for day in range(1,searching_day[month-1]+1):\n",
    "            url = 'https://movie.naver.com/movie/sdb/rank/rpeople.naver?tg=2&date=' + str(year)+str(month).zfill(2) + str(day).zfill(2)\n",
    "            html = requests.get(url)\n",
    "            soup = BeautifulSoup(html.text, 'html.parser')\n",
    "            directors = list(map(lambda x:x.text.strip().split(' (')[0],soup.select('td.title')))\n",
    "            temp_df = pd.DataFrame(directors,columns = ['director'])\n",
    "            temp_df['rank'] = temp_df.index+1\n",
    "            all_eval_df = all_eval_df.append(temp_df)\n",
    "            all_eval_df.reset_index(inplace = True, drop=True)\n",
    "        # 월별로 누적 --> 매해 축척된 평가가 반영됨(최근 순위에 가중치는 부여하지 않음)\n",
    "        yearmonth_rank = all_eval_df.groupby('director').mean()\n",
    "        cond1 = df['released_year'] == year\n",
    "        cond2 = df['released_month'] == month\n",
    "\n",
    "        searched_directors = np.intersect1d(yearmonth_rank.index, df.loc[(cond1&cond2),'감독'], return_indices=True)\n",
    "        temp_dict = dict(zip(searched_directors[0],list(yearmonth_rank.iloc[searched_directors[1]].values[:,0])))\n",
    "        df.loc[cond1&cond2,'감독 순위'] = df.loc[cond1&cond2,'감독'].map(temp_dict)"
   ]
  },
  {
   "cell_type": "code",
   "execution_count": 15,
   "metadata": {},
   "outputs": [],
   "source": [
    "cond = df['감독 순위'] < sys.float_info.epsilon\n",
    "df.loc[cond,'감독 순위'] = np.nan"
   ]
  },
  {
   "cell_type": "code",
   "execution_count": 21,
   "metadata": {},
   "outputs": [],
   "source": [
    "df.to_excel('중간2.xlsx',index=False)"
   ]
  },
  {
   "cell_type": "code",
   "execution_count": 22,
   "metadata": {},
   "outputs": [],
   "source": [
    "df = pd.read_excel('중간2.xlsx')"
   ]
  },
  {
   "cell_type": "markdown",
   "metadata": {},
   "source": [
    "## 감독 순위의 의미가 있는지"
   ]
  },
  {
   "cell_type": "code",
   "execution_count": 31,
   "metadata": {
    "scrolled": false
   },
   "outputs": [
    {
     "name": "stdout",
     "output_type": "stream",
     "text": [
      "1\n",
      "[[ 1.         -0.18426468 -0.14238597]\n",
      " [-0.18426468  1.          0.75930792]\n",
      " [-0.14238597  0.75930792  1.        ]]\n",
      "2\n",
      "[[ 1.         -0.21444192 -0.16619464]\n",
      " [-0.21444192  1.          0.75930792]\n",
      " [-0.16619464  0.75930792  1.        ]]\n",
      "3\n",
      "[[ 1.         -0.2315163  -0.17451584]\n",
      " [-0.2315163   1.          0.75930792]\n",
      " [-0.17451584  0.75930792  1.        ]]\n",
      "4\n",
      "[[ 1.         -0.23916352 -0.17295342]\n",
      " [-0.23916352  1.          0.75930792]\n",
      " [-0.17295342  0.75930792  1.        ]]\n",
      "5\n",
      "[[ 1.         -0.23861319 -0.16408905]\n",
      " [-0.23861319  1.          0.75930792]\n",
      " [-0.16408905  0.75930792  1.        ]]\n"
     ]
    }
   ],
   "source": [
    "analysis_drop = df.dropna(subset=['감독 순위'])\n",
    "for i in range(1,6):\n",
    "    print(f\"{i}\\n{np.corrcoef([analysis_drop['감독 순위']**(i),analysis_drop['log_num_viewers'],analysis_drop['num_viewers']])}\")"
   ]
  },
  {
   "cell_type": "markdown",
   "metadata": {},
   "source": [
    "상관계수가 낮기는 하지만 0.24까지 나오므로 네제곱한 데이터를 사용해보기로 한다.<br>\n",
    "결측치 데이터는 감독의 이름 효과를 못 받은 경우로 생각하기 위해 0으로 만들고 큰값과 작은값의 의미를 명확하게 하기 위해 나머지 값들에 대해서는 min, max를 바꿔주도록 한다."
   ]
  },
  {
   "cell_type": "code",
   "execution_count": 32,
   "metadata": {},
   "outputs": [
    {
     "data": {
      "text/plain": [
       "(40.0, 1.0)"
      ]
     },
     "execution_count": 32,
     "metadata": {},
     "output_type": "execute_result"
    }
   ],
   "source": [
    "df['감독 순위'].max(), df['감독 순위'].min()"
   ]
  },
  {
   "cell_type": "code",
   "execution_count": 33,
   "metadata": {},
   "outputs": [],
   "source": [
    "df['감독 순위'] = -1*(df['감독 순위'] - df['감독 순위'].max() - df['감독 순위'].min())\n",
    "df['감독 순위'].fillna(0,inplace = True)\n",
    "df['감독 순위'] = df['감독 순위'] ** 4\n",
    "df.to_excel('중간3.xlsx',index=False)"
   ]
  },
  {
   "cell_type": "code",
   "execution_count": 35,
   "metadata": {},
   "outputs": [],
   "source": [
    "df = pd.read_excel('중간3.xlsx')"
   ]
  },
  {
   "cell_type": "markdown",
   "metadata": {},
   "source": [
    "## companyNm"
   ]
  },
  {
   "cell_type": "code",
   "execution_count": 23,
   "metadata": {},
   "outputs": [
    {
     "data": {
      "text/plain": [
       "롯데쇼핑㈜롯데엔터테인먼트          163\n",
       "씨제이이앤엠(주)              124\n",
       "유니버설픽쳐스인터내셔널 코리아(유)    100\n",
       "워너브러더스 코리아(주)           88\n",
       "이십세기폭스코리아(주)            85\n",
       "                      ... \n",
       "(주)레드로버                  1\n",
       "(주)모인그룹                  1\n",
       "(유)조이앤시네마                1\n",
       "(주)인디플러그                 1\n",
       "(주)콘텐츠판다                 1\n",
       "Name: companyNm, Length: 132, dtype: int64"
      ]
     },
     "execution_count": 23,
     "metadata": {},
     "output_type": "execute_result"
    }
   ],
   "source": [
    "df['companyNm'].value_counts()"
   ]
  },
  {
   "cell_type": "code",
   "execution_count": 24,
   "metadata": {},
   "outputs": [
    {
     "name": "stdout",
     "output_type": "stream",
     "text": [
      "282.2\n",
      "통합대상 데이터 수 : 281\n",
      "남는 배급사 : 28\n"
     ]
    }
   ],
   "source": [
    "# 배급사 수가 너무 많으므로 전체 20% 미만()을 차지하는 군소 배급사는 '기타' 범주로 통합 \n",
    "\n",
    "print(df.shape[0]/5)\n",
    "print(f\"통합대상 데이터 수 : {df['companyNm'].value_counts()[df['companyNm'].value_counts() <= 11].sum()}\")\n",
    "print(f\"남는 배급사 : {len(df['companyNm'].value_counts()[df['companyNm'].value_counts() > 11])+1}\")"
   ]
  },
  {
   "cell_type": "code",
   "execution_count": 25,
   "metadata": {},
   "outputs": [],
   "source": [
    "small_companies = list(df['companyNm'].value_counts()[df['companyNm'].value_counts() <= 11].index)\n",
    "df['companyNm_integrated'] = df['companyNm'].map(lambda x:'Etc' if x in small_companies else x)"
   ]
  },
  {
   "cell_type": "code",
   "execution_count": 26,
   "metadata": {},
   "outputs": [
    {
     "data": {
      "text/plain": [
       "Etc                    281\n",
       "롯데쇼핑㈜롯데엔터테인먼트          163\n",
       "씨제이이앤엠(주)              124\n",
       "유니버설픽쳐스인터내셔널 코리아(유)    100\n",
       "워너브러더스 코리아(주)           88\n",
       "Name: companyNm_integrated, dtype: int64"
      ]
     },
     "execution_count": 26,
     "metadata": {},
     "output_type": "execute_result"
    }
   ],
   "source": [
    "df['companyNm_integrated'].value_counts().head()"
   ]
  },
  {
   "cell_type": "code",
   "execution_count": 27,
   "metadata": {
    "scrolled": true
   },
   "outputs": [
    {
     "data": {
      "text/html": [
       "<div>\n",
       "<style scoped>\n",
       "    .dataframe tbody tr th:only-of-type {\n",
       "        vertical-align: middle;\n",
       "    }\n",
       "\n",
       "    .dataframe tbody tr th {\n",
       "        vertical-align: top;\n",
       "    }\n",
       "\n",
       "    .dataframe thead th {\n",
       "        text-align: right;\n",
       "    }\n",
       "</style>\n",
       "<table border=\"1\" class=\"dataframe\">\n",
       "  <thead>\n",
       "    <tr style=\"text-align: right;\">\n",
       "      <th></th>\n",
       "      <th>count</th>\n",
       "      <th>mean</th>\n",
       "      <th>min</th>\n",
       "      <th>max</th>\n",
       "      <th>var</th>\n",
       "    </tr>\n",
       "    <tr>\n",
       "      <th>companyNm_integrated</th>\n",
       "      <th></th>\n",
       "      <th></th>\n",
       "      <th></th>\n",
       "      <th></th>\n",
       "      <th></th>\n",
       "    </tr>\n",
       "  </thead>\n",
       "  <tbody>\n",
       "    <tr>\n",
       "      <th>(주)나이너스엔터테인먼트</th>\n",
       "      <td>14</td>\n",
       "      <td>12.006288</td>\n",
       "      <td>10.681963</td>\n",
       "      <td>13.731950</td>\n",
       "      <td>0.911015</td>\n",
       "    </tr>\n",
       "    <tr>\n",
       "      <th>(주)넥스트엔터테인먼트월드(NEW)</th>\n",
       "      <td>82</td>\n",
       "      <td>13.383540</td>\n",
       "      <td>10.627358</td>\n",
       "      <td>16.365831</td>\n",
       "      <td>2.006605</td>\n",
       "    </tr>\n",
       "    <tr>\n",
       "      <th>(주)리틀빅픽쳐스</th>\n",
       "      <td>12</td>\n",
       "      <td>11.897503</td>\n",
       "      <td>10.597659</td>\n",
       "      <td>15.003428</td>\n",
       "      <td>1.879322</td>\n",
       "    </tr>\n",
       "    <tr>\n",
       "      <th>(주)쇼박스</th>\n",
       "      <td>78</td>\n",
       "      <td>13.666003</td>\n",
       "      <td>10.599057</td>\n",
       "      <td>16.315855</td>\n",
       "      <td>2.294908</td>\n",
       "    </tr>\n",
       "    <tr>\n",
       "      <th>(주)시너지하우스 (시너지)</th>\n",
       "      <td>27</td>\n",
       "      <td>12.295813</td>\n",
       "      <td>10.712282</td>\n",
       "      <td>14.469207</td>\n",
       "      <td>1.203176</td>\n",
       "    </tr>\n",
       "    <tr>\n",
       "      <th>(주)시네마서비스</th>\n",
       "      <td>13</td>\n",
       "      <td>12.952833</td>\n",
       "      <td>10.838737</td>\n",
       "      <td>15.274282</td>\n",
       "      <td>1.597887</td>\n",
       "    </tr>\n",
       "    <tr>\n",
       "      <th>(주)싸이더스</th>\n",
       "      <td>27</td>\n",
       "      <td>12.353408</td>\n",
       "      <td>10.675492</td>\n",
       "      <td>15.205638</td>\n",
       "      <td>1.028005</td>\n",
       "    </tr>\n",
       "    <tr>\n",
       "      <th>(주)영화사 빅</th>\n",
       "      <td>15</td>\n",
       "      <td>11.465292</td>\n",
       "      <td>10.631447</td>\n",
       "      <td>12.393104</td>\n",
       "      <td>0.303854</td>\n",
       "    </tr>\n",
       "    <tr>\n",
       "      <th>(주)이수C&amp;E</th>\n",
       "      <td>15</td>\n",
       "      <td>11.856831</td>\n",
       "      <td>10.553362</td>\n",
       "      <td>13.236804</td>\n",
       "      <td>0.784812</td>\n",
       "    </tr>\n",
       "    <tr>\n",
       "      <th>(주)팝엔터테인먼트</th>\n",
       "      <td>12</td>\n",
       "      <td>11.221282</td>\n",
       "      <td>10.609452</td>\n",
       "      <td>12.778751</td>\n",
       "      <td>0.490546</td>\n",
       "    </tr>\n",
       "    <tr>\n",
       "      <th>(주)화앤담이엔티</th>\n",
       "      <td>14</td>\n",
       "      <td>11.862570</td>\n",
       "      <td>10.502901</td>\n",
       "      <td>13.679782</td>\n",
       "      <td>1.116059</td>\n",
       "    </tr>\n",
       "    <tr>\n",
       "      <th>CGV아트하우스</th>\n",
       "      <td>17</td>\n",
       "      <td>12.095089</td>\n",
       "      <td>10.645306</td>\n",
       "      <td>14.699696</td>\n",
       "      <td>1.358767</td>\n",
       "    </tr>\n",
       "    <tr>\n",
       "      <th>Etc</th>\n",
       "      <td>281</td>\n",
       "      <td>11.896213</td>\n",
       "      <td>10.025749</td>\n",
       "      <td>15.797708</td>\n",
       "      <td>1.344816</td>\n",
       "    </tr>\n",
       "    <tr>\n",
       "      <th>롯데쇼핑㈜롯데엔터테인먼트</th>\n",
       "      <td>163</td>\n",
       "      <td>13.174665</td>\n",
       "      <td>10.713573</td>\n",
       "      <td>16.483498</td>\n",
       "      <td>1.577694</td>\n",
       "    </tr>\n",
       "    <tr>\n",
       "      <th>메가박스중앙(주)플러스엠</th>\n",
       "      <td>18</td>\n",
       "      <td>13.353788</td>\n",
       "      <td>11.305126</td>\n",
       "      <td>15.116761</td>\n",
       "      <td>1.562681</td>\n",
       "    </tr>\n",
       "    <tr>\n",
       "      <th>소니픽쳐스릴리징월트디즈니스튜디오스코리아(주)</th>\n",
       "      <td>25</td>\n",
       "      <td>13.499181</td>\n",
       "      <td>10.691468</td>\n",
       "      <td>16.147276</td>\n",
       "      <td>1.922597</td>\n",
       "    </tr>\n",
       "    <tr>\n",
       "      <th>씨너스엔터테인먼트(주)</th>\n",
       "      <td>14</td>\n",
       "      <td>11.395457</td>\n",
       "      <td>10.617319</td>\n",
       "      <td>12.699588</td>\n",
       "      <td>0.455084</td>\n",
       "    </tr>\n",
       "    <tr>\n",
       "      <th>씨네그루(주)다우기술</th>\n",
       "      <td>13</td>\n",
       "      <td>12.215368</td>\n",
       "      <td>10.541492</td>\n",
       "      <td>14.576856</td>\n",
       "      <td>1.348901</td>\n",
       "    </tr>\n",
       "    <tr>\n",
       "      <th>씨네그루(주)키다리이엔티</th>\n",
       "      <td>12</td>\n",
       "      <td>11.789203</td>\n",
       "      <td>10.757286</td>\n",
       "      <td>13.287941</td>\n",
       "      <td>0.718880</td>\n",
       "    </tr>\n",
       "    <tr>\n",
       "      <th>씨제이엔터테인먼트</th>\n",
       "      <td>70</td>\n",
       "      <td>13.364587</td>\n",
       "      <td>10.732454</td>\n",
       "      <td>16.253792</td>\n",
       "      <td>2.172286</td>\n",
       "    </tr>\n",
       "    <tr>\n",
       "      <th>씨제이이앤엠(주)</th>\n",
       "      <td>124</td>\n",
       "      <td>13.799671</td>\n",
       "      <td>10.905258</td>\n",
       "      <td>16.684187</td>\n",
       "      <td>1.716594</td>\n",
       "    </tr>\n",
       "    <tr>\n",
       "      <th>에스케이텔레콤(주)</th>\n",
       "      <td>15</td>\n",
       "      <td>12.978831</td>\n",
       "      <td>10.694940</td>\n",
       "      <td>14.306573</td>\n",
       "      <td>1.178465</td>\n",
       "    </tr>\n",
       "    <tr>\n",
       "      <th>워너브러더스 코리아(주)</th>\n",
       "      <td>88</td>\n",
       "      <td>13.336287</td>\n",
       "      <td>10.731078</td>\n",
       "      <td>15.830470</td>\n",
       "      <td>1.919171</td>\n",
       "    </tr>\n",
       "    <tr>\n",
       "      <th>월트디즈니컴퍼니코리아(주)</th>\n",
       "      <td>15</td>\n",
       "      <td>14.141341</td>\n",
       "      <td>11.600368</td>\n",
       "      <td>16.166362</td>\n",
       "      <td>2.290390</td>\n",
       "    </tr>\n",
       "    <tr>\n",
       "      <th>유니버설픽쳐스인터내셔널 코리아(유)</th>\n",
       "      <td>100</td>\n",
       "      <td>12.761884</td>\n",
       "      <td>10.487991</td>\n",
       "      <td>15.592476</td>\n",
       "      <td>1.927193</td>\n",
       "    </tr>\n",
       "    <tr>\n",
       "      <th>이십세기폭스코리아(주)</th>\n",
       "      <td>85</td>\n",
       "      <td>13.456267</td>\n",
       "      <td>10.880008</td>\n",
       "      <td>15.744116</td>\n",
       "      <td>1.492221</td>\n",
       "    </tr>\n",
       "    <tr>\n",
       "      <th>판씨네마(주)</th>\n",
       "      <td>14</td>\n",
       "      <td>12.147013</td>\n",
       "      <td>10.821796</td>\n",
       "      <td>15.095755</td>\n",
       "      <td>1.270803</td>\n",
       "    </tr>\n",
       "    <tr>\n",
       "      <th>한국소니픽쳐스릴리징브에나비스타영화㈜</th>\n",
       "      <td>48</td>\n",
       "      <td>13.349670</td>\n",
       "      <td>10.600677</td>\n",
       "      <td>15.395133</td>\n",
       "      <td>1.172647</td>\n",
       "    </tr>\n",
       "  </tbody>\n",
       "</table>\n",
       "</div>"
      ],
      "text/plain": [
       "                          count       mean        min        max       var\n",
       "companyNm_integrated                                                      \n",
       "(주)나이너스엔터테인먼트                14  12.006288  10.681963  13.731950  0.911015\n",
       "(주)넥스트엔터테인먼트월드(NEW)          82  13.383540  10.627358  16.365831  2.006605\n",
       "(주)리틀빅픽쳐스                    12  11.897503  10.597659  15.003428  1.879322\n",
       "(주)쇼박스                       78  13.666003  10.599057  16.315855  2.294908\n",
       "(주)시너지하우스 (시너지)              27  12.295813  10.712282  14.469207  1.203176\n",
       "(주)시네마서비스                    13  12.952833  10.838737  15.274282  1.597887\n",
       "(주)싸이더스                      27  12.353408  10.675492  15.205638  1.028005\n",
       "(주)영화사 빅                     15  11.465292  10.631447  12.393104  0.303854\n",
       "(주)이수C&E                     15  11.856831  10.553362  13.236804  0.784812\n",
       "(주)팝엔터테인먼트                   12  11.221282  10.609452  12.778751  0.490546\n",
       "(주)화앤담이엔티                    14  11.862570  10.502901  13.679782  1.116059\n",
       "CGV아트하우스                     17  12.095089  10.645306  14.699696  1.358767\n",
       "Etc                         281  11.896213  10.025749  15.797708  1.344816\n",
       "롯데쇼핑㈜롯데엔터테인먼트               163  13.174665  10.713573  16.483498  1.577694\n",
       "메가박스중앙(주)플러스엠                18  13.353788  11.305126  15.116761  1.562681\n",
       "소니픽쳐스릴리징월트디즈니스튜디오스코리아(주)     25  13.499181  10.691468  16.147276  1.922597\n",
       "씨너스엔터테인먼트(주)                 14  11.395457  10.617319  12.699588  0.455084\n",
       "씨네그루(주)다우기술                  13  12.215368  10.541492  14.576856  1.348901\n",
       "씨네그루(주)키다리이엔티                12  11.789203  10.757286  13.287941  0.718880\n",
       "씨제이엔터테인먼트                    70  13.364587  10.732454  16.253792  2.172286\n",
       "씨제이이앤엠(주)                   124  13.799671  10.905258  16.684187  1.716594\n",
       "에스케이텔레콤(주)                   15  12.978831  10.694940  14.306573  1.178465\n",
       "워너브러더스 코리아(주)                88  13.336287  10.731078  15.830470  1.919171\n",
       "월트디즈니컴퍼니코리아(주)               15  14.141341  11.600368  16.166362  2.290390\n",
       "유니버설픽쳐스인터내셔널 코리아(유)         100  12.761884  10.487991  15.592476  1.927193\n",
       "이십세기폭스코리아(주)                 85  13.456267  10.880008  15.744116  1.492221\n",
       "판씨네마(주)                      14  12.147013  10.821796  15.095755  1.270803\n",
       "한국소니픽쳐스릴리징브에나비스타영화㈜          48  13.349670  10.600677  15.395133  1.172647"
      ]
     },
     "execution_count": 27,
     "metadata": {},
     "output_type": "execute_result"
    }
   ],
   "source": [
    "df.groupby('companyNm_integrated').agg(['count','mean','min','max','var'])['log_num_viewers']"
   ]
  },
  {
   "cell_type": "code",
   "execution_count": 28,
   "metadata": {},
   "outputs": [
    {
     "data": {
      "text/plain": [
       "<matplotlib.lines.Line2D at 0x1a0c2ab6cc8>"
      ]
     },
     "execution_count": 28,
     "metadata": {},
     "output_type": "execute_result"
    },
    {
     "data": {
      "image/png": "[encoded data removed]",
      "text/plain": [
       "<Figure size 864x288 with 1 Axes>"
      ]
     },
     "metadata": {
      "needs_background": "light"
     },
     "output_type": "display_data"
    }
   ],
   "source": [
    "# 마찬가지로 85% 수준에서 선택\n",
    "from sklearn.decomposition import PCA\n",
    "pca = PCA()\n",
    "country = pd.get_dummies(df['companyNm_integrated'])\n",
    "pca.fit(country)\n",
    "\n",
    "plt.figure(figsize = (12,4))\n",
    "plt.bar(range(len(pca.explained_variance_ratio_)),np.cumsum(pca.explained_variance_ratio_))\n",
    "plt.xticks(range(len(pca.explained_variance_ratio_)),labels = list(range(1,len(pca.explained_variance_ratio_)+1)))\n",
    "plt.axhline(0.95)\n",
    "plt.axhline(0.9)\n",
    "plt.axhline(0.85)\n",
    "plt.axhline(0.8)"
   ]
  },
  {
   "cell_type": "markdown",
   "metadata": {},
   "source": [
    "## month"
   ]
  },
  {
   "cell_type": "code",
   "execution_count": 37,
   "metadata": {},
   "outputs": [
    {
     "data": {
      "text/plain": [
       "<matplotlib.lines.Line2D at 0x1a0c2e61f48>"
      ]
     },
     "execution_count": 37,
     "metadata": {},
     "output_type": "execute_result"
    },
    {
     "data": {
      "image/png": "[encoded data removed]",
      "text/plain": [
       "<Figure size 864x288 with 1 Axes>"
      ]
     },
     "metadata": {
      "needs_background": "light"
     },
     "output_type": "display_data"
    }
   ],
   "source": [
    "# 차원축소가 거의 의미가 없어보이므로 전부를 사용\n",
    "from sklearn.decomposition import PCA\n",
    "pca = PCA()\n",
    "month = pd.get_dummies(df['released_month'])\n",
    "pca.fit(month)\n",
    "\n",
    "plt.figure(figsize = (12,4))\n",
    "plt.bar(range(len(pca.explained_variance_ratio_)),np.cumsum(pca.explained_variance_ratio_))\n",
    "plt.xticks(range(len(pca.explained_variance_ratio_)),labels = list(range(1,len(pca.explained_variance_ratio_)+1)))\n",
    "plt.axhline(0.95)\n",
    "plt.axhline(0.9)\n",
    "plt.axhline(0.85)\n",
    "plt.axhline(0.8)"
   ]
  },
  {
   "cell_type": "code",
   "execution_count": null,
   "metadata": {},
   "outputs": [],
   "source": []
  }
 ],
 "metadata": {
  "kernelspec": {
   "display_name": "Python 3",
   "language": "python",
   "name": "python3"
  },
  "language_info": {
   "codemirror_mode": {
    "name": "ipython",
    "version": 3
   },
   "file_extension": ".py",
   "mimetype": "text/x-python",
   "name": "python",
   "nbconvert_exporter": "python",
   "pygments_lexer": "ipython3",
   "version": "3.7.4"
  }
 },
 "nbformat": 4,
 "nbformat_minor": 2
}
