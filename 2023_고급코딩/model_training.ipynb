{
 "cells": [
  {
   "attachments": {},
   "cell_type": "markdown",
   "metadata": {},
   "source": [
    "# PPFL\n",
    "(after HFL learning)"
   ]
  },
  {
   "cell_type": "code",
   "execution_count": 1,
   "metadata": {},
   "outputs": [],
   "source": [
    "import numpy as np\n",
    "import pandas as pd\n",
    "\n",
    "import torch\n",
    "import torch.nn as nn\n",
    "import torch.nn.functional as F\n",
    "import torch.optim as optim\n",
    "from torch.utils.data import DataLoader, TensorDataset\n",
    "\n",
    "from sklearn.metrics import accuracy_score, f1_score\n",
    "from sklearn.preprocessing import StandardScaler\n",
    "\n",
    "from PPFL import *"
   ]
  },
  {
   "cell_type": "code",
   "execution_count": 2,
   "metadata": {},
   "outputs": [],
   "source": [
    "client5 = pd.read_csv('./client5.csv')\n",
    "X_5 = client5.drop('fraud_bool',axis=1)\n",
    "y_5 = client5['fraud_bool']\n",
    "\n",
    "test_under = pd.read_csv('./client_test_under.csv')\n",
    "X_test_under = test_under.drop('fraud_bool',axis=1)\n",
    "y_test_under = test_under['fraud_bool']"
   ]
  },
  {
   "cell_type": "code",
   "execution_count": 3,
   "metadata": {},
   "outputs": [],
   "source": [
    "object_col = {'payment_type':{'AE':0, 'AD':1, 'AC':2, 'AA':3, 'AB':4},\n",
    "                'employment_status':{'CE':0, 'CA':1, 'CB':2, 'CC':3, 'CG':4, 'CD':5, 'CF':6},\n",
    "                'housing_status':{'BE':0, 'BF':1, 'BC':2, 'BG':3, 'BA':4, 'BD':5, 'BB':6},\n",
    "                'source':{'INTERNET':0, 'TELEAPP':1},\n",
    "                'device_os':{'other':0, 'windows':1, 'x11':2, 'linux':3, 'macintosh':4}}\n",
    "\n",
    "for col,vals in object_col.items():\n",
    "    X_5[col] = X_5[col].replace(vals)\n",
    "    X_test_under[col] = X_test_under[col].replace(vals)\n",
    "\n",
    "scaler = StandardScaler()\n",
    "X_5 = scaler.fit_transform(X_5)\n",
    "X_test_under = scaler.transform(X_test_under)\n"
   ]
  },
  {
   "attachments": {},
   "cell_type": "markdown",
   "metadata": {},
   "source": [
    "# model training"
   ]
  },
  {
   "cell_type": "code",
   "execution_count": 4,
   "metadata": {},
   "outputs": [],
   "source": [
    "HFL_model = FL_net(input_dim=20)\n",
    "VFL_model = FL_net(input_dim=11)"
   ]
  },
  {
   "cell_type": "code",
   "execution_count": 5,
   "metadata": {},
   "outputs": [],
   "source": [
    "import pickle\n",
    "with open('weight.pickle', 'rb') as f:\n",
    "    weight = pickle.load(f)\n",
    "for k,v in weight.items():\n",
    "    k_replace = k.replace('module.','')\n",
    "    HFL_model.state_dict()[k_replace].copy_(v)"
   ]
  },
  {
   "cell_type": "code",
   "execution_count": 6,
   "metadata": {},
   "outputs": [],
   "source": [
    "common_idx = [2, 3, 4, 5, 6, 7, 12, 13, 14, 15, 17, 19, 20, 22, 23, 24, 25, 26, 28, 30]\n",
    "specific_idx = [0, 1, 8, 9, 10, 11, 16, 18, 21, 27, 29]\n",
    "device = torch.device('cuda:2' if torch.cuda.is_available() else 'cpu')\n",
    "PPFL_net = PPFL_net(HFL_model, VFL_model, common_idx=common_idx, specific_idx=specific_idx, device=device)"
   ]
  },
  {
   "cell_type": "code",
   "execution_count": 7,
   "metadata": {},
   "outputs": [],
   "source": [
    "from torch.utils.data import DataLoader, Dataset, TensorDataset\n",
    "\n",
    "DS5 = TensorDataset(torch.Tensor(X_5), torch.LongTensor(y_5.values))\n",
    "DS_test_under = TensorDataset(torch.Tensor(X_test_under), torch.LongTensor(y_test_under.values))\n",
    "loader5 = DataLoader(DS5, batch_size=128)\n",
    "loader_test_under = DataLoader(DS_test_under, batch_size=128)"
   ]
  },
  {
   "cell_type": "code",
   "execution_count": null,
   "metadata": {},
   "outputs": [],
   "source": [
    "criterion = nn.CrossEntropyLoss()\n",
    "optimizer = optim.SGD(PPFL_net.parameters(), lr=0.01, weight_decay=0.0004)\n",
    "\n",
    "for epoch in range(100):\n",
    "    PPFL_net.train()\n",
    "\n",
    "    tr_preds = np.array([])\n",
    "    tr_reals = np.array([])\n",
    "    for xx,yy in loader5:\n",
    "        xx = xx.to(device)\n",
    "        yy = yy.to(device)\n",
    "        optimizer.zero_grad()\n",
    "        y_pred = PPFL_net(xx)\n",
    "        y_prediction = torch.argmax(y_pred, dim=1).detach().cpu().numpy()\n",
    "        loss = criterion(y_pred, yy)\n",
    "        loss.backward()\n",
    "        optimizer.step()\n",
    "        tr_preds = np.append(tr_preds, y_prediction)\n",
    "        tr_reals = np.append(tr_reals, yy.detach().cpu().numpy())\n",
    "    if epoch%3==0:\n",
    "        print('\\nepoch: ', epoch )\n",
    "        print('tr accuracy: ', accuracy_score(tr_reals, tr_preds)) \n",
    "        print('tr f1: ', f1_score(tr_reals, tr_preds))   \n",
    "    PPFL_net.eval()\n",
    "    val_preds = np.array([])\n",
    "    val_reals = np.array([])\n",
    "    with torch.no_grad():\n",
    "        for xx_val, yy_val in loader_test_under:\n",
    "            xx_val = xx_val.to(device)\n",
    "            yy_val = yy_val.to(device)\n",
    "            y_pred = PPFL_net(xx_val)\n",
    "            y_prediction = torch.argmax(y_pred, dim=1).detach().cpu().numpy()\n",
    "            loss = criterion(y_pred, yy_val)\n",
    "            val_preds = np.append(val_preds, y_prediction)\n",
    "            val_reals = np.append(val_reals, yy_val.detach().cpu().numpy())\n",
    "    if epoch%3==0:\n",
    "        print('\\nval accuracy: ', accuracy_score(val_reals, val_preds))\n",
    "        print('val f1: ', f1_score(val_reals, val_preds))"
   ]
  },
  {
   "cell_type": "code",
   "execution_count": 9,
   "metadata": {},
   "outputs": [
    {
     "name": "stdout",
     "output_type": "stream",
     "text": [
      "\n",
      "val accuracy:  0.76186158960411\n",
      "val f1:  0.7596095179987798\n"
     ]
    }
   ],
   "source": [
    "PPFL_net.eval()\n",
    "with torch.no_grad():\n",
    "    for xx_val, yy_val in loader_test_under:\n",
    "        xx_val = xx_val.to(device)\n",
    "        yy_val = yy_val.to(device)\n",
    "        y_pred = PPFL_net(xx_val)\n",
    "        y_prediction = torch.argmax(y_pred, dim=1).detach().cpu().numpy()\n",
    "        loss = criterion(y_pred, yy_val)\n",
    "        val_preds = np.append(val_preds, y_prediction)\n",
    "        val_reals = np.append(val_reals, yy_val.detach().cpu().numpy())\n",
    "print('\\nval accuracy: ', accuracy_score(val_reals, val_preds))\n",
    "print('val f1: ', f1_score(val_reals, val_preds))"
   ]
  }
 ],
 "metadata": {
  "kernelspec": {
   "display_name": "choi",
   "language": "python",
   "name": "python3"
  },
  "language_info": {
   "codemirror_mode": {
    "name": "ipython",
    "version": 3
   },
   "file_extension": ".py",
   "mimetype": "text/x-python",
   "name": "python",
   "nbconvert_exporter": "python",
   "pygments_lexer": "ipython3",
   "version": "3.8.0"
  },
  "orig_nbformat": 4
 },
 "nbformat": 4,
 "nbformat_minor": 2
}
