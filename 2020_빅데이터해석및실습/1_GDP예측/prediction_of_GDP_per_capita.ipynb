{
 "cells": [
  {
   "cell_type": "markdown",
   "metadata": {},
   "source": [
    "# 1인당 GDP와 간접 지표들의 연관관계 분석 및 예측\n",
    "\n",
    "## 201300938 최영조\n"
   ]
  },
  {
   "cell_type": "markdown",
   "metadata": {},
   "source": [
    "### 고려할 지표\n",
    "\n",
    "면적, 인구, 평균수명, 출산율, 자살률, 실업률, 에이즈감염자수, 위치지역<br>\n",
    "언론자유, 민주주의지수, 부패지수,정치체제, 징병제 여부<br>\n",
    "석유매장, 내륙국 여부<br>\n",
    "인지도<br>\n",
    "최상위 교육기관 보유"
   ]
  },
  {
   "cell_type": "code",
   "execution_count": 1,
   "metadata": {},
   "outputs": [],
   "source": [
    "import pandas as pd\n",
    "import matplotlib.pyplot as plt\n",
    "import numpy as np\n",
    "import seaborn as sns\n",
    "from selenium import webdriver\n",
    "from bs4 import BeautifulSoup\n",
    "from tqdm import tqdm_notebook\n",
    "%matplotlib inline"
   ]
  },
  {
   "cell_type": "code",
   "execution_count": 2,
   "metadata": {},
   "outputs": [],
   "source": [
    "driver = webdriver.Chrome('C:/Users/hp/Desktop/최영조/chromedriver.exe')"
   ]
  },
  {
   "cell_type": "markdown",
   "metadata": {},
   "source": [
    "## 우선 1인당 GDP 순위를 가져오도록 하자\n",
    "다음은 위키백과의 '일인당_명목_국내_총생산순_나라_목록' 항목에 실린 순위이다. 2019년 국제통화기금의 발표를 출처로 삼았다."
   ]
  },
  {
   "cell_type": "code",
   "execution_count": 3,
   "metadata": {},
   "outputs": [],
   "source": [
    "url = 'https://ko.wikipedia.org/wiki/일인당_명목_국내_총생산순_나라_목록'\n",
    "driver.get(url)"
   ]
  },
  {
   "cell_type": "code",
   "execution_count": 4,
   "metadata": {},
   "outputs": [
    {
     "data": {
      "text/plain": [
       "[['179', '아프가니스탄', '513'],\n",
       " ['180', '콩고', '민주', '공화국', '501'],\n",
       " ['181', '모잠비크', '484'],\n",
       " ['182', '마다가스카르', '464'],\n",
       " ['183', '중앙아프리카', '공화국', '448'],\n",
       " ['184', '니제르', '405']]"
      ]
     },
     "execution_count": 4,
     "metadata": {},
     "output_type": "execute_result"
    }
   ],
   "source": [
    "# 위키백과 확인 결과 마지막 순위는 남수단이므로 남수단이라는 이름이 나올 때까지 실행하자.\n",
    "i=1\n",
    "nation = \"\"\n",
    "nation_list=[]\n",
    "while nation != \"남수단\":\n",
    "    info = driver.find_element_by_css_selector\\\n",
    "    ('#mw-content-text > div > table > tbody > tr:nth-child(2) > td:nth-child(1) > table > tbody > tr:nth-child({})'.format(i))\n",
    "    nation_info = info.text.split(\" \")\n",
    "    nation = nation_info[1]\n",
    "    nation_list.append(nation_info)\n",
    "    i += 1\n",
    "nation_list[181:187]"
   ]
  },
  {
   "cell_type": "code",
   "execution_count": 5,
   "metadata": {},
   "outputs": [],
   "source": [
    "# ['180', '콩고', '민주', '공화국', '501'] 처럼 나라 이름이 잘 못 띄어쓰기 된 경우가 있으므로 이를 수정해주자.\n",
    "\n",
    "for i in range(len(nation_list)):\n",
    "    nation = nation_list[i]\n",
    "    if len(nation) != 3:\n",
    "        name = \" \".join(nation[1:-1])\n",
    "        rank = nation[0]\n",
    "        GDP_per_capita = nation[-1]\n",
    "        nation_list[i] = [rank,name,GDP_per_capita]        "
   ]
  },
  {
   "cell_type": "code",
   "execution_count": 6,
   "metadata": {},
   "outputs": [
    {
     "data": {
      "text/plain": [
       "[['179', '아프가니스탄', '513'],\n",
       " ['180', '콩고 민주 공화국', '501'],\n",
       " ['181', '모잠비크', '484'],\n",
       " ['182', '마다가스카르', '464'],\n",
       " ['183', '중앙아프리카 공화국', '448'],\n",
       " ['184', '니제르', '405']]"
      ]
     },
     "execution_count": 6,
     "metadata": {},
     "output_type": "execute_result"
    }
   ],
   "source": [
    "nation_list[181:187]"
   ]
  },
  {
   "cell_type": "code",
   "execution_count": 7,
   "metadata": {},
   "outputs": [
    {
     "data": {
      "text/html": [
       "<div>\n",
       "<style scoped>\n",
       "    .dataframe tbody tr th:only-of-type {\n",
       "        vertical-align: middle;\n",
       "    }\n",
       "\n",
       "    .dataframe tbody tr th {\n",
       "        vertical-align: top;\n",
       "    }\n",
       "\n",
       "    .dataframe thead th {\n",
       "        text-align: right;\n",
       "    }\n",
       "</style>\n",
       "<table border=\"1\" class=\"dataframe\">\n",
       "  <thead>\n",
       "    <tr style=\"text-align: right;\">\n",
       "      <th></th>\n",
       "      <th>순위</th>\n",
       "      <th>국가</th>\n",
       "      <th>1인당_GDP</th>\n",
       "    </tr>\n",
       "  </thead>\n",
       "  <tbody>\n",
       "    <tr>\n",
       "      <td>0</td>\n",
       "      <td>1</td>\n",
       "      <td>룩셈부르크</td>\n",
       "      <td>113,196</td>\n",
       "    </tr>\n",
       "    <tr>\n",
       "      <td>1</td>\n",
       "      <td>2</td>\n",
       "      <td>스위스</td>\n",
       "      <td>83,717</td>\n",
       "    </tr>\n",
       "    <tr>\n",
       "      <td>2</td>\n",
       "      <td>—</td>\n",
       "      <td>마카오</td>\n",
       "      <td>81,151</td>\n",
       "    </tr>\n",
       "    <tr>\n",
       "      <td>3</td>\n",
       "      <td>3</td>\n",
       "      <td>노르웨이</td>\n",
       "      <td>77,975</td>\n",
       "    </tr>\n",
       "    <tr>\n",
       "      <td>4</td>\n",
       "      <td>4</td>\n",
       "      <td>아일랜드</td>\n",
       "      <td>77,771</td>\n",
       "    </tr>\n",
       "  </tbody>\n",
       "</table>\n",
       "</div>"
      ],
      "text/plain": [
       "  순위     국가  1인당_GDP\n",
       "0  1  룩셈부르크  113,196\n",
       "1  2    스위스   83,717\n",
       "2  —    마카오   81,151\n",
       "3  3   노르웨이   77,975\n",
       "4  4   아일랜드   77,771"
      ]
     },
     "execution_count": 7,
     "metadata": {},
     "output_type": "execute_result"
    }
   ],
   "source": [
    "GDP_df = pd.DataFrame(nation_list,columns=['순위','국가','1인당_GDP'])\n",
    "GDP_df.head()"
   ]
  },
  {
   "cell_type": "markdown",
   "metadata": {},
   "source": [
    "## 유엔 회원국의 리스트 수집\n",
    "마카오,홍콩 등 정식 국가가 아닌 경우가 포함되어 있으므로 이를 모두 제외하도록 하자. 유엔 회원국들을 기준 삼아 데이터를 수집하도록 하겠다."
   ]
  },
  {
   "cell_type": "code",
   "execution_count": 8,
   "metadata": {},
   "outputs": [],
   "source": [
    "url = 'https://ko.wikipedia.org/wiki/유엔_회원국'\n",
    "driver.get(url)"
   ]
  },
  {
   "cell_type": "code",
   "execution_count": 9,
   "metadata": {},
   "outputs": [
    {
     "data": {
      "text/plain": [
       "'가나'"
      ]
     },
     "execution_count": 9,
     "metadata": {},
     "output_type": "execute_result"
    }
   ],
   "source": [
    "driver.find_element_by_css_selector('#mw-content-text > div > table:nth-child(9) > tbody > tr:nth-child(2) > td:nth-child(1) > a').text"
   ]
  },
  {
   "cell_type": "code",
   "execution_count": 10,
   "metadata": {},
   "outputs": [],
   "source": [
    "i=1\n",
    "nation = \"\"\n",
    "UN_nations=[]\n",
    "while nation != \"헝가리\":\n",
    "    nation = driver.find_element_by_css_selector('#mw-content-text > div > table:nth-child(9) > tbody > tr:nth-child({}) > td:nth-child(1) > a'.format(i+1)).text\n",
    "    UN_nations.append(nation)\n",
    "    i+=1"
   ]
  },
  {
   "cell_type": "code",
   "execution_count": 11,
   "metadata": {},
   "outputs": [
    {
     "data": {
      "text/plain": [
       "['가나', '가봉', '가이아나', '감비아']"
      ]
     },
     "execution_count": 11,
     "metadata": {},
     "output_type": "execute_result"
    }
   ],
   "source": [
    "UN_nations[:4]"
   ]
  },
  {
   "cell_type": "code",
   "execution_count": 12,
   "metadata": {},
   "outputs": [
    {
     "data": {
      "text/plain": [
       "193"
      ]
     },
     "execution_count": 12,
     "metadata": {},
     "output_type": "execute_result"
    }
   ],
   "source": [
    "len(UN_nations)"
   ]
  },
  {
   "cell_type": "markdown",
   "metadata": {},
   "source": [
    "193개의 회원국을 알아냈다. 구글 검색을 위해 영문명을 얻도록 한다.<br>\n",
    "영문명은 네이버에 국가명을 검색한 후 나오는 이름을 얻도록 한다."
   ]
  },
  {
   "cell_type": "code",
   "execution_count": 13,
   "metadata": {},
   "outputs": [],
   "source": [
    "def nation_in_English(nation):\n",
    "    url = 'https://search.naver.com/search.naver?sm=top_hty&fbm=1&ie=utf8&query={}'.format(nation)\n",
    "    driver.get(url)\n",
    "    html = driver.page_source\n",
    "    soup = BeautifulSoup(html,'html.parser')\n",
    "    name = soup.select('dl.info_naflag>dt')[0].text.split(\" \",1)[1]\n",
    "    return name    "
   ]
  },
  {
   "cell_type": "code",
   "execution_count": 14,
   "metadata": {},
   "outputs": [
    {
     "data": {
      "text/plain": [
       "'France'"
      ]
     },
     "execution_count": 14,
     "metadata": {},
     "output_type": "execute_result"
    }
   ],
   "source": [
    "nation_in_English('프랑스')"
   ]
  },
  {
   "cell_type": "code",
   "execution_count": 15,
   "metadata": {},
   "outputs": [
    {
     "data": {
      "text/plain": [
       "'United Kingdom'"
      ]
     },
     "execution_count": 15,
     "metadata": {},
     "output_type": "execute_result"
    }
   ],
   "source": [
    "nation_in_English(\"영국\")"
   ]
  },
  {
   "cell_type": "code",
   "execution_count": 16,
   "metadata": {},
   "outputs": [
    {
     "data": {
      "text/plain": [
       "'Republic of South Africa'"
      ]
     },
     "execution_count": 16,
     "metadata": {},
     "output_type": "execute_result"
    }
   ],
   "source": [
    "nation_in_English(\"남아프리카공화국\")"
   ]
  },
  {
   "cell_type": "code",
   "execution_count": 17,
   "metadata": {},
   "outputs": [
    {
     "data": {
      "text/plain": [
       "'Republic of South Africa'"
      ]
     },
     "execution_count": 17,
     "metadata": {},
     "output_type": "execute_result"
    }
   ],
   "source": [
    "# 띄어쓰기 여부에 관계 없이 동일한 결과를 보여준다.\n",
    "nation_in_English(\"남아프리카 공화국\")"
   ]
  },
  {
   "cell_type": "code",
   "execution_count": 18,
   "metadata": {},
   "outputs": [
    {
     "data": {
      "application/vnd.jupyter.widget-view+json": {
       "model_id": "7768babe15de4994a318125b460ca808",
       "version_major": 2,
       "version_minor": 0
      },
      "text/plain": [
       "HBox(children=(IntProgress(value=0, max=193), HTML(value='')))"
      ]
     },
     "metadata": {},
     "output_type": "display_data"
    },
    {
     "name": "stdout",
     "output_type": "stream",
     "text": [
      "\n"
     ]
    }
   ],
   "source": [
    "# UN 회원국의 영문명을 전부 수집하도록 하자\n",
    "# 페이지를 바꿔가며 정보를 수집하다보디 약간의 시간이 걸릴 수 있다. \n",
    "# tqdm노트북은 매 순환 과정을 표시해주므로 시간을 체크하기도 좋고 에러가 났을 때 문제를 찾기도 좋다.\n",
    "\n",
    "UN_list = []\n",
    "for nation in tqdm_notebook(UN_nations):\n",
    "    name = nation_in_English(nation)\n",
    "    UN_list.append([nation,name])"
   ]
  },
  {
   "cell_type": "code",
   "execution_count": 19,
   "metadata": {},
   "outputs": [
    {
     "data": {
      "text/html": [
       "<div>\n",
       "<style scoped>\n",
       "    .dataframe tbody tr th:only-of-type {\n",
       "        vertical-align: middle;\n",
       "    }\n",
       "\n",
       "    .dataframe tbody tr th {\n",
       "        vertical-align: top;\n",
       "    }\n",
       "\n",
       "    .dataframe thead th {\n",
       "        text-align: right;\n",
       "    }\n",
       "</style>\n",
       "<table border=\"1\" class=\"dataframe\">\n",
       "  <thead>\n",
       "    <tr style=\"text-align: right;\">\n",
       "      <th></th>\n",
       "      <th>국가</th>\n",
       "      <th>영문</th>\n",
       "    </tr>\n",
       "  </thead>\n",
       "  <tbody>\n",
       "    <tr>\n",
       "      <td>0</td>\n",
       "      <td>가나</td>\n",
       "      <td>Ghana</td>\n",
       "    </tr>\n",
       "    <tr>\n",
       "      <td>1</td>\n",
       "      <td>가봉</td>\n",
       "      <td>Gabon</td>\n",
       "    </tr>\n",
       "    <tr>\n",
       "      <td>2</td>\n",
       "      <td>가이아나</td>\n",
       "      <td>Guyana</td>\n",
       "    </tr>\n",
       "    <tr>\n",
       "      <td>3</td>\n",
       "      <td>감비아</td>\n",
       "      <td>Republic of The Gambia</td>\n",
       "    </tr>\n",
       "    <tr>\n",
       "      <td>4</td>\n",
       "      <td>과테말라</td>\n",
       "      <td>Guatemala</td>\n",
       "    </tr>\n",
       "  </tbody>\n",
       "</table>\n",
       "</div>"
      ],
      "text/plain": [
       "     국가                      영문\n",
       "0    가나                   Ghana\n",
       "1    가봉                   Gabon\n",
       "2  가이아나                  Guyana\n",
       "3   감비아  Republic of The Gambia\n",
       "4  과테말라               Guatemala"
      ]
     },
     "execution_count": 19,
     "metadata": {},
     "output_type": "execute_result"
    }
   ],
   "source": [
    "UN_df = pd.DataFrame(UN_list,columns=['국가','영문'])\n",
    "UN_df.head()"
   ]
  },
  {
   "cell_type": "markdown",
   "metadata": {},
   "source": [
    "GDP 데이터와 UN 데이터에 공통적으로 들어가는 나라들만을 이용하도록 하겠다.<br>\n",
    "타이완 등은 유엔 회원국이 아니기 때문에 누락되어있고 북한 등은 GDP가 잘 집계되지 않아 마찬가지로 해당 순위에 빠져있다."
   ]
  },
  {
   "cell_type": "code",
   "execution_count": 20,
   "metadata": {
    "scrolled": true
   },
   "outputs": [
    {
     "data": {
      "text/html": [
       "<div>\n",
       "<style scoped>\n",
       "    .dataframe tbody tr th:only-of-type {\n",
       "        vertical-align: middle;\n",
       "    }\n",
       "\n",
       "    .dataframe tbody tr th {\n",
       "        vertical-align: top;\n",
       "    }\n",
       "\n",
       "    .dataframe thead th {\n",
       "        text-align: right;\n",
       "    }\n",
       "</style>\n",
       "<table border=\"1\" class=\"dataframe\">\n",
       "  <thead>\n",
       "    <tr style=\"text-align: right;\">\n",
       "      <th></th>\n",
       "      <th>순위</th>\n",
       "      <th>국가</th>\n",
       "      <th>1인당_GDP</th>\n",
       "    </tr>\n",
       "  </thead>\n",
       "  <tbody>\n",
       "    <tr>\n",
       "      <td>2</td>\n",
       "      <td>—</td>\n",
       "      <td>마카오</td>\n",
       "      <td>81,151</td>\n",
       "    </tr>\n",
       "    <tr>\n",
       "      <td>14</td>\n",
       "      <td>—</td>\n",
       "      <td>홍콩</td>\n",
       "      <td>49,334</td>\n",
       "    </tr>\n",
       "    <tr>\n",
       "      <td>28</td>\n",
       "      <td>—</td>\n",
       "      <td>푸에르토리코</td>\n",
       "      <td>31,538</td>\n",
       "    </tr>\n",
       "    <tr>\n",
       "      <td>37</td>\n",
       "      <td>35</td>\n",
       "      <td>타이완</td>\n",
       "      <td>24,878</td>\n",
       "    </tr>\n",
       "    <tr>\n",
       "      <td>68</td>\n",
       "      <td>66</td>\n",
       "      <td>중국</td>\n",
       "      <td>10,099</td>\n",
       "    </tr>\n",
       "    <tr>\n",
       "      <td>109</td>\n",
       "      <td>107</td>\n",
       "      <td>코소보</td>\n",
       "      <td>4,442</td>\n",
       "    </tr>\n",
       "  </tbody>\n",
       "</table>\n",
       "</div>"
      ],
      "text/plain": [
       "      순위      국가 1인당_GDP\n",
       "2      —     마카오  81,151\n",
       "14     —      홍콩  49,334\n",
       "28     —  푸에르토리코  31,538\n",
       "37    35     타이완  24,878\n",
       "68    66      중국  10,099\n",
       "109  107     코소보   4,442"
      ]
     },
     "execution_count": 20,
     "metadata": {},
     "output_type": "execute_result"
    }
   ],
   "source": [
    "# 가끔 국가명이 똑같이 써있지 않아 문제가 생기는 경우가 있다. GDP가 집계된 나라 중 UN회원국에 들어있지 않은 나라들을 출력한다.\n",
    "\n",
    "un_list = list(UN_df.국가)\n",
    "GDP_df[GDP_df['국가'].isin(un_list)==False]"
   ]
  },
  {
   "cell_type": "markdown",
   "metadata": {},
   "source": [
    "마카오, 홍콩 등은 국가가 아니고 타이완의 경우 양안문제로 UN 회원국이 아니다. 코소보의 경우 역시 분쟁을 겪다가 독립한지 얼마 안된 신생국가로서 UN의 정식 국가는 아닌 상황이다.푸에르토리코의 경우 미국의 자치령으로서 UN국가가 아니다.\n",
    "\n",
    "중국이 빠져있는 것은 좀 의외인데 아마 위키백과의 UN회원국 문서에 '중화인민공화국'으로 등재되어있기에 그런 듯 하다."
   ]
  },
  {
   "cell_type": "code",
   "execution_count": 21,
   "metadata": {},
   "outputs": [
    {
     "data": {
      "text/plain": [
       "True"
      ]
     },
     "execution_count": 21,
     "metadata": {},
     "output_type": "execute_result"
    }
   ],
   "source": [
    "'중화인민공화국' in un_list"
   ]
  },
  {
   "cell_type": "code",
   "execution_count": 22,
   "metadata": {},
   "outputs": [],
   "source": [
    "# 중화인민공화국을 따로 추가해주도록 하자 "
   ]
  },
  {
   "cell_type": "code",
   "execution_count": 23,
   "metadata": {},
   "outputs": [
    {
     "data": {
      "text/html": [
       "<div>\n",
       "<style scoped>\n",
       "    .dataframe tbody tr th:only-of-type {\n",
       "        vertical-align: middle;\n",
       "    }\n",
       "\n",
       "    .dataframe tbody tr th {\n",
       "        vertical-align: top;\n",
       "    }\n",
       "\n",
       "    .dataframe thead th {\n",
       "        text-align: right;\n",
       "    }\n",
       "</style>\n",
       "<table border=\"1\" class=\"dataframe\">\n",
       "  <thead>\n",
       "    <tr style=\"text-align: right;\">\n",
       "      <th></th>\n",
       "      <th>순위</th>\n",
       "      <th>국가</th>\n",
       "      <th>1인당_GDP</th>\n",
       "      <th>영문</th>\n",
       "    </tr>\n",
       "  </thead>\n",
       "  <tbody>\n",
       "    <tr>\n",
       "      <td>0</td>\n",
       "      <td>1</td>\n",
       "      <td>룩셈부르크</td>\n",
       "      <td>113,196</td>\n",
       "      <td>Luxembourg</td>\n",
       "    </tr>\n",
       "    <tr>\n",
       "      <td>1</td>\n",
       "      <td>2</td>\n",
       "      <td>스위스</td>\n",
       "      <td>83,717</td>\n",
       "      <td>Switzerland</td>\n",
       "    </tr>\n",
       "    <tr>\n",
       "      <td>2</td>\n",
       "      <td>3</td>\n",
       "      <td>노르웨이</td>\n",
       "      <td>77,975</td>\n",
       "      <td>Norway</td>\n",
       "    </tr>\n",
       "    <tr>\n",
       "      <td>3</td>\n",
       "      <td>4</td>\n",
       "      <td>아일랜드</td>\n",
       "      <td>77,771</td>\n",
       "      <td>Ireland</td>\n",
       "    </tr>\n",
       "    <tr>\n",
       "      <td>4</td>\n",
       "      <td>5</td>\n",
       "      <td>카타르</td>\n",
       "      <td>69,688</td>\n",
       "      <td>Qatar</td>\n",
       "    </tr>\n",
       "    <tr>\n",
       "      <td>...</td>\n",
       "      <td>...</td>\n",
       "      <td>...</td>\n",
       "      <td>...</td>\n",
       "      <td>...</td>\n",
       "    </tr>\n",
       "    <tr>\n",
       "      <td>180</td>\n",
       "      <td>184</td>\n",
       "      <td>니제르</td>\n",
       "      <td>405</td>\n",
       "      <td>Niger</td>\n",
       "    </tr>\n",
       "    <tr>\n",
       "      <td>181</td>\n",
       "      <td>185</td>\n",
       "      <td>말라위</td>\n",
       "      <td>371</td>\n",
       "      <td>Malawi</td>\n",
       "    </tr>\n",
       "    <tr>\n",
       "      <td>182</td>\n",
       "      <td>186</td>\n",
       "      <td>에리트레아</td>\n",
       "      <td>343</td>\n",
       "      <td>Eritrea</td>\n",
       "    </tr>\n",
       "    <tr>\n",
       "      <td>183</td>\n",
       "      <td>187</td>\n",
       "      <td>부룬디</td>\n",
       "      <td>310</td>\n",
       "      <td>Burundi</td>\n",
       "    </tr>\n",
       "    <tr>\n",
       "      <td>184</td>\n",
       "      <td>188</td>\n",
       "      <td>남수단</td>\n",
       "      <td>275</td>\n",
       "      <td>Republic of South Sudan</td>\n",
       "    </tr>\n",
       "  </tbody>\n",
       "</table>\n",
       "<p>185 rows × 4 columns</p>\n",
       "</div>"
      ],
      "text/plain": [
       "      순위     국가  1인당_GDP                       영문\n",
       "0      1  룩셈부르크  113,196               Luxembourg\n",
       "1      2    스위스   83,717              Switzerland\n",
       "2      3   노르웨이   77,975                   Norway\n",
       "3      4   아일랜드   77,771                  Ireland\n",
       "4      5    카타르   69,688                    Qatar\n",
       "..   ...    ...      ...                      ...\n",
       "180  184    니제르      405                    Niger\n",
       "181  185    말라위      371                   Malawi\n",
       "182  186  에리트레아      343                  Eritrea\n",
       "183  187    부룬디      310                  Burundi\n",
       "184  188    남수단      275  Republic of South Sudan\n",
       "\n",
       "[185 rows x 4 columns]"
      ]
     },
     "execution_count": 23,
     "metadata": {},
     "output_type": "execute_result"
    }
   ],
   "source": [
    "first_result = pd.merge(GDP_df,UN_df,on='국가',how='inner')\n",
    "first_result"
   ]
  },
  {
   "cell_type": "code",
   "execution_count": 24,
   "metadata": {},
   "outputs": [
    {
     "data": {
      "text/plain": [
       "순위         0\n",
       "국가         0\n",
       "1인당_GDP    0\n",
       "영문         0\n",
       "dtype: int64"
      ]
     },
     "execution_count": 24,
     "metadata": {},
     "output_type": "execute_result"
    }
   ],
   "source": [
    "first_result.isnull().sum()"
   ]
  },
  {
   "cell_type": "code",
   "execution_count": 25,
   "metadata": {},
   "outputs": [
    {
     "data": {
      "text/html": [
       "<div>\n",
       "<style scoped>\n",
       "    .dataframe tbody tr th:only-of-type {\n",
       "        vertical-align: middle;\n",
       "    }\n",
       "\n",
       "    .dataframe tbody tr th {\n",
       "        vertical-align: top;\n",
       "    }\n",
       "\n",
       "    .dataframe thead th {\n",
       "        text-align: right;\n",
       "    }\n",
       "</style>\n",
       "<table border=\"1\" class=\"dataframe\">\n",
       "  <thead>\n",
       "    <tr style=\"text-align: right;\">\n",
       "      <th></th>\n",
       "      <th>순위</th>\n",
       "      <th>국가</th>\n",
       "      <th>1인당_GDP</th>\n",
       "      <th>영문</th>\n",
       "    </tr>\n",
       "  </thead>\n",
       "  <tbody>\n",
       "    <tr>\n",
       "      <td>0</td>\n",
       "      <td>1</td>\n",
       "      <td>룩셈부르크</td>\n",
       "      <td>113,196</td>\n",
       "      <td>Luxembourg</td>\n",
       "    </tr>\n",
       "    <tr>\n",
       "      <td>1</td>\n",
       "      <td>2</td>\n",
       "      <td>스위스</td>\n",
       "      <td>83,717</td>\n",
       "      <td>Switzerland</td>\n",
       "    </tr>\n",
       "    <tr>\n",
       "      <td>2</td>\n",
       "      <td>3</td>\n",
       "      <td>노르웨이</td>\n",
       "      <td>77,975</td>\n",
       "      <td>Norway</td>\n",
       "    </tr>\n",
       "    <tr>\n",
       "      <td>3</td>\n",
       "      <td>4</td>\n",
       "      <td>아일랜드</td>\n",
       "      <td>77,771</td>\n",
       "      <td>Ireland</td>\n",
       "    </tr>\n",
       "    <tr>\n",
       "      <td>4</td>\n",
       "      <td>5</td>\n",
       "      <td>카타르</td>\n",
       "      <td>69,688</td>\n",
       "      <td>Qatar</td>\n",
       "    </tr>\n",
       "    <tr>\n",
       "      <td>...</td>\n",
       "      <td>...</td>\n",
       "      <td>...</td>\n",
       "      <td>...</td>\n",
       "      <td>...</td>\n",
       "    </tr>\n",
       "    <tr>\n",
       "      <td>181</td>\n",
       "      <td>185</td>\n",
       "      <td>말라위</td>\n",
       "      <td>371</td>\n",
       "      <td>Malawi</td>\n",
       "    </tr>\n",
       "    <tr>\n",
       "      <td>182</td>\n",
       "      <td>186</td>\n",
       "      <td>에리트레아</td>\n",
       "      <td>343</td>\n",
       "      <td>Eritrea</td>\n",
       "    </tr>\n",
       "    <tr>\n",
       "      <td>183</td>\n",
       "      <td>187</td>\n",
       "      <td>부룬디</td>\n",
       "      <td>310</td>\n",
       "      <td>Burundi</td>\n",
       "    </tr>\n",
       "    <tr>\n",
       "      <td>184</td>\n",
       "      <td>188</td>\n",
       "      <td>남수단</td>\n",
       "      <td>275</td>\n",
       "      <td>Republic of South Sudan</td>\n",
       "    </tr>\n",
       "    <tr>\n",
       "      <td>185</td>\n",
       "      <td>66</td>\n",
       "      <td>중화인민공화국</td>\n",
       "      <td>10,099</td>\n",
       "      <td>China</td>\n",
       "    </tr>\n",
       "  </tbody>\n",
       "</table>\n",
       "<p>186 rows × 4 columns</p>\n",
       "</div>"
      ],
      "text/plain": [
       "      순위       국가  1인당_GDP                       영문\n",
       "0      1    룩셈부르크  113,196               Luxembourg\n",
       "1      2      스위스   83,717              Switzerland\n",
       "2      3     노르웨이   77,975                   Norway\n",
       "3      4     아일랜드   77,771                  Ireland\n",
       "4      5      카타르   69,688                    Qatar\n",
       "..   ...      ...      ...                      ...\n",
       "181  185      말라위      371                   Malawi\n",
       "182  186    에리트레아      343                  Eritrea\n",
       "183  187      부룬디      310                  Burundi\n",
       "184  188      남수단      275  Republic of South Sudan\n",
       "185   66  중화인민공화국   10,099                    China\n",
       "\n",
       "[186 rows x 4 columns]"
      ]
     },
     "execution_count": 25,
     "metadata": {},
     "output_type": "execute_result"
    }
   ],
   "source": [
    "first_result = first_result.append({'순위':66,'국가':'중화인민공화국','1인당_GDP':'10,099','영문':'China'},ignore_index=True)\n",
    "first_result"
   ]
  },
  {
   "cell_type": "code",
   "execution_count": 27,
   "metadata": {},
   "outputs": [],
   "source": [
    "# 그대로 냅둬도 큰 상관은 없지만 보기 좋은 모양으로 만들기 위해 순위에 따라 다시 정렬해준다.\n",
    "first_result = first_result.astype('int')\n",
    "first_result.sort_values(by='순위',inplace=True)\n",
    "# 중국에 대한 index가 이상한 상황이므로 인덱스를 재구성\n",
    "first_result.reset_index(drop=True,inplace=True)"
   ]
  },
  {
   "cell_type": "code",
   "execution_count": 28,
   "metadata": {},
   "outputs": [
    {
     "data": {
      "text/html": [
       "<div>\n",
       "<style scoped>\n",
       "    .dataframe tbody tr th:only-of-type {\n",
       "        vertical-align: middle;\n",
       "    }\n",
       "\n",
       "    .dataframe tbody tr th {\n",
       "        vertical-align: top;\n",
       "    }\n",
       "\n",
       "    .dataframe thead th {\n",
       "        text-align: right;\n",
       "    }\n",
       "</style>\n",
       "<table border=\"1\" class=\"dataframe\">\n",
       "  <thead>\n",
       "    <tr style=\"text-align: right;\">\n",
       "      <th></th>\n",
       "      <th>순위</th>\n",
       "      <th>국가</th>\n",
       "      <th>1인당_GDP</th>\n",
       "      <th>영문</th>\n",
       "    </tr>\n",
       "  </thead>\n",
       "  <tbody>\n",
       "    <tr>\n",
       "      <td>0</td>\n",
       "      <td>1</td>\n",
       "      <td>룩셈부르크</td>\n",
       "      <td>113,196</td>\n",
       "      <td>Luxembourg</td>\n",
       "    </tr>\n",
       "    <tr>\n",
       "      <td>1</td>\n",
       "      <td>2</td>\n",
       "      <td>스위스</td>\n",
       "      <td>83,717</td>\n",
       "      <td>Switzerland</td>\n",
       "    </tr>\n",
       "    <tr>\n",
       "      <td>2</td>\n",
       "      <td>3</td>\n",
       "      <td>노르웨이</td>\n",
       "      <td>77,975</td>\n",
       "      <td>Norway</td>\n",
       "    </tr>\n",
       "    <tr>\n",
       "      <td>3</td>\n",
       "      <td>4</td>\n",
       "      <td>아일랜드</td>\n",
       "      <td>77,771</td>\n",
       "      <td>Ireland</td>\n",
       "    </tr>\n",
       "    <tr>\n",
       "      <td>4</td>\n",
       "      <td>5</td>\n",
       "      <td>카타르</td>\n",
       "      <td>69,688</td>\n",
       "      <td>Qatar</td>\n",
       "    </tr>\n",
       "    <tr>\n",
       "      <td>...</td>\n",
       "      <td>...</td>\n",
       "      <td>...</td>\n",
       "      <td>...</td>\n",
       "      <td>...</td>\n",
       "    </tr>\n",
       "    <tr>\n",
       "      <td>181</td>\n",
       "      <td>184</td>\n",
       "      <td>니제르</td>\n",
       "      <td>405</td>\n",
       "      <td>Niger</td>\n",
       "    </tr>\n",
       "    <tr>\n",
       "      <td>182</td>\n",
       "      <td>185</td>\n",
       "      <td>말라위</td>\n",
       "      <td>371</td>\n",
       "      <td>Malawi</td>\n",
       "    </tr>\n",
       "    <tr>\n",
       "      <td>183</td>\n",
       "      <td>186</td>\n",
       "      <td>에리트레아</td>\n",
       "      <td>343</td>\n",
       "      <td>Eritrea</td>\n",
       "    </tr>\n",
       "    <tr>\n",
       "      <td>184</td>\n",
       "      <td>187</td>\n",
       "      <td>부룬디</td>\n",
       "      <td>310</td>\n",
       "      <td>Burundi</td>\n",
       "    </tr>\n",
       "    <tr>\n",
       "      <td>185</td>\n",
       "      <td>188</td>\n",
       "      <td>남수단</td>\n",
       "      <td>275</td>\n",
       "      <td>Republic of South Sudan</td>\n",
       "    </tr>\n",
       "  </tbody>\n",
       "</table>\n",
       "<p>186 rows × 4 columns</p>\n",
       "</div>"
      ],
      "text/plain": [
       "      순위     국가  1인당_GDP                       영문\n",
       "0      1  룩셈부르크  113,196               Luxembourg\n",
       "1      2    스위스   83,717              Switzerland\n",
       "2      3   노르웨이   77,975                   Norway\n",
       "3      4   아일랜드   77,771                  Ireland\n",
       "4      5    카타르   69,688                    Qatar\n",
       "..   ...    ...      ...                      ...\n",
       "181  184    니제르      405                    Niger\n",
       "182  185    말라위      371                   Malawi\n",
       "183  186  에리트레아      343                  Eritrea\n",
       "184  187    부룬디      310                  Burundi\n",
       "185  188    남수단      275  Republic of South Sudan\n",
       "\n",
       "[186 rows x 4 columns]"
      ]
     },
     "execution_count": 28,
     "metadata": {},
     "output_type": "execute_result"
    }
   ],
   "source": [
    "first_result"
   ]
  },
  {
   "cell_type": "code",
   "execution_count": 30,
   "metadata": {},
   "outputs": [],
   "source": [
    "first_result.to_excel('prediction_GDP/first_result.xlsx',index=False)"
   ]
  },
  {
   "cell_type": "markdown",
   "metadata": {},
   "source": [
    "# 인지도 조사\n",
    "영문으로 국가를 검색시 확인되는 결과의 개수를 해당 국가의 세계적인 인지도의 기준으로 삼도록 하자.(2020년 4월 15일 기준)"
   ]
  },
  {
   "cell_type": "code",
   "execution_count": 31,
   "metadata": {},
   "outputs": [
    {
     "data": {
      "text/html": [
       "<div>\n",
       "<style scoped>\n",
       "    .dataframe tbody tr th:only-of-type {\n",
       "        vertical-align: middle;\n",
       "    }\n",
       "\n",
       "    .dataframe tbody tr th {\n",
       "        vertical-align: top;\n",
       "    }\n",
       "\n",
       "    .dataframe thead th {\n",
       "        text-align: right;\n",
       "    }\n",
       "</style>\n",
       "<table border=\"1\" class=\"dataframe\">\n",
       "  <thead>\n",
       "    <tr style=\"text-align: right;\">\n",
       "      <th></th>\n",
       "      <th>순위</th>\n",
       "      <th>국가</th>\n",
       "      <th>1인당_GDP</th>\n",
       "      <th>영문</th>\n",
       "    </tr>\n",
       "  </thead>\n",
       "  <tbody>\n",
       "    <tr>\n",
       "      <td>0</td>\n",
       "      <td>1</td>\n",
       "      <td>룩셈부르크</td>\n",
       "      <td>113,196</td>\n",
       "      <td>Luxembourg</td>\n",
       "    </tr>\n",
       "    <tr>\n",
       "      <td>1</td>\n",
       "      <td>2</td>\n",
       "      <td>스위스</td>\n",
       "      <td>83,717</td>\n",
       "      <td>Switzerland</td>\n",
       "    </tr>\n",
       "    <tr>\n",
       "      <td>2</td>\n",
       "      <td>3</td>\n",
       "      <td>노르웨이</td>\n",
       "      <td>77,975</td>\n",
       "      <td>Norway</td>\n",
       "    </tr>\n",
       "    <tr>\n",
       "      <td>3</td>\n",
       "      <td>4</td>\n",
       "      <td>아일랜드</td>\n",
       "      <td>77,771</td>\n",
       "      <td>Ireland</td>\n",
       "    </tr>\n",
       "    <tr>\n",
       "      <td>4</td>\n",
       "      <td>5</td>\n",
       "      <td>카타르</td>\n",
       "      <td>69,688</td>\n",
       "      <td>Qatar</td>\n",
       "    </tr>\n",
       "    <tr>\n",
       "      <td>...</td>\n",
       "      <td>...</td>\n",
       "      <td>...</td>\n",
       "      <td>...</td>\n",
       "      <td>...</td>\n",
       "    </tr>\n",
       "    <tr>\n",
       "      <td>181</td>\n",
       "      <td>184</td>\n",
       "      <td>니제르</td>\n",
       "      <td>405</td>\n",
       "      <td>Niger</td>\n",
       "    </tr>\n",
       "    <tr>\n",
       "      <td>182</td>\n",
       "      <td>185</td>\n",
       "      <td>말라위</td>\n",
       "      <td>371</td>\n",
       "      <td>Malawi</td>\n",
       "    </tr>\n",
       "    <tr>\n",
       "      <td>183</td>\n",
       "      <td>186</td>\n",
       "      <td>에리트레아</td>\n",
       "      <td>343</td>\n",
       "      <td>Eritrea</td>\n",
       "    </tr>\n",
       "    <tr>\n",
       "      <td>184</td>\n",
       "      <td>187</td>\n",
       "      <td>부룬디</td>\n",
       "      <td>310</td>\n",
       "      <td>Burundi</td>\n",
       "    </tr>\n",
       "    <tr>\n",
       "      <td>185</td>\n",
       "      <td>188</td>\n",
       "      <td>남수단</td>\n",
       "      <td>275</td>\n",
       "      <td>Republic of South Sudan</td>\n",
       "    </tr>\n",
       "  </tbody>\n",
       "</table>\n",
       "<p>186 rows × 4 columns</p>\n",
       "</div>"
      ],
      "text/plain": [
       "      순위     국가  1인당_GDP                       영문\n",
       "0      1  룩셈부르크  113,196               Luxembourg\n",
       "1      2    스위스   83,717              Switzerland\n",
       "2      3   노르웨이   77,975                   Norway\n",
       "3      4   아일랜드   77,771                  Ireland\n",
       "4      5    카타르   69,688                    Qatar\n",
       "..   ...    ...      ...                      ...\n",
       "181  184    니제르      405                    Niger\n",
       "182  185    말라위      371                   Malawi\n",
       "183  186  에리트레아      343                  Eritrea\n",
       "184  187    부룬디      310                  Burundi\n",
       "185  188    남수단      275  Republic of South Sudan\n",
       "\n",
       "[186 rows x 4 columns]"
      ]
     },
     "execution_count": 31,
     "metadata": {},
     "output_type": "execute_result"
    }
   ],
   "source": [
    "first_result = pd.read_excel('prediction_GDP/first_result.xlsx')\n",
    "first_result"
   ]
  },
  {
   "cell_type": "code",
   "execution_count": 32,
   "metadata": {},
   "outputs": [],
   "source": [
    "a='https://www.google.com/search?sxsrf=ALeKk03cqcUIPRVcCVI82rKc2iB1jNrw_A%3A1586853716140&ei=VHeVXpGSCJXmwQOz2YLYCA&q={}&oq={}&gs_lcp=CgZwc3ktYWIQAzIECCMQJzICCAAyBQgAEIMBMgUIABCDATICCAAyBQgAEIMBMgIIADICCAAyBQgAEIMBMgIIADoECAAQRzoECAAQCkocCBcSGDBnMTkxZzE3NWc5MGcxODJnMTc1ZzE3MUoRCBgSDTBnMWcxZzJnMWcxZzFQphxYhSlgrC1oAHABeACAAbsBiAGQCJIBAzAuNpgBAKABAaoBB2d3cy13aXo&sclient=psy-ab&ved=0ahUKEwiRjL7gwufoAhUVc3AKHbOsAIsQ4dUDCAw&uact=5'\n",
    "b='https://www.google.com/search?sxsrf=ALeKk02Stcf1YOWx8JqDrQY3szxA2H3PXg%3A1586853723194&ei=W3eVXsG5C5CB-Qbq7JnQDg&q={}&oq={}&gs_lcp=CgZwc3ktYWIQAzIECAAQQzICCAAyAggAMgIIADICCAAyAggAMgIIADICCAAyAggAMgIIADoECCMQJzoKCAAQgwEQFBCHAjoFCAAQgwE6BggAEAcQHjoECAAQAzoGCCMQJxATOgcIABCDARBDSi0IFxIpMGcxNTdnMTY4ZzQxM2c4MDBnNjI1ZzIxOGcxODJnMTU0ZzE0NGcxNjFKGQgYEhUwZzFnMWcxZzFnMWc0ZzFnMWcxZzVQkOAEWN-oBWC1qwVoAHAAeACAAZoGiAGEIZIBDjAuMTMuMC4xLjEuMS4xmAEAoAEBqgEHZ3dzLXdpeg&sclient=psy-ab&ved=0ahUKEwiB0-zjwufoAhWQQN4KHWp2BuoQ4dUDCAw&uact=5'"
   ]
  },
  {
   "cell_type": "code",
   "execution_count": 33,
   "metadata": {},
   "outputs": [
    {
     "data": {
      "text/plain": [
       "False"
      ]
     },
     "execution_count": 33,
     "metadata": {},
     "output_type": "execute_result"
    }
   ],
   "source": [
    "a==b"
   ]
  },
  {
   "cell_type": "markdown",
   "metadata": {},
   "source": [
    "위의 a,b는 각각 구글에 'France','United kingdom'을 검색한 url에서 해당 국가의 단어만 {}로 대체한 문자열들이다.<br>\n",
    "그러나 a,b가 서로 일치하지 않으므로 단순히 국가명을 url에 이어붙이는 방식으로는 구글 검색을 이용하기 어려울 듯하므로 직접 검색엔진에 단어를 입력하는 방식을 쓰도록 하자."
   ]
  },
  {
   "cell_type": "code",
   "execution_count": 34,
   "metadata": {},
   "outputs": [],
   "source": [
    "driver = webdriver.Chrome('C:/Users/hp/Desktop/최영조/chromedriver.exe')"
   ]
  },
  {
   "cell_type": "code",
   "execution_count": 35,
   "metadata": {},
   "outputs": [],
   "source": [
    "url = 'http://www.google.co.kr'  # 구글 첫 화면의 url\n",
    "driver.get(url)"
   ]
  },
  {
   "cell_type": "markdown",
   "metadata": {},
   "source": [
    "### 언어 설정을 영어로 바꾸고 진행!"
   ]
  },
  {
   "cell_type": "code",
   "execution_count": 36,
   "metadata": {},
   "outputs": [],
   "source": [
    "searching = driver.find_element_by_name(\"q\")\n",
    "searching.clear()\n",
    "searching.send_keys(\"France\")  # 확인해보니 띄어쓰기는 구분하되 대소문자는 구분하지 않는다.\n",
    "searching.submit()\n",
    "html = driver.page_source\n",
    "soup = BeautifulSoup(html,'html.parser')"
   ]
  },
  {
   "cell_type": "code",
   "execution_count": 37,
   "metadata": {},
   "outputs": [
    {
     "data": {
      "text/plain": [
       "'About 4,800,000,000 results (0.95 seconds)\\xa0'"
      ]
     },
     "execution_count": 37,
     "metadata": {},
     "output_type": "execute_result"
    }
   ],
   "source": [
    "searching_result = soup.select('div#result-stats')[0].text\n",
    "searching_result"
   ]
  },
  {
   "cell_type": "code",
   "execution_count": 38,
   "metadata": {},
   "outputs": [
    {
     "data": {
      "text/plain": [
       "4"
      ]
     },
     "execution_count": 38,
     "metadata": {},
     "output_type": "execute_result"
    }
   ],
   "source": [
    "searching_result.find('t')"
   ]
  },
  {
   "cell_type": "code",
   "execution_count": 39,
   "metadata": {},
   "outputs": [
    {
     "data": {
      "text/plain": [
       "20"
      ]
     },
     "execution_count": 39,
     "metadata": {},
     "output_type": "execute_result"
    }
   ],
   "source": [
    "searching_result.find('r')"
   ]
  },
  {
   "cell_type": "code",
   "execution_count": 40,
   "metadata": {},
   "outputs": [
    {
     "data": {
      "text/plain": [
       "4800000000"
      ]
     },
     "execution_count": 40,
     "metadata": {},
     "output_type": "execute_result"
    }
   ],
   "source": [
    "int(searching_result[6:19].replace(\",\",\"\"))"
   ]
  },
  {
   "cell_type": "code",
   "execution_count": 41,
   "metadata": {},
   "outputs": [],
   "source": [
    "def get_awareness(nation):\n",
    "    url = 'http://www.google.co.kr'\n",
    "    driver.get(url)\n",
    "    searching = driver.find_element_by_name(\"q\")\n",
    "    searching.clear()\n",
    "    searching.send_keys(nation)\n",
    "    searching.submit()\n",
    "    html = driver.page_source\n",
    "    soup = BeautifulSoup(html,'html.parser')\n",
    "    \n",
    "    searching_result = soup.select('div#result-stats')[0].text\n",
    "    start_num = searching_result.find('t')\n",
    "    end_num = searching_result.find('r')\n",
    "    awareness = int(searching_result[start_num+2:end_num-1].replace(\",\",\"\"))\n",
    "    return awareness"
   ]
  },
  {
   "cell_type": "code",
   "execution_count": 42,
   "metadata": {},
   "outputs": [
    {
     "data": {
      "text/plain": [
       "355000000"
      ]
     },
     "execution_count": 42,
     "metadata": {},
     "output_type": "execute_result"
    }
   ],
   "source": [
    "get_awareness('Republic of South Sudan')"
   ]
  },
  {
   "cell_type": "code",
   "execution_count": 43,
   "metadata": {},
   "outputs": [
    {
     "data": {
      "text/plain": [
       "1280000000"
      ]
     },
     "execution_count": 43,
     "metadata": {},
     "output_type": "execute_result"
    }
   ],
   "source": [
    "get_awareness('Korea')"
   ]
  },
  {
   "cell_type": "code",
   "execution_count": 44,
   "metadata": {},
   "outputs": [
    {
     "data": {
      "text/plain": [
       "0                   Luxembourg\n",
       "1                  Switzerland\n",
       "2                       Norway\n",
       "3                      Ireland\n",
       "4                        Qatar\n",
       "                ...           \n",
       "181                      Niger\n",
       "182                     Malawi\n",
       "183                    Eritrea\n",
       "184                    Burundi\n",
       "185    Republic of South Sudan\n",
       "Name: 영문, Length: 186, dtype: object"
      ]
     },
     "execution_count": 44,
     "metadata": {},
     "output_type": "execute_result"
    }
   ],
   "source": [
    "# 이제 해당 함수를 이용해 구글 자료수를 수집할 것인데 정식 국가명이 오히려 거추장스러워 잘 쓰이지 않는 경우가 있다.\n",
    "\n",
    "first_result['영문']"
   ]
  },
  {
   "cell_type": "code",
   "execution_count": 45,
   "metadata": {},
   "outputs": [
    {
     "data": {
      "text/plain": [
       "[(6, 'United States of America'),\n",
       " (26, 'Republic of Korea'),\n",
       " (74, 'Commonwealth of Dominica'),\n",
       " (86, 'Republic of Suriname'),\n",
       " (88, 'Republic of South Africa'),\n",
       " (107, 'Kingdom of Eswatini'),\n",
       " (131, 'Bolivarian Republic of Venezuela'),\n",
       " (133, 'Republic of the Congo'),\n",
       " (144, \"Republic of Cote d'Ivoire\"),\n",
       " (155, 'Republic of the Union of Myanmar'),\n",
       " (170, 'Republic of The Gambia'),\n",
       " (177, 'Democratic Republic of the Congo'),\n",
       " (185, 'Republic of South Sudan')]"
      ]
     },
     "execution_count": 45,
     "metadata": {},
     "output_type": "execute_result"
    }
   ],
   "source": [
    "complicated_name=[]\n",
    "for i,name in enumerate(first_result['영문']):\n",
    "    if 'of' in name:\n",
    "        complicated_name.append((i,name))\n",
    "complicated_name"
   ]
  },
  {
   "cell_type": "markdown",
   "metadata": {},
   "source": [
    "보통 ~~공화국 이런 식의 정식국명은 잘 검색되지 않을듯 하다. <br>\n",
    "가령 한국을 알고 싶어하는 구글 이용자가 Republic of Korea보다는 Korea 혹은 South korea등으로 검색하리라는 것은 상식적으로 납득이 가능하다.<br>\n",
    "단 'Korea'와 'South Korea'의 검색 결과들에는 교집합이 상당히 많을 것이므로 각 국가마다 한가지 검색키워드만을 적용하도록 한다."
   ]
  },
  {
   "cell_type": "code",
   "execution_count": 46,
   "metadata": {},
   "outputs": [],
   "source": [
    "# of가 들어잇는 국명은 몇개 되지 않으므로 손으로 하나씩 수정해줘도 괜찮을 듯 하다.\n",
    "# 약간의 주관이 개입된다.\n",
    "\n",
    "temporary_list = list(first_result['영문'].values)\n",
    "temporary_list[6] = 'USA'\n",
    "# 북한을 목적으로 하는 결과도 물론 있겠지만 남북한이 같이 엮이는 경우가 많으므로 인지도의 측면에서 굳이 South를 붙일 필요는 없어보인다.\n",
    "temporary_list[26] = 'Korea'\n",
    "temporary_list[74] = 'Dominica'\n",
    "temporary_list[86] = 'Suriname'\n",
    "# 남아공은 그냥 내버려두도록 하자.\n",
    "temporary_list[107] = 'Eswatini'\n",
    "temporary_list[131] = 'Venezuela'\n",
    "# 콩고의 경우 콩고민주공화국과 콩고공화국이 별개의 국가이다. 단 콩고하면 보통 민주콩고를 떠올리기에 민주콩고만 수정해주도록 하겠다.\n",
    "temporary_list[144] = \"Cote d'Ivoire\"\n",
    "temporary_list[155] = \"Myanmar\"\n",
    "temporary_list[170] = \"Gambia\"\n",
    "temporary_list[177] = \"Congo\"\n",
    "temporary_list[185] = \"South Sudan\"\n"
   ]
  },
  {
   "cell_type": "code",
   "execution_count": 47,
   "metadata": {},
   "outputs": [
    {
     "data": {
      "text/plain": [
       "[(14, 'San Marino'),\n",
       " (20, 'United Kingdom'),\n",
       " (22, 'New Zealand'),\n",
       " (23, 'United Arab Emirates'),\n",
       " (30, 'Brunei Darussalam'),\n",
       " (35, 'Czech Republic'),\n",
       " (37, 'Saudi Arabia'),\n",
       " (41, 'Saint Kitts and Nevis'),\n",
       " (43, 'Antigua and Barbuda'),\n",
       " (50, 'Trinidad and Tobago'),\n",
       " (57, 'Costa Rica'),\n",
       " (62, 'Saint Lucia'),\n",
       " (70, 'Equatorial Guinea'),\n",
       " (73, 'Dominican Republic'),\n",
       " (80, 'Saint Vincent and the Grenadines'),\n",
       " (91, 'Bosnia and Herzegovina'),\n",
       " (110, 'El Salvador'),\n",
       " (112, 'Sri Lanka'),\n",
       " (113, 'Marshall Is.'),\n",
       " (117, 'Cape Verde'),\n",
       " (128, 'Papua New Guinea'),\n",
       " (134, 'East Timor'),\n",
       " (135, 'Solomon Is.'),\n",
       " (140, 'Sao Tome and Principe'),\n",
       " (167, 'Guinea Bissau'),\n",
       " (171, 'Burkina Faso'),\n",
       " (175, 'Sierra Leone'),\n",
       " (180, 'Central African Republic')]"
      ]
     },
     "execution_count": 47,
     "metadata": {},
     "output_type": "execute_result"
    }
   ],
   "source": [
    "complicated_name2=[]\n",
    "for i,name in enumerate(first_result['영문']):\n",
    "    if 'of' not in name:\n",
    "        if \" \" in name:\n",
    "            complicated_name2.append((i,name))\n",
    "complicated_name2"
   ]
  },
  {
   "cell_type": "code",
   "execution_count": 48,
   "metadata": {},
   "outputs": [],
   "source": [
    "# 위에서 거른 것들 외에 띄어쓰기가 포함된 국가 중에는 브루나이 다루살람, 체코 공화국 정도만 수정해주면 될 듯 하다.\n",
    "\n",
    "temporary_list[35] = \"Czech\"\n",
    "temporary_list[30] = \"Brunei\"\n",
    "\n",
    "\n",
    "# 추가로 영국의 경우도 수정을 고려했으나 United Kingdom, Britain, England 중 United Kingdom의 결과수가 가장 많으므로 수정하지 않도록 한다.\n",
    "# 스위스 역시 수정을 고려했으나 Swiss보다 Switzerland의 결과수가 많으므로 내버려두도록 한다."
   ]
  },
  {
   "cell_type": "markdown",
   "metadata": {},
   "source": [
    "### 다시 한번 주의) 크롤링 페이지의 환경설정을 영어로 바꿔놓도록 한다."
   ]
  },
  {
   "cell_type": "code",
   "execution_count": 50,
   "metadata": {
    "scrolled": true
   },
   "outputs": [
    {
     "data": {
      "application/vnd.jupyter.widget-view+json": {
       "model_id": "c904faef1eff4cfba30cbebfb3d62d7c",
       "version_major": 2,
       "version_minor": 0
      },
      "text/plain": [
       "HBox(children=(IntProgress(value=0, max=45), HTML(value='')))"
      ]
     },
     "metadata": {},
     "output_type": "display_data"
    },
    {
     "name": "stdout",
     "output_type": "stream",
     "text": [
      "\n"
     ]
    }
   ],
   "source": [
    "# 간혹 컴퓨터가 반복되는 크롤링 작업을 버그로 인지해 임의로 중단시키는 경우가 있다. \n",
    "# 그러므로 186개의 페이지를 한번에 찾지 말고 4번에 걸쳐서 하도록 한다. 어차피 똑같은 코드니까 더 복잡해지는 것은 없다.\n",
    "\n",
    "import time\n",
    "awareness_list=[]\n",
    "for nation in tqdm_notebook(temporary_list[:45]):\n",
    "    awareness = get_awareness(nation)\n",
    "    time.sleep(0.5)\n",
    "    awareness_list.append(awareness)"
   ]
  },
  {
   "cell_type": "code",
   "execution_count": 51,
   "metadata": {},
   "outputs": [
    {
     "data": {
      "application/vnd.jupyter.widget-view+json": {
       "model_id": "6735ea356d6d4dd9985f045056d4c80c",
       "version_major": 2,
       "version_minor": 0
      },
      "text/plain": [
       "HBox(children=(IntProgress(value=0, max=45), HTML(value='')))"
      ]
     },
     "metadata": {},
     "output_type": "display_data"
    },
    {
     "name": "stdout",
     "output_type": "stream",
     "text": [
      "\n"
     ]
    }
   ],
   "source": [
    "awareness_list2=awareness_list\n",
    "for nation in tqdm_notebook(temporary_list[45:90]):\n",
    "    awareness = get_awareness(nation)\n",
    "    time.sleep(0.5)\n",
    "    awareness_list2.append(awareness)"
   ]
  },
  {
   "cell_type": "code",
   "execution_count": 52,
   "metadata": {},
   "outputs": [
    {
     "data": {
      "application/vnd.jupyter.widget-view+json": {
       "model_id": "75f2ca7965554467ab35d209c5baf251",
       "version_major": 2,
       "version_minor": 0
      },
      "text/plain": [
       "HBox(children=(IntProgress(value=0, max=47), HTML(value='')))"
      ]
     },
     "metadata": {},
     "output_type": "display_data"
    },
    {
     "name": "stdout",
     "output_type": "stream",
     "text": [
      "\n"
     ]
    }
   ],
   "source": [
    "awareness_list3=awareness_list2\n",
    "for nation in tqdm_notebook(temporary_list[90:137]):\n",
    "    awareness = get_awareness(nation)\n",
    "    time.sleep(0.5)\n",
    "    awareness_list3.append(awareness)"
   ]
  },
  {
   "cell_type": "code",
   "execution_count": 53,
   "metadata": {},
   "outputs": [
    {
     "data": {
      "application/vnd.jupyter.widget-view+json": {
       "model_id": "6e740670392e468d876200438b74cc56",
       "version_major": 2,
       "version_minor": 0
      },
      "text/plain": [
       "HBox(children=(IntProgress(value=0, max=49), HTML(value='')))"
      ]
     },
     "metadata": {},
     "output_type": "display_data"
    },
    {
     "name": "stdout",
     "output_type": "stream",
     "text": [
      "\n"
     ]
    }
   ],
   "source": [
    "awareness_list4=awareness_list3\n",
    "for nation in tqdm_notebook(temporary_list[137:]):\n",
    "    awareness = get_awareness(nation)\n",
    "    time.sleep(0.5)\n",
    "    awareness_list4.append(awareness)"
   ]
  },
  {
   "cell_type": "code",
   "execution_count": 54,
   "metadata": {},
   "outputs": [
    {
     "data": {
      "text/plain": [
       "186"
      ]
     },
     "execution_count": 54,
     "metadata": {},
     "output_type": "execute_result"
    }
   ],
   "source": [
    "len(awareness_list4)"
   ]
  },
  {
   "cell_type": "code",
   "execution_count": 55,
   "metadata": {},
   "outputs": [
    {
     "data": {
      "text/plain": [
       "[560000000, 682000000, 607000000, 1320000000, 719000000]"
      ]
     },
     "execution_count": 55,
     "metadata": {},
     "output_type": "execute_result"
    }
   ],
   "source": [
    "awareness_list4[:5]"
   ]
  },
  {
   "cell_type": "code",
   "execution_count": 56,
   "metadata": {},
   "outputs": [
    {
     "data": {
      "text/html": [
       "<div>\n",
       "<style scoped>\n",
       "    .dataframe tbody tr th:only-of-type {\n",
       "        vertical-align: middle;\n",
       "    }\n",
       "\n",
       "    .dataframe tbody tr th {\n",
       "        vertical-align: top;\n",
       "    }\n",
       "\n",
       "    .dataframe thead th {\n",
       "        text-align: right;\n",
       "    }\n",
       "</style>\n",
       "<table border=\"1\" class=\"dataframe\">\n",
       "  <thead>\n",
       "    <tr style=\"text-align: right;\">\n",
       "      <th></th>\n",
       "      <th>순위</th>\n",
       "      <th>국가</th>\n",
       "      <th>1인당_GDP</th>\n",
       "      <th>영문</th>\n",
       "      <th>인지도</th>\n",
       "    </tr>\n",
       "  </thead>\n",
       "  <tbody>\n",
       "    <tr>\n",
       "      <td>0</td>\n",
       "      <td>1</td>\n",
       "      <td>룩셈부르크</td>\n",
       "      <td>113,196</td>\n",
       "      <td>Luxembourg</td>\n",
       "      <td>560000000</td>\n",
       "    </tr>\n",
       "    <tr>\n",
       "      <td>1</td>\n",
       "      <td>2</td>\n",
       "      <td>스위스</td>\n",
       "      <td>83,717</td>\n",
       "      <td>Switzerland</td>\n",
       "      <td>682000000</td>\n",
       "    </tr>\n",
       "    <tr>\n",
       "      <td>2</td>\n",
       "      <td>3</td>\n",
       "      <td>노르웨이</td>\n",
       "      <td>77,975</td>\n",
       "      <td>Norway</td>\n",
       "      <td>607000000</td>\n",
       "    </tr>\n",
       "    <tr>\n",
       "      <td>3</td>\n",
       "      <td>4</td>\n",
       "      <td>아일랜드</td>\n",
       "      <td>77,771</td>\n",
       "      <td>Ireland</td>\n",
       "      <td>1320000000</td>\n",
       "    </tr>\n",
       "    <tr>\n",
       "      <td>4</td>\n",
       "      <td>5</td>\n",
       "      <td>카타르</td>\n",
       "      <td>69,688</td>\n",
       "      <td>Qatar</td>\n",
       "      <td>719000000</td>\n",
       "    </tr>\n",
       "    <tr>\n",
       "      <td>...</td>\n",
       "      <td>...</td>\n",
       "      <td>...</td>\n",
       "      <td>...</td>\n",
       "      <td>...</td>\n",
       "      <td>...</td>\n",
       "    </tr>\n",
       "    <tr>\n",
       "      <td>181</td>\n",
       "      <td>184</td>\n",
       "      <td>니제르</td>\n",
       "      <td>405</td>\n",
       "      <td>Niger</td>\n",
       "      <td>368000000</td>\n",
       "    </tr>\n",
       "    <tr>\n",
       "      <td>182</td>\n",
       "      <td>185</td>\n",
       "      <td>말라위</td>\n",
       "      <td>371</td>\n",
       "      <td>Malawi</td>\n",
       "      <td>269000000</td>\n",
       "    </tr>\n",
       "    <tr>\n",
       "      <td>183</td>\n",
       "      <td>186</td>\n",
       "      <td>에리트레아</td>\n",
       "      <td>343</td>\n",
       "      <td>Eritrea</td>\n",
       "      <td>196000000</td>\n",
       "    </tr>\n",
       "    <tr>\n",
       "      <td>184</td>\n",
       "      <td>187</td>\n",
       "      <td>부룬디</td>\n",
       "      <td>310</td>\n",
       "      <td>Burundi</td>\n",
       "      <td>318000000</td>\n",
       "    </tr>\n",
       "    <tr>\n",
       "      <td>185</td>\n",
       "      <td>188</td>\n",
       "      <td>남수단</td>\n",
       "      <td>275</td>\n",
       "      <td>Republic of South Sudan</td>\n",
       "      <td>391000000</td>\n",
       "    </tr>\n",
       "  </tbody>\n",
       "</table>\n",
       "<p>186 rows × 5 columns</p>\n",
       "</div>"
      ],
      "text/plain": [
       "      순위     국가  1인당_GDP                       영문         인지도\n",
       "0      1  룩셈부르크  113,196               Luxembourg   560000000\n",
       "1      2    스위스   83,717              Switzerland   682000000\n",
       "2      3   노르웨이   77,975                   Norway   607000000\n",
       "3      4   아일랜드   77,771                  Ireland  1320000000\n",
       "4      5    카타르   69,688                    Qatar   719000000\n",
       "..   ...    ...      ...                      ...         ...\n",
       "181  184    니제르      405                    Niger   368000000\n",
       "182  185    말라위      371                   Malawi   269000000\n",
       "183  186  에리트레아      343                  Eritrea   196000000\n",
       "184  187    부룬디      310                  Burundi   318000000\n",
       "185  188    남수단      275  Republic of South Sudan   391000000\n",
       "\n",
       "[186 rows x 5 columns]"
      ]
     },
     "execution_count": 56,
     "metadata": {},
     "output_type": "execute_result"
    }
   ],
   "source": [
    "# 당연한 얘기지만 인지도는 해당 DataFrame의 국가 순서로 수집되었다.\n",
    "\n",
    "first_result['인지도'] = awareness_list4\n",
    "first_result"
   ]
  },
  {
   "cell_type": "code",
   "execution_count": 58,
   "metadata": {},
   "outputs": [],
   "source": [
    "first_result.to_excel('prediction_GDP/second_result.xlsx',index=False)"
   ]
  },
  {
   "cell_type": "markdown",
   "metadata": {},
   "source": [
    "# 기타 자료 수집"
   ]
  },
  {
   "cell_type": "code",
   "execution_count": 59,
   "metadata": {
    "scrolled": true
   },
   "outputs": [
    {
     "data": {
      "text/html": [
       "<div>\n",
       "<style scoped>\n",
       "    .dataframe tbody tr th:only-of-type {\n",
       "        vertical-align: middle;\n",
       "    }\n",
       "\n",
       "    .dataframe tbody tr th {\n",
       "        vertical-align: top;\n",
       "    }\n",
       "\n",
       "    .dataframe thead th {\n",
       "        text-align: right;\n",
       "    }\n",
       "</style>\n",
       "<table border=\"1\" class=\"dataframe\">\n",
       "  <thead>\n",
       "    <tr style=\"text-align: right;\">\n",
       "      <th></th>\n",
       "      <th>순위</th>\n",
       "      <th>국가</th>\n",
       "      <th>1인당_GDP</th>\n",
       "      <th>영문</th>\n",
       "      <th>인지도</th>\n",
       "    </tr>\n",
       "  </thead>\n",
       "  <tbody>\n",
       "    <tr>\n",
       "      <td>0</td>\n",
       "      <td>1</td>\n",
       "      <td>룩셈부르크</td>\n",
       "      <td>113,196</td>\n",
       "      <td>Luxembourg</td>\n",
       "      <td>560000000</td>\n",
       "    </tr>\n",
       "    <tr>\n",
       "      <td>1</td>\n",
       "      <td>2</td>\n",
       "      <td>스위스</td>\n",
       "      <td>83,717</td>\n",
       "      <td>Switzerland</td>\n",
       "      <td>682000000</td>\n",
       "    </tr>\n",
       "    <tr>\n",
       "      <td>2</td>\n",
       "      <td>3</td>\n",
       "      <td>노르웨이</td>\n",
       "      <td>77,975</td>\n",
       "      <td>Norway</td>\n",
       "      <td>607000000</td>\n",
       "    </tr>\n",
       "    <tr>\n",
       "      <td>3</td>\n",
       "      <td>4</td>\n",
       "      <td>아일랜드</td>\n",
       "      <td>77,771</td>\n",
       "      <td>Ireland</td>\n",
       "      <td>1320000000</td>\n",
       "    </tr>\n",
       "    <tr>\n",
       "      <td>4</td>\n",
       "      <td>5</td>\n",
       "      <td>카타르</td>\n",
       "      <td>69,688</td>\n",
       "      <td>Qatar</td>\n",
       "      <td>719000000</td>\n",
       "    </tr>\n",
       "    <tr>\n",
       "      <td>...</td>\n",
       "      <td>...</td>\n",
       "      <td>...</td>\n",
       "      <td>...</td>\n",
       "      <td>...</td>\n",
       "      <td>...</td>\n",
       "    </tr>\n",
       "    <tr>\n",
       "      <td>181</td>\n",
       "      <td>184</td>\n",
       "      <td>니제르</td>\n",
       "      <td>405</td>\n",
       "      <td>Niger</td>\n",
       "      <td>368000000</td>\n",
       "    </tr>\n",
       "    <tr>\n",
       "      <td>182</td>\n",
       "      <td>185</td>\n",
       "      <td>말라위</td>\n",
       "      <td>371</td>\n",
       "      <td>Malawi</td>\n",
       "      <td>269000000</td>\n",
       "    </tr>\n",
       "    <tr>\n",
       "      <td>183</td>\n",
       "      <td>186</td>\n",
       "      <td>에리트레아</td>\n",
       "      <td>343</td>\n",
       "      <td>Eritrea</td>\n",
       "      <td>196000000</td>\n",
       "    </tr>\n",
       "    <tr>\n",
       "      <td>184</td>\n",
       "      <td>187</td>\n",
       "      <td>부룬디</td>\n",
       "      <td>310</td>\n",
       "      <td>Burundi</td>\n",
       "      <td>318000000</td>\n",
       "    </tr>\n",
       "    <tr>\n",
       "      <td>185</td>\n",
       "      <td>188</td>\n",
       "      <td>남수단</td>\n",
       "      <td>275</td>\n",
       "      <td>Republic of South Sudan</td>\n",
       "      <td>391000000</td>\n",
       "    </tr>\n",
       "  </tbody>\n",
       "</table>\n",
       "<p>186 rows × 5 columns</p>\n",
       "</div>"
      ],
      "text/plain": [
       "      순위     국가  1인당_GDP                       영문         인지도\n",
       "0      1  룩셈부르크  113,196               Luxembourg   560000000\n",
       "1      2    스위스   83,717              Switzerland   682000000\n",
       "2      3   노르웨이   77,975                   Norway   607000000\n",
       "3      4   아일랜드   77,771                  Ireland  1320000000\n",
       "4      5    카타르   69,688                    Qatar   719000000\n",
       "..   ...    ...      ...                      ...         ...\n",
       "181  184    니제르      405                    Niger   368000000\n",
       "182  185    말라위      371                   Malawi   269000000\n",
       "183  186  에리트레아      343                  Eritrea   196000000\n",
       "184  187    부룬디      310                  Burundi   318000000\n",
       "185  188    남수단      275  Republic of South Sudan   391000000\n",
       "\n",
       "[186 rows x 5 columns]"
      ]
     },
     "execution_count": 59,
     "metadata": {},
     "output_type": "execute_result"
    }
   ],
   "source": [
    "df = pd.read_excel('prediction_GDP/second_result.xlsx')\n",
    "df"
   ]
  },
  {
   "cell_type": "markdown",
   "metadata": {},
   "source": [
    "# 위치 지역\n",
    "각 국가들이 어느 지역에 속해있는지 역시 중요할 것이다.<br>\n",
    "유럽에 위치하고 있는 자체만으로 주변국과의 교역 등으로 아프리카 국가보다 우위를 선점할 가능성이 높을 것이다."
   ]
  },
  {
   "cell_type": "code",
   "execution_count": 60,
   "metadata": {},
   "outputs": [],
   "source": [
    "# 네이버 지식백과에서는 외교부 출처 유엔국들의 지역분류를 제공한다.\n",
    "url ='https://terms.naver.com/entry.nhn?docId=5806481&cid=43163&categoryId=43163&expCategoryId=43163'"
   ]
  },
  {
   "cell_type": "code",
   "execution_count": 61,
   "metadata": {},
   "outputs": [],
   "source": [
    "driver = webdriver.Chrome('C:/Users/hp/Desktop/최영조/chromedriver.exe')"
   ]
  },
  {
   "cell_type": "code",
   "execution_count": 62,
   "metadata": {},
   "outputs": [],
   "source": [
    "driver.get(url)\n",
    "html = driver.page_source\n",
    "soup = BeautifulSoup(html,'html.parser')"
   ]
  },
  {
   "cell_type": "code",
   "execution_count": 63,
   "metadata": {},
   "outputs": [
    {
     "data": {
      "text/plain": [
       "5"
      ]
     },
     "execution_count": 63,
     "metadata": {},
     "output_type": "execute_result"
    }
   ],
   "source": [
    "countries = soup.select('div.box_tbl>table')\n",
    "len(countries)"
   ]
  },
  {
   "cell_type": "code",
   "execution_count": 64,
   "metadata": {},
   "outputs": [],
   "source": [
    "group = {'아프리카권':0,'아시아권':1,'동유럽권':2,'중남미&카리브권':3,'서유럽권&기타':4}"
   ]
  },
  {
   "cell_type": "code",
   "execution_count": 65,
   "metadata": {},
   "outputs": [
    {
     "data": {
      "text/plain": [
       "'조지아'"
      ]
     },
     "execution_count": 65,
     "metadata": {},
     "output_type": "execute_result"
    }
   ],
   "source": [
    "country = countries[2].select('td')[0].text\n",
    "country"
   ]
  },
  {
   "cell_type": "code",
   "execution_count": 66,
   "metadata": {},
   "outputs": [
    {
     "data": {
      "text/html": [
       "<div>\n",
       "<style scoped>\n",
       "    .dataframe tbody tr th:only-of-type {\n",
       "        vertical-align: middle;\n",
       "    }\n",
       "\n",
       "    .dataframe tbody tr th {\n",
       "        vertical-align: top;\n",
       "    }\n",
       "\n",
       "    .dataframe thead th {\n",
       "        text-align: right;\n",
       "    }\n",
       "</style>\n",
       "<table border=\"1\" class=\"dataframe\">\n",
       "  <thead>\n",
       "    <tr style=\"text-align: right;\">\n",
       "      <th></th>\n",
       "      <th>국가</th>\n",
       "      <th>지역</th>\n",
       "    </tr>\n",
       "  </thead>\n",
       "  <tbody>\n",
       "    <tr>\n",
       "      <td>0</td>\n",
       "      <td>가나</td>\n",
       "      <td>아프리카권</td>\n",
       "    </tr>\n",
       "    <tr>\n",
       "      <td>1</td>\n",
       "      <td>모로코</td>\n",
       "      <td>아프리카권</td>\n",
       "    </tr>\n",
       "    <tr>\n",
       "      <td>2</td>\n",
       "      <td>우간다</td>\n",
       "      <td>아프리카권</td>\n",
       "    </tr>\n",
       "    <tr>\n",
       "      <td>3</td>\n",
       "      <td>가봉</td>\n",
       "      <td>아프리카권</td>\n",
       "    </tr>\n",
       "    <tr>\n",
       "      <td>4</td>\n",
       "      <td>모리셔스</td>\n",
       "      <td>아프리카권</td>\n",
       "    </tr>\n",
       "    <tr>\n",
       "      <td>...</td>\n",
       "      <td>...</td>\n",
       "      <td>...</td>\n",
       "    </tr>\n",
       "    <tr>\n",
       "      <td>190</td>\n",
       "      <td>이스라엘</td>\n",
       "      <td>서유럽권&amp;기타</td>\n",
       "    </tr>\n",
       "    <tr>\n",
       "      <td>191</td>\n",
       "      <td>핀란드</td>\n",
       "      <td>서유럽권&amp;기타</td>\n",
       "    </tr>\n",
       "    <tr>\n",
       "      <td>192</td>\n",
       "      <td>모나코</td>\n",
       "      <td>서유럽권&amp;기타</td>\n",
       "    </tr>\n",
       "    <tr>\n",
       "      <td>193</td>\n",
       "      <td>아이슬랜드</td>\n",
       "      <td>서유럽권&amp;기타</td>\n",
       "    </tr>\n",
       "    <tr>\n",
       "      <td>194</td>\n",
       "      <td></td>\n",
       "      <td>서유럽권&amp;기타</td>\n",
       "    </tr>\n",
       "  </tbody>\n",
       "</table>\n",
       "<p>195 rows × 2 columns</p>\n",
       "</div>"
      ],
      "text/plain": [
       "         국가       지역\n",
       "0       가나     아프리카권\n",
       "1      모로코     아프리카권\n",
       "2      우간다     아프리카권\n",
       "3       가봉     아프리카권\n",
       "4     모리셔스     아프리카권\n",
       "..      ...      ...\n",
       "190   이스라엘   서유럽권&기타\n",
       "191     핀란드  서유럽권&기타\n",
       "192    모나코   서유럽권&기타\n",
       "193  아이슬랜드   서유럽권&기타\n",
       "194          서유럽권&기타\n",
       "\n",
       "[195 rows x 2 columns]"
      ]
     },
     "execution_count": 66,
     "metadata": {},
     "output_type": "execute_result"
    }
   ],
   "source": [
    "grouped_df = pd.DataFrame([],columns=['국가','지역'])\n",
    "ddd=[]\n",
    "for k,v in group.items():\n",
    "    country_list = countries[v].select('td')\n",
    "    for country in country_list:\n",
    "        grouped_df = grouped_df.append({'국가':country.text,'지역':k},ignore_index=True)\n",
    "grouped_df"
   ]
  },
  {
   "cell_type": "code",
   "execution_count": 67,
   "metadata": {},
   "outputs": [],
   "source": [
    "# 몇가지 수정해주고싶은 지역이 있는데 같은 아시아권 내에서도 동아시아는 부유한 지역이므로 따로 분류하려고 한다.\n",
    "# 미국,캐나다는 중남미가 아니라 서유럽권과 묶여있으므로 수정할 필요가 없다.\n",
    "\n",
    "def repairing(df):\n",
    "    cond1 = (df['국가'] == '대한민국')\n",
    "    cond2 = (df['국가'] == '중국')\n",
    "    cond3 = (df['국가'] == '일본')\n",
    "    if cond1|cond2|cond3:\n",
    "        df['지역']='동아시아'\n",
    "    return df"
   ]
  },
  {
   "cell_type": "code",
   "execution_count": 68,
   "metadata": {},
   "outputs": [
    {
     "data": {
      "text/html": [
       "<div>\n",
       "<style scoped>\n",
       "    .dataframe tbody tr th:only-of-type {\n",
       "        vertical-align: middle;\n",
       "    }\n",
       "\n",
       "    .dataframe tbody tr th {\n",
       "        vertical-align: top;\n",
       "    }\n",
       "\n",
       "    .dataframe thead th {\n",
       "        text-align: right;\n",
       "    }\n",
       "</style>\n",
       "<table border=\"1\" class=\"dataframe\">\n",
       "  <thead>\n",
       "    <tr style=\"text-align: right;\">\n",
       "      <th></th>\n",
       "      <th>국가</th>\n",
       "      <th>지역</th>\n",
       "    </tr>\n",
       "  </thead>\n",
       "  <tbody>\n",
       "    <tr>\n",
       "      <td>0</td>\n",
       "      <td>가나</td>\n",
       "      <td>아프리카권</td>\n",
       "    </tr>\n",
       "    <tr>\n",
       "      <td>1</td>\n",
       "      <td>모로코</td>\n",
       "      <td>아프리카권</td>\n",
       "    </tr>\n",
       "    <tr>\n",
       "      <td>2</td>\n",
       "      <td>우간다</td>\n",
       "      <td>아프리카권</td>\n",
       "    </tr>\n",
       "    <tr>\n",
       "      <td>3</td>\n",
       "      <td>가봉</td>\n",
       "      <td>아프리카권</td>\n",
       "    </tr>\n",
       "    <tr>\n",
       "      <td>4</td>\n",
       "      <td>모리셔스</td>\n",
       "      <td>아프리카권</td>\n",
       "    </tr>\n",
       "    <tr>\n",
       "      <td>...</td>\n",
       "      <td>...</td>\n",
       "      <td>...</td>\n",
       "    </tr>\n",
       "    <tr>\n",
       "      <td>190</td>\n",
       "      <td>이스라엘</td>\n",
       "      <td>서유럽권&amp;기타</td>\n",
       "    </tr>\n",
       "    <tr>\n",
       "      <td>191</td>\n",
       "      <td>핀란드</td>\n",
       "      <td>서유럽권&amp;기타</td>\n",
       "    </tr>\n",
       "    <tr>\n",
       "      <td>192</td>\n",
       "      <td>모나코</td>\n",
       "      <td>서유럽권&amp;기타</td>\n",
       "    </tr>\n",
       "    <tr>\n",
       "      <td>193</td>\n",
       "      <td>아이슬랜드</td>\n",
       "      <td>서유럽권&amp;기타</td>\n",
       "    </tr>\n",
       "    <tr>\n",
       "      <td>194</td>\n",
       "      <td></td>\n",
       "      <td>서유럽권&amp;기타</td>\n",
       "    </tr>\n",
       "  </tbody>\n",
       "</table>\n",
       "<p>195 rows × 2 columns</p>\n",
       "</div>"
      ],
      "text/plain": [
       "         국가       지역\n",
       "0       가나     아프리카권\n",
       "1      모로코     아프리카권\n",
       "2      우간다     아프리카권\n",
       "3       가봉     아프리카권\n",
       "4     모리셔스     아프리카권\n",
       "..      ...      ...\n",
       "190   이스라엘   서유럽권&기타\n",
       "191     핀란드  서유럽권&기타\n",
       "192    모나코   서유럽권&기타\n",
       "193  아이슬랜드   서유럽권&기타\n",
       "194          서유럽권&기타\n",
       "\n",
       "[195 rows x 2 columns]"
      ]
     },
     "execution_count": 68,
     "metadata": {},
     "output_type": "execute_result"
    }
   ],
   "source": [
    "grouped_df.apply(repairing,axis=1)"
   ]
  },
  {
   "cell_type": "code",
   "execution_count": 69,
   "metadata": {},
   "outputs": [
    {
     "data": {
      "text/html": [
       "<div>\n",
       "<style scoped>\n",
       "    .dataframe tbody tr th:only-of-type {\n",
       "        vertical-align: middle;\n",
       "    }\n",
       "\n",
       "    .dataframe tbody tr th {\n",
       "        vertical-align: top;\n",
       "    }\n",
       "\n",
       "    .dataframe thead th {\n",
       "        text-align: right;\n",
       "    }\n",
       "</style>\n",
       "<table border=\"1\" class=\"dataframe\">\n",
       "  <thead>\n",
       "    <tr style=\"text-align: right;\">\n",
       "      <th></th>\n",
       "      <th>국가</th>\n",
       "    </tr>\n",
       "    <tr>\n",
       "      <th>지역</th>\n",
       "      <th></th>\n",
       "    </tr>\n",
       "  </thead>\n",
       "  <tbody>\n",
       "    <tr>\n",
       "      <td>동아시아</td>\n",
       "      <td>3</td>\n",
       "    </tr>\n",
       "    <tr>\n",
       "      <td>동유럽권</td>\n",
       "      <td>24</td>\n",
       "    </tr>\n",
       "    <tr>\n",
       "      <td>서유럽권&amp;기타</td>\n",
       "      <td>30</td>\n",
       "    </tr>\n",
       "    <tr>\n",
       "      <td>아시아권</td>\n",
       "      <td>51</td>\n",
       "    </tr>\n",
       "    <tr>\n",
       "      <td>아프리카권</td>\n",
       "      <td>54</td>\n",
       "    </tr>\n",
       "    <tr>\n",
       "      <td>중남미&amp;카리브권</td>\n",
       "      <td>33</td>\n",
       "    </tr>\n",
       "  </tbody>\n",
       "</table>\n",
       "</div>"
      ],
      "text/plain": [
       "          국가\n",
       "지역          \n",
       "동아시아       3\n",
       "동유럽권      24\n",
       "서유럽권&기타   30\n",
       "아시아권      51\n",
       "아프리카권     54\n",
       "중남미&카리브권  33"
      ]
     },
     "execution_count": 69,
     "metadata": {},
     "output_type": "execute_result"
    }
   ],
   "source": [
    "grouped_df.groupby('지역').count()"
   ]
  },
  {
   "cell_type": "code",
   "execution_count": 70,
   "metadata": {},
   "outputs": [
    {
     "data": {
      "text/plain": [
       "0      False\n",
       "1      False\n",
       "2      False\n",
       "3      False\n",
       "4       True\n",
       "       ...  \n",
       "181    False\n",
       "182    False\n",
       "183    False\n",
       "184    False\n",
       "185    False\n",
       "Name: 국가, Length: 186, dtype: bool"
      ]
     },
     "execution_count": 70,
     "metadata": {},
     "output_type": "execute_result"
    }
   ],
   "source": [
    "# 이제 grouped_df와 미리 만들어둔 DataFrame을 병합해야하는데 아까 중국의 예에서 보았듯이 일치하지 않는 경우가 있을 수 있다.\n",
    "\n",
    "df['국가'].isin(grouped_df['국가'])"
   ]
  },
  {
   "cell_type": "markdown",
   "metadata": {},
   "source": [
    "생각보다 많은 국가들이 일치하지 않는데 띄어쓰기 상에 문제가 있어보인다."
   ]
  },
  {
   "cell_type": "code",
   "execution_count": 71,
   "metadata": {},
   "outputs": [
    {
     "data": {
      "text/plain": [
       "'룩셈부르크'"
      ]
     },
     "execution_count": 71,
     "metadata": {},
     "output_type": "execute_result"
    }
   ],
   "source": [
    "df.iloc[0,1]"
   ]
  },
  {
   "cell_type": "code",
   "execution_count": 72,
   "metadata": {},
   "outputs": [
    {
     "data": {
      "text/plain": [
       "'룩셈부르크 '"
      ]
     },
     "execution_count": 72,
     "metadata": {},
     "output_type": "execute_result"
    }
   ],
   "source": [
    "grouped_df.iloc[183,0]"
   ]
  },
  {
   "cell_type": "code",
   "execution_count": 73,
   "metadata": {},
   "outputs": [],
   "source": [
    "# grouped_df의 국가명 마지막 부분에 띄어쓰기가 많이 포함된 것을 알 수 있다.\n",
    "\n",
    "for i in range(len(grouped_df)):\n",
    "    country = grouped_df.iloc[i,0]\n",
    "    grouped_df.iloc[i,0] = country.replace(\" \",\"\")"
   ]
  },
  {
   "cell_type": "code",
   "execution_count": 74,
   "metadata": {},
   "outputs": [
    {
     "data": {
      "text/plain": [
       "0      True\n",
       "1      True\n",
       "2      True\n",
       "3      True\n",
       "4      True\n",
       "       ... \n",
       "181    True\n",
       "182    True\n",
       "183    True\n",
       "184    True\n",
       "185    True\n",
       "Name: 국가, Length: 186, dtype: bool"
      ]
     },
     "execution_count": 74,
     "metadata": {},
     "output_type": "execute_result"
    }
   ],
   "source": [
    "# 수정을 거치니 거의 True로 바뀌었다.\n",
    "df['국가'].isin(grouped_df['국가'])"
   ]
  },
  {
   "cell_type": "code",
   "execution_count": 75,
   "metadata": {},
   "outputs": [
    {
     "name": "stdout",
     "output_type": "stream",
     "text": [
      "['아이슬란드' '미국' '오스트레일리아' '키프로스' '세인트키츠 네비스' '앤티가 바부다' '트리니다드 토바고' '중화인민공화국'\n",
      " '터키' '적도 기니' '도미니카 공화국' '도미니카 연방' '세인트빈센트 그레나딘' '남아프리카 공화국' '북마케도니아'\n",
      " '보스니아 헤르체고비나' '에스와티니' '마셜 제도' '미크로네시아 연방' '콩고 공화국' '솔로몬 제도' '상투메 프린시페'\n",
      " '니카라과' '모리타니' '키르기스스탄' '베냉' '콩고 민주 공화국' '중앙아프리카 공화국']\n"
     ]
    }
   ],
   "source": [
    "print(df['국가'][df['국가'].isin(grouped_df['국가'])==False].values)"
   ]
  },
  {
   "cell_type": "code",
   "execution_count": 76,
   "metadata": {
    "scrolled": true
   },
   "outputs": [
    {
     "name": "stdout",
     "output_type": "stream",
     "text": [
      "['모리타니아' '콩고민주공화국' '베넹' '적도기니' '중앙아프리카' '남아공' '소말리아' '스와질랜드' '상투메프린시페'\n",
      " '콩고' '중국' '사이프러스' '솔로몬제도' '마셜제도' '시리아' '마이크로네시아' '키르기즈스탄' '북한'\n",
      " '\\n\\t\\t\\t\\t보스니아\\n\\t\\t\\t\\t\\n\\t\\t\\t\\t헤르체고비나\\n\\t\\t\\t' '마케도니아' '\\xa0' '나카라과'\n",
      " '세인트빈센트그레나딘' '도미니카(공)' '세인트키츠네비스' '도미니카(연)' '쿠바' '앤티가바부다' '트리니다드토바고'\n",
      " '미국1)' '안도라' '터키2)' '호주' '리히텐슈타인' '모나코' '아이슬랜드' '\\xa0']\n"
     ]
    }
   ],
   "source": [
    "print(grouped_df['국가'][grouped_df['국가'].isin(df['국가'])==False].values)"
   ]
  },
  {
   "cell_type": "code",
   "execution_count": 77,
   "metadata": {},
   "outputs": [],
   "source": [
    "# 약간 번거롭지만 일일이 짝을 지어주는 수 밖에 없을 듯하다.\n",
    "\n",
    "# cf) 네이버 백과는 2015년 자료이다. 겨우 4,5년 사이에 국가명이 바뀌는 일이 많지는 않아 그냥 사용했지만\n",
    "#   스와질랜드,마케도니아 등은 그동안 실제 국명을 바꾼 일이 있다. 그외 나라는 발음 상, 띄어쓰기 상 차이로 인해 매치가 안 된 듯하다.\n",
    "\n",
    "matching = {'콩고민주공화국':'콩고 민주 공화국','베넹':'베냉','중앙아프리카':'중앙아프리카 공화국','키르기즈스탄':'키르기스스탄',\n",
    "           '모리타니아':'모리타니','나카라과':'니카라과','상투메프린시페':'상투메 프린시페','솔로몬제도':'솔로몬 제도',\n",
    "            '콩고':'콩고 공화국','마이크로네시아':'미크로네시아 연방','마셜제도':'마셜 제도','스와질랜드':'에스와티니',\n",
    "           '\\n\\t\\t\\t\\t보스니아\\n\\t\\t\\t\\t\\n\\t\\t\\t\\t헤르체고비나\\n\\t\\t\\t':'보스니아 헤르체고비나','마케도니아':'북마케도니아',\n",
    "           '남아공':'남아프리카 공화국','세인트빈센트그레나딘':'세인트빈센트 그레나딘','도미니카(연)':'도미니카 연방',\n",
    "           '도미니카(공)':'도미니카 공화국','적도기니':'적도 기니','터키2)':'터키','중국':'중화인민공화국',\n",
    "            '트리니다드토바고':\"트리니다드 토바고\",'앤티가바부다':'앤티가 바부다','세인트키츠네비스':'세인트키츠 네비스',\n",
    "           '사이프러스':'키프로스','호주':'오스트레일리아','미국1)':'미국','아이슬랜드':'아이슬란드'}"
   ]
  },
  {
   "cell_type": "code",
   "execution_count": 78,
   "metadata": {},
   "outputs": [],
   "source": [
    "for i in range(len(grouped_df)):\n",
    "    country = grouped_df.iloc[i,0]\n",
    "    for j,v in matching.items():\n",
    "        if country == j:\n",
    "            grouped_df.iloc[i,0]=v"
   ]
  },
  {
   "cell_type": "code",
   "execution_count": 79,
   "metadata": {},
   "outputs": [
    {
     "data": {
      "text/plain": [
       "186"
      ]
     },
     "execution_count": 79,
     "metadata": {},
     "output_type": "execute_result"
    }
   ],
   "source": [
    "# 모두 잘 일치된 것을 확인할 수 있다.\n",
    "df['국가'].isin(grouped_df['국가']).sum()"
   ]
  },
  {
   "cell_type": "code",
   "execution_count": 80,
   "metadata": {},
   "outputs": [
    {
     "data": {
      "text/html": [
       "<div>\n",
       "<style scoped>\n",
       "    .dataframe tbody tr th:only-of-type {\n",
       "        vertical-align: middle;\n",
       "    }\n",
       "\n",
       "    .dataframe tbody tr th {\n",
       "        vertical-align: top;\n",
       "    }\n",
       "\n",
       "    .dataframe thead th {\n",
       "        text-align: right;\n",
       "    }\n",
       "</style>\n",
       "<table border=\"1\" class=\"dataframe\">\n",
       "  <thead>\n",
       "    <tr style=\"text-align: right;\">\n",
       "      <th></th>\n",
       "      <th>순위</th>\n",
       "      <th>국가</th>\n",
       "      <th>1인당_GDP</th>\n",
       "      <th>영문</th>\n",
       "      <th>인지도</th>\n",
       "      <th>지역</th>\n",
       "    </tr>\n",
       "  </thead>\n",
       "  <tbody>\n",
       "    <tr>\n",
       "      <td>0</td>\n",
       "      <td>1</td>\n",
       "      <td>룩셈부르크</td>\n",
       "      <td>113,196</td>\n",
       "      <td>Luxembourg</td>\n",
       "      <td>560000000</td>\n",
       "      <td>서유럽권&amp;기타</td>\n",
       "    </tr>\n",
       "    <tr>\n",
       "      <td>1</td>\n",
       "      <td>2</td>\n",
       "      <td>스위스</td>\n",
       "      <td>83,717</td>\n",
       "      <td>Switzerland</td>\n",
       "      <td>682000000</td>\n",
       "      <td>서유럽권&amp;기타</td>\n",
       "    </tr>\n",
       "    <tr>\n",
       "      <td>2</td>\n",
       "      <td>3</td>\n",
       "      <td>노르웨이</td>\n",
       "      <td>77,975</td>\n",
       "      <td>Norway</td>\n",
       "      <td>607000000</td>\n",
       "      <td>서유럽권&amp;기타</td>\n",
       "    </tr>\n",
       "    <tr>\n",
       "      <td>3</td>\n",
       "      <td>4</td>\n",
       "      <td>아일랜드</td>\n",
       "      <td>77,771</td>\n",
       "      <td>Ireland</td>\n",
       "      <td>1320000000</td>\n",
       "      <td>서유럽권&amp;기타</td>\n",
       "    </tr>\n",
       "    <tr>\n",
       "      <td>4</td>\n",
       "      <td>5</td>\n",
       "      <td>카타르</td>\n",
       "      <td>69,688</td>\n",
       "      <td>Qatar</td>\n",
       "      <td>719000000</td>\n",
       "      <td>아시아권</td>\n",
       "    </tr>\n",
       "    <tr>\n",
       "      <td>...</td>\n",
       "      <td>...</td>\n",
       "      <td>...</td>\n",
       "      <td>...</td>\n",
       "      <td>...</td>\n",
       "      <td>...</td>\n",
       "      <td>...</td>\n",
       "    </tr>\n",
       "    <tr>\n",
       "      <td>181</td>\n",
       "      <td>184</td>\n",
       "      <td>니제르</td>\n",
       "      <td>405</td>\n",
       "      <td>Niger</td>\n",
       "      <td>368000000</td>\n",
       "      <td>아프리카권</td>\n",
       "    </tr>\n",
       "    <tr>\n",
       "      <td>182</td>\n",
       "      <td>185</td>\n",
       "      <td>말라위</td>\n",
       "      <td>371</td>\n",
       "      <td>Malawi</td>\n",
       "      <td>269000000</td>\n",
       "      <td>아프리카권</td>\n",
       "    </tr>\n",
       "    <tr>\n",
       "      <td>183</td>\n",
       "      <td>186</td>\n",
       "      <td>에리트레아</td>\n",
       "      <td>343</td>\n",
       "      <td>Eritrea</td>\n",
       "      <td>196000000</td>\n",
       "      <td>아프리카권</td>\n",
       "    </tr>\n",
       "    <tr>\n",
       "      <td>184</td>\n",
       "      <td>187</td>\n",
       "      <td>부룬디</td>\n",
       "      <td>310</td>\n",
       "      <td>Burundi</td>\n",
       "      <td>318000000</td>\n",
       "      <td>아프리카권</td>\n",
       "    </tr>\n",
       "    <tr>\n",
       "      <td>185</td>\n",
       "      <td>188</td>\n",
       "      <td>남수단</td>\n",
       "      <td>275</td>\n",
       "      <td>Republic of South Sudan</td>\n",
       "      <td>391000000</td>\n",
       "      <td>아프리카권</td>\n",
       "    </tr>\n",
       "  </tbody>\n",
       "</table>\n",
       "<p>186 rows × 6 columns</p>\n",
       "</div>"
      ],
      "text/plain": [
       "      순위     국가  1인당_GDP                       영문         인지도       지역\n",
       "0      1  룩셈부르크  113,196               Luxembourg   560000000  서유럽권&기타\n",
       "1      2    스위스   83,717              Switzerland   682000000  서유럽권&기타\n",
       "2      3   노르웨이   77,975                   Norway   607000000  서유럽권&기타\n",
       "3      4   아일랜드   77,771                  Ireland  1320000000  서유럽권&기타\n",
       "4      5    카타르   69,688                    Qatar   719000000     아시아권\n",
       "..   ...    ...      ...                      ...         ...      ...\n",
       "181  184    니제르      405                    Niger   368000000    아프리카권\n",
       "182  185    말라위      371                   Malawi   269000000    아프리카권\n",
       "183  186  에리트레아      343                  Eritrea   196000000    아프리카권\n",
       "184  187    부룬디      310                  Burundi   318000000    아프리카권\n",
       "185  188    남수단      275  Republic of South Sudan   391000000    아프리카권\n",
       "\n",
       "[186 rows x 6 columns]"
      ]
     },
     "execution_count": 80,
     "metadata": {},
     "output_type": "execute_result"
    }
   ],
   "source": [
    "third_result = pd.merge(df,grouped_df,on='국가')\n",
    "third_result"
   ]
  },
  {
   "cell_type": "code",
   "execution_count": 81,
   "metadata": {},
   "outputs": [],
   "source": [
    "third_result.to_excel('prediction_GDP/third_result.xlsx',index=False)"
   ]
  },
  {
   "cell_type": "code",
   "execution_count": 82,
   "metadata": {},
   "outputs": [
    {
     "data": {
      "text/html": [
       "<div>\n",
       "<style scoped>\n",
       "    .dataframe tbody tr th:only-of-type {\n",
       "        vertical-align: middle;\n",
       "    }\n",
       "\n",
       "    .dataframe tbody tr th {\n",
       "        vertical-align: top;\n",
       "    }\n",
       "\n",
       "    .dataframe thead th {\n",
       "        text-align: right;\n",
       "    }\n",
       "</style>\n",
       "<table border=\"1\" class=\"dataframe\">\n",
       "  <thead>\n",
       "    <tr style=\"text-align: right;\">\n",
       "      <th></th>\n",
       "      <th>순위</th>\n",
       "      <th>국가</th>\n",
       "      <th>1인당_GDP</th>\n",
       "      <th>영문</th>\n",
       "      <th>인지도</th>\n",
       "      <th>지역</th>\n",
       "    </tr>\n",
       "  </thead>\n",
       "  <tbody>\n",
       "    <tr>\n",
       "      <td>0</td>\n",
       "      <td>1</td>\n",
       "      <td>룩셈부르크</td>\n",
       "      <td>113,196</td>\n",
       "      <td>Luxembourg</td>\n",
       "      <td>560000000</td>\n",
       "      <td>서유럽권&amp;기타</td>\n",
       "    </tr>\n",
       "    <tr>\n",
       "      <td>1</td>\n",
       "      <td>2</td>\n",
       "      <td>스위스</td>\n",
       "      <td>83,717</td>\n",
       "      <td>Switzerland</td>\n",
       "      <td>682000000</td>\n",
       "      <td>서유럽권&amp;기타</td>\n",
       "    </tr>\n",
       "    <tr>\n",
       "      <td>2</td>\n",
       "      <td>3</td>\n",
       "      <td>노르웨이</td>\n",
       "      <td>77,975</td>\n",
       "      <td>Norway</td>\n",
       "      <td>607000000</td>\n",
       "      <td>서유럽권&amp;기타</td>\n",
       "    </tr>\n",
       "    <tr>\n",
       "      <td>3</td>\n",
       "      <td>4</td>\n",
       "      <td>아일랜드</td>\n",
       "      <td>77,771</td>\n",
       "      <td>Ireland</td>\n",
       "      <td>1320000000</td>\n",
       "      <td>서유럽권&amp;기타</td>\n",
       "    </tr>\n",
       "    <tr>\n",
       "      <td>4</td>\n",
       "      <td>5</td>\n",
       "      <td>카타르</td>\n",
       "      <td>69,688</td>\n",
       "      <td>Qatar</td>\n",
       "      <td>719000000</td>\n",
       "      <td>아시아권</td>\n",
       "    </tr>\n",
       "  </tbody>\n",
       "</table>\n",
       "</div>"
      ],
      "text/plain": [
       "   순위     국가  1인당_GDP           영문         인지도       지역\n",
       "0   1  룩셈부르크  113,196   Luxembourg   560000000  서유럽권&기타\n",
       "1   2    스위스   83,717  Switzerland   682000000  서유럽권&기타\n",
       "2   3   노르웨이   77,975       Norway   607000000  서유럽권&기타\n",
       "3   4   아일랜드   77,771      Ireland  1320000000  서유럽권&기타\n",
       "4   5    카타르   69,688        Qatar   719000000     아시아권"
      ]
     },
     "execution_count": 82,
     "metadata": {},
     "output_type": "execute_result"
    }
   ],
   "source": [
    "df = pd.read_excel('prediction_GDP/third_result.xlsx')\n",
    "df.head()"
   ]
  },
  {
   "cell_type": "markdown",
   "metadata": {},
   "source": [
    "## 면적"
   ]
  },
  {
   "cell_type": "code",
   "execution_count": 84,
   "metadata": {},
   "outputs": [],
   "source": [
    "driver = webdriver.Chrome('C:/Users/hp/Desktop/최영조/chromedriver.exe')\n",
    "url = 'https://ko.wikipedia.org/wiki/면적순_나라_목록'\n",
    "driver.get(url)"
   ]
  },
  {
   "cell_type": "code",
   "execution_count": 85,
   "metadata": {},
   "outputs": [
    {
     "data": {
      "text/plain": [
       "'러시아'"
      ]
     },
     "execution_count": 85,
     "metadata": {},
     "output_type": "execute_result"
    }
   ],
   "source": [
    "country = driver.find_element_by_css_selector('#mw-content-text > div > table > tbody > tr:nth-child(2) > td:nth-child(2)').text\n",
    "country"
   ]
  },
  {
   "cell_type": "code",
   "execution_count": 86,
   "metadata": {},
   "outputs": [
    {
     "data": {
      "text/plain": [
       "'9,984,670'"
      ]
     },
     "execution_count": 86,
     "metadata": {},
     "output_type": "execute_result"
    }
   ],
   "source": [
    "size = driver.find_element_by_css_selector('#mw-content-text > div > table > tbody > tr:nth-child(4) > td:nth-child(3)').text\n",
    "size.split('\\n')[0]"
   ]
  },
  {
   "cell_type": "code",
   "execution_count": 87,
   "metadata": {},
   "outputs": [
    {
     "name": "stdout",
     "output_type": "stream",
     "text": [
      "['러시아', '남극', '캐나다', '미국', '중화인민공화국', '브라질']\n",
      "['17,098,242', '14,000,000', '9,984,670', '9,836,676', '9,596,961', '8,527,906']\n"
     ]
    }
   ],
   "source": [
    "# 남극, 통일한국 등등 이상한 자료도 많이 포함되어 정확한 사이즈를 예측하기 어려우므로 400번의 순환 중 에러가 나면 멈추라고 했다.\n",
    "\n",
    "region_rank=[]\n",
    "region_size=[]\n",
    "for i in range(2,400):\n",
    "    try:\n",
    "        country = driver.find_element_by_css_selector\\\n",
    "        ('#mw-content-text > div > table > tbody > tr:nth-child({}) > td:nth-child(2)'.format(i)).text\n",
    "        size = driver.find_element_by_css_selector\\\n",
    "        ('#mw-content-text > div > table > tbody > tr:nth-child({}) > td:nth-child(3)'.format(i)).text.split('\\n')[0]\n",
    "        region_rank.append(country)\n",
    "        region_size.append(size)\n",
    "    except:\n",
    "        break\n",
    "print(region_rank[:6])\n",
    "print(region_size[:6])"
   ]
  },
  {
   "cell_type": "code",
   "execution_count": 88,
   "metadata": {},
   "outputs": [
    {
     "data": {
      "text/plain": [
       "248"
      ]
     },
     "execution_count": 88,
     "metadata": {},
     "output_type": "execute_result"
    }
   ],
   "source": [
    "len(region_size)"
   ]
  },
  {
   "cell_type": "code",
   "execution_count": 89,
   "metadata": {},
   "outputs": [
    {
     "data": {
      "text/plain": [
       "248"
      ]
     },
     "execution_count": 89,
     "metadata": {},
     "output_type": "execute_result"
    }
   ],
   "source": [
    "len(region_rank)"
   ]
  },
  {
   "cell_type": "code",
   "execution_count": 90,
   "metadata": {},
   "outputs": [],
   "source": [
    "region_df = pd.DataFrame(np.array([region_rank,region_size]).T,columns=['국가','크기'])\n",
    "region_df.to_excel('prediction_GDP/region.xlsx',index=False)"
   ]
  },
  {
   "cell_type": "markdown",
   "metadata": {},
   "source": [
    "## 인구\n",
    "CIA의 2010년 7월 통계를 기준으로 한다. 다만 일부 국가에 대해서는 정확한 통계가 아닌 추산인 경우가 포함되어 있다."
   ]
  },
  {
   "cell_type": "code",
   "execution_count": 91,
   "metadata": {},
   "outputs": [],
   "source": [
    "url = 'https://ko.wikipedia.org/wiki/인구순_나라_목록'\n",
    "driver.get(url)"
   ]
  },
  {
   "cell_type": "code",
   "execution_count": 92,
   "metadata": {},
   "outputs": [
    {
     "data": {
      "text/plain": [
       "('중화인민공화국', '1,402,378,640')"
      ]
     },
     "execution_count": 92,
     "metadata": {},
     "output_type": "execute_result"
    }
   ],
   "source": [
    "country = driver.find_element_by_css_selector('#mw-content-text > div > table > tbody > tr:nth-child(1) > td:nth-child(2)').text\n",
    "population = driver.find_element_by_css_selector('#mw-content-text > div > table > tbody > tr:nth-child(1) > td:nth-child(3)').text\n",
    "\n",
    "country, population"
   ]
  },
  {
   "cell_type": "code",
   "execution_count": 93,
   "metadata": {},
   "outputs": [
    {
     "data": {
      "text/plain": [
       "('미국', '329,479,633')"
      ]
     },
     "execution_count": 93,
     "metadata": {},
     "output_type": "execute_result"
    }
   ],
   "source": [
    "country = driver.find_element_by_css_selector('#mw-content-text > div > table > tbody > tr:nth-child(3) > td:nth-child(2)').text\n",
    "population = driver.find_element_by_css_selector('#mw-content-text > div > table > tbody > tr:nth-child(3) > td:nth-child(3)').text\n",
    "\n",
    "country, population"
   ]
  },
  {
   "cell_type": "code",
   "execution_count": 94,
   "metadata": {},
   "outputs": [
    {
     "name": "stdout",
     "output_type": "stream",
     "text": [
      "['중화인민공화국', '인도', '미국', '인도네시아', '파키스탄', '브라질']\n",
      "['1,402,378,640', '1,360,657,785', '329,479,633', '266,911,900', '219,181,520', '211,349,952']\n"
     ]
    }
   ],
   "source": [
    "population_rank=[]\n",
    "population_size=[]\n",
    "for i in range(1,400):\n",
    "    try:\n",
    "        country = driver.find_element_by_css_selector\\\n",
    "        ('#mw-content-text > div > table > tbody > tr:nth-child({}) > td:nth-child(2)'.format(i)).text\n",
    "        population = driver.find_element_by_css_selector\\\n",
    "        ('#mw-content-text > div > table > tbody > tr:nth-child({}) > td:nth-child(3)'.format(i)).text\n",
    "        population_rank.append(country)\n",
    "        population_size.append(population)\n",
    "    except:\n",
    "        break\n",
    "print(population_rank[:6])\n",
    "print(population_size[:6])"
   ]
  },
  {
   "cell_type": "code",
   "execution_count": 96,
   "metadata": {},
   "outputs": [],
   "source": [
    "pop_df = pd.DataFrame(np.array([population_rank,population_size]).T,columns=['국가','인구'])\n",
    "pop_df.to_excel('prediction_GDP/pop.xlsx',index=False)"
   ]
  },
  {
   "cell_type": "markdown",
   "metadata": {},
   "source": [
    "## 평균수명\n",
    "유엔이 발표한 2015~2020년 각국의 기대수명 순위이다. 성별로 따로 집계돼 있기도 하지만 따로 고려하지 않도록 한다."
   ]
  },
  {
   "cell_type": "code",
   "execution_count": 97,
   "metadata": {},
   "outputs": [],
   "source": [
    "url = 'https://ko.wikipedia.org/wiki/평균_수명순_나라_목록'\n",
    "driver.get(url)"
   ]
  },
  {
   "cell_type": "code",
   "execution_count": 98,
   "metadata": {},
   "outputs": [
    {
     "data": {
      "text/plain": [
       "('일본', '84.74')"
      ]
     },
     "execution_count": 98,
     "metadata": {},
     "output_type": "execute_result"
    }
   ],
   "source": [
    "country = driver.find_element_by_css_selector\\\n",
    "('#mw-content-text > div > table:nth-child(4) > tbody > tr:nth-child(1) > td:nth-child(2)').text\n",
    "life_exp = driver.find_element_by_css_selector\\\n",
    "('#mw-content-text > div > table:nth-child(4) > tbody > tr:nth-child(1) > td:nth-child(3)').text\n",
    "country, life_exp"
   ]
  },
  {
   "cell_type": "code",
   "execution_count": 99,
   "metadata": {},
   "outputs": [
    {
     "name": "stdout",
     "output_type": "stream",
     "text": [
      "['일본', '대한민국', '이탈리아', '스위스', '싱가포르', '아이슬란드']\n",
      "['84.74', '83.31', '82.84', '82.66', '82.64', '82.30']\n"
     ]
    }
   ],
   "source": [
    "life_rank=[]\n",
    "life_exp=[]\n",
    "for i in range(1,400):\n",
    "    try:\n",
    "        country = driver.find_element_by_css_selector\\\n",
    "        ('#mw-content-text > div > table:nth-child(4) > tbody > tr:nth-child({}) > td:nth-child(2)'.format(i)).text\n",
    "        exp = driver.find_element_by_css_selector\\\n",
    "        ('#mw-content-text > div > table:nth-child(4) > tbody > tr:nth-child({}) > td:nth-child(3)'.format(i)).text\n",
    "        life_rank.append(country)\n",
    "        life_exp.append(exp)\n",
    "    except:\n",
    "        break\n",
    "print(life_rank[:6])\n",
    "print(life_exp[:6])"
   ]
  },
  {
   "cell_type": "code",
   "execution_count": 100,
   "metadata": {},
   "outputs": [],
   "source": [
    "life_df = pd.DataFrame(np.array([life_rank,life_exp]).T,columns=['국가','기대수명'])\n",
    "life_df.to_excel('prediction_GDP/life.xlsx',index=False)"
   ]
  },
  {
   "cell_type": "markdown",
   "metadata": {},
   "source": [
    "## 출산율\n",
    "가임기 여성이 평생 낳을 것으로 예측되는 자녀의 수이다.<br>\n",
    "2016년 세계은행에서 발표한 순위이다."
   ]
  },
  {
   "cell_type": "code",
   "execution_count": 101,
   "metadata": {},
   "outputs": [],
   "source": [
    "url = 'https://ko.wikipedia.org/wiki/출산율순_나라_목록'\n",
    "driver.get(url)"
   ]
  },
  {
   "cell_type": "code",
   "execution_count": 102,
   "metadata": {},
   "outputs": [
    {
     "data": {
      "text/plain": [
       "('니제르', '7.2')"
      ]
     },
     "execution_count": 102,
     "metadata": {},
     "output_type": "execute_result"
    }
   ],
   "source": [
    "country = driver.find_element_by_css_selector\\\n",
    "('#mw-content-text > div > table > tbody > tr:nth-child(2) > td:nth-child(1) > table > tbody > tr:nth-child(1) > td:nth-child(2)').text\n",
    "birth_exp = driver.find_element_by_css_selector\\\n",
    "('#mw-content-text > div > table > tbody > tr:nth-child(2) > td:nth-child(1) > table > tbody > tr:nth-child(1) > td:nth-child(3)').text\n",
    "country, birth_exp"
   ]
  },
  {
   "cell_type": "code",
   "execution_count": 103,
   "metadata": {},
   "outputs": [
    {
     "name": "stdout",
     "output_type": "stream",
     "text": [
      "['니제르', '소말리아', '콩고민주공화국', '말리', '차드', '부룬디']\n",
      "['7.2', '6.3', '5.9', '6.1', '5.9', '5.7']\n"
     ]
    }
   ],
   "source": [
    "birth_rank=[]\n",
    "birth_exp=[]\n",
    "for i in range(1,300):\n",
    "    try:\n",
    "        country = driver.find_element_by_css_selector\\\n",
    "        ('#mw-content-text > div > table > tbody > tr:nth-child(2) > td:nth-child(1) > table > tbody > tr:nth-child({}) > td:nth-child(2)'.format(i)).text\n",
    "        exp = driver.find_element_by_css_selector\\\n",
    "        ('#mw-content-text > div > table > tbody > tr:nth-child(2) > td:nth-child(1) > table > tbody > tr:nth-child({}) > td:nth-child(3)'.format(i)).text\n",
    "        birth_rank.append(country)\n",
    "        birth_exp.append(exp)\n",
    "    except:\n",
    "        break\n",
    "print(birth_rank[:6])\n",
    "print(birth_exp[:6])"
   ]
  },
  {
   "cell_type": "code",
   "execution_count": 104,
   "metadata": {},
   "outputs": [
    {
     "data": {
      "text/html": [
       "<div>\n",
       "<style scoped>\n",
       "    .dataframe tbody tr th:only-of-type {\n",
       "        vertical-align: middle;\n",
       "    }\n",
       "\n",
       "    .dataframe tbody tr th {\n",
       "        vertical-align: top;\n",
       "    }\n",
       "\n",
       "    .dataframe thead th {\n",
       "        text-align: right;\n",
       "    }\n",
       "</style>\n",
       "<table border=\"1\" class=\"dataframe\">\n",
       "  <thead>\n",
       "    <tr style=\"text-align: right;\">\n",
       "      <th></th>\n",
       "      <th>국가</th>\n",
       "      <th>출산율</th>\n",
       "    </tr>\n",
       "  </thead>\n",
       "  <tbody>\n",
       "    <tr>\n",
       "      <td>0</td>\n",
       "      <td>니제르</td>\n",
       "      <td>7.2</td>\n",
       "    </tr>\n",
       "    <tr>\n",
       "      <td>1</td>\n",
       "      <td>소말리아</td>\n",
       "      <td>6.3</td>\n",
       "    </tr>\n",
       "    <tr>\n",
       "      <td>2</td>\n",
       "      <td>콩고민주공화국</td>\n",
       "      <td>5.9</td>\n",
       "    </tr>\n",
       "    <tr>\n",
       "      <td>3</td>\n",
       "      <td>말리</td>\n",
       "      <td>6.1</td>\n",
       "    </tr>\n",
       "    <tr>\n",
       "      <td>4</td>\n",
       "      <td>차드</td>\n",
       "      <td>5.9</td>\n",
       "    </tr>\n",
       "    <tr>\n",
       "      <td>...</td>\n",
       "      <td>...</td>\n",
       "      <td>...</td>\n",
       "    </tr>\n",
       "    <tr>\n",
       "      <td>197</td>\n",
       "      <td>푸에르토리코</td>\n",
       "      <td>1.3</td>\n",
       "    </tr>\n",
       "    <tr>\n",
       "      <td>198</td>\n",
       "      <td>몰도바</td>\n",
       "      <td>1.2</td>\n",
       "    </tr>\n",
       "    <tr>\n",
       "      <td>199</td>\n",
       "      <td>홍콩</td>\n",
       "      <td>1.2</td>\n",
       "    </tr>\n",
       "    <tr>\n",
       "      <td>200</td>\n",
       "      <td>싱가포르</td>\n",
       "      <td>1.2</td>\n",
       "    </tr>\n",
       "    <tr>\n",
       "      <td>201</td>\n",
       "      <td>대한민국</td>\n",
       "      <td>1.2</td>\n",
       "    </tr>\n",
       "  </tbody>\n",
       "</table>\n",
       "<p>202 rows × 2 columns</p>\n",
       "</div>"
      ],
      "text/plain": [
       "          국가  출산율\n",
       "0        니제르  7.2\n",
       "1       소말리아  6.3\n",
       "2    콩고민주공화국  5.9\n",
       "3         말리  6.1\n",
       "4         차드  5.9\n",
       "..       ...  ...\n",
       "197   푸에르토리코  1.3\n",
       "198      몰도바  1.2\n",
       "199       홍콩  1.2\n",
       "200     싱가포르  1.2\n",
       "201     대한민국  1.2\n",
       "\n",
       "[202 rows x 2 columns]"
      ]
     },
     "execution_count": 104,
     "metadata": {},
     "output_type": "execute_result"
    }
   ],
   "source": [
    "birth_df = pd.DataFrame(np.array([birth_rank,birth_exp]).T,columns=['국가','출산율'])\n",
    "birth_df"
   ]
  },
  {
   "cell_type": "code",
   "execution_count": 105,
   "metadata": {},
   "outputs": [],
   "source": [
    "birth_df.to_excel('prediction_GDP/birth.xlsx',index=False)"
   ]
  },
  {
   "cell_type": "markdown",
   "metadata": {},
   "source": [
    "## 자살률\n",
    "WHO에서 2017년 집계한 2015년 각국의 10만명당 자살률 수이다."
   ]
  },
  {
   "cell_type": "code",
   "execution_count": 106,
   "metadata": {},
   "outputs": [],
   "source": [
    "url = 'https://ko.wikipedia.org/wiki/자살률에_따른_나라_목록'\n",
    "driver.get(url)"
   ]
  },
  {
   "cell_type": "code",
   "execution_count": 107,
   "metadata": {},
   "outputs": [
    {
     "data": {
      "text/plain": [
       "('스리랑카', '34.6')"
      ]
     },
     "execution_count": 107,
     "metadata": {},
     "output_type": "execute_result"
    }
   ],
   "source": [
    "country = driver.find_element_by_css_selector\\\n",
    "('#mw-content-text > div > table.sortable.wikitable.jquery-tablesorter > tbody > tr:nth-child(1) > td:nth-child(2)').text\n",
    "suicide_num = driver.find_element_by_css_selector\\\n",
    "('#mw-content-text > div > table.sortable.wikitable.jquery-tablesorter > tbody > tr:nth-child(1) > td:nth-child(5)').text\n",
    "country, suicide_num"
   ]
  },
  {
   "cell_type": "code",
   "execution_count": 108,
   "metadata": {},
   "outputs": [
    {
     "name": "stdout",
     "output_type": "stream",
     "text": [
      "['스리랑카', '가이아나', '몽골', '카자흐스탄', '코트디부아르', '수리남']\n",
      "['34.6', '30.6', '28.1', '27.5', '27.2', '26.9']\n"
     ]
    }
   ],
   "source": [
    "suicide_rank=[]\n",
    "suicide_num=[]\n",
    "for i in range(1,300):\n",
    "    try:\n",
    "        country = driver.find_element_by_css_selector\\\n",
    "        ('#mw-content-text > div > table.sortable.wikitable.jquery-tablesorter > tbody > tr:nth-child({}) > td:nth-child(2)'.format(i)).text\n",
    "        num = driver.find_element_by_css_selector\\\n",
    "        ('#mw-content-text > div > table.sortable.wikitable.jquery-tablesorter > tbody > tr:nth-child({}) > td:nth-child(5)'.format(i)).text\n",
    "        suicide_rank.append(country)\n",
    "        suicide_num.append(num)\n",
    "    except:\n",
    "        break\n",
    "print(suicide_rank[:6])\n",
    "print(suicide_num[:6])"
   ]
  },
  {
   "cell_type": "code",
   "execution_count": 109,
   "metadata": {},
   "outputs": [
    {
     "data": {
      "text/html": [
       "<div>\n",
       "<style scoped>\n",
       "    .dataframe tbody tr th:only-of-type {\n",
       "        vertical-align: middle;\n",
       "    }\n",
       "\n",
       "    .dataframe tbody tr th {\n",
       "        vertical-align: top;\n",
       "    }\n",
       "\n",
       "    .dataframe thead th {\n",
       "        text-align: right;\n",
       "    }\n",
       "</style>\n",
       "<table border=\"1\" class=\"dataframe\">\n",
       "  <thead>\n",
       "    <tr style=\"text-align: right;\">\n",
       "      <th></th>\n",
       "      <th>국가</th>\n",
       "      <th>10만명당_자살률</th>\n",
       "    </tr>\n",
       "  </thead>\n",
       "  <tbody>\n",
       "    <tr>\n",
       "      <td>0</td>\n",
       "      <td>스리랑카</td>\n",
       "      <td>34.6</td>\n",
       "    </tr>\n",
       "    <tr>\n",
       "      <td>1</td>\n",
       "      <td>가이아나</td>\n",
       "      <td>30.6</td>\n",
       "    </tr>\n",
       "    <tr>\n",
       "      <td>2</td>\n",
       "      <td>몽골</td>\n",
       "      <td>28.1</td>\n",
       "    </tr>\n",
       "    <tr>\n",
       "      <td>3</td>\n",
       "      <td>카자흐스탄</td>\n",
       "      <td>27.5</td>\n",
       "    </tr>\n",
       "    <tr>\n",
       "      <td>4</td>\n",
       "      <td>코트디부아르</td>\n",
       "      <td>27.2</td>\n",
       "    </tr>\n",
       "    <tr>\n",
       "      <td>...</td>\n",
       "      <td>...</td>\n",
       "      <td>...</td>\n",
       "    </tr>\n",
       "    <tr>\n",
       "      <td>178</td>\n",
       "      <td>브루나이</td>\n",
       "      <td>1.4</td>\n",
       "    </tr>\n",
       "    <tr>\n",
       "      <td>179</td>\n",
       "      <td>자메이카</td>\n",
       "      <td>1.4</td>\n",
       "    </tr>\n",
       "    <tr>\n",
       "      <td>180</td>\n",
       "      <td>그레나다</td>\n",
       "      <td>0.4</td>\n",
       "    </tr>\n",
       "    <tr>\n",
       "      <td>181</td>\n",
       "      <td>바베이도스</td>\n",
       "      <td>0.3</td>\n",
       "    </tr>\n",
       "    <tr>\n",
       "      <td>182</td>\n",
       "      <td>앤티가 바부다</td>\n",
       "      <td>0.0</td>\n",
       "    </tr>\n",
       "  </tbody>\n",
       "</table>\n",
       "<p>183 rows × 2 columns</p>\n",
       "</div>"
      ],
      "text/plain": [
       "          국가 10만명당_자살률\n",
       "0       스리랑카      34.6\n",
       "1       가이아나      30.6\n",
       "2         몽골      28.1\n",
       "3      카자흐스탄      27.5\n",
       "4     코트디부아르      27.2\n",
       "..       ...       ...\n",
       "178     브루나이       1.4\n",
       "179     자메이카       1.4\n",
       "180     그레나다       0.4\n",
       "181    바베이도스       0.3\n",
       "182  앤티가 바부다       0.0\n",
       "\n",
       "[183 rows x 2 columns]"
      ]
     },
     "execution_count": 109,
     "metadata": {},
     "output_type": "execute_result"
    }
   ],
   "source": [
    "suicide_df = pd.DataFrame(np.array([suicide_rank,suicide_num]).T,columns=['국가','10만명당_자살률'])\n",
    "suicide_df"
   ]
  },
  {
   "cell_type": "code",
   "execution_count": 110,
   "metadata": {},
   "outputs": [],
   "source": [
    "suicide_df.to_excel('prediction_GDP/suicide.xlsx',index=False)"
   ]
  },
  {
   "cell_type": "markdown",
   "metadata": {},
   "source": [
    "## 실업률\n",
    "집계 기준날짜가 약간 뒤죽박죽이기는 하지만 주요국가들의 집계일은 대개 2015년 이후이고, 업데이트되지 않았다는 것은 큰 변화는 없었다는 의미로 받아들일 수 있을 듯 하다."
   ]
  },
  {
   "cell_type": "code",
   "execution_count": 111,
   "metadata": {},
   "outputs": [],
   "source": [
    "url = 'https://ko.wikipedia.org/wiki/실업률에_따른_나라_목록'\n",
    "driver.get(url)"
   ]
  },
  {
   "cell_type": "code",
   "execution_count": 112,
   "metadata": {},
   "outputs": [
    {
     "data": {
      "text/plain": [
       "('아메리칸사모아 (미국)', '46.9')"
      ]
     },
     "execution_count": 112,
     "metadata": {},
     "output_type": "execute_result"
    }
   ],
   "source": [
    "country = driver.find_element_by_css_selector\\\n",
    "('#mw-content-text > div > table > tbody > tr:nth-child(4) > td:nth-child(1)').text\n",
    "rate = driver.find_element_by_css_selector\\\n",
    "('#mw-content-text > div > table > tbody > tr:nth-child(4) > td:nth-child(2)').text\n",
    "country, rate"
   ]
  },
  {
   "cell_type": "code",
   "execution_count": 113,
   "metadata": {},
   "outputs": [
    {
     "name": "stdout",
     "output_type": "stream",
     "text": [
      "['아프가니스탄', '알바니아', '알제리', '아메리칸사모아 (미국)', '안도라', '앵귈라 (영국)']\n",
      "['35.0', '14.2', '11.2', '46.9', '2.9', '7.8']\n"
     ]
    }
   ],
   "source": [
    "rank_list=[]\n",
    "num_list=[]\n",
    "for i in range(1,300):\n",
    "    try:\n",
    "        country = driver.find_element_by_css_selector\\\n",
    "        ('#mw-content-text > div > table > tbody > tr:nth-child({}) > td:nth-child(1)'.format(i)).text\n",
    "        num = driver.find_element_by_css_selector\\\n",
    "        ('#mw-content-text > div > table > tbody > tr:nth-child({}) > td:nth-child(2)'.format(i)).text\n",
    "        rank_list.append(country)\n",
    "        num_list.append(num)\n",
    "    except:\n",
    "        break\n",
    "print(rank_list[:6])\n",
    "print(num_list[:6])"
   ]
  },
  {
   "cell_type": "code",
   "execution_count": 114,
   "metadata": {},
   "outputs": [
    {
     "data": {
      "text/html": [
       "<div>\n",
       "<style scoped>\n",
       "    .dataframe tbody tr th:only-of-type {\n",
       "        vertical-align: middle;\n",
       "    }\n",
       "\n",
       "    .dataframe tbody tr th {\n",
       "        vertical-align: top;\n",
       "    }\n",
       "\n",
       "    .dataframe thead th {\n",
       "        text-align: right;\n",
       "    }\n",
       "</style>\n",
       "<table border=\"1\" class=\"dataframe\">\n",
       "  <thead>\n",
       "    <tr style=\"text-align: right;\">\n",
       "      <th></th>\n",
       "      <th>국가</th>\n",
       "      <th>실업률</th>\n",
       "    </tr>\n",
       "  </thead>\n",
       "  <tbody>\n",
       "    <tr>\n",
       "      <td>0</td>\n",
       "      <td>아프가니스탄</td>\n",
       "      <td>35.0</td>\n",
       "    </tr>\n",
       "    <tr>\n",
       "      <td>1</td>\n",
       "      <td>알바니아</td>\n",
       "      <td>14.2</td>\n",
       "    </tr>\n",
       "    <tr>\n",
       "      <td>2</td>\n",
       "      <td>알제리</td>\n",
       "      <td>11.2</td>\n",
       "    </tr>\n",
       "    <tr>\n",
       "      <td>3</td>\n",
       "      <td>아메리칸사모아 (미국)</td>\n",
       "      <td>46.9</td>\n",
       "    </tr>\n",
       "    <tr>\n",
       "      <td>4</td>\n",
       "      <td>안도라</td>\n",
       "      <td>2.9</td>\n",
       "    </tr>\n",
       "    <tr>\n",
       "      <td>...</td>\n",
       "      <td>...</td>\n",
       "      <td>...</td>\n",
       "    </tr>\n",
       "    <tr>\n",
       "      <td>194</td>\n",
       "      <td>왈리스 푸투나 (프랑스)</td>\n",
       "      <td>12.2</td>\n",
       "    </tr>\n",
       "    <tr>\n",
       "      <td>195</td>\n",
       "      <td>요르단 강 서안 지구 (팔레스타인 영토)</td>\n",
       "      <td>15.4</td>\n",
       "    </tr>\n",
       "    <tr>\n",
       "      <td>196</td>\n",
       "      <td>예멘</td>\n",
       "      <td>35.0</td>\n",
       "    </tr>\n",
       "    <tr>\n",
       "      <td>197</td>\n",
       "      <td>잠비아</td>\n",
       "      <td>15.0</td>\n",
       "    </tr>\n",
       "    <tr>\n",
       "      <td>198</td>\n",
       "      <td>짐바브웨</td>\n",
       "      <td>11.3 - 95.0</td>\n",
       "    </tr>\n",
       "  </tbody>\n",
       "</table>\n",
       "<p>199 rows × 2 columns</p>\n",
       "</div>"
      ],
      "text/plain": [
       "                         국가          실업률\n",
       "0                    아프가니스탄         35.0\n",
       "1                      알바니아         14.2\n",
       "2                       알제리         11.2\n",
       "3              아메리칸사모아 (미국)         46.9\n",
       "4                       안도라          2.9\n",
       "..                      ...          ...\n",
       "194           왈리스 푸투나 (프랑스)         12.2\n",
       "195  요르단 강 서안 지구 (팔레스타인 영토)         15.4\n",
       "196                      예멘         35.0\n",
       "197                     잠비아         15.0\n",
       "198                    짐바브웨  11.3 - 95.0\n",
       "\n",
       "[199 rows x 2 columns]"
      ]
     },
     "execution_count": 114,
     "metadata": {},
     "output_type": "execute_result"
    }
   ],
   "source": [
    "unemployment_df = pd.DataFrame(np.array([rank_list,num_list]).T,columns=['국가','실업률'])\n",
    "unemployment_df"
   ]
  },
  {
   "cell_type": "code",
   "execution_count": 115,
   "metadata": {},
   "outputs": [],
   "source": [
    "unemployment_df.to_excel('prediction_GDP/unemployment.xlsx',index=False)"
   ]
  },
  {
   "cell_type": "markdown",
   "metadata": {},
   "source": [
    "## 에이즈 감염률\n",
    "감염자 수 자체는 인구의 영향이 크므로 15~43세 성인 유병률을 기준으로 집계한다.(실제로 감염자 수 자체는 중국이 1위이다.)<br>\n",
    "해당 순위는 완벽하게 순서대로 집계되어있지는 않다. 자료출처는 2016년 CIA 월드 팩트북이며 중국만 2018년 자료이다."
   ]
  },
  {
   "cell_type": "code",
   "execution_count": 116,
   "metadata": {},
   "outputs": [],
   "source": [
    "url = 'https://ko.wikipedia.org/wiki/에이즈_감염자수에_따른_나라_목록'\n",
    "driver.get(url)"
   ]
  },
  {
   "cell_type": "code",
   "execution_count": 117,
   "metadata": {},
   "outputs": [
    {
     "data": {
      "text/plain": [
       "('중화인민공화국', '1.20')"
      ]
     },
     "execution_count": 117,
     "metadata": {},
     "output_type": "execute_result"
    }
   ],
   "source": [
    "country = driver.find_element_by_css_selector\\\n",
    "('#mw-content-text > div > table > tbody > tr:nth-child(1) > td:nth-child(1)').text\n",
    "rate = driver.find_element_by_css_selector\\\n",
    "('#mw-content-text > div > table > tbody > tr:nth-child(1) > td:nth-child(2)').text.replace('%',\"\")\n",
    "country, rate"
   ]
  },
  {
   "cell_type": "code",
   "execution_count": 118,
   "metadata": {},
   "outputs": [
    {
     "name": "stdout",
     "output_type": "stream",
     "text": [
      "['중화인민공화국', '에스와티니', '레소토', '보츠와나', '남아프리카 공화국', '나미비아']\n",
      "['1.20', '27.20', '25.00', '21.90', '18.90', '13.80']\n"
     ]
    }
   ],
   "source": [
    "rank_list=[]\n",
    "num_list=[]\n",
    "for i in range(1,300):\n",
    "    try:\n",
    "        country = driver.find_element_by_css_selector\\\n",
    "        ('#mw-content-text > div > table > tbody > tr:nth-child({}) > td:nth-child(1)'.format(i)).text\n",
    "        num = driver.find_element_by_css_selector\\\n",
    "        ('#mw-content-text > div > table > tbody > tr:nth-child({}) > td:nth-child(2)'.format(i)).text.replace(\"%\",\"\")\n",
    "        rank_list.append(country)\n",
    "        num_list.append(num)\n",
    "    except:\n",
    "        break\n",
    "print(rank_list[:6])\n",
    "print(num_list[:6])"
   ]
  },
  {
   "cell_type": "code",
   "execution_count": 119,
   "metadata": {},
   "outputs": [
    {
     "data": {
      "text/html": [
       "<div>\n",
       "<style scoped>\n",
       "    .dataframe tbody tr th:only-of-type {\n",
       "        vertical-align: middle;\n",
       "    }\n",
       "\n",
       "    .dataframe tbody tr th {\n",
       "        vertical-align: top;\n",
       "    }\n",
       "\n",
       "    .dataframe thead th {\n",
       "        text-align: right;\n",
       "    }\n",
       "</style>\n",
       "<table border=\"1\" class=\"dataframe\">\n",
       "  <thead>\n",
       "    <tr style=\"text-align: right;\">\n",
       "      <th></th>\n",
       "      <th>국가</th>\n",
       "      <th>에이즈감염률(%)</th>\n",
       "    </tr>\n",
       "  </thead>\n",
       "  <tbody>\n",
       "    <tr>\n",
       "      <td>0</td>\n",
       "      <td>중화인민공화국</td>\n",
       "      <td>1.20</td>\n",
       "    </tr>\n",
       "    <tr>\n",
       "      <td>1</td>\n",
       "      <td>에스와티니</td>\n",
       "      <td>27.20</td>\n",
       "    </tr>\n",
       "    <tr>\n",
       "      <td>2</td>\n",
       "      <td>레소토</td>\n",
       "      <td>25.00</td>\n",
       "    </tr>\n",
       "    <tr>\n",
       "      <td>3</td>\n",
       "      <td>보츠와나</td>\n",
       "      <td>21.90</td>\n",
       "    </tr>\n",
       "    <tr>\n",
       "      <td>4</td>\n",
       "      <td>남아프리카 공화국</td>\n",
       "      <td>18.90</td>\n",
       "    </tr>\n",
       "    <tr>\n",
       "      <td>...</td>\n",
       "      <td>...</td>\n",
       "      <td>...</td>\n",
       "    </tr>\n",
       "    <tr>\n",
       "      <td>111</td>\n",
       "      <td>체코</td>\n",
       "      <td>-</td>\n",
       "    </tr>\n",
       "    <tr>\n",
       "      <td>112</td>\n",
       "      <td>튀니지</td>\n",
       "      <td>-</td>\n",
       "    </tr>\n",
       "    <tr>\n",
       "      <td>113</td>\n",
       "      <td>세르비아</td>\n",
       "      <td>-</td>\n",
       "    </tr>\n",
       "    <tr>\n",
       "      <td>114</td>\n",
       "      <td>레바논</td>\n",
       "      <td>-</td>\n",
       "    </tr>\n",
       "    <tr>\n",
       "      <td>115</td>\n",
       "      <td>크로아티아</td>\n",
       "      <td>-</td>\n",
       "    </tr>\n",
       "  </tbody>\n",
       "</table>\n",
       "<p>116 rows × 2 columns</p>\n",
       "</div>"
      ],
      "text/plain": [
       "            국가 에이즈감염률(%)\n",
       "0      중화인민공화국      1.20\n",
       "1        에스와티니     27.20\n",
       "2          레소토     25.00\n",
       "3         보츠와나     21.90\n",
       "4    남아프리카 공화국     18.90\n",
       "..         ...       ...\n",
       "111         체코         -\n",
       "112        튀니지         -\n",
       "113       세르비아         -\n",
       "114        레바논         -\n",
       "115      크로아티아         -\n",
       "\n",
       "[116 rows x 2 columns]"
      ]
     },
     "execution_count": 119,
     "metadata": {},
     "output_type": "execute_result"
    }
   ],
   "source": [
    "# 나중에 계산에 혼란을 주지 않기 위해 감염률의 %는 일부로 생략했다.\n",
    "\n",
    "aids_df = pd.DataFrame(np.array([rank_list,num_list]).T,columns=['국가','에이즈감염률(%)'])\n",
    "aids_df"
   ]
  },
  {
   "cell_type": "code",
   "execution_count": 120,
   "metadata": {},
   "outputs": [
    {
     "data": {
      "text/plain": [
       "105      알제리\n",
       "106    방글라데시\n",
       "107      이집트\n",
       "108       예멘\n",
       "109     스리랑카\n",
       "110     불가리아\n",
       "111       체코\n",
       "112      튀니지\n",
       "113     세르비아\n",
       "114      레바논\n",
       "115    크로아티아\n",
       "Name: 국가, dtype: object"
      ]
     },
     "execution_count": 120,
     "metadata": {},
     "output_type": "execute_result"
    }
   ],
   "source": [
    "# -로 표기된 국가들이 몇 있는데 다행히 전체 감염자 수는 공개되어있다. 이 감염자 수를 전체 인구로 나누도록 하겠다.\n",
    "aids_df[aids_df['에이즈감염률(%)']=='-']['국가']"
   ]
  },
  {
   "cell_type": "code",
   "execution_count": 121,
   "metadata": {},
   "outputs": [
    {
     "data": {
      "text/plain": [
       "116"
      ]
     },
     "execution_count": 121,
     "metadata": {},
     "output_type": "execute_result"
    }
   ],
   "source": [
    "len(aids_df)"
   ]
  },
  {
   "cell_type": "code",
   "execution_count": 122,
   "metadata": {},
   "outputs": [
    {
     "name": "stdout",
     "output_type": "stream",
     "text": [
      "['알제리', '방글라데시', '이집트', '예멘', '스리랑카', '불가리아', '체코', '튀니지', '세르비아', '레바논', '크로아티아']\n",
      "['13,000', '12,000', '11,000', '9,900', '4,000', '3,500', '3,400', '2,900', '2,700', '2,200', '1,500']\n"
     ]
    }
   ],
   "source": [
    "rank_temp=[]\n",
    "num_temp=[]\n",
    "for i in range(106,117):\n",
    "    try:\n",
    "        country = driver.find_element_by_css_selector\\\n",
    "        ('#mw-content-text > div > table > tbody > tr:nth-child({}) > td:nth-child(1)'.format(i)).text\n",
    "        num = driver.find_element_by_css_selector\\\n",
    "        ('#mw-content-text > div > table > tbody > tr:nth-child({}) > td:nth-child(3)'.format(i)).text.replace(\"%\",\"\")\n",
    "        rank_temp.append(country)\n",
    "        num_temp.append(num)\n",
    "    except:\n",
    "        break\n",
    "print(rank_temp)\n",
    "print(num_temp)"
   ]
  },
  {
   "cell_type": "code",
   "execution_count": 123,
   "metadata": {},
   "outputs": [
    {
     "data": {
      "text/html": [
       "<div>\n",
       "<style scoped>\n",
       "    .dataframe tbody tr th:only-of-type {\n",
       "        vertical-align: middle;\n",
       "    }\n",
       "\n",
       "    .dataframe tbody tr th {\n",
       "        vertical-align: top;\n",
       "    }\n",
       "\n",
       "    .dataframe thead th {\n",
       "        text-align: right;\n",
       "    }\n",
       "</style>\n",
       "<table border=\"1\" class=\"dataframe\">\n",
       "  <thead>\n",
       "    <tr style=\"text-align: right;\">\n",
       "      <th></th>\n",
       "      <th>국가</th>\n",
       "      <th>에이즈감염자</th>\n",
       "    </tr>\n",
       "  </thead>\n",
       "  <tbody>\n",
       "    <tr>\n",
       "      <td>0</td>\n",
       "      <td>알제리</td>\n",
       "      <td>13,000</td>\n",
       "    </tr>\n",
       "    <tr>\n",
       "      <td>1</td>\n",
       "      <td>방글라데시</td>\n",
       "      <td>12,000</td>\n",
       "    </tr>\n",
       "    <tr>\n",
       "      <td>2</td>\n",
       "      <td>이집트</td>\n",
       "      <td>11,000</td>\n",
       "    </tr>\n",
       "    <tr>\n",
       "      <td>3</td>\n",
       "      <td>예멘</td>\n",
       "      <td>9,900</td>\n",
       "    </tr>\n",
       "    <tr>\n",
       "      <td>4</td>\n",
       "      <td>스리랑카</td>\n",
       "      <td>4,000</td>\n",
       "    </tr>\n",
       "    <tr>\n",
       "      <td>5</td>\n",
       "      <td>불가리아</td>\n",
       "      <td>3,500</td>\n",
       "    </tr>\n",
       "    <tr>\n",
       "      <td>6</td>\n",
       "      <td>체코</td>\n",
       "      <td>3,400</td>\n",
       "    </tr>\n",
       "    <tr>\n",
       "      <td>7</td>\n",
       "      <td>튀니지</td>\n",
       "      <td>2,900</td>\n",
       "    </tr>\n",
       "    <tr>\n",
       "      <td>8</td>\n",
       "      <td>세르비아</td>\n",
       "      <td>2,700</td>\n",
       "    </tr>\n",
       "    <tr>\n",
       "      <td>9</td>\n",
       "      <td>레바논</td>\n",
       "      <td>2,200</td>\n",
       "    </tr>\n",
       "    <tr>\n",
       "      <td>10</td>\n",
       "      <td>크로아티아</td>\n",
       "      <td>1,500</td>\n",
       "    </tr>\n",
       "  </tbody>\n",
       "</table>\n",
       "</div>"
      ],
      "text/plain": [
       "       국가  에이즈감염자\n",
       "0     알제리  13,000\n",
       "1   방글라데시  12,000\n",
       "2     이집트  11,000\n",
       "3      예멘   9,900\n",
       "4    스리랑카   4,000\n",
       "5    불가리아   3,500\n",
       "6      체코   3,400\n",
       "7     튀니지   2,900\n",
       "8    세르비아   2,700\n",
       "9     레바논   2,200\n",
       "10  크로아티아   1,500"
      ]
     },
     "execution_count": 123,
     "metadata": {},
     "output_type": "execute_result"
    }
   ],
   "source": [
    "temp_df = pd.DataFrame(np.array([rank_temp,num_temp]).T,columns=['국가','에이즈감염자'])\n",
    "temp_df"
   ]
  },
  {
   "cell_type": "code",
   "execution_count": 129,
   "metadata": {},
   "outputs": [
    {
     "data": {
      "text/html": [
       "<div>\n",
       "<style scoped>\n",
       "    .dataframe tbody tr th:only-of-type {\n",
       "        vertical-align: middle;\n",
       "    }\n",
       "\n",
       "    .dataframe tbody tr th {\n",
       "        vertical-align: top;\n",
       "    }\n",
       "\n",
       "    .dataframe thead th {\n",
       "        text-align: right;\n",
       "    }\n",
       "</style>\n",
       "<table border=\"1\" class=\"dataframe\">\n",
       "  <thead>\n",
       "    <tr style=\"text-align: right;\">\n",
       "      <th></th>\n",
       "      <th>국가</th>\n",
       "      <th>인구</th>\n",
       "    </tr>\n",
       "  </thead>\n",
       "  <tbody>\n",
       "    <tr>\n",
       "      <td>0</td>\n",
       "      <td>중화인민공화국</td>\n",
       "      <td>1,402,378,640</td>\n",
       "    </tr>\n",
       "    <tr>\n",
       "      <td>1</td>\n",
       "      <td>인도</td>\n",
       "      <td>1,360,657,785</td>\n",
       "    </tr>\n",
       "    <tr>\n",
       "      <td>2</td>\n",
       "      <td>미국</td>\n",
       "      <td>329,479,633</td>\n",
       "    </tr>\n",
       "    <tr>\n",
       "      <td>3</td>\n",
       "      <td>인도네시아</td>\n",
       "      <td>266,911,900</td>\n",
       "    </tr>\n",
       "    <tr>\n",
       "      <td>4</td>\n",
       "      <td>파키스탄</td>\n",
       "      <td>219,181,520</td>\n",
       "    </tr>\n",
       "    <tr>\n",
       "      <td>...</td>\n",
       "      <td>...</td>\n",
       "      <td>...</td>\n",
       "    </tr>\n",
       "    <tr>\n",
       "      <td>237</td>\n",
       "      <td>토켈라우</td>\n",
       "      <td>1,400</td>\n",
       "    </tr>\n",
       "    <tr>\n",
       "      <td>238</td>\n",
       "      <td>세인트헬레나</td>\n",
       "      <td>7,729</td>\n",
       "    </tr>\n",
       "    <tr>\n",
       "      <td>239</td>\n",
       "      <td>바티칸 시국</td>\n",
       "      <td>825</td>\n",
       "    </tr>\n",
       "    <tr>\n",
       "      <td>240</td>\n",
       "      <td>코코스 제도</td>\n",
       "      <td>538</td>\n",
       "    </tr>\n",
       "    <tr>\n",
       "      <td>241</td>\n",
       "      <td>핏케언 제도</td>\n",
       "      <td>50</td>\n",
       "    </tr>\n",
       "  </tbody>\n",
       "</table>\n",
       "<p>242 rows × 2 columns</p>\n",
       "</div>"
      ],
      "text/plain": [
       "          국가             인구\n",
       "0    중화인민공화국  1,402,378,640\n",
       "1         인도  1,360,657,785\n",
       "2         미국    329,479,633\n",
       "3      인도네시아    266,911,900\n",
       "4       파키스탄    219,181,520\n",
       "..       ...            ...\n",
       "237     토켈라우          1,400\n",
       "238   세인트헬레나          7,729\n",
       "239   바티칸 시국            825\n",
       "240   코코스 제도            538\n",
       "241   핏케언 제도             50\n",
       "\n",
       "[242 rows x 2 columns]"
      ]
     },
     "execution_count": 129,
     "metadata": {},
     "output_type": "execute_result"
    }
   ],
   "source": [
    "pop_df = pd.read_excel('prediction_GDP/pop.xlsx')\n",
    "pop_df"
   ]
  },
  {
   "cell_type": "code",
   "execution_count": 130,
   "metadata": {},
   "outputs": [
    {
     "data": {
      "text/html": [
       "<div>\n",
       "<style scoped>\n",
       "    .dataframe tbody tr th:only-of-type {\n",
       "        vertical-align: middle;\n",
       "    }\n",
       "\n",
       "    .dataframe tbody tr th {\n",
       "        vertical-align: top;\n",
       "    }\n",
       "\n",
       "    .dataframe thead th {\n",
       "        text-align: right;\n",
       "    }\n",
       "</style>\n",
       "<table border=\"1\" class=\"dataframe\">\n",
       "  <thead>\n",
       "    <tr style=\"text-align: right;\">\n",
       "      <th></th>\n",
       "      <th>국가</th>\n",
       "      <th>에이즈감염자</th>\n",
       "      <th>인구</th>\n",
       "    </tr>\n",
       "  </thead>\n",
       "  <tbody>\n",
       "    <tr>\n",
       "      <td>0</td>\n",
       "      <td>알제리</td>\n",
       "      <td>13,000</td>\n",
       "      <td>44,851,834</td>\n",
       "    </tr>\n",
       "    <tr>\n",
       "      <td>1</td>\n",
       "      <td>방글라데시</td>\n",
       "      <td>12,000</td>\n",
       "      <td>169,220,871</td>\n",
       "    </tr>\n",
       "    <tr>\n",
       "      <td>2</td>\n",
       "      <td>이집트</td>\n",
       "      <td>11,000</td>\n",
       "      <td>101,712,297</td>\n",
       "    </tr>\n",
       "    <tr>\n",
       "      <td>3</td>\n",
       "      <td>예멘</td>\n",
       "      <td>9,900</td>\n",
       "      <td>29,579,986</td>\n",
       "    </tr>\n",
       "    <tr>\n",
       "      <td>4</td>\n",
       "      <td>스리랑카</td>\n",
       "      <td>4,000</td>\n",
       "      <td>21,670,112</td>\n",
       "    </tr>\n",
       "    <tr>\n",
       "      <td>5</td>\n",
       "      <td>불가리아</td>\n",
       "      <td>3,500</td>\n",
       "      <td>7,000,039</td>\n",
       "    </tr>\n",
       "    <tr>\n",
       "      <td>6</td>\n",
       "      <td>체코</td>\n",
       "      <td>3,400</td>\n",
       "      <td>10,649,800</td>\n",
       "    </tr>\n",
       "    <tr>\n",
       "      <td>7</td>\n",
       "      <td>튀니지</td>\n",
       "      <td>2,900</td>\n",
       "      <td>11,551,448</td>\n",
       "    </tr>\n",
       "    <tr>\n",
       "      <td>8</td>\n",
       "      <td>레바논</td>\n",
       "      <td>2,200</td>\n",
       "      <td>6,065,922</td>\n",
       "    </tr>\n",
       "    <tr>\n",
       "      <td>9</td>\n",
       "      <td>크로아티아</td>\n",
       "      <td>1,500</td>\n",
       "      <td>4,105,493</td>\n",
       "    </tr>\n",
       "  </tbody>\n",
       "</table>\n",
       "</div>"
      ],
      "text/plain": [
       "      국가  에이즈감염자           인구\n",
       "0    알제리  13,000   44,851,834\n",
       "1  방글라데시  12,000  169,220,871\n",
       "2    이집트  11,000  101,712,297\n",
       "3     예멘   9,900   29,579,986\n",
       "4   스리랑카   4,000   21,670,112\n",
       "5   불가리아   3,500    7,000,039\n",
       "6     체코   3,400   10,649,800\n",
       "7    튀니지   2,900   11,551,448\n",
       "8    레바논   2,200    6,065,922\n",
       "9  크로아티아   1,500    4,105,493"
      ]
     },
     "execution_count": 130,
     "metadata": {},
     "output_type": "execute_result"
    }
   ],
   "source": [
    "temp_df2 = pd.merge(temp_df,pop_df,how='inner',on='국가')\n",
    "temp_df2"
   ]
  },
  {
   "cell_type": "code",
   "execution_count": 131,
   "metadata": {},
   "outputs": [
    {
     "name": "stdout",
     "output_type": "stream",
     "text": [
      "세르비아[9]\n"
     ]
    }
   ],
   "source": [
    "# 세르비아가 빠졌으니 찾아준다.(위키백과 페이지마다의 표기 차이로 인한 불일치는 항상 고려해야한다.)\n",
    "for country in pop_df['국가']:\n",
    "    if country[:4] == '세르비아':\n",
    "        print(country)"
   ]
  },
  {
   "cell_type": "code",
   "execution_count": 132,
   "metadata": {},
   "outputs": [
    {
     "data": {
      "text/plain": [
       "105    7,001,444\n",
       "Name: 인구, dtype: object"
      ]
     },
     "execution_count": 132,
     "metadata": {},
     "output_type": "execute_result"
    }
   ],
   "source": [
    "# 세르비아[9]로 되어있으니 손으로 찾아주어서 인구를 찾으면 된다.\n",
    "cond = pop_df['국가'] == '세르비아[9]'\n",
    "pop_df[cond]['인구']"
   ]
  },
  {
   "cell_type": "code",
   "execution_count": 133,
   "metadata": {},
   "outputs": [],
   "source": [
    "temp_df2 = temp_df2.append({'국가':'세르비아','에이즈감염자':'2,700','인구':'7,001,444'},ignore_index=True)\n",
    "# 에이즈감염자와 인구를 숫자형으로 바꾸고 나눠 age_df에 추가\n",
    "for i in range(len(temp_df2)):\n",
    "    row = temp_df2.iloc[i]\n",
    "    row[1] = int(row[1].replace(\",\",\"\"))\n",
    "    row[2] = int(row[2].replace(\",\",\"\"))"
   ]
  },
  {
   "cell_type": "code",
   "execution_count": 134,
   "metadata": {},
   "outputs": [],
   "source": [
    "temp_df2['에이즈감염률(%)'] = temp_df2['에이즈감염자']/temp_df2['인구']"
   ]
  },
  {
   "cell_type": "code",
   "execution_count": 135,
   "metadata": {},
   "outputs": [
    {
     "data": {
      "text/html": [
       "<div>\n",
       "<style scoped>\n",
       "    .dataframe tbody tr th:only-of-type {\n",
       "        vertical-align: middle;\n",
       "    }\n",
       "\n",
       "    .dataframe tbody tr th {\n",
       "        vertical-align: top;\n",
       "    }\n",
       "\n",
       "    .dataframe thead th {\n",
       "        text-align: right;\n",
       "    }\n",
       "</style>\n",
       "<table border=\"1\" class=\"dataframe\">\n",
       "  <thead>\n",
       "    <tr style=\"text-align: right;\">\n",
       "      <th></th>\n",
       "      <th>국가</th>\n",
       "      <th>에이즈감염률(%)</th>\n",
       "    </tr>\n",
       "  </thead>\n",
       "  <tbody>\n",
       "    <tr>\n",
       "      <td>0</td>\n",
       "      <td>알제리</td>\n",
       "      <td>0.000289843</td>\n",
       "    </tr>\n",
       "    <tr>\n",
       "      <td>1</td>\n",
       "      <td>방글라데시</td>\n",
       "      <td>7.09132e-05</td>\n",
       "    </tr>\n",
       "    <tr>\n",
       "      <td>2</td>\n",
       "      <td>이집트</td>\n",
       "      <td>0.000108148</td>\n",
       "    </tr>\n",
       "    <tr>\n",
       "      <td>3</td>\n",
       "      <td>예멘</td>\n",
       "      <td>0.000334686</td>\n",
       "    </tr>\n",
       "    <tr>\n",
       "      <td>4</td>\n",
       "      <td>스리랑카</td>\n",
       "      <td>0.000184586</td>\n",
       "    </tr>\n",
       "    <tr>\n",
       "      <td>5</td>\n",
       "      <td>불가리아</td>\n",
       "      <td>0.000499997</td>\n",
       "    </tr>\n",
       "    <tr>\n",
       "      <td>6</td>\n",
       "      <td>체코</td>\n",
       "      <td>0.000319255</td>\n",
       "    </tr>\n",
       "    <tr>\n",
       "      <td>7</td>\n",
       "      <td>튀니지</td>\n",
       "      <td>0.000251051</td>\n",
       "    </tr>\n",
       "    <tr>\n",
       "      <td>8</td>\n",
       "      <td>레바논</td>\n",
       "      <td>0.000362682</td>\n",
       "    </tr>\n",
       "    <tr>\n",
       "      <td>9</td>\n",
       "      <td>크로아티아</td>\n",
       "      <td>0.000365364</td>\n",
       "    </tr>\n",
       "    <tr>\n",
       "      <td>10</td>\n",
       "      <td>세르비아</td>\n",
       "      <td>0.000385635</td>\n",
       "    </tr>\n",
       "  </tbody>\n",
       "</table>\n",
       "</div>"
      ],
      "text/plain": [
       "       국가    에이즈감염률(%)\n",
       "0     알제리  0.000289843\n",
       "1   방글라데시  7.09132e-05\n",
       "2     이집트  0.000108148\n",
       "3      예멘  0.000334686\n",
       "4    스리랑카  0.000184586\n",
       "5    불가리아  0.000499997\n",
       "6      체코  0.000319255\n",
       "7     튀니지  0.000251051\n",
       "8     레바논  0.000362682\n",
       "9   크로아티아  0.000365364\n",
       "10   세르비아  0.000385635"
      ]
     },
     "execution_count": 135,
     "metadata": {},
     "output_type": "execute_result"
    }
   ],
   "source": [
    "temp_df2.drop(['인구','에이즈감염자'],axis=1)"
   ]
  },
  {
   "cell_type": "code",
   "execution_count": 136,
   "metadata": {},
   "outputs": [],
   "source": [
    "# 해당 국가들의 감염률 수치는 무시해도 좋을 수준이므로 0 값으로 대체하도록 한다.\n",
    "\n",
    "def changing(df):\n",
    "    if df['국가'] in rank_temp:\n",
    "        df['에이즈감염률(%)'] = 0\n",
    "    return df"
   ]
  },
  {
   "cell_type": "code",
   "execution_count": 137,
   "metadata": {},
   "outputs": [
    {
     "data": {
      "text/html": [
       "<div>\n",
       "<style scoped>\n",
       "    .dataframe tbody tr th:only-of-type {\n",
       "        vertical-align: middle;\n",
       "    }\n",
       "\n",
       "    .dataframe tbody tr th {\n",
       "        vertical-align: top;\n",
       "    }\n",
       "\n",
       "    .dataframe thead th {\n",
       "        text-align: right;\n",
       "    }\n",
       "</style>\n",
       "<table border=\"1\" class=\"dataframe\">\n",
       "  <thead>\n",
       "    <tr style=\"text-align: right;\">\n",
       "      <th></th>\n",
       "      <th>국가</th>\n",
       "      <th>에이즈감염률(%)</th>\n",
       "    </tr>\n",
       "  </thead>\n",
       "  <tbody>\n",
       "    <tr>\n",
       "      <td>0</td>\n",
       "      <td>중화인민공화국</td>\n",
       "      <td>1.20</td>\n",
       "    </tr>\n",
       "    <tr>\n",
       "      <td>1</td>\n",
       "      <td>에스와티니</td>\n",
       "      <td>27.20</td>\n",
       "    </tr>\n",
       "    <tr>\n",
       "      <td>2</td>\n",
       "      <td>레소토</td>\n",
       "      <td>25.00</td>\n",
       "    </tr>\n",
       "    <tr>\n",
       "      <td>3</td>\n",
       "      <td>보츠와나</td>\n",
       "      <td>21.90</td>\n",
       "    </tr>\n",
       "    <tr>\n",
       "      <td>4</td>\n",
       "      <td>남아프리카 공화국</td>\n",
       "      <td>18.90</td>\n",
       "    </tr>\n",
       "    <tr>\n",
       "      <td>...</td>\n",
       "      <td>...</td>\n",
       "      <td>...</td>\n",
       "    </tr>\n",
       "    <tr>\n",
       "      <td>111</td>\n",
       "      <td>체코</td>\n",
       "      <td>0</td>\n",
       "    </tr>\n",
       "    <tr>\n",
       "      <td>112</td>\n",
       "      <td>튀니지</td>\n",
       "      <td>0</td>\n",
       "    </tr>\n",
       "    <tr>\n",
       "      <td>113</td>\n",
       "      <td>세르비아</td>\n",
       "      <td>0</td>\n",
       "    </tr>\n",
       "    <tr>\n",
       "      <td>114</td>\n",
       "      <td>레바논</td>\n",
       "      <td>0</td>\n",
       "    </tr>\n",
       "    <tr>\n",
       "      <td>115</td>\n",
       "      <td>크로아티아</td>\n",
       "      <td>0</td>\n",
       "    </tr>\n",
       "  </tbody>\n",
       "</table>\n",
       "<p>116 rows × 2 columns</p>\n",
       "</div>"
      ],
      "text/plain": [
       "            국가 에이즈감염률(%)\n",
       "0      중화인민공화국      1.20\n",
       "1        에스와티니     27.20\n",
       "2          레소토     25.00\n",
       "3         보츠와나     21.90\n",
       "4    남아프리카 공화국     18.90\n",
       "..         ...       ...\n",
       "111         체코         0\n",
       "112        튀니지         0\n",
       "113       세르비아         0\n",
       "114        레바논         0\n",
       "115      크로아티아         0\n",
       "\n",
       "[116 rows x 2 columns]"
      ]
     },
     "execution_count": 137,
     "metadata": {},
     "output_type": "execute_result"
    }
   ],
   "source": [
    "aids_df.apply(changing,axis=1)"
   ]
  },
  {
   "cell_type": "code",
   "execution_count": 138,
   "metadata": {},
   "outputs": [],
   "source": [
    "aids_df.to_excel('prediction_GDP/aids.xlsx',index=False)"
   ]
  },
  {
   "cell_type": "markdown",
   "metadata": {},
   "source": [
    "## 언론자유지수\n",
    "국경 없는 기자회(RSF)에서 매년 언론자유지수를 발표한다.<br>\n",
    "'https://rsf.org/en/ranking' 를 통해 자료를 얻을 수도 있지만 위키백과에 2019년 자료가 똑같이 업데이트되어있으니 그것을 이용하도록 한다."
   ]
  },
  {
   "cell_type": "code",
   "execution_count": 139,
   "metadata": {},
   "outputs": [],
   "source": [
    "url = 'https://ko.wikipedia.org/wiki/언론_자유_지수'\n",
    "driver.get(url)"
   ]
  },
  {
   "cell_type": "code",
   "execution_count": 140,
   "metadata": {},
   "outputs": [
    {
     "data": {
      "text/plain": [
       "('노르웨이', '7,82')"
      ]
     },
     "execution_count": 140,
     "metadata": {},
     "output_type": "execute_result"
    }
   ],
   "source": [
    "country = driver.find_element_by_css_selector\\\n",
    "('#mw-content-text > div > table > tbody > tr:nth-child(1) > td:nth-child(1)').text\n",
    "num = driver.find_element_by_css_selector\\\n",
    "('#mw-content-text > div > table > tbody > tr:nth-child(1) > td:nth-child(2)').text.split('\\n')[1]\n",
    "country, num"
   ]
  },
  {
   "cell_type": "code",
   "execution_count": 141,
   "metadata": {},
   "outputs": [
    {
     "name": "stdout",
     "output_type": "stream",
     "text": [
      "['노르웨이', '핀란드', '스웨덴', '네덜란드', '덴마크', '스위스']\n",
      "['7.82', '7.90', '8.31', '8.63', '9.87', '10.52']\n"
     ]
    }
   ],
   "source": [
    "rank_list=[]\n",
    "num_list=[]\n",
    "for i in range(1,300):\n",
    "    try:\n",
    "        country = driver.find_element_by_css_selector\\\n",
    "        ('#mw-content-text > div > table > tbody > tr:nth-child({}) > td:nth-child(1)'.format(i)).text\n",
    "        num = driver.find_element_by_css_selector\\\n",
    "        ('#mw-content-text > div > table > tbody > tr:nth-child({}) > td:nth-child(2)'.format(i)).text.split('\\n')[1].replace(\",\",\".\")\n",
    "        rank_list.append(country)\n",
    "        num_list.append(num)\n",
    "    except:\n",
    "        break\n",
    "print(rank_list[:6])\n",
    "print(num_list[:6])"
   ]
  },
  {
   "cell_type": "code",
   "execution_count": 142,
   "metadata": {},
   "outputs": [
    {
     "data": {
      "text/html": [
       "<div>\n",
       "<style scoped>\n",
       "    .dataframe tbody tr th:only-of-type {\n",
       "        vertical-align: middle;\n",
       "    }\n",
       "\n",
       "    .dataframe tbody tr th {\n",
       "        vertical-align: top;\n",
       "    }\n",
       "\n",
       "    .dataframe thead th {\n",
       "        text-align: right;\n",
       "    }\n",
       "</style>\n",
       "<table border=\"1\" class=\"dataframe\">\n",
       "  <thead>\n",
       "    <tr style=\"text-align: right;\">\n",
       "      <th></th>\n",
       "      <th>국가</th>\n",
       "      <th>언론자유지수</th>\n",
       "    </tr>\n",
       "  </thead>\n",
       "  <tbody>\n",
       "    <tr>\n",
       "      <td>0</td>\n",
       "      <td>노르웨이</td>\n",
       "      <td>7.82</td>\n",
       "    </tr>\n",
       "    <tr>\n",
       "      <td>1</td>\n",
       "      <td>핀란드</td>\n",
       "      <td>7.90</td>\n",
       "    </tr>\n",
       "    <tr>\n",
       "      <td>2</td>\n",
       "      <td>스웨덴</td>\n",
       "      <td>8.31</td>\n",
       "    </tr>\n",
       "    <tr>\n",
       "      <td>3</td>\n",
       "      <td>네덜란드</td>\n",
       "      <td>8.63</td>\n",
       "    </tr>\n",
       "    <tr>\n",
       "      <td>4</td>\n",
       "      <td>덴마크</td>\n",
       "      <td>9.87</td>\n",
       "    </tr>\n",
       "    <tr>\n",
       "      <td>...</td>\n",
       "      <td>...</td>\n",
       "      <td>...</td>\n",
       "    </tr>\n",
       "    <tr>\n",
       "      <td>175</td>\n",
       "      <td>베트남</td>\n",
       "      <td>74.93</td>\n",
       "    </tr>\n",
       "    <tr>\n",
       "      <td>176</td>\n",
       "      <td>중국</td>\n",
       "      <td>78.92</td>\n",
       "    </tr>\n",
       "    <tr>\n",
       "      <td>177</td>\n",
       "      <td>에리트레아</td>\n",
       "      <td>80.26</td>\n",
       "    </tr>\n",
       "    <tr>\n",
       "      <td>178</td>\n",
       "      <td>조선민주주의인민공화국</td>\n",
       "      <td>83.40</td>\n",
       "    </tr>\n",
       "    <tr>\n",
       "      <td>179</td>\n",
       "      <td>투르크메니스탄</td>\n",
       "      <td>85.44</td>\n",
       "    </tr>\n",
       "  </tbody>\n",
       "</table>\n",
       "<p>180 rows × 2 columns</p>\n",
       "</div>"
      ],
      "text/plain": [
       "              국가 언론자유지수\n",
       "0           노르웨이   7.82\n",
       "1            핀란드   7.90\n",
       "2            스웨덴   8.31\n",
       "3           네덜란드   8.63\n",
       "4            덴마크   9.87\n",
       "..           ...    ...\n",
       "175          베트남  74.93\n",
       "176           중국  78.92\n",
       "177        에리트레아  80.26\n",
       "178  조선민주주의인민공화국  83.40\n",
       "179      투르크메니스탄  85.44\n",
       "\n",
       "[180 rows x 2 columns]"
      ]
     },
     "execution_count": 142,
     "metadata": {},
     "output_type": "execute_result"
    }
   ],
   "source": [
    "press_freedom_df = pd.DataFrame(np.array([rank_list,num_list]).T,columns=['국가','언론자유지수'])\n",
    "press_freedom_df"
   ]
  },
  {
   "cell_type": "code",
   "execution_count": 143,
   "metadata": {},
   "outputs": [],
   "source": [
    "press_freedom_df.to_excel('prediction_GDP/press_freedom.xlsx',index=False)"
   ]
  },
  {
   "cell_type": "markdown",
   "metadata": {},
   "source": [
    "## 민주주의 지수\n",
    "영국의 '이코노미스트'에서 발표된 2018년 자료를 기준으로 한다."
   ]
  },
  {
   "cell_type": "code",
   "execution_count": 144,
   "metadata": {},
   "outputs": [],
   "source": [
    "url = 'https://ko.wikipedia.org/wiki/민주주의_지수'\n",
    "driver.get(url)"
   ]
  },
  {
   "cell_type": "code",
   "execution_count": 145,
   "metadata": {},
   "outputs": [
    {
     "data": {
      "text/plain": [
       "('노르웨이', '9.87')"
      ]
     },
     "execution_count": 145,
     "metadata": {},
     "output_type": "execute_result"
    }
   ],
   "source": [
    "country = driver.find_element_by_css_selector\\\n",
    "('#mw-content-text > div > table:nth-child(7) > tbody > tr:nth-child(1) > td:nth-child(2)').text\n",
    "num = driver.find_element_by_css_selector\\\n",
    "('#mw-content-text > div > table:nth-child(7) > tbody > tr:nth-child(1) > td:nth-child(3)').text\n",
    "country, num"
   ]
  },
  {
   "cell_type": "code",
   "execution_count": 146,
   "metadata": {},
   "outputs": [
    {
     "name": "stdout",
     "output_type": "stream",
     "text": [
      "['노르웨이', '아이슬란드', '스웨덴', '뉴질랜드', '덴마크', '캐나다']\n",
      "['9.87', '9.58', '9.39', '9.26', '9.22', '9.15']\n"
     ]
    }
   ],
   "source": [
    "rank_list=[]\n",
    "num_list=[]\n",
    "for i in range(1,300):\n",
    "    try:\n",
    "        country = driver.find_element_by_css_selector\\\n",
    "        ('#mw-content-text > div > table:nth-child(7) > tbody > tr:nth-child({}) > td:nth-child(2)'.format(i)).text\n",
    "        num = driver.find_element_by_css_selector\\\n",
    "        ('#mw-content-text > div > table:nth-child(7) > tbody > tr:nth-child({}) > td:nth-child(3)'.format(i)).text\n",
    "        rank_list.append(country)\n",
    "        num_list.append(num)\n",
    "    except:\n",
    "        break\n",
    "print(rank_list[:6])\n",
    "print(num_list[:6])"
   ]
  },
  {
   "cell_type": "code",
   "execution_count": 147,
   "metadata": {},
   "outputs": [
    {
     "data": {
      "text/html": [
       "<div>\n",
       "<style scoped>\n",
       "    .dataframe tbody tr th:only-of-type {\n",
       "        vertical-align: middle;\n",
       "    }\n",
       "\n",
       "    .dataframe tbody tr th {\n",
       "        vertical-align: top;\n",
       "    }\n",
       "\n",
       "    .dataframe thead th {\n",
       "        text-align: right;\n",
       "    }\n",
       "</style>\n",
       "<table border=\"1\" class=\"dataframe\">\n",
       "  <thead>\n",
       "    <tr style=\"text-align: right;\">\n",
       "      <th></th>\n",
       "      <th>국가</th>\n",
       "      <th>민주주의지수</th>\n",
       "    </tr>\n",
       "  </thead>\n",
       "  <tbody>\n",
       "    <tr>\n",
       "      <td>0</td>\n",
       "      <td>노르웨이</td>\n",
       "      <td>9.87</td>\n",
       "    </tr>\n",
       "    <tr>\n",
       "      <td>1</td>\n",
       "      <td>아이슬란드</td>\n",
       "      <td>9.58</td>\n",
       "    </tr>\n",
       "    <tr>\n",
       "      <td>2</td>\n",
       "      <td>스웨덴</td>\n",
       "      <td>9.39</td>\n",
       "    </tr>\n",
       "    <tr>\n",
       "      <td>3</td>\n",
       "      <td>뉴질랜드</td>\n",
       "      <td>9.26</td>\n",
       "    </tr>\n",
       "    <tr>\n",
       "      <td>4</td>\n",
       "      <td>덴마크</td>\n",
       "      <td>9.22</td>\n",
       "    </tr>\n",
       "    <tr>\n",
       "      <td>...</td>\n",
       "      <td>...</td>\n",
       "      <td>...</td>\n",
       "    </tr>\n",
       "    <tr>\n",
       "      <td>162</td>\n",
       "      <td>차드</td>\n",
       "      <td>1.61</td>\n",
       "    </tr>\n",
       "    <tr>\n",
       "      <td>163</td>\n",
       "      <td>중앙아프리카 공화국</td>\n",
       "      <td>1.52</td>\n",
       "    </tr>\n",
       "    <tr>\n",
       "      <td>164</td>\n",
       "      <td>콩고 민주 공화국</td>\n",
       "      <td>1.49</td>\n",
       "    </tr>\n",
       "    <tr>\n",
       "      <td>165</td>\n",
       "      <td>시리아</td>\n",
       "      <td>1.43</td>\n",
       "    </tr>\n",
       "    <tr>\n",
       "      <td>166</td>\n",
       "      <td>조선민주주의인민공화국</td>\n",
       "      <td>1.08</td>\n",
       "    </tr>\n",
       "  </tbody>\n",
       "</table>\n",
       "<p>167 rows × 2 columns</p>\n",
       "</div>"
      ],
      "text/plain": [
       "              국가 민주주의지수\n",
       "0           노르웨이   9.87\n",
       "1          아이슬란드   9.58\n",
       "2            스웨덴   9.39\n",
       "3           뉴질랜드   9.26\n",
       "4            덴마크   9.22\n",
       "..           ...    ...\n",
       "162           차드   1.61\n",
       "163   중앙아프리카 공화국   1.52\n",
       "164    콩고 민주 공화국   1.49\n",
       "165          시리아   1.43\n",
       "166  조선민주주의인민공화국   1.08\n",
       "\n",
       "[167 rows x 2 columns]"
      ]
     },
     "execution_count": 147,
     "metadata": {},
     "output_type": "execute_result"
    }
   ],
   "source": [
    "democ_df = pd.DataFrame(np.array([rank_list,num_list]).T,columns=['국가','민주주의지수'])\n",
    "democ_df"
   ]
  },
  {
   "cell_type": "code",
   "execution_count": 148,
   "metadata": {},
   "outputs": [],
   "source": [
    "democ_df.to_excel('prediction_GDP/democ.xlsx',index=False)"
   ]
  },
  {
   "cell_type": "markdown",
   "metadata": {},
   "source": [
    "## 부패 지수\n",
    "국제투명성기구(TI)에서 2018년 발표한 자료를 출처로 한다.<br>\n",
    "높을수록 부정부패로부터 깨끗한 상태이다."
   ]
  },
  {
   "cell_type": "code",
   "execution_count": 149,
   "metadata": {},
   "outputs": [],
   "source": [
    "url = 'https://ko.wikipedia.org/wiki/부패_인식_지수'\n",
    "driver.get(url)"
   ]
  },
  {
   "cell_type": "code",
   "execution_count": 150,
   "metadata": {},
   "outputs": [
    {
     "data": {
      "text/plain": [
       "('페루', '35')"
      ]
     },
     "execution_count": 150,
     "metadata": {},
     "output_type": "execute_result"
    }
   ],
   "source": [
    "country = driver.find_element_by_css_selector\\\n",
    "('#mw-content-text > div > table:nth-child(10) > tbody > tr:nth-child(100) > td:nth-child(2)').text\n",
    "num = driver.find_element_by_css_selector\\\n",
    "('#mw-content-text > div > table:nth-child(10) > tbody > tr:nth-child(100) > td:nth-child(3) > div > div:nth-child(2)').text\n",
    "country, num"
   ]
  },
  {
   "cell_type": "code",
   "execution_count": 151,
   "metadata": {},
   "outputs": [
    {
     "name": "stdout",
     "output_type": "stream",
     "text": [
      "['덴마크', '뉴질랜드', '핀란드', '스웨덴', '스위스', '싱가포르']\n",
      "['88', '87', '85', '85', '85', '85']\n"
     ]
    }
   ],
   "source": [
    "rank_list=[]\n",
    "num_list=[]\n",
    "for i in range(1,300):\n",
    "    try:\n",
    "        country = driver.find_element_by_css_selector\\\n",
    "        ('#mw-content-text > div > table:nth-child(10) > tbody > tr:nth-child({}) > td:nth-child(2)'.format(i)).text\n",
    "        num = driver.find_element_by_css_selector\\\n",
    "        ('#mw-content-text > div > table:nth-child(10) > tbody > tr:nth-child({}) > td:nth-child(3) > div > div:nth-child(2)'.format(i)).text\n",
    "        rank_list.append(country)\n",
    "        num_list.append(num)\n",
    "    except:\n",
    "        break\n",
    "print(rank_list[:6])\n",
    "print(num_list[:6])"
   ]
  },
  {
   "cell_type": "code",
   "execution_count": 152,
   "metadata": {},
   "outputs": [
    {
     "data": {
      "text/html": [
       "<div>\n",
       "<style scoped>\n",
       "    .dataframe tbody tr th:only-of-type {\n",
       "        vertical-align: middle;\n",
       "    }\n",
       "\n",
       "    .dataframe tbody tr th {\n",
       "        vertical-align: top;\n",
       "    }\n",
       "\n",
       "    .dataframe thead th {\n",
       "        text-align: right;\n",
       "    }\n",
       "</style>\n",
       "<table border=\"1\" class=\"dataframe\">\n",
       "  <thead>\n",
       "    <tr style=\"text-align: right;\">\n",
       "      <th></th>\n",
       "      <th>국가</th>\n",
       "      <th>청렴도</th>\n",
       "    </tr>\n",
       "  </thead>\n",
       "  <tbody>\n",
       "    <tr>\n",
       "      <td>0</td>\n",
       "      <td>덴마크</td>\n",
       "      <td>88</td>\n",
       "    </tr>\n",
       "    <tr>\n",
       "      <td>1</td>\n",
       "      <td>뉴질랜드</td>\n",
       "      <td>87</td>\n",
       "    </tr>\n",
       "    <tr>\n",
       "      <td>2</td>\n",
       "      <td>핀란드</td>\n",
       "      <td>85</td>\n",
       "    </tr>\n",
       "    <tr>\n",
       "      <td>3</td>\n",
       "      <td>스웨덴</td>\n",
       "      <td>85</td>\n",
       "    </tr>\n",
       "    <tr>\n",
       "      <td>4</td>\n",
       "      <td>스위스</td>\n",
       "      <td>85</td>\n",
       "    </tr>\n",
       "    <tr>\n",
       "      <td>...</td>\n",
       "      <td>...</td>\n",
       "      <td>...</td>\n",
       "    </tr>\n",
       "    <tr>\n",
       "      <td>164</td>\n",
       "      <td>수단</td>\n",
       "      <td>16</td>\n",
       "    </tr>\n",
       "    <tr>\n",
       "      <td>165</td>\n",
       "      <td>예멘</td>\n",
       "      <td>14</td>\n",
       "    </tr>\n",
       "    <tr>\n",
       "      <td>166</td>\n",
       "      <td>시리아</td>\n",
       "      <td>13</td>\n",
       "    </tr>\n",
       "    <tr>\n",
       "      <td>167</td>\n",
       "      <td>남수단</td>\n",
       "      <td>13</td>\n",
       "    </tr>\n",
       "    <tr>\n",
       "      <td>168</td>\n",
       "      <td>소말리아</td>\n",
       "      <td>10</td>\n",
       "    </tr>\n",
       "  </tbody>\n",
       "</table>\n",
       "<p>169 rows × 2 columns</p>\n",
       "</div>"
      ],
      "text/plain": [
       "       국가 청렴도\n",
       "0     덴마크  88\n",
       "1    뉴질랜드  87\n",
       "2     핀란드  85\n",
       "3     스웨덴  85\n",
       "4     스위스  85\n",
       "..    ...  ..\n",
       "164    수단  16\n",
       "165    예멘  14\n",
       "166   시리아  13\n",
       "167   남수단  13\n",
       "168  소말리아  10\n",
       "\n",
       "[169 rows x 2 columns]"
      ]
     },
     "execution_count": 152,
     "metadata": {},
     "output_type": "execute_result"
    }
   ],
   "source": [
    "# 집계되지 않은 국가들이 몇몇 있는데 추후 찾아넣도록 한다.\n",
    "corruption_df = pd.DataFrame(np.array([rank_list,num_list]).T,columns=['국가','청렴도'])\n",
    "corruption_df"
   ]
  },
  {
   "cell_type": "code",
   "execution_count": 153,
   "metadata": {},
   "outputs": [],
   "source": [
    "corruption_df.to_excel('prediction_GDP/corruption.xlsx',index=False)"
   ]
  },
  {
   "cell_type": "markdown",
   "metadata": {},
   "source": [
    "## 정치체제\n",
    "공산주의, 전제군주제 국가들을 분류한다.<br>\n",
    "입헌군주제는 국왕에 예속 되어있는 것은 아니므로 따로 분류할 필요는 없어보인다.<br>\n",
    "또한 대통령 중심제, 의원내각제 등은 구분하지 않고 민주주의로 분류하겠다."
   ]
  },
  {
   "cell_type": "code",
   "execution_count": 154,
   "metadata": {},
   "outputs": [],
   "source": [
    "# 자료의 개수가 적으므로 스크래핑 하지 않고 그냥 적어주도록 한다.\n",
    "\n",
    "# 출처: https://ko.wikipedia.org/wiki/공산국가\n",
    "communism = ['라오스','중화인민공화국','쿠바','베트남','조선민주주의인민공화국']\n",
    "# 출처: https://ko.wikipedia.org/wiki/전제군주제\n",
    "monarchy = ['카타르','바티칸 시국','브루나이','사우디아라비아','오만','에스와티니','아랍에미리트']"
   ]
  },
  {
   "cell_type": "code",
   "execution_count": 155,
   "metadata": {},
   "outputs": [],
   "source": [
    "politics={}\n",
    "for i in range(len(df)):\n",
    "    country = df.iloc[i,1]\n",
    "    if country in communism:\n",
    "        politics[country]='공산주의'\n",
    "    elif country in monarchy:\n",
    "        politics[country]='전제군주제'\n",
    "    else:\n",
    "        politics[country]='민주주의'\n"
   ]
  },
  {
   "cell_type": "code",
   "execution_count": 156,
   "metadata": {},
   "outputs": [],
   "source": [
    "pol = pd.DataFrame(pd.Series(politics),columns=['정치체제'])"
   ]
  },
  {
   "cell_type": "code",
   "execution_count": 157,
   "metadata": {},
   "outputs": [],
   "source": [
    "df2 = pd.merge(df,pol,left_on='국가',right_index=True)"
   ]
  },
  {
   "cell_type": "code",
   "execution_count": 158,
   "metadata": {},
   "outputs": [
    {
     "data": {
      "text/html": [
       "<div>\n",
       "<style scoped>\n",
       "    .dataframe tbody tr th:only-of-type {\n",
       "        vertical-align: middle;\n",
       "    }\n",
       "\n",
       "    .dataframe tbody tr th {\n",
       "        vertical-align: top;\n",
       "    }\n",
       "\n",
       "    .dataframe thead th {\n",
       "        text-align: right;\n",
       "    }\n",
       "</style>\n",
       "<table border=\"1\" class=\"dataframe\">\n",
       "  <thead>\n",
       "    <tr style=\"text-align: right;\">\n",
       "      <th></th>\n",
       "      <th>순위</th>\n",
       "      <th>국가</th>\n",
       "      <th>1인당_GDP</th>\n",
       "      <th>영문</th>\n",
       "      <th>인지도</th>\n",
       "      <th>지역</th>\n",
       "      <th>정치체제</th>\n",
       "    </tr>\n",
       "  </thead>\n",
       "  <tbody>\n",
       "    <tr>\n",
       "      <td>0</td>\n",
       "      <td>1</td>\n",
       "      <td>룩셈부르크</td>\n",
       "      <td>113,196</td>\n",
       "      <td>Luxembourg</td>\n",
       "      <td>560000000</td>\n",
       "      <td>서유럽권&amp;기타</td>\n",
       "      <td>민주주의</td>\n",
       "    </tr>\n",
       "    <tr>\n",
       "      <td>1</td>\n",
       "      <td>2</td>\n",
       "      <td>스위스</td>\n",
       "      <td>83,717</td>\n",
       "      <td>Switzerland</td>\n",
       "      <td>682000000</td>\n",
       "      <td>서유럽권&amp;기타</td>\n",
       "      <td>민주주의</td>\n",
       "    </tr>\n",
       "    <tr>\n",
       "      <td>2</td>\n",
       "      <td>3</td>\n",
       "      <td>노르웨이</td>\n",
       "      <td>77,975</td>\n",
       "      <td>Norway</td>\n",
       "      <td>607000000</td>\n",
       "      <td>서유럽권&amp;기타</td>\n",
       "      <td>민주주의</td>\n",
       "    </tr>\n",
       "    <tr>\n",
       "      <td>3</td>\n",
       "      <td>4</td>\n",
       "      <td>아일랜드</td>\n",
       "      <td>77,771</td>\n",
       "      <td>Ireland</td>\n",
       "      <td>1320000000</td>\n",
       "      <td>서유럽권&amp;기타</td>\n",
       "      <td>민주주의</td>\n",
       "    </tr>\n",
       "    <tr>\n",
       "      <td>4</td>\n",
       "      <td>5</td>\n",
       "      <td>카타르</td>\n",
       "      <td>69,688</td>\n",
       "      <td>Qatar</td>\n",
       "      <td>719000000</td>\n",
       "      <td>아시아권</td>\n",
       "      <td>전제군주제</td>\n",
       "    </tr>\n",
       "    <tr>\n",
       "      <td>...</td>\n",
       "      <td>...</td>\n",
       "      <td>...</td>\n",
       "      <td>...</td>\n",
       "      <td>...</td>\n",
       "      <td>...</td>\n",
       "      <td>...</td>\n",
       "      <td>...</td>\n",
       "    </tr>\n",
       "    <tr>\n",
       "      <td>181</td>\n",
       "      <td>184</td>\n",
       "      <td>니제르</td>\n",
       "      <td>405</td>\n",
       "      <td>Niger</td>\n",
       "      <td>368000000</td>\n",
       "      <td>아프리카권</td>\n",
       "      <td>민주주의</td>\n",
       "    </tr>\n",
       "    <tr>\n",
       "      <td>182</td>\n",
       "      <td>185</td>\n",
       "      <td>말라위</td>\n",
       "      <td>371</td>\n",
       "      <td>Malawi</td>\n",
       "      <td>269000000</td>\n",
       "      <td>아프리카권</td>\n",
       "      <td>민주주의</td>\n",
       "    </tr>\n",
       "    <tr>\n",
       "      <td>183</td>\n",
       "      <td>186</td>\n",
       "      <td>에리트레아</td>\n",
       "      <td>343</td>\n",
       "      <td>Eritrea</td>\n",
       "      <td>196000000</td>\n",
       "      <td>아프리카권</td>\n",
       "      <td>민주주의</td>\n",
       "    </tr>\n",
       "    <tr>\n",
       "      <td>184</td>\n",
       "      <td>187</td>\n",
       "      <td>부룬디</td>\n",
       "      <td>310</td>\n",
       "      <td>Burundi</td>\n",
       "      <td>318000000</td>\n",
       "      <td>아프리카권</td>\n",
       "      <td>민주주의</td>\n",
       "    </tr>\n",
       "    <tr>\n",
       "      <td>185</td>\n",
       "      <td>188</td>\n",
       "      <td>남수단</td>\n",
       "      <td>275</td>\n",
       "      <td>Republic of South Sudan</td>\n",
       "      <td>391000000</td>\n",
       "      <td>아프리카권</td>\n",
       "      <td>민주주의</td>\n",
       "    </tr>\n",
       "  </tbody>\n",
       "</table>\n",
       "<p>186 rows × 7 columns</p>\n",
       "</div>"
      ],
      "text/plain": [
       "      순위     국가  1인당_GDP                       영문         인지도       지역   정치체제\n",
       "0      1  룩셈부르크  113,196               Luxembourg   560000000  서유럽권&기타   민주주의\n",
       "1      2    스위스   83,717              Switzerland   682000000  서유럽권&기타   민주주의\n",
       "2      3   노르웨이   77,975                   Norway   607000000  서유럽권&기타   민주주의\n",
       "3      4   아일랜드   77,771                  Ireland  1320000000  서유럽권&기타   민주주의\n",
       "4      5    카타르   69,688                    Qatar   719000000     아시아권  전제군주제\n",
       "..   ...    ...      ...                      ...         ...      ...    ...\n",
       "181  184    니제르      405                    Niger   368000000    아프리카권   민주주의\n",
       "182  185    말라위      371                   Malawi   269000000    아프리카권   민주주의\n",
       "183  186  에리트레아      343                  Eritrea   196000000    아프리카권   민주주의\n",
       "184  187    부룬디      310                  Burundi   318000000    아프리카권   민주주의\n",
       "185  188    남수단      275  Republic of South Sudan   391000000    아프리카권   민주주의\n",
       "\n",
       "[186 rows x 7 columns]"
      ]
     },
     "execution_count": 158,
     "metadata": {},
     "output_type": "execute_result"
    }
   ],
   "source": [
    "df2"
   ]
  },
  {
   "cell_type": "code",
   "execution_count": 159,
   "metadata": {},
   "outputs": [
    {
     "data": {
      "text/html": [
       "<div>\n",
       "<style scoped>\n",
       "    .dataframe tbody tr th:only-of-type {\n",
       "        vertical-align: middle;\n",
       "    }\n",
       "\n",
       "    .dataframe tbody tr th {\n",
       "        vertical-align: top;\n",
       "    }\n",
       "\n",
       "    .dataframe thead th {\n",
       "        text-align: right;\n",
       "    }\n",
       "</style>\n",
       "<table border=\"1\" class=\"dataframe\">\n",
       "  <thead>\n",
       "    <tr style=\"text-align: right;\">\n",
       "      <th></th>\n",
       "      <th>순위</th>\n",
       "      <th>국가</th>\n",
       "      <th>1인당_GDP</th>\n",
       "      <th>영문</th>\n",
       "      <th>인지도</th>\n",
       "      <th>지역</th>\n",
       "      <th>정치체제</th>\n",
       "    </tr>\n",
       "  </thead>\n",
       "  <tbody>\n",
       "    <tr>\n",
       "      <td>4</td>\n",
       "      <td>5</td>\n",
       "      <td>카타르</td>\n",
       "      <td>69,688</td>\n",
       "      <td>Qatar</td>\n",
       "      <td>719000000</td>\n",
       "      <td>아시아권</td>\n",
       "      <td>전제군주제</td>\n",
       "    </tr>\n",
       "    <tr>\n",
       "      <td>23</td>\n",
       "      <td>24</td>\n",
       "      <td>아랍에미리트</td>\n",
       "      <td>37,750</td>\n",
       "      <td>United Arab Emirates</td>\n",
       "      <td>661000000</td>\n",
       "      <td>아시아권</td>\n",
       "      <td>전제군주제</td>\n",
       "    </tr>\n",
       "    <tr>\n",
       "      <td>30</td>\n",
       "      <td>31</td>\n",
       "      <td>브루나이</td>\n",
       "      <td>27,871</td>\n",
       "      <td>Brunei Darussalam</td>\n",
       "      <td>380000000</td>\n",
       "      <td>아시아권</td>\n",
       "      <td>전제군주제</td>\n",
       "    </tr>\n",
       "    <tr>\n",
       "      <td>37</td>\n",
       "      <td>39</td>\n",
       "      <td>사우디아라비아</td>\n",
       "      <td>22,865</td>\n",
       "      <td>Saudi Arabia</td>\n",
       "      <td>778000000</td>\n",
       "      <td>아시아권</td>\n",
       "      <td>전제군주제</td>\n",
       "    </tr>\n",
       "    <tr>\n",
       "      <td>45</td>\n",
       "      <td>47</td>\n",
       "      <td>오만</td>\n",
       "      <td>17,791</td>\n",
       "      <td>Oman</td>\n",
       "      <td>958000000</td>\n",
       "      <td>아시아권</td>\n",
       "      <td>전제군주제</td>\n",
       "    </tr>\n",
       "    <tr>\n",
       "      <td>64</td>\n",
       "      <td>66</td>\n",
       "      <td>중화인민공화국</td>\n",
       "      <td>10,099</td>\n",
       "      <td>China</td>\n",
       "      <td>5220000000</td>\n",
       "      <td>동아시아</td>\n",
       "      <td>공산주의</td>\n",
       "    </tr>\n",
       "    <tr>\n",
       "      <td>107</td>\n",
       "      <td>110</td>\n",
       "      <td>에스와티니</td>\n",
       "      <td>4,177</td>\n",
       "      <td>Kingdom of Eswatini</td>\n",
       "      <td>37700000</td>\n",
       "      <td>아프리카권</td>\n",
       "      <td>전제군주제</td>\n",
       "    </tr>\n",
       "    <tr>\n",
       "      <td>129</td>\n",
       "      <td>132</td>\n",
       "      <td>베트남</td>\n",
       "      <td>2,740</td>\n",
       "      <td>Vietnam</td>\n",
       "      <td>778000000</td>\n",
       "      <td>아시아권</td>\n",
       "      <td>공산주의</td>\n",
       "    </tr>\n",
       "    <tr>\n",
       "      <td>130</td>\n",
       "      <td>133</td>\n",
       "      <td>라오스</td>\n",
       "      <td>2,670</td>\n",
       "      <td>Laos</td>\n",
       "      <td>526000000</td>\n",
       "      <td>아시아권</td>\n",
       "      <td>공산주의</td>\n",
       "    </tr>\n",
       "  </tbody>\n",
       "</table>\n",
       "</div>"
      ],
      "text/plain": [
       "      순위       국가 1인당_GDP                    영문         인지도     지역   정치체제\n",
       "4      5      카타르  69,688                 Qatar   719000000   아시아권  전제군주제\n",
       "23    24   아랍에미리트  37,750  United Arab Emirates   661000000   아시아권  전제군주제\n",
       "30    31     브루나이  27,871     Brunei Darussalam   380000000   아시아권  전제군주제\n",
       "37    39  사우디아라비아  22,865          Saudi Arabia   778000000   아시아권  전제군주제\n",
       "45    47       오만  17,791                  Oman   958000000   아시아권  전제군주제\n",
       "64    66  중화인민공화국  10,099                 China  5220000000   동아시아   공산주의\n",
       "107  110    에스와티니   4,177   Kingdom of Eswatini    37700000  아프리카권  전제군주제\n",
       "129  132      베트남   2,740               Vietnam   778000000   아시아권   공산주의\n",
       "130  133      라오스   2,670                  Laos   526000000   아시아권   공산주의"
      ]
     },
     "execution_count": 159,
     "metadata": {},
     "output_type": "execute_result"
    }
   ],
   "source": [
    "cond = (df2['정치체제']=='공산주의')|(df2['정치체제']=='전제군주제')\n",
    "df2[cond]"
   ]
  },
  {
   "cell_type": "markdown",
   "metadata": {},
   "source": [
    "바티칸 시국, 쿠바, 북한은 원래 통계에 포함되어있지 않았으므로 잘 합쳐졌다고 볼 수 있다.<br>\n",
    "(공산국가의 특징을 잘 보여주는 북한과 쿠바가 포함되어 있지 않아 살짝 아쉽다.)"
   ]
  },
  {
   "cell_type": "markdown",
   "metadata": {},
   "source": [
    "### 중간저장"
   ]
  },
  {
   "cell_type": "code",
   "execution_count": 160,
   "metadata": {},
   "outputs": [],
   "source": [
    "df2.to_excel('prediction_GDP/fourth_result.xlsx',index=False)"
   ]
  },
  {
   "cell_type": "code",
   "execution_count": 161,
   "metadata": {},
   "outputs": [
    {
     "data": {
      "text/html": [
       "<div>\n",
       "<style scoped>\n",
       "    .dataframe tbody tr th:only-of-type {\n",
       "        vertical-align: middle;\n",
       "    }\n",
       "\n",
       "    .dataframe tbody tr th {\n",
       "        vertical-align: top;\n",
       "    }\n",
       "\n",
       "    .dataframe thead th {\n",
       "        text-align: right;\n",
       "    }\n",
       "</style>\n",
       "<table border=\"1\" class=\"dataframe\">\n",
       "  <thead>\n",
       "    <tr style=\"text-align: right;\">\n",
       "      <th></th>\n",
       "      <th>순위</th>\n",
       "      <th>국가</th>\n",
       "      <th>1인당_GDP</th>\n",
       "      <th>영문</th>\n",
       "      <th>인지도</th>\n",
       "      <th>지역</th>\n",
       "      <th>정치체제</th>\n",
       "    </tr>\n",
       "  </thead>\n",
       "  <tbody>\n",
       "    <tr>\n",
       "      <td>0</td>\n",
       "      <td>1</td>\n",
       "      <td>룩셈부르크</td>\n",
       "      <td>113,196</td>\n",
       "      <td>Luxembourg</td>\n",
       "      <td>560000000</td>\n",
       "      <td>서유럽권&amp;기타</td>\n",
       "      <td>민주주의</td>\n",
       "    </tr>\n",
       "    <tr>\n",
       "      <td>1</td>\n",
       "      <td>2</td>\n",
       "      <td>스위스</td>\n",
       "      <td>83,717</td>\n",
       "      <td>Switzerland</td>\n",
       "      <td>682000000</td>\n",
       "      <td>서유럽권&amp;기타</td>\n",
       "      <td>민주주의</td>\n",
       "    </tr>\n",
       "    <tr>\n",
       "      <td>2</td>\n",
       "      <td>3</td>\n",
       "      <td>노르웨이</td>\n",
       "      <td>77,975</td>\n",
       "      <td>Norway</td>\n",
       "      <td>607000000</td>\n",
       "      <td>서유럽권&amp;기타</td>\n",
       "      <td>민주주의</td>\n",
       "    </tr>\n",
       "    <tr>\n",
       "      <td>3</td>\n",
       "      <td>4</td>\n",
       "      <td>아일랜드</td>\n",
       "      <td>77,771</td>\n",
       "      <td>Ireland</td>\n",
       "      <td>1320000000</td>\n",
       "      <td>서유럽권&amp;기타</td>\n",
       "      <td>민주주의</td>\n",
       "    </tr>\n",
       "    <tr>\n",
       "      <td>4</td>\n",
       "      <td>5</td>\n",
       "      <td>카타르</td>\n",
       "      <td>69,688</td>\n",
       "      <td>Qatar</td>\n",
       "      <td>719000000</td>\n",
       "      <td>아시아권</td>\n",
       "      <td>전제군주제</td>\n",
       "    </tr>\n",
       "  </tbody>\n",
       "</table>\n",
       "</div>"
      ],
      "text/plain": [
       "   순위     국가  1인당_GDP           영문         인지도       지역   정치체제\n",
       "0   1  룩셈부르크  113,196   Luxembourg   560000000  서유럽권&기타   민주주의\n",
       "1   2    스위스   83,717  Switzerland   682000000  서유럽권&기타   민주주의\n",
       "2   3   노르웨이   77,975       Norway   607000000  서유럽권&기타   민주주의\n",
       "3   4   아일랜드   77,771      Ireland  1320000000  서유럽권&기타   민주주의\n",
       "4   5    카타르   69,688        Qatar   719000000     아시아권  전제군주제"
      ]
     },
     "execution_count": 161,
     "metadata": {},
     "output_type": "execute_result"
    }
   ],
   "source": [
    "df = pd.read_excel('prediction_GDP/fourth_result.xlsx')\n",
    "df.head()"
   ]
  },
  {
   "cell_type": "markdown",
   "metadata": {},
   "source": [
    "## 석유생산량\n",
    "석유매장량이 아닌 석유생산량 자료이기 때문에 대한민국도 약소하게나마 포함돼있다. 많이 묻어둔 상태로 개발이 덜 되어있으면 순위에서 밀려난다.<br>\n",
    "U.S. Energy Information Administration 의 2016년 자료를 출처로 하고 있다."
   ]
  },
  {
   "cell_type": "code",
   "execution_count": 162,
   "metadata": {},
   "outputs": [],
   "source": [
    "url = 'https://ko.wikipedia.org/wiki/석유_생산량에_따른_나라_목록'\n",
    "driver.get(url)"
   ]
  },
  {
   "cell_type": "code",
   "execution_count": 163,
   "metadata": {},
   "outputs": [
    {
     "data": {
      "text/plain": [
       "('러시아', '10,551,497')"
      ]
     },
     "execution_count": 163,
     "metadata": {},
     "output_type": "execute_result"
    }
   ],
   "source": [
    "country = driver.find_element_by_css_selector\\\n",
    "('#mw-content-text > div > table > tbody > tr:nth-child(1) > td:nth-child(2)').text\n",
    "num = driver.find_element_by_css_selector\\\n",
    "('#mw-content-text > div > table > tbody > tr:nth-child(1) > td:nth-child(3)').text\n",
    "country, num"
   ]
  },
  {
   "cell_type": "code",
   "execution_count": 164,
   "metadata": {},
   "outputs": [
    {
     "name": "stdout",
     "output_type": "stream",
     "text": [
      "['러시아', '사우디 아라비아', '미국', '이라크', '이란', '중국']\n",
      "['10,551,497', '10,460,710', '8,875,817', '4,451,516', '3,990,956', '3,980,650']\n"
     ]
    }
   ],
   "source": [
    "rank_list=[]\n",
    "num_list=[]\n",
    "for i in range(1,300):\n",
    "    try:\n",
    "        country = driver.find_element_by_css_selector\\\n",
    "        ('#mw-content-text > div > table > tbody > tr:nth-child({}) > td:nth-child(2)'.format(i)).text.replace(\" (OPEC)\",\"\")\n",
    "        num = driver.find_element_by_css_selector\\\n",
    "        ('#mw-content-text > div > table > tbody > tr:nth-child({}) > td:nth-child(3)'.format(i)).text\n",
    "        rank_list.append(country)\n",
    "        num_list.append(num)\n",
    "    except:\n",
    "        break\n",
    "print(rank_list[:6])\n",
    "print(num_list[:6])"
   ]
  },
  {
   "cell_type": "code",
   "execution_count": 165,
   "metadata": {},
   "outputs": [
    {
     "data": {
      "text/html": [
       "<div>\n",
       "<style scoped>\n",
       "    .dataframe tbody tr th:only-of-type {\n",
       "        vertical-align: middle;\n",
       "    }\n",
       "\n",
       "    .dataframe tbody tr th {\n",
       "        vertical-align: top;\n",
       "    }\n",
       "\n",
       "    .dataframe thead th {\n",
       "        text-align: right;\n",
       "    }\n",
       "</style>\n",
       "<table border=\"1\" class=\"dataframe\">\n",
       "  <thead>\n",
       "    <tr style=\"text-align: right;\">\n",
       "      <th></th>\n",
       "      <th>국가</th>\n",
       "      <th>석유생산량</th>\n",
       "    </tr>\n",
       "  </thead>\n",
       "  <tbody>\n",
       "    <tr>\n",
       "      <td>0</td>\n",
       "      <td>러시아</td>\n",
       "      <td>10,551,497</td>\n",
       "    </tr>\n",
       "    <tr>\n",
       "      <td>1</td>\n",
       "      <td>사우디 아라비아</td>\n",
       "      <td>10,460,710</td>\n",
       "    </tr>\n",
       "    <tr>\n",
       "      <td>2</td>\n",
       "      <td>미국</td>\n",
       "      <td>8,875,817</td>\n",
       "    </tr>\n",
       "    <tr>\n",
       "      <td>3</td>\n",
       "      <td>이라크</td>\n",
       "      <td>4,451,516</td>\n",
       "    </tr>\n",
       "    <tr>\n",
       "      <td>4</td>\n",
       "      <td>이란</td>\n",
       "      <td>3,990,956</td>\n",
       "    </tr>\n",
       "    <tr>\n",
       "      <td>...</td>\n",
       "      <td>...</td>\n",
       "      <td>...</td>\n",
       "    </tr>\n",
       "    <tr>\n",
       "      <td>94</td>\n",
       "      <td>중화민국</td>\n",
       "      <td>196</td>\n",
       "    </tr>\n",
       "    <tr>\n",
       "      <td>95</td>\n",
       "      <td>타지키스탄</td>\n",
       "      <td>180</td>\n",
       "    </tr>\n",
       "    <tr>\n",
       "      <td>96</td>\n",
       "      <td>모로코</td>\n",
       "      <td>160</td>\n",
       "    </tr>\n",
       "    <tr>\n",
       "      <td>97</td>\n",
       "      <td>요르단</td>\n",
       "      <td>22</td>\n",
       "    </tr>\n",
       "    <tr>\n",
       "      <td>98</td>\n",
       "      <td>슬로베니아</td>\n",
       "      <td>5</td>\n",
       "    </tr>\n",
       "  </tbody>\n",
       "</table>\n",
       "<p>99 rows × 2 columns</p>\n",
       "</div>"
      ],
      "text/plain": [
       "          국가       석유생산량\n",
       "0        러시아  10,551,497\n",
       "1   사우디 아라비아  10,460,710\n",
       "2         미국   8,875,817\n",
       "3        이라크   4,451,516\n",
       "4         이란   3,990,956\n",
       "..       ...         ...\n",
       "94      중화민국         196\n",
       "95     타지키스탄         180\n",
       "96       모로코         160\n",
       "97       요르단          22\n",
       "98     슬로베니아           5\n",
       "\n",
       "[99 rows x 2 columns]"
      ]
     },
     "execution_count": 165,
     "metadata": {},
     "output_type": "execute_result"
    }
   ],
   "source": [
    "# 포함되지 않은 국가들은 추후 0으로 채워넣도록 한다.\n",
    "oil_df = pd.DataFrame(np.array([rank_list,num_list]).T,columns=['국가','석유생산량'])\n",
    "oil_df"
   ]
  },
  {
   "cell_type": "code",
   "execution_count": 166,
   "metadata": {},
   "outputs": [],
   "source": [
    "oil_df.to_excel('prediction_GDP/oil.xlsx',index=False)"
   ]
  },
  {
   "cell_type": "markdown",
   "metadata": {},
   "source": [
    "## 최상위 교육기관 보유\n",
    "'글로벌대학리더포럼'은 세계경제포럼이 교육의 미래와 과학의 사회적 역할을 논의하기 위해 설립한 커뮤니티로 세계 최상위 26개 대학의 총장들을 초청하는 방식으로 이루어진다.<br>\n",
    "해당 교육기관을 보유한 국가들을 교육 선진국으로 분류해 GDP 예측에 가점이 되도록 하겠다."
   ]
  },
  {
   "cell_type": "code",
   "execution_count": 167,
   "metadata": {},
   "outputs": [],
   "source": [
    "url = 'https://ko.wikipedia.org/wiki/글로벌대학리더포럼'\n",
    "driver.get(url)"
   ]
  },
  {
   "cell_type": "code",
   "execution_count": 168,
   "metadata": {},
   "outputs": [],
   "source": [
    "html = driver.page_source\n",
    "soup = BeautifulSoup(html,'html.parser')"
   ]
  },
  {
   "cell_type": "code",
   "execution_count": 169,
   "metadata": {},
   "outputs": [],
   "source": [
    "univ_count={'미국':0,'캐나다':1,'영국':2,'중화인민공화국':3,'일본':4,'대한민국':5,'싱가포르':6,'남아프리카 공화국':7,'스위스':8}\n",
    "univ_soup = soup.select('div.mw-parser-output>ul')\n",
    "for k,v in univ_count.items():\n",
    "    univ_list = univ_soup[v].text.split('\\n')\n",
    "    univ_count[k] = np.array(univ_list).size"
   ]
  },
  {
   "cell_type": "code",
   "execution_count": 170,
   "metadata": {},
   "outputs": [
    {
     "data": {
      "text/html": [
       "<div>\n",
       "<style scoped>\n",
       "    .dataframe tbody tr th:only-of-type {\n",
       "        vertical-align: middle;\n",
       "    }\n",
       "\n",
       "    .dataframe tbody tr th {\n",
       "        vertical-align: top;\n",
       "    }\n",
       "\n",
       "    .dataframe thead th {\n",
       "        text-align: right;\n",
       "    }\n",
       "</style>\n",
       "<table border=\"1\" class=\"dataframe\">\n",
       "  <thead>\n",
       "    <tr style=\"text-align: right;\">\n",
       "      <th></th>\n",
       "      <th>순위</th>\n",
       "      <th>국가</th>\n",
       "      <th>1인당_GDP</th>\n",
       "      <th>영문</th>\n",
       "      <th>인지도</th>\n",
       "      <th>지역</th>\n",
       "      <th>정치체제</th>\n",
       "      <th>최상위_교육기관_수</th>\n",
       "    </tr>\n",
       "  </thead>\n",
       "  <tbody>\n",
       "    <tr>\n",
       "      <td>0</td>\n",
       "      <td>1</td>\n",
       "      <td>룩셈부르크</td>\n",
       "      <td>113,196</td>\n",
       "      <td>Luxembourg</td>\n",
       "      <td>560000000</td>\n",
       "      <td>서유럽권&amp;기타</td>\n",
       "      <td>민주주의</td>\n",
       "      <td>NaN</td>\n",
       "    </tr>\n",
       "    <tr>\n",
       "      <td>1</td>\n",
       "      <td>2</td>\n",
       "      <td>스위스</td>\n",
       "      <td>83,717</td>\n",
       "      <td>Switzerland</td>\n",
       "      <td>682000000</td>\n",
       "      <td>서유럽권&amp;기타</td>\n",
       "      <td>민주주의</td>\n",
       "      <td>2.0</td>\n",
       "    </tr>\n",
       "    <tr>\n",
       "      <td>2</td>\n",
       "      <td>3</td>\n",
       "      <td>노르웨이</td>\n",
       "      <td>77,975</td>\n",
       "      <td>Norway</td>\n",
       "      <td>607000000</td>\n",
       "      <td>서유럽권&amp;기타</td>\n",
       "      <td>민주주의</td>\n",
       "      <td>NaN</td>\n",
       "    </tr>\n",
       "    <tr>\n",
       "      <td>3</td>\n",
       "      <td>4</td>\n",
       "      <td>아일랜드</td>\n",
       "      <td>77,771</td>\n",
       "      <td>Ireland</td>\n",
       "      <td>1320000000</td>\n",
       "      <td>서유럽권&amp;기타</td>\n",
       "      <td>민주주의</td>\n",
       "      <td>NaN</td>\n",
       "    </tr>\n",
       "    <tr>\n",
       "      <td>4</td>\n",
       "      <td>5</td>\n",
       "      <td>카타르</td>\n",
       "      <td>69,688</td>\n",
       "      <td>Qatar</td>\n",
       "      <td>719000000</td>\n",
       "      <td>아시아권</td>\n",
       "      <td>전제군주제</td>\n",
       "      <td>NaN</td>\n",
       "    </tr>\n",
       "  </tbody>\n",
       "</table>\n",
       "</div>"
      ],
      "text/plain": [
       "   순위     국가  1인당_GDP           영문         인지도       지역   정치체제  최상위_교육기관_수\n",
       "0   1  룩셈부르크  113,196   Luxembourg   560000000  서유럽권&기타   민주주의         NaN\n",
       "1   2    스위스   83,717  Switzerland   682000000  서유럽권&기타   민주주의         2.0\n",
       "2   3   노르웨이   77,975       Norway   607000000  서유럽권&기타   민주주의         NaN\n",
       "3   4   아일랜드   77,771      Ireland  1320000000  서유럽권&기타   민주주의         NaN\n",
       "4   5    카타르   69,688        Qatar   719000000     아시아권  전제군주제         NaN"
      ]
     },
     "execution_count": 170,
     "metadata": {},
     "output_type": "execute_result"
    }
   ],
   "source": [
    "univ_df = pd.DataFrame(pd.Series(univ_count),columns=['최상위_교육기관_수'])\n",
    "df2 = pd.merge(df,univ_df,left_on='국가',right_index=True,how='left')\n",
    "df2.head()"
   ]
  },
  {
   "cell_type": "code",
   "execution_count": 171,
   "metadata": {},
   "outputs": [
    {
     "data": {
      "text/html": [
       "<div>\n",
       "<style scoped>\n",
       "    .dataframe tbody tr th:only-of-type {\n",
       "        vertical-align: middle;\n",
       "    }\n",
       "\n",
       "    .dataframe tbody tr th {\n",
       "        vertical-align: top;\n",
       "    }\n",
       "\n",
       "    .dataframe thead th {\n",
       "        text-align: right;\n",
       "    }\n",
       "</style>\n",
       "<table border=\"1\" class=\"dataframe\">\n",
       "  <thead>\n",
       "    <tr style=\"text-align: right;\">\n",
       "      <th></th>\n",
       "      <th>순위</th>\n",
       "      <th>국가</th>\n",
       "      <th>1인당_GDP</th>\n",
       "      <th>영문</th>\n",
       "      <th>인지도</th>\n",
       "      <th>지역</th>\n",
       "      <th>정치체제</th>\n",
       "      <th>최상위_교육기관_수</th>\n",
       "    </tr>\n",
       "  </thead>\n",
       "  <tbody>\n",
       "    <tr>\n",
       "      <td>1</td>\n",
       "      <td>2</td>\n",
       "      <td>스위스</td>\n",
       "      <td>83,717</td>\n",
       "      <td>Switzerland</td>\n",
       "      <td>682000000</td>\n",
       "      <td>서유럽권&amp;기타</td>\n",
       "      <td>민주주의</td>\n",
       "      <td>2.0</td>\n",
       "    </tr>\n",
       "    <tr>\n",
       "      <td>6</td>\n",
       "      <td>7</td>\n",
       "      <td>미국</td>\n",
       "      <td>65,112</td>\n",
       "      <td>United States of America</td>\n",
       "      <td>9500000000</td>\n",
       "      <td>서유럽권&amp;기타</td>\n",
       "      <td>민주주의</td>\n",
       "      <td>12.0</td>\n",
       "    </tr>\n",
       "    <tr>\n",
       "      <td>7</td>\n",
       "      <td>8</td>\n",
       "      <td>싱가포르</td>\n",
       "      <td>63,987</td>\n",
       "      <td>Singapore</td>\n",
       "      <td>1590000000</td>\n",
       "      <td>아시아권</td>\n",
       "      <td>민주주의</td>\n",
       "      <td>1.0</td>\n",
       "    </tr>\n",
       "    <tr>\n",
       "      <td>16</td>\n",
       "      <td>17</td>\n",
       "      <td>캐나다</td>\n",
       "      <td>46,213</td>\n",
       "      <td>Canada</td>\n",
       "      <td>5180000000</td>\n",
       "      <td>서유럽권&amp;기타</td>\n",
       "      <td>민주주의</td>\n",
       "      <td>1.0</td>\n",
       "    </tr>\n",
       "    <tr>\n",
       "      <td>20</td>\n",
       "      <td>21</td>\n",
       "      <td>영국</td>\n",
       "      <td>41,030</td>\n",
       "      <td>United Kingdom</td>\n",
       "      <td>2110000000</td>\n",
       "      <td>서유럽권&amp;기타</td>\n",
       "      <td>민주주의</td>\n",
       "      <td>3.0</td>\n",
       "    </tr>\n",
       "    <tr>\n",
       "      <td>21</td>\n",
       "      <td>22</td>\n",
       "      <td>일본</td>\n",
       "      <td>40,847</td>\n",
       "      <td>Japan</td>\n",
       "      <td>6650000000</td>\n",
       "      <td>동아시아</td>\n",
       "      <td>민주주의</td>\n",
       "      <td>2.0</td>\n",
       "    </tr>\n",
       "    <tr>\n",
       "      <td>26</td>\n",
       "      <td>27</td>\n",
       "      <td>대한민국</td>\n",
       "      <td>31,431</td>\n",
       "      <td>Republic of Korea</td>\n",
       "      <td>1280000000</td>\n",
       "      <td>동아시아</td>\n",
       "      <td>민주주의</td>\n",
       "      <td>1.0</td>\n",
       "    </tr>\n",
       "    <tr>\n",
       "      <td>64</td>\n",
       "      <td>66</td>\n",
       "      <td>중화인민공화국</td>\n",
       "      <td>10,099</td>\n",
       "      <td>China</td>\n",
       "      <td>5220000000</td>\n",
       "      <td>동아시아</td>\n",
       "      <td>공산주의</td>\n",
       "      <td>3.0</td>\n",
       "    </tr>\n",
       "    <tr>\n",
       "      <td>88</td>\n",
       "      <td>90</td>\n",
       "      <td>남아프리카 공화국</td>\n",
       "      <td>6,100</td>\n",
       "      <td>Republic of South Africa</td>\n",
       "      <td>1220000000</td>\n",
       "      <td>아프리카권</td>\n",
       "      <td>민주주의</td>\n",
       "      <td>1.0</td>\n",
       "    </tr>\n",
       "  </tbody>\n",
       "</table>\n",
       "</div>"
      ],
      "text/plain": [
       "    순위         국가 1인당_GDP                        영문         인지도       지역  \\\n",
       "1    2        스위스  83,717               Switzerland   682000000  서유럽권&기타   \n",
       "6    7         미국  65,112  United States of America  9500000000  서유럽권&기타   \n",
       "7    8       싱가포르  63,987                 Singapore  1590000000     아시아권   \n",
       "16  17        캐나다  46,213                    Canada  5180000000  서유럽권&기타   \n",
       "20  21         영국  41,030            United Kingdom  2110000000  서유럽권&기타   \n",
       "21  22         일본  40,847                     Japan  6650000000     동아시아   \n",
       "26  27       대한민국  31,431         Republic of Korea  1280000000     동아시아   \n",
       "64  66    중화인민공화국  10,099                     China  5220000000     동아시아   \n",
       "88  90  남아프리카 공화국   6,100  Republic of South Africa  1220000000    아프리카권   \n",
       "\n",
       "    정치체제  최상위_교육기관_수  \n",
       "1   민주주의         2.0  \n",
       "6   민주주의        12.0  \n",
       "7   민주주의         1.0  \n",
       "16  민주주의         1.0  \n",
       "20  민주주의         3.0  \n",
       "21  민주주의         2.0  \n",
       "26  민주주의         1.0  \n",
       "64  공산주의         3.0  \n",
       "88  민주주의         1.0  "
      ]
     },
     "execution_count": 171,
     "metadata": {},
     "output_type": "execute_result"
    }
   ],
   "source": [
    "df2[df2['최상위_교육기관_수'] >= 1]"
   ]
  },
  {
   "cell_type": "markdown",
   "metadata": {},
   "source": [
    "잘 합쳐진 것을 확인할 수 있다. 빈 값은 모두 0으로 채우도록 하겠다."
   ]
  },
  {
   "cell_type": "code",
   "execution_count": 172,
   "metadata": {},
   "outputs": [
    {
     "data": {
      "text/html": [
       "<div>\n",
       "<style scoped>\n",
       "    .dataframe tbody tr th:only-of-type {\n",
       "        vertical-align: middle;\n",
       "    }\n",
       "\n",
       "    .dataframe tbody tr th {\n",
       "        vertical-align: top;\n",
       "    }\n",
       "\n",
       "    .dataframe thead th {\n",
       "        text-align: right;\n",
       "    }\n",
       "</style>\n",
       "<table border=\"1\" class=\"dataframe\">\n",
       "  <thead>\n",
       "    <tr style=\"text-align: right;\">\n",
       "      <th></th>\n",
       "      <th>순위</th>\n",
       "      <th>국가</th>\n",
       "      <th>1인당_GDP</th>\n",
       "      <th>영문</th>\n",
       "      <th>인지도</th>\n",
       "      <th>지역</th>\n",
       "      <th>정치체제</th>\n",
       "      <th>최상위_교육기관_수</th>\n",
       "    </tr>\n",
       "  </thead>\n",
       "  <tbody>\n",
       "    <tr>\n",
       "      <td>0</td>\n",
       "      <td>1</td>\n",
       "      <td>룩셈부르크</td>\n",
       "      <td>113,196</td>\n",
       "      <td>Luxembourg</td>\n",
       "      <td>560000000</td>\n",
       "      <td>서유럽권&amp;기타</td>\n",
       "      <td>민주주의</td>\n",
       "      <td>0.0</td>\n",
       "    </tr>\n",
       "    <tr>\n",
       "      <td>1</td>\n",
       "      <td>2</td>\n",
       "      <td>스위스</td>\n",
       "      <td>83,717</td>\n",
       "      <td>Switzerland</td>\n",
       "      <td>682000000</td>\n",
       "      <td>서유럽권&amp;기타</td>\n",
       "      <td>민주주의</td>\n",
       "      <td>2.0</td>\n",
       "    </tr>\n",
       "    <tr>\n",
       "      <td>2</td>\n",
       "      <td>3</td>\n",
       "      <td>노르웨이</td>\n",
       "      <td>77,975</td>\n",
       "      <td>Norway</td>\n",
       "      <td>607000000</td>\n",
       "      <td>서유럽권&amp;기타</td>\n",
       "      <td>민주주의</td>\n",
       "      <td>0.0</td>\n",
       "    </tr>\n",
       "    <tr>\n",
       "      <td>3</td>\n",
       "      <td>4</td>\n",
       "      <td>아일랜드</td>\n",
       "      <td>77,771</td>\n",
       "      <td>Ireland</td>\n",
       "      <td>1320000000</td>\n",
       "      <td>서유럽권&amp;기타</td>\n",
       "      <td>민주주의</td>\n",
       "      <td>0.0</td>\n",
       "    </tr>\n",
       "    <tr>\n",
       "      <td>4</td>\n",
       "      <td>5</td>\n",
       "      <td>카타르</td>\n",
       "      <td>69,688</td>\n",
       "      <td>Qatar</td>\n",
       "      <td>719000000</td>\n",
       "      <td>아시아권</td>\n",
       "      <td>전제군주제</td>\n",
       "      <td>0.0</td>\n",
       "    </tr>\n",
       "  </tbody>\n",
       "</table>\n",
       "</div>"
      ],
      "text/plain": [
       "   순위     국가  1인당_GDP           영문         인지도       지역   정치체제  최상위_교육기관_수\n",
       "0   1  룩셈부르크  113,196   Luxembourg   560000000  서유럽권&기타   민주주의         0.0\n",
       "1   2    스위스   83,717  Switzerland   682000000  서유럽권&기타   민주주의         2.0\n",
       "2   3   노르웨이   77,975       Norway   607000000  서유럽권&기타   민주주의         0.0\n",
       "3   4   아일랜드   77,771      Ireland  1320000000  서유럽권&기타   민주주의         0.0\n",
       "4   5    카타르   69,688        Qatar   719000000     아시아권  전제군주제         0.0"
      ]
     },
     "execution_count": 172,
     "metadata": {},
     "output_type": "execute_result"
    }
   ],
   "source": [
    "cond_dict={'최상위_교육기관_수':0}\n",
    "df2.fillna(cond_dict,inplace=True)\n",
    "df2.head()"
   ]
  },
  {
   "cell_type": "markdown",
   "metadata": {},
   "source": [
    "## 징병제 여부\n",
    "사실 군인이 제공하는 국방서비스는 GDP 산출의 지표로서 사용되기는 한다.<br> 그러므로 직업군인이나 선택적 복무는 제외하고 징병제 그 자체가 미치는 영향을 파악하도록 한다.<br>선택적 징병제 국가는 포함하지 않도록 하며 징병제 국가의 복무개월수를 취합하도록 한다."
   ]
  },
  {
   "cell_type": "code",
   "execution_count": 3,
   "metadata": {},
   "outputs": [],
   "source": [
    "url = 'https://ko.wikipedia.org/wiki/징병제'\n",
    "driver.get(url)"
   ]
  },
  {
   "cell_type": "code",
   "execution_count": 4,
   "metadata": {},
   "outputs": [],
   "source": [
    "html = driver.page_source\n",
    "soup = BeautifulSoup(html,'html.parser')"
   ]
  },
  {
   "cell_type": "code",
   "execution_count": 9,
   "metadata": {},
   "outputs": [
    {
     "data": {
      "text/plain": [
       "[<ul><li><a href=\"/wiki/%EB%B3%91%EC%82%AC_(%EA%B5%B0%EC%82%AC)\" title=\"병사 (군사)\">병력</a> 모집과 가용 비용이 적다.</li>\n",
       " <li>인구감소가 발생하지 않는 한 일정 병력 규모를 유지할 수 있다.</li></ul>,\n",
       " <ul><li>인재활용에 따른 사회적 비용부담이 있기 때문에 인재활용이 상대적으로 비효율적이다.</li>\n",
       " <li>필연적으로 <a class=\"mw-redirect\" href=\"/wiki/%EA%B0%95%EC%A0%9C%EB%85%B8%EB%8F%99\" title=\"강제노동\">강제동원</a>이 동반된다.</li>\n",
       " <li>군 입대에 대한 개인의 결정권을 제한하기 때문에 <a href=\"/wiki/%ED%97%8C%EB%B2%95\" title=\"헌법\">헌법</a> 상에 보장된 <a href=\"/wiki/%EC%9E%90%EC%9C%A0%EB%AF%BC%EC%A3%BC%EC%A3%BC%EC%9D%98\" title=\"자유민주주의\">자유민주주의</a> 사상에 어긋난다고 해석될 수 있다.</li>\n",
       " <li>징병제 시행국 중 일부 <a class=\"mw-redirect\" href=\"/wiki/%EC%96%91%EC%8B%AC%EC%A0%81_%EB%B3%91%EC%97%AD%EA%B1%B0%EB%B6%80\" title=\"양심적 병역거부\">양심적 병역거부</a>를 인정하지 않는 국가에서는 <a href=\"/wiki/%EC%97%AC%ED%98%B8%EC%99%80%EC%9D%98_%EC%A6%9D%EC%9D%B8\" title=\"여호와의 증인\">여호와의 증인</a> 신앙, <a class=\"mw-redirect\" href=\"/wiki/%EB%B0%98%EC%A0%84%EC%A3%BC%EC%9D%98\" title=\"반전주의\">반전주의</a> 신념 등 일부 개인의 사상이 법에 의하여 억압된다.</li>\n",
       " <li>징병제가 낳은 사회적 폐해들 <a class=\"external autonumber\" href=\"https://petitions.assembly.go.kr/status/onGoing/9C1B2B7CC9B136EEE054A0369F40E84E\" rel=\"nofollow\">[1]</a><sup class=\"정리_필요 noprint\">[<a href=\"/wiki/%EC%9C%84%ED%82%A4%EB%B0%B1%EA%B3%BC:%EA%B9%A8%EC%A7%84_%EB%A7%81%ED%81%AC\" title=\"위키백과:깨진 링크\">깨진 링크</a>(<a class=\"external text\" href=\"http://web.archive.org/web/*/https://petitions.assembly.go.kr/status/onGoing/9C1B2B7CC9B136EEE054A0369F40E84E\" rel=\"nofollow\">과거 내용 찾기</a>)]</sup></li>\n",
       " <li>검증되지 않은 인원이 유입되어 안보 상 문제가 발생할 수 있다. 일부 불안정한 국가에서는 징병제가 <a href=\"/wiki/%EB%B0%98%EB%9E%80\" title=\"반란\">군사반란</a>을 촉발시키기도 한다.</li>\n",
       " <li>군 입대 기피현상과 이를 위한 조직적인 <a class=\"mw-redirect\" href=\"/wiki/%EB%B3%91%EC%97%AD%EB%B9%84%EB%A6%AC\" title=\"병역비리\">병역비리</a>가 존재한다.</li>\n",
       " <li>전문성이 저하될 수 있다. 특히 5각 편제로 운용하는 기계화 부대에서는 경력있는 부사관과 병이 반드시 있어야 하나 징병제를 시행하면 병이 의무복무를 마치고 전역하기 때문에 전문성을 유지하는 데 어려움이 생긴다.</li>\n",
       " <li>자격 미달이나 복무의지가 없는 병역자원이 유입되어 병무의 질이 저하된다.</li>\n",
       " <li>인권침해가 발생하기 쉽다. 이에 따라 개인에게 후유증, 트라우마 등 신체·정신적 장애가 남을 수 있다.</li>\n",
       " <li>경제적 활성 인구의 감소 및 인재의 비효율적 활용에 따른 사회적 비용 부담이 크다. 통계적으로, 징병제의 실시가 국가 경제 발전에 악영향을 끼친다는 조사가 있다.<sup class=\"reference\" id=\"cite_ref-2\"><a href=\"#cite_note-2\">[2]</a></sup></li></ul>]"
      ]
     },
     "execution_count": 9,
     "metadata": {},
     "output_type": "execute_result"
    }
   ],
   "source": [
    "mil = soup.select('div.mw-parser-output>ul')\n",
    "mil[:2]"
   ]
  },
  {
   "cell_type": "code",
   "execution_count": 10,
   "metadata": {},
   "outputs": [
    {
     "data": {
      "text/plain": [
       "17"
      ]
     },
     "execution_count": 10,
     "metadata": {},
     "output_type": "execute_result"
    }
   ],
   "source": [
    "len(mil)"
   ]
  },
  {
   "cell_type": "code",
   "execution_count": 177,
   "metadata": {},
   "outputs": [
    {
     "data": {
      "text/plain": [
       "{'그리스': '1년 이하',\n",
       " '러시아': '1년 이하',\n",
       " '멕시코': '1년 이하',\n",
       " '몰도바': '1년 이하',\n",
       " '볼리비아': '1년 이하',\n",
       " '브라질': '1년 이하',\n",
       " '몽골': '1년 이하',\n",
       " '알제리': '1년 이하',\n",
       " '우즈베키스탄': '1년 이하',\n",
       " '카타르': '1년 이하',\n",
       " '터키': '1년 이하',\n",
       " '튀니지': '1년 이하',\n",
       " '파라과이': '1년 이하',\n",
       " '핀란드': '1년 이하',\n",
       " '라오스': '18개월 이하',\n",
       " '베냉': '18개월 이하',\n",
       " '벨라루스': '18개월 이하',\n",
       " '에리트레아': '18개월 이하',\n",
       " '우크라이나': '18개월 이하',\n",
       " '이란': '18개월 이하',\n",
       " '카보베르데': '18개월 이하',\n",
       " '콜롬비아': '18개월 이하',\n",
       " '키르기스스탄': '18개월 이하',\n",
       " '키프로스': '18개월 이하',\n",
       " '기니비사우': '18개월 이상',\n",
       " '니제르': '18개월 이상',\n",
       " '대한민국': '18개월 이상',\n",
       " '리비아': '18개월 이상',\n",
       " '말리': '18개월 이상',\n",
       " '모잠비크': '18개월 이상',\n",
       " '버뮤다': '18개월 이상',\n",
       " '베트남': '18개월 이상',\n",
       " '세네갈': '18개월 이상',\n",
       " '수단': '18개월 이상',\n",
       " '싱가포르': '18개월 이상',\n",
       " '아랍에미리트': '18개월 이상',\n",
       " '아르메니아': '18개월 이상',\n",
       " '아제르바이잔': '18개월 이상',\n",
       " '앙골라': '18개월 이상',\n",
       " '이스라엘': '18개월 이상',\n",
       " '이집트': '18개월 이상',\n",
       " '적도': '18개월 이상',\n",
       " '조선민주주의인민공화국': '18개월 이상',\n",
       " '중앙아프리카': '18개월 이상',\n",
       " '차드': '18개월 이상',\n",
       " '쿠바': '18개월 이상',\n",
       " '태국': '18개월 이상',\n",
       " '타지키스탄': '18개월 이상',\n",
       " '투르크메니스탄': '18개월 이상'}"
      ]
     },
     "execution_count": 177,
     "metadata": {},
     "output_type": "execute_result"
    }
   ],
   "source": [
    "temp_num_dict = {11:'1년 이하',12:'18개월 이하',13:'18개월 이상',14:'18개월 이상'}\n",
    "coerc_period={}\n",
    "for j,v in temp_num_dict.items():\n",
    "    coerc = mil[j].text.split('\\n')\n",
    "    for i in range(len(coerc)):\n",
    "        country = coerc[i].split(\" \")[1].replace(\":\",\"\")\n",
    "        coerc_period.setdefault(country,v)\n",
    "coerc_period"
   ]
  },
  {
   "cell_type": "code",
   "execution_count": 178,
   "metadata": {},
   "outputs": [],
   "source": [
    "coerc_df = pd.DataFrame(pd.Series(coerc_period),columns=['복무기간'])"
   ]
  },
  {
   "cell_type": "code",
   "execution_count": 179,
   "metadata": {},
   "outputs": [
    {
     "data": {
      "text/html": [
       "<div>\n",
       "<style scoped>\n",
       "    .dataframe tbody tr th:only-of-type {\n",
       "        vertical-align: middle;\n",
       "    }\n",
       "\n",
       "    .dataframe tbody tr th {\n",
       "        vertical-align: top;\n",
       "    }\n",
       "\n",
       "    .dataframe thead th {\n",
       "        text-align: right;\n",
       "    }\n",
       "</style>\n",
       "<table border=\"1\" class=\"dataframe\">\n",
       "  <thead>\n",
       "    <tr style=\"text-align: right;\">\n",
       "      <th></th>\n",
       "      <th>순위</th>\n",
       "      <th>국가</th>\n",
       "      <th>1인당_GDP</th>\n",
       "      <th>영문</th>\n",
       "      <th>인지도</th>\n",
       "      <th>지역</th>\n",
       "      <th>정치체제</th>\n",
       "      <th>최상위_교육기관_수</th>\n",
       "      <th>복무기간</th>\n",
       "    </tr>\n",
       "  </thead>\n",
       "  <tbody>\n",
       "    <tr>\n",
       "      <td>0</td>\n",
       "      <td>1</td>\n",
       "      <td>룩셈부르크</td>\n",
       "      <td>113,196</td>\n",
       "      <td>Luxembourg</td>\n",
       "      <td>560000000</td>\n",
       "      <td>서유럽권&amp;기타</td>\n",
       "      <td>민주주의</td>\n",
       "      <td>0.0</td>\n",
       "      <td>NaN</td>\n",
       "    </tr>\n",
       "    <tr>\n",
       "      <td>1</td>\n",
       "      <td>2</td>\n",
       "      <td>스위스</td>\n",
       "      <td>83,717</td>\n",
       "      <td>Switzerland</td>\n",
       "      <td>682000000</td>\n",
       "      <td>서유럽권&amp;기타</td>\n",
       "      <td>민주주의</td>\n",
       "      <td>2.0</td>\n",
       "      <td>NaN</td>\n",
       "    </tr>\n",
       "    <tr>\n",
       "      <td>2</td>\n",
       "      <td>3</td>\n",
       "      <td>노르웨이</td>\n",
       "      <td>77,975</td>\n",
       "      <td>Norway</td>\n",
       "      <td>607000000</td>\n",
       "      <td>서유럽권&amp;기타</td>\n",
       "      <td>민주주의</td>\n",
       "      <td>0.0</td>\n",
       "      <td>NaN</td>\n",
       "    </tr>\n",
       "    <tr>\n",
       "      <td>3</td>\n",
       "      <td>4</td>\n",
       "      <td>아일랜드</td>\n",
       "      <td>77,771</td>\n",
       "      <td>Ireland</td>\n",
       "      <td>1320000000</td>\n",
       "      <td>서유럽권&amp;기타</td>\n",
       "      <td>민주주의</td>\n",
       "      <td>0.0</td>\n",
       "      <td>NaN</td>\n",
       "    </tr>\n",
       "    <tr>\n",
       "      <td>4</td>\n",
       "      <td>5</td>\n",
       "      <td>카타르</td>\n",
       "      <td>69,688</td>\n",
       "      <td>Qatar</td>\n",
       "      <td>719000000</td>\n",
       "      <td>아시아권</td>\n",
       "      <td>전제군주제</td>\n",
       "      <td>0.0</td>\n",
       "      <td>1년 이하</td>\n",
       "    </tr>\n",
       "  </tbody>\n",
       "</table>\n",
       "</div>"
      ],
      "text/plain": [
       "   순위     국가  1인당_GDP           영문         인지도       지역   정치체제  최상위_교육기관_수  \\\n",
       "0   1  룩셈부르크  113,196   Luxembourg   560000000  서유럽권&기타   민주주의         0.0   \n",
       "1   2    스위스   83,717  Switzerland   682000000  서유럽권&기타   민주주의         2.0   \n",
       "2   3   노르웨이   77,975       Norway   607000000  서유럽권&기타   민주주의         0.0   \n",
       "3   4   아일랜드   77,771      Ireland  1320000000  서유럽권&기타   민주주의         0.0   \n",
       "4   5    카타르   69,688        Qatar   719000000     아시아권  전제군주제         0.0   \n",
       "\n",
       "    복무기간  \n",
       "0    NaN  \n",
       "1    NaN  \n",
       "2    NaN  \n",
       "3    NaN  \n",
       "4  1년 이하  "
      ]
     },
     "execution_count": 179,
     "metadata": {},
     "output_type": "execute_result"
    }
   ],
   "source": [
    "df3 = pd.merge(df2,coerc_df,left_on='국가',right_index=True,how='left')\n",
    "df3.head()"
   ]
  },
  {
   "cell_type": "code",
   "execution_count": 181,
   "metadata": {},
   "outputs": [
    {
     "data": {
      "text/plain": [
       "array(['버뮤다', '적도', '조선민주주의인민공화국', '중앙아프리카', '쿠바'], dtype=object)"
      ]
     },
     "execution_count": 181,
     "metadata": {},
     "output_type": "execute_result"
    }
   ],
   "source": [
    "# 마찬가지로 표기차이로 인해 합병되지 않은 국가를 살펴본다.\n",
    "\n",
    "temp_a = df2[df2['국가'].isin(coerc_period)]['국가']\n",
    "temp_b = pd.Series(coerc_period)\n",
    "np.setdiff1d(temp_b.index,temp_a.values)"
   ]
  },
  {
   "cell_type": "code",
   "execution_count": 182,
   "metadata": {},
   "outputs": [
    {
     "data": {
      "text/html": [
       "<div>\n",
       "<style scoped>\n",
       "    .dataframe tbody tr th:only-of-type {\n",
       "        vertical-align: middle;\n",
       "    }\n",
       "\n",
       "    .dataframe tbody tr th {\n",
       "        vertical-align: top;\n",
       "    }\n",
       "\n",
       "    .dataframe thead th {\n",
       "        text-align: right;\n",
       "    }\n",
       "</style>\n",
       "<table border=\"1\" class=\"dataframe\">\n",
       "  <thead>\n",
       "    <tr style=\"text-align: right;\">\n",
       "      <th></th>\n",
       "      <th>순위</th>\n",
       "      <th>국가</th>\n",
       "      <th>1인당_GDP</th>\n",
       "      <th>영문</th>\n",
       "      <th>인지도</th>\n",
       "      <th>지역</th>\n",
       "      <th>정치체제</th>\n",
       "      <th>최상위_교육기관_수</th>\n",
       "      <th>복무기간</th>\n",
       "    </tr>\n",
       "  </thead>\n",
       "  <tbody>\n",
       "    <tr>\n",
       "      <td>70</td>\n",
       "      <td>72</td>\n",
       "      <td>적도 기니</td>\n",
       "      <td>8,927</td>\n",
       "      <td>Equatorial Guinea</td>\n",
       "      <td>169000000</td>\n",
       "      <td>아프리카권</td>\n",
       "      <td>민주주의</td>\n",
       "      <td>0.0</td>\n",
       "      <td>NaN</td>\n",
       "    </tr>\n",
       "    <tr>\n",
       "      <td>180</td>\n",
       "      <td>183</td>\n",
       "      <td>중앙아프리카 공화국</td>\n",
       "      <td>448</td>\n",
       "      <td>Central African Republic</td>\n",
       "      <td>1030000000</td>\n",
       "      <td>아프리카권</td>\n",
       "      <td>민주주의</td>\n",
       "      <td>0.0</td>\n",
       "      <td>NaN</td>\n",
       "    </tr>\n",
       "  </tbody>\n",
       "</table>\n",
       "</div>"
      ],
      "text/plain": [
       "      순위          국가 1인당_GDP                        영문         인지도     지역  \\\n",
       "70    72       적도 기니   8,927         Equatorial Guinea   169000000  아프리카권   \n",
       "180  183  중앙아프리카 공화국     448  Central African Republic  1030000000  아프리카권   \n",
       "\n",
       "     정치체제  최상위_교육기관_수 복무기간  \n",
       "70   민주주의         0.0  NaN  \n",
       "180  민주주의         0.0  NaN  "
      ]
     },
     "execution_count": 182,
     "metadata": {},
     "output_type": "execute_result"
    }
   ],
   "source": [
    "# 적도기니,중앙아프리카 공화국은 손으로 넣어준다. 나머지 버뮤다,북한,쿠바는 원래 취합한 데이터에 포함되지 않은 국가들이다.\n",
    "# 복무기간에 빈 국가들은 전부 0으로 처리해준다.\n",
    "\n",
    "cond = (df3['국가'] == '적도 기니') | (df3['국가'] == '중앙아프리카 공화국')\n",
    "df3[cond]"
   ]
  },
  {
   "cell_type": "code",
   "execution_count": 183,
   "metadata": {},
   "outputs": [],
   "source": [
    "df3.iloc[[70,180],8] = '18개월 이상'"
   ]
  },
  {
   "cell_type": "code",
   "execution_count": 184,
   "metadata": {},
   "outputs": [
    {
     "data": {
      "text/html": [
       "<div>\n",
       "<style scoped>\n",
       "    .dataframe tbody tr th:only-of-type {\n",
       "        vertical-align: middle;\n",
       "    }\n",
       "\n",
       "    .dataframe tbody tr th {\n",
       "        vertical-align: top;\n",
       "    }\n",
       "\n",
       "    .dataframe thead th {\n",
       "        text-align: right;\n",
       "    }\n",
       "</style>\n",
       "<table border=\"1\" class=\"dataframe\">\n",
       "  <thead>\n",
       "    <tr style=\"text-align: right;\">\n",
       "      <th></th>\n",
       "      <th>순위</th>\n",
       "      <th>국가</th>\n",
       "      <th>1인당_GDP</th>\n",
       "      <th>영문</th>\n",
       "      <th>인지도</th>\n",
       "      <th>지역</th>\n",
       "      <th>정치체제</th>\n",
       "      <th>최상위_교육기관_수</th>\n",
       "      <th>복무기간</th>\n",
       "    </tr>\n",
       "  </thead>\n",
       "  <tbody>\n",
       "    <tr>\n",
       "      <td>70</td>\n",
       "      <td>72</td>\n",
       "      <td>적도 기니</td>\n",
       "      <td>8,927</td>\n",
       "      <td>Equatorial Guinea</td>\n",
       "      <td>169000000</td>\n",
       "      <td>아프리카권</td>\n",
       "      <td>민주주의</td>\n",
       "      <td>0.0</td>\n",
       "      <td>18개월 이상</td>\n",
       "    </tr>\n",
       "    <tr>\n",
       "      <td>180</td>\n",
       "      <td>183</td>\n",
       "      <td>중앙아프리카 공화국</td>\n",
       "      <td>448</td>\n",
       "      <td>Central African Republic</td>\n",
       "      <td>1030000000</td>\n",
       "      <td>아프리카권</td>\n",
       "      <td>민주주의</td>\n",
       "      <td>0.0</td>\n",
       "      <td>18개월 이상</td>\n",
       "    </tr>\n",
       "  </tbody>\n",
       "</table>\n",
       "</div>"
      ],
      "text/plain": [
       "      순위          국가 1인당_GDP                        영문         인지도     지역  \\\n",
       "70    72       적도 기니   8,927         Equatorial Guinea   169000000  아프리카권   \n",
       "180  183  중앙아프리카 공화국     448  Central African Republic  1030000000  아프리카권   \n",
       "\n",
       "     정치체제  최상위_교육기관_수     복무기간  \n",
       "70   민주주의         0.0  18개월 이상  \n",
       "180  민주주의         0.0  18개월 이상  "
      ]
     },
     "execution_count": 184,
     "metadata": {},
     "output_type": "execute_result"
    }
   ],
   "source": [
    "df3.iloc[[70,180]]"
   ]
  },
  {
   "cell_type": "code",
   "execution_count": 185,
   "metadata": {},
   "outputs": [
    {
     "data": {
      "text/html": [
       "<div>\n",
       "<style scoped>\n",
       "    .dataframe tbody tr th:only-of-type {\n",
       "        vertical-align: middle;\n",
       "    }\n",
       "\n",
       "    .dataframe tbody tr th {\n",
       "        vertical-align: top;\n",
       "    }\n",
       "\n",
       "    .dataframe thead th {\n",
       "        text-align: right;\n",
       "    }\n",
       "</style>\n",
       "<table border=\"1\" class=\"dataframe\">\n",
       "  <thead>\n",
       "    <tr style=\"text-align: right;\">\n",
       "      <th></th>\n",
       "      <th>순위</th>\n",
       "      <th>국가</th>\n",
       "      <th>1인당_GDP</th>\n",
       "      <th>영문</th>\n",
       "      <th>인지도</th>\n",
       "      <th>지역</th>\n",
       "      <th>정치체제</th>\n",
       "      <th>최상위_교육기관_수</th>\n",
       "      <th>복무기간</th>\n",
       "    </tr>\n",
       "  </thead>\n",
       "  <tbody>\n",
       "    <tr>\n",
       "      <td>0</td>\n",
       "      <td>1</td>\n",
       "      <td>룩셈부르크</td>\n",
       "      <td>113,196</td>\n",
       "      <td>Luxembourg</td>\n",
       "      <td>560000000</td>\n",
       "      <td>서유럽권&amp;기타</td>\n",
       "      <td>민주주의</td>\n",
       "      <td>0.0</td>\n",
       "      <td>0</td>\n",
       "    </tr>\n",
       "    <tr>\n",
       "      <td>1</td>\n",
       "      <td>2</td>\n",
       "      <td>스위스</td>\n",
       "      <td>83,717</td>\n",
       "      <td>Switzerland</td>\n",
       "      <td>682000000</td>\n",
       "      <td>서유럽권&amp;기타</td>\n",
       "      <td>민주주의</td>\n",
       "      <td>2.0</td>\n",
       "      <td>0</td>\n",
       "    </tr>\n",
       "    <tr>\n",
       "      <td>2</td>\n",
       "      <td>3</td>\n",
       "      <td>노르웨이</td>\n",
       "      <td>77,975</td>\n",
       "      <td>Norway</td>\n",
       "      <td>607000000</td>\n",
       "      <td>서유럽권&amp;기타</td>\n",
       "      <td>민주주의</td>\n",
       "      <td>0.0</td>\n",
       "      <td>0</td>\n",
       "    </tr>\n",
       "    <tr>\n",
       "      <td>3</td>\n",
       "      <td>4</td>\n",
       "      <td>아일랜드</td>\n",
       "      <td>77,771</td>\n",
       "      <td>Ireland</td>\n",
       "      <td>1320000000</td>\n",
       "      <td>서유럽권&amp;기타</td>\n",
       "      <td>민주주의</td>\n",
       "      <td>0.0</td>\n",
       "      <td>0</td>\n",
       "    </tr>\n",
       "    <tr>\n",
       "      <td>4</td>\n",
       "      <td>5</td>\n",
       "      <td>카타르</td>\n",
       "      <td>69,688</td>\n",
       "      <td>Qatar</td>\n",
       "      <td>719000000</td>\n",
       "      <td>아시아권</td>\n",
       "      <td>전제군주제</td>\n",
       "      <td>0.0</td>\n",
       "      <td>1년 이하</td>\n",
       "    </tr>\n",
       "    <tr>\n",
       "      <td>5</td>\n",
       "      <td>6</td>\n",
       "      <td>아이슬란드</td>\n",
       "      <td>67,037</td>\n",
       "      <td>Iceland</td>\n",
       "      <td>557000000</td>\n",
       "      <td>서유럽권&amp;기타</td>\n",
       "      <td>민주주의</td>\n",
       "      <td>0.0</td>\n",
       "      <td>0</td>\n",
       "    </tr>\n",
       "    <tr>\n",
       "      <td>6</td>\n",
       "      <td>7</td>\n",
       "      <td>미국</td>\n",
       "      <td>65,112</td>\n",
       "      <td>United States of America</td>\n",
       "      <td>9500000000</td>\n",
       "      <td>서유럽권&amp;기타</td>\n",
       "      <td>민주주의</td>\n",
       "      <td>12.0</td>\n",
       "      <td>0</td>\n",
       "    </tr>\n",
       "    <tr>\n",
       "      <td>7</td>\n",
       "      <td>8</td>\n",
       "      <td>싱가포르</td>\n",
       "      <td>63,987</td>\n",
       "      <td>Singapore</td>\n",
       "      <td>1590000000</td>\n",
       "      <td>아시아권</td>\n",
       "      <td>민주주의</td>\n",
       "      <td>1.0</td>\n",
       "      <td>18개월 이상</td>\n",
       "    </tr>\n",
       "    <tr>\n",
       "      <td>8</td>\n",
       "      <td>9</td>\n",
       "      <td>덴마크</td>\n",
       "      <td>59,795</td>\n",
       "      <td>Denmark</td>\n",
       "      <td>533000000</td>\n",
       "      <td>서유럽권&amp;기타</td>\n",
       "      <td>민주주의</td>\n",
       "      <td>0.0</td>\n",
       "      <td>0</td>\n",
       "    </tr>\n",
       "    <tr>\n",
       "      <td>9</td>\n",
       "      <td>10</td>\n",
       "      <td>오스트레일리아</td>\n",
       "      <td>53,825</td>\n",
       "      <td>Australia</td>\n",
       "      <td>4260000000</td>\n",
       "      <td>서유럽권&amp;기타</td>\n",
       "      <td>민주주의</td>\n",
       "      <td>0.0</td>\n",
       "      <td>0</td>\n",
       "    </tr>\n",
       "  </tbody>\n",
       "</table>\n",
       "</div>"
      ],
      "text/plain": [
       "   순위       국가  1인당_GDP                        영문         인지도       지역   정치체제  \\\n",
       "0   1    룩셈부르크  113,196                Luxembourg   560000000  서유럽권&기타   민주주의   \n",
       "1   2      스위스   83,717               Switzerland   682000000  서유럽권&기타   민주주의   \n",
       "2   3     노르웨이   77,975                    Norway   607000000  서유럽권&기타   민주주의   \n",
       "3   4     아일랜드   77,771                   Ireland  1320000000  서유럽권&기타   민주주의   \n",
       "4   5      카타르   69,688                     Qatar   719000000     아시아권  전제군주제   \n",
       "5   6    아이슬란드   67,037                   Iceland   557000000  서유럽권&기타   민주주의   \n",
       "6   7       미국   65,112  United States of America  9500000000  서유럽권&기타   민주주의   \n",
       "7   8     싱가포르   63,987                 Singapore  1590000000     아시아권   민주주의   \n",
       "8   9      덴마크   59,795                   Denmark   533000000  서유럽권&기타   민주주의   \n",
       "9  10  오스트레일리아   53,825                 Australia  4260000000  서유럽권&기타   민주주의   \n",
       "\n",
       "   최상위_교육기관_수     복무기간  \n",
       "0         0.0        0  \n",
       "1         2.0        0  \n",
       "2         0.0        0  \n",
       "3         0.0        0  \n",
       "4         0.0    1년 이하  \n",
       "5         0.0        0  \n",
       "6        12.0        0  \n",
       "7         1.0  18개월 이상  \n",
       "8         0.0        0  \n",
       "9         0.0        0  "
      ]
     },
     "execution_count": 185,
     "metadata": {},
     "output_type": "execute_result"
    }
   ],
   "source": [
    "df3.fillna({'복무기간':0},inplace=True)\n",
    "df3.head(10)"
   ]
  },
  {
   "cell_type": "markdown",
   "metadata": {},
   "source": [
    "### 중간저장"
   ]
  },
  {
   "cell_type": "code",
   "execution_count": 186,
   "metadata": {},
   "outputs": [],
   "source": [
    "df3.to_excel('prediction_GDP/fifth_result.xlsx',index=False)"
   ]
  },
  {
   "cell_type": "markdown",
   "metadata": {},
   "source": [
    "## 면적 대비 해안선 비율\n",
    "전체 해안선 길이를 국가의 총 면적으로 나눈 비율이다<br>\n",
    "CIA 월드 팩트 북의 자료를 출처로 한다. 값이 0인 국가는 내륙국이다."
   ]
  },
  {
   "cell_type": "code",
   "execution_count": 187,
   "metadata": {},
   "outputs": [],
   "source": [
    "url = 'https://ko.wikipedia.org/wiki/해안선_길이순_나라_목록'\n",
    "driver.get(url)"
   ]
  },
  {
   "cell_type": "code",
   "execution_count": 188,
   "metadata": {},
   "outputs": [
    {
     "data": {
      "text/plain": [
       "('벨라루스', '-')"
      ]
     },
     "execution_count": 188,
     "metadata": {},
     "output_type": "execute_result"
    }
   ],
   "source": [
    "i=167\n",
    "country = driver.find_element_by_css_selector\\\n",
    "('#mw-content-text > div > table > tbody > tr:nth-child({}) > td:nth-child(2)'.format(i)).text\n",
    "num = driver.find_element_by_css_selector\\\n",
    "('#mw-content-text > div > table > tbody > tr:nth-child({}) > td:nth-child(7)'.format(i)).text\n",
    "country, num"
   ]
  },
  {
   "cell_type": "code",
   "execution_count": 189,
   "metadata": {},
   "outputs": [
    {
     "name": "stdout",
     "output_type": "stream",
     "text": [
      "['캐나다', '노르웨이', '인도네시아', '러시아', '필리핀', '일본']\n",
      "[21.915, 100, 29.958, 2.215, 100, 79.39]\n"
     ]
    }
   ],
   "source": [
    "rank_list=[]\n",
    "num_list=[]\n",
    "for i in range(1,300):\n",
    "    try:\n",
    "        country = driver.find_element_by_css_selector\\\n",
    "        ('#mw-content-text > div > table > tbody > tr:nth-child({}) > td:nth-child(2)'.format(i)).text\n",
    "        numm = driver.find_element_by_css_selector\\\n",
    "        ('#mw-content-text > div > table > tbody > tr:nth-child({}) > td:nth-child(7)'.format(i)).text\n",
    "        if numm == '-':\n",
    "            numm = '0'\n",
    "        else:\n",
    "            num = numm\n",
    "        num = float(numm.replace(\",\",\"\"))\n",
    "        # 간혹 면적 대비 해안선 비율이 100이 넘어가는 나라들이 있는데 해상무역을 잘 활용하고 있다는 점에서 100을 상한선으로 해준다.\n",
    "        if num >=100:\n",
    "            num = 100\n",
    "        rank_list.append(country)\n",
    "        num_list.append(num)\n",
    "    except:\n",
    "        break\n",
    "print(rank_list[:6])\n",
    "print(num_list[:6])"
   ]
  },
  {
   "cell_type": "code",
   "execution_count": 190,
   "metadata": {},
   "outputs": [
    {
     "data": {
      "text/html": [
       "<div>\n",
       "<style scoped>\n",
       "    .dataframe tbody tr th:only-of-type {\n",
       "        vertical-align: middle;\n",
       "    }\n",
       "\n",
       "    .dataframe tbody tr th {\n",
       "        vertical-align: top;\n",
       "    }\n",
       "\n",
       "    .dataframe thead th {\n",
       "        text-align: right;\n",
       "    }\n",
       "</style>\n",
       "<table border=\"1\" class=\"dataframe\">\n",
       "  <thead>\n",
       "    <tr style=\"text-align: right;\">\n",
       "      <th></th>\n",
       "      <th>국가</th>\n",
       "      <th>면적 대비 해안선 비율</th>\n",
       "    </tr>\n",
       "  </thead>\n",
       "  <tbody>\n",
       "    <tr>\n",
       "      <td>0</td>\n",
       "      <td>캐나다</td>\n",
       "      <td>21.915</td>\n",
       "    </tr>\n",
       "    <tr>\n",
       "      <td>1</td>\n",
       "      <td>노르웨이</td>\n",
       "      <td>100</td>\n",
       "    </tr>\n",
       "    <tr>\n",
       "      <td>2</td>\n",
       "      <td>인도네시아</td>\n",
       "      <td>29.958</td>\n",
       "    </tr>\n",
       "    <tr>\n",
       "      <td>3</td>\n",
       "      <td>러시아</td>\n",
       "      <td>2.215</td>\n",
       "    </tr>\n",
       "    <tr>\n",
       "      <td>4</td>\n",
       "      <td>필리핀</td>\n",
       "      <td>100</td>\n",
       "    </tr>\n",
       "    <tr>\n",
       "      <td>...</td>\n",
       "      <td>...</td>\n",
       "      <td>...</td>\n",
       "    </tr>\n",
       "    <tr>\n",
       "      <td>193</td>\n",
       "      <td>타지키스탄</td>\n",
       "      <td>0.0</td>\n",
       "    </tr>\n",
       "    <tr>\n",
       "      <td>194</td>\n",
       "      <td>우간다</td>\n",
       "      <td>0.0</td>\n",
       "    </tr>\n",
       "    <tr>\n",
       "      <td>195</td>\n",
       "      <td>바티칸 시국</td>\n",
       "      <td>0.0</td>\n",
       "    </tr>\n",
       "    <tr>\n",
       "      <td>196</td>\n",
       "      <td>잠비아</td>\n",
       "      <td>0.0</td>\n",
       "    </tr>\n",
       "    <tr>\n",
       "      <td>197</td>\n",
       "      <td>짐바브웨</td>\n",
       "      <td>0.0</td>\n",
       "    </tr>\n",
       "  </tbody>\n",
       "</table>\n",
       "<p>198 rows × 2 columns</p>\n",
       "</div>"
      ],
      "text/plain": [
       "         국가 면적 대비 해안선 비율\n",
       "0       캐나다       21.915\n",
       "1      노르웨이          100\n",
       "2     인도네시아       29.958\n",
       "3       러시아        2.215\n",
       "4       필리핀          100\n",
       "..      ...          ...\n",
       "193   타지키스탄          0.0\n",
       "194     우간다          0.0\n",
       "195  바티칸 시국          0.0\n",
       "196     잠비아          0.0\n",
       "197    짐바브웨          0.0\n",
       "\n",
       "[198 rows x 2 columns]"
      ]
     },
     "execution_count": 190,
     "metadata": {},
     "output_type": "execute_result"
    }
   ],
   "source": [
    "coast_df = pd.DataFrame(np.array([rank_list,num_list]).T,columns=['국가','면적 대비 해안선 비율'])\n",
    "coast_df"
   ]
  },
  {
   "cell_type": "code",
   "execution_count": 191,
   "metadata": {},
   "outputs": [],
   "source": [
    "coast_df.to_excel('prediction_GDP/coast.xlsx',index=False)"
   ]
  },
  {
   "cell_type": "markdown",
   "metadata": {},
   "source": [
    "# 데이터 병합\n",
    "따로 취합한 데이터들을 병합해준다."
   ]
  },
  {
   "cell_type": "code",
   "execution_count": 192,
   "metadata": {},
   "outputs": [],
   "source": [
    "pop = pd.read_excel('prediction_GDP/pop.xlsx')\n",
    "region = pd.read_excel('prediction_GDP/region.xlsx')\n",
    "life = pd.read_excel('prediction_GDP/life.xlsx')\n",
    "birth = pd.read_excel('prediction_GDP/birth.xlsx')\n",
    "unemployment = pd.read_excel('prediction_GDP/unemployment.xlsx')\n",
    "suicide = pd.read_excel('prediction_GDP/suicide.xlsx')\n",
    "press_freedom = pd.read_excel('prediction_GDP/press_freedom.xlsx')\n",
    "democ = pd.read_excel('prediction_GDP/democ.xlsx')\n",
    "corruption = pd.read_excel('prediction_GDP/corruption.xlsx')\n",
    "aids = pd.read_excel('prediction_GDP/aids.xlsx')\n",
    "oil = pd.read_excel('prediction_GDP/oil.xlsx')\n",
    "coast = pd.read_excel('prediction_GDP/coast.xlsx')"
   ]
  },
  {
   "cell_type": "code",
   "execution_count": 193,
   "metadata": {},
   "outputs": [],
   "source": [
    "data_list=[pop,region,life,birth,unemployment,suicide,press_freedom,democ,corruption,aids,oil,coast]\n",
    "data_str_list=['pop','region','life','birth','unemployment','suicide','press_freedom','democ','corruption','aids','oil','coast']"
   ]
  },
  {
   "cell_type": "code",
   "execution_count": 194,
   "metadata": {},
   "outputs": [
    {
     "data": {
      "text/html": [
       "<div>\n",
       "<style scoped>\n",
       "    .dataframe tbody tr th:only-of-type {\n",
       "        vertical-align: middle;\n",
       "    }\n",
       "\n",
       "    .dataframe tbody tr th {\n",
       "        vertical-align: top;\n",
       "    }\n",
       "\n",
       "    .dataframe thead th {\n",
       "        text-align: right;\n",
       "    }\n",
       "</style>\n",
       "<table border=\"1\" class=\"dataframe\">\n",
       "  <thead>\n",
       "    <tr style=\"text-align: right;\">\n",
       "      <th></th>\n",
       "      <th>순위</th>\n",
       "      <th>국가</th>\n",
       "      <th>1인당_GDP</th>\n",
       "      <th>영문</th>\n",
       "      <th>인지도</th>\n",
       "      <th>지역</th>\n",
       "      <th>정치체제</th>\n",
       "      <th>최상위_교육기관_수</th>\n",
       "      <th>복무기간</th>\n",
       "    </tr>\n",
       "  </thead>\n",
       "  <tbody>\n",
       "    <tr>\n",
       "      <td>0</td>\n",
       "      <td>1</td>\n",
       "      <td>룩셈부르크</td>\n",
       "      <td>113,196</td>\n",
       "      <td>Luxembourg</td>\n",
       "      <td>560000000</td>\n",
       "      <td>서유럽권&amp;기타</td>\n",
       "      <td>민주주의</td>\n",
       "      <td>0</td>\n",
       "      <td>0</td>\n",
       "    </tr>\n",
       "    <tr>\n",
       "      <td>1</td>\n",
       "      <td>2</td>\n",
       "      <td>스위스</td>\n",
       "      <td>83,717</td>\n",
       "      <td>Switzerland</td>\n",
       "      <td>682000000</td>\n",
       "      <td>서유럽권&amp;기타</td>\n",
       "      <td>민주주의</td>\n",
       "      <td>2</td>\n",
       "      <td>0</td>\n",
       "    </tr>\n",
       "    <tr>\n",
       "      <td>2</td>\n",
       "      <td>3</td>\n",
       "      <td>노르웨이</td>\n",
       "      <td>77,975</td>\n",
       "      <td>Norway</td>\n",
       "      <td>607000000</td>\n",
       "      <td>서유럽권&amp;기타</td>\n",
       "      <td>민주주의</td>\n",
       "      <td>0</td>\n",
       "      <td>0</td>\n",
       "    </tr>\n",
       "    <tr>\n",
       "      <td>3</td>\n",
       "      <td>4</td>\n",
       "      <td>아일랜드</td>\n",
       "      <td>77,771</td>\n",
       "      <td>Ireland</td>\n",
       "      <td>1320000000</td>\n",
       "      <td>서유럽권&amp;기타</td>\n",
       "      <td>민주주의</td>\n",
       "      <td>0</td>\n",
       "      <td>0</td>\n",
       "    </tr>\n",
       "    <tr>\n",
       "      <td>4</td>\n",
       "      <td>5</td>\n",
       "      <td>카타르</td>\n",
       "      <td>69,688</td>\n",
       "      <td>Qatar</td>\n",
       "      <td>719000000</td>\n",
       "      <td>아시아권</td>\n",
       "      <td>전제군주제</td>\n",
       "      <td>0</td>\n",
       "      <td>1년 이하</td>\n",
       "    </tr>\n",
       "    <tr>\n",
       "      <td>...</td>\n",
       "      <td>...</td>\n",
       "      <td>...</td>\n",
       "      <td>...</td>\n",
       "      <td>...</td>\n",
       "      <td>...</td>\n",
       "      <td>...</td>\n",
       "      <td>...</td>\n",
       "      <td>...</td>\n",
       "      <td>...</td>\n",
       "    </tr>\n",
       "    <tr>\n",
       "      <td>181</td>\n",
       "      <td>184</td>\n",
       "      <td>니제르</td>\n",
       "      <td>405</td>\n",
       "      <td>Niger</td>\n",
       "      <td>368000000</td>\n",
       "      <td>아프리카권</td>\n",
       "      <td>민주주의</td>\n",
       "      <td>0</td>\n",
       "      <td>18개월 이상</td>\n",
       "    </tr>\n",
       "    <tr>\n",
       "      <td>182</td>\n",
       "      <td>185</td>\n",
       "      <td>말라위</td>\n",
       "      <td>371</td>\n",
       "      <td>Malawi</td>\n",
       "      <td>269000000</td>\n",
       "      <td>아프리카권</td>\n",
       "      <td>민주주의</td>\n",
       "      <td>0</td>\n",
       "      <td>0</td>\n",
       "    </tr>\n",
       "    <tr>\n",
       "      <td>183</td>\n",
       "      <td>186</td>\n",
       "      <td>에리트레아</td>\n",
       "      <td>343</td>\n",
       "      <td>Eritrea</td>\n",
       "      <td>196000000</td>\n",
       "      <td>아프리카권</td>\n",
       "      <td>민주주의</td>\n",
       "      <td>0</td>\n",
       "      <td>18개월 이하</td>\n",
       "    </tr>\n",
       "    <tr>\n",
       "      <td>184</td>\n",
       "      <td>187</td>\n",
       "      <td>부룬디</td>\n",
       "      <td>310</td>\n",
       "      <td>Burundi</td>\n",
       "      <td>318000000</td>\n",
       "      <td>아프리카권</td>\n",
       "      <td>민주주의</td>\n",
       "      <td>0</td>\n",
       "      <td>0</td>\n",
       "    </tr>\n",
       "    <tr>\n",
       "      <td>185</td>\n",
       "      <td>188</td>\n",
       "      <td>남수단</td>\n",
       "      <td>275</td>\n",
       "      <td>Republic of South Sudan</td>\n",
       "      <td>391000000</td>\n",
       "      <td>아프리카권</td>\n",
       "      <td>민주주의</td>\n",
       "      <td>0</td>\n",
       "      <td>0</td>\n",
       "    </tr>\n",
       "  </tbody>\n",
       "</table>\n",
       "<p>186 rows × 9 columns</p>\n",
       "</div>"
      ],
      "text/plain": [
       "      순위     국가  1인당_GDP                       영문         인지도       지역   정치체제  \\\n",
       "0      1  룩셈부르크  113,196               Luxembourg   560000000  서유럽권&기타   민주주의   \n",
       "1      2    스위스   83,717              Switzerland   682000000  서유럽권&기타   민주주의   \n",
       "2      3   노르웨이   77,975                   Norway   607000000  서유럽권&기타   민주주의   \n",
       "3      4   아일랜드   77,771                  Ireland  1320000000  서유럽권&기타   민주주의   \n",
       "4      5    카타르   69,688                    Qatar   719000000     아시아권  전제군주제   \n",
       "..   ...    ...      ...                      ...         ...      ...    ...   \n",
       "181  184    니제르      405                    Niger   368000000    아프리카권   민주주의   \n",
       "182  185    말라위      371                   Malawi   269000000    아프리카권   민주주의   \n",
       "183  186  에리트레아      343                  Eritrea   196000000    아프리카권   민주주의   \n",
       "184  187    부룬디      310                  Burundi   318000000    아프리카권   민주주의   \n",
       "185  188    남수단      275  Republic of South Sudan   391000000    아프리카권   민주주의   \n",
       "\n",
       "     최상위_교육기관_수     복무기간  \n",
       "0             0        0  \n",
       "1             2        0  \n",
       "2             0        0  \n",
       "3             0        0  \n",
       "4             0    1년 이하  \n",
       "..          ...      ...  \n",
       "181           0  18개월 이상  \n",
       "182           0        0  \n",
       "183           0  18개월 이하  \n",
       "184           0        0  \n",
       "185           0        0  \n",
       "\n",
       "[186 rows x 9 columns]"
      ]
     },
     "execution_count": 194,
     "metadata": {},
     "output_type": "execute_result"
    }
   ],
   "source": [
    "df = pd.read_excel('prediction_GDP/fifth_result.xlsx')\n",
    "df"
   ]
  },
  {
   "cell_type": "markdown",
   "metadata": {},
   "source": [
    "### 마찬가지로 일치하지 않는 국가명을 손봐주도록 한다."
   ]
  },
  {
   "cell_type": "code",
   "execution_count": 195,
   "metadata": {},
   "outputs": [
    {
     "name": "stdout",
     "output_type": "stream",
     "text": [
      "pop의 수정해야할 국가들은 5개입니다. :\n",
      " ['프랑스' '영국' '러시아' '세르비아' '모로코']\n",
      "\n",
      "\n",
      "region의 수정해야할 국가들은 0개입니다. :\n",
      " []\n",
      "\n",
      "\n",
      "life의 수정해야할 국가들은 14개입니다. :\n",
      " ['프랑스' '세인트키츠 네비스' '팔라우' '중화인민공화국' '레바논' '도미니카 연방' '나우루' '태국' '북마케도니아'\n",
      " '에스와티니' '마셜 제도' '투발루' '콩고 공화국' '중앙아프리카 공화국']\n",
      "\n",
      "\n",
      "birth의 수정해야할 국가들은 17개입니다. :\n",
      " ['산마리노' '세인트키츠 네비스' '앤티가 바부다' '팔라우' '중화인민공화국' '적도 기니' '도미니카 공화국' '도미니카 연방'\n",
      " '나우루' '세인트빈센트 그레나딘' '남아프리카 공화국' '마셜 제도' '투발루' '콩고 공화국' '상투메 프린시페'\n",
      " '콩고 민주 공화국' '중앙아프리카 공화국']\n",
      "\n",
      "\n",
      "unemployment의 수정해야할 국가는 너무 많으니 따로 파일을 열람하시오.\n",
      "\n",
      "\n",
      "suicide의 수정해야할 국가들은 10개입니다. :\n",
      " ['산마리노' '대한민국' '세인트키츠 네비스' '팔라우' '중화인민공화국' '도미니카 연방' '나우루' '세르비아' '마셜 제도'\n",
      " '투발루']\n",
      "\n",
      "\n",
      "press_freedom의 수정해야할 국가들은 23개입니다. :\n",
      " ['산마리노' '이스라엘' '바하마' '키프로스' '세인트키츠 네비스' '앤티가 바부다' '바베이도스' '팔라우' '그레나다'\n",
      " '세인트루시아' '중화인민공화국' '몬테네그로' '도미니카 연방' '나우루' '세인트빈센트 그레나딘' '세르비아' '마셜 제도'\n",
      " '투발루' '미크로네시아 연방' '바누아투' '솔로몬 제도' '상투메 프린시페' '키리바시']\n",
      "\n",
      "\n",
      "democ의 수정해야할 국가들은 26개입니다. :\n",
      " ['산마리노' '바하마' '브루나이' '세인트키츠 네비스' '앤티가 바부다' '바베이도스' '세이셸' '팔라우' '몰디브'\n",
      " '그레나다' '세인트루시아' '중화인민공화국' '도미니카 연방' '나우루' '세인트빈센트 그레나딘' '벨리즈' '통가' '사모아'\n",
      " '마셜 제도' '투발루' '미크로네시아 연방' '바누아투' '솔로몬 제도' '상투메 프린시페' '키리바시' '남수단']\n",
      "\n",
      "\n",
      "corruption의 수정해야할 국가들은 21개입니다. :\n",
      " ['산마리노' '이스라엘' '키프로스' '세인트키츠 네비스' '앤티가 바부다' '세이셸' '팔라우' '중화인민공화국' '적도 기니'\n",
      " '나우루' '피지' '벨리즈' '통가' '아르메니아' '사모아' '에스와티니' '마셜 제도' '투발루' '미크로네시아 연방'\n",
      " '바누아투' '키리바시']\n",
      "\n",
      "\n",
      "aids의 수정해야할 국가는 너무 많으니 따로 파일을 열람하시오.\n",
      "\n",
      "\n",
      "oil의 수정해야할 국가는 너무 많으니 따로 파일을 열람하시오.\n",
      "\n",
      "\n",
      "coast의 수정해야할 국가들은 1개입니다. :\n",
      " ['남수단']\n",
      "\n",
      "\n"
     ]
    }
   ],
   "source": [
    "# 데이터별 수정해야할 국가목록\n",
    "\n",
    "for i in range(len(data_list)):\n",
    "    data = data_list[i]\n",
    "    data_name = data_str_list[i]\n",
    "    cond = (df['국가'].isin(data['국가']))\n",
    "    repair = df[cond==False]['국가'].values\n",
    "    if len(repair) < 35:\n",
    "        print('{}의 수정해야할 국가들은 {}개입니다. :\\n'.format(data_name,len(repair)),repair)\n",
    "    else:\n",
    "        print('{}의 수정해야할 국가는 너무 많으니 따로 파일을 열람하시오.'.format(data_name))\n",
    "    print('\\n')"
   ]
  },
  {
   "cell_type": "code",
   "execution_count": 196,
   "metadata": {},
   "outputs": [],
   "source": [
    "# coast : 남수단은 내륙국으로 해안면적은 0이다.\n",
    "coast = coast.append({'국가':'남수단','면적 대비 해안선 비율':0},ignore_index=True)"
   ]
  },
  {
   "cell_type": "code",
   "execution_count": 8,
   "metadata": {},
   "outputs": [],
   "source": [
    "'''처음 정보를 수집했을 때는 '중국'이었으나 며칠 사이에 면적크기 항목의 표기가 \n",
    "'중화인민공화국'으로 바뀌었기에 해당 셀을 주석처리합니다.'''\n",
    "\n",
    "'''# region : '중국'을 '중화인민공화국'으로 바꿔준다.\n",
    "def changing(name):\n",
    "    if name == '중국':\n",
    "        name = '중화인민공화국'\n",
    "    return name\n",
    "region = region.applymap(changing)'''"
   ]
  },
  {
   "cell_type": "code",
   "execution_count": 197,
   "metadata": {},
   "outputs": [],
   "source": [
    "# pop : 프랑스[5]처럼 뒤에 숫자가 붙은 경우가 많으므로 이것만 수정해주면 될 듯하다.\n",
    "for i in range(len(pop)):\n",
    "    pop.iloc[i,0] = pop.iloc[i,0].split(\"[\")[0]"
   ]
  },
  {
   "cell_type": "code",
   "execution_count": 198,
   "metadata": {},
   "outputs": [
    {
     "data": {
      "text/plain": [
       "국가           모로코\n",
       "인구    35,029,100\n",
       "Name: 38, dtype: object"
      ]
     },
     "execution_count": 198,
     "metadata": {},
     "output_type": "execute_result"
    }
   ],
   "source": [
    "pop.iloc[38]"
   ]
  },
  {
   "cell_type": "code",
   "execution_count": 199,
   "metadata": {},
   "outputs": [],
   "source": [
    "# life : '프랑스' '세인트키츠 네비스' '팔라우' '중화인민공화국' '레바논' '도미니카 연방' '나우루' '태국' '북마케도니아'\n",
    "# '에스와티니' '마셜 제도' '투발루' '콩고 공화국' '중앙아프리카 공화국'\n",
    "# pop에는 프랑스(본토), 중국, 타이, 콩고, 마케도니아, 중앙아프리카공화국, 스와질란드으로 표기돼있음\n",
    "# 그래도 겹치지 않는 국가는 일단 비워둔다.\n",
    "\n",
    "cond_dict = {'프랑스(본토)':'프랑스','중국':'중화인민공화국','타이':'태국','콩고':'콩고 공화국','마케도니아':'북마케도니아',\n",
    "            '중앙아프리카공화국':'중앙아프리카 공화국','스와질란드':'에스와티니'}\n",
    "def changing(name):\n",
    "    for k,v in cond_dict.items():\n",
    "        if name == k:\n",
    "            name = v\n",
    "    return name"
   ]
  },
  {
   "cell_type": "code",
   "execution_count": 200,
   "metadata": {},
   "outputs": [],
   "source": [
    "life = life.applymap(changing)"
   ]
  },
  {
   "cell_type": "code",
   "execution_count": 201,
   "metadata": {},
   "outputs": [],
   "source": [
    "# birth : ['산마리노' '세인트키츠 네비스' '앤티가 바부다' '팔라우' '중화인민공화국' '적도 기니' '도미니카 공화국' '도미니카 연방'\n",
    "# '나우루' '세인트빈센트 그레나딘' '남아프리카 공화국' '마셜 제도' '투발루' '콩고 공화국' '상투메 프린시페'\n",
    "# '콩고 민주 공화국' '중앙아프리카 공화국']\n",
    "# 겹치지 않는 국가는 일단 비워둔다.\n",
    "\n",
    "cond_dict = {'세인트빈센트 그레나딘':'세인트빈센트그레나딘', '남아프리카 공화국' :'남아프리카공화국','콩고 공화국':'콩고',\n",
    "             '상투메 프린시페':'상투메프린시테', '콩고 민주 공화국':'콩고민주공화국', '중앙아프리카 공화국':'중앙아프리카공화국' }\n",
    "def changing(name):\n",
    "    for k,v in cond_dict.items():\n",
    "        if name == v:\n",
    "            name = k\n",
    "    return name\n",
    "birth = birth.applymap(changing)"
   ]
  },
  {
   "cell_type": "code",
   "execution_count": 202,
   "metadata": {},
   "outputs": [],
   "source": [
    "# suicide의 수정해야할 국가들은 10개입니다. :\n",
    "# ['산마리노' '대한민국' '세인트키츠 네비스' '팔라우' '중화인민공화국' '도미니카 연방' '나우루' '세르비아' '마셜 제도'\n",
    "# '투발루']\n",
    "\n",
    "cond_dict = {'대한민국':'대한민국 (추가 정보)','중화인민공화국':'중국'}\n",
    "def changing(name):\n",
    "    for k,v in cond_dict.items():\n",
    "        if name == v:\n",
    "            name = k\n",
    "    return name\n",
    "suicide = suicide.applymap(changing)"
   ]
  },
  {
   "cell_type": "code",
   "execution_count": 203,
   "metadata": {},
   "outputs": [],
   "source": [
    "# press_freedom의 수정해야할 국가들은 23개입니다. :\n",
    "# ['산마리노' '이스라엘' '바하마' '키프로스' '세인트키츠 네비스' '앤티가 바부다' '바베이도스' '팔라우' '그레나다'\n",
    "# '세인트루시아' '중화인민공화국' '몬테네그로' '도미니카 연방' '나우루' '세인트빈센트 그레나딘' '세르비아' '마셜 제도'\n",
    "# '투발루' '미크로네시아 연방' '바누아투' '솔로몬 제도' '상투메 프린시페' '키리바시']\n",
    "\n",
    "cond_dict={'이스라엘':'이스라엘[d]','키프로스':'키프로스[b]',\n",
    "'중화인민공화국':'중국','몬테네그로':'몬테네그로[c]','세르비아':'세르비아[c]'}\n",
    "def changing(name):\n",
    "    for k,v in cond_dict.items():\n",
    "        if name == v:\n",
    "            name = k\n",
    "    return name\n",
    "press_freedom = press_freedom.applymap(changing)"
   ]
  },
  {
   "cell_type": "code",
   "execution_count": 204,
   "metadata": {},
   "outputs": [],
   "source": [
    "# democ의 수정해야할 국가들은 26개입니다. :\n",
    "# ['산마리노' '바하마' '브루나이' '세인트키츠 네비스' '앤티가 바부다' '바베이도스' '세이셸' '팔라우' '몰디브'\n",
    "# '그레나다' '세인트루시아' '중화인민공화국' '도미니카 연방' '나우루' '세인트빈센트 그레나딘' '벨리즈' '통가' '사모아'\n",
    "# '마셜 제도' '투발루' '미크로네시아 연방' '바누아투' '솔로몬 제도' '상투메 프린시페' '키리바시' '남수단']\n",
    "\n",
    "cond_dict ={'중화인민공화국':'중국'}\n",
    "def changing(name):\n",
    "    for k,v in cond_dict.items():\n",
    "        if name == v:\n",
    "            name = k\n",
    "    return name\n",
    "democ = democ.applymap(changing)"
   ]
  },
  {
   "cell_type": "code",
   "execution_count": 205,
   "metadata": {},
   "outputs": [],
   "source": [
    "# corruption에서는 잘못된 표기가 발견되지 않았다. 모두 빈값이므로 나중에 처리할 수 있도록 한다."
   ]
  },
  {
   "cell_type": "code",
   "execution_count": 206,
   "metadata": {},
   "outputs": [],
   "source": [
    "data_list=[pop,region,life,birth,unemployment,suicide,press_freedom,democ,corruption,aids,oil,coast]\n",
    "data_str_list=['pop','region','life','birth','unemployment','suicide','press_freedom','democ','corruption','aids','oil','coast']"
   ]
  },
  {
   "cell_type": "code",
   "execution_count": 207,
   "metadata": {},
   "outputs": [
    {
     "name": "stdout",
     "output_type": "stream",
     "text": [
      "pop의 수정해야할 국가들은 0개입니다. :\n",
      " []\n",
      "\n",
      "\n",
      "region의 수정해야할 국가들은 0개입니다. :\n",
      " []\n",
      "\n",
      "\n",
      "life의 수정해야할 국가들은 8개입니다. :\n",
      " ['프랑스' '세인트키츠 네비스' '팔라우' '레바논' '도미니카 연방' '나우루' '마셜 제도' '투발루']\n",
      "\n",
      "\n",
      "birth의 수정해야할 국가들은 13개입니다. :\n",
      " ['산마리노' '세인트키츠 네비스' '앤티가 바부다' '팔라우' '중화인민공화국' '적도 기니' '도미니카 공화국' '도미니카 연방'\n",
      " '나우루' '마셜 제도' '투발루' '콩고 공화국' '상투메 프린시페']\n",
      "\n",
      "\n",
      "unemployment의 수정해야할 국가는 너무 많으니 따로 파일을 열람하시오.\n",
      "\n",
      "\n",
      "suicide의 수정해야할 국가들은 8개입니다. :\n",
      " ['산마리노' '세인트키츠 네비스' '팔라우' '도미니카 연방' '나우루' '세르비아' '마셜 제도' '투발루']\n",
      "\n",
      "\n",
      "press_freedom의 수정해야할 국가들은 18개입니다. :\n",
      " ['산마리노' '바하마' '세인트키츠 네비스' '앤티가 바부다' '바베이도스' '팔라우' '그레나다' '세인트루시아'\n",
      " '도미니카 연방' '나우루' '세인트빈센트 그레나딘' '마셜 제도' '투발루' '미크로네시아 연방' '바누아투' '솔로몬 제도'\n",
      " '상투메 프린시페' '키리바시']\n",
      "\n",
      "\n",
      "democ의 수정해야할 국가들은 25개입니다. :\n",
      " ['산마리노' '바하마' '브루나이' '세인트키츠 네비스' '앤티가 바부다' '바베이도스' '세이셸' '팔라우' '몰디브'\n",
      " '그레나다' '세인트루시아' '도미니카 연방' '나우루' '세인트빈센트 그레나딘' '벨리즈' '통가' '사모아' '마셜 제도'\n",
      " '투발루' '미크로네시아 연방' '바누아투' '솔로몬 제도' '상투메 프린시페' '키리바시' '남수단']\n",
      "\n",
      "\n",
      "corruption의 수정해야할 국가들은 21개입니다. :\n",
      " ['산마리노' '이스라엘' '키프로스' '세인트키츠 네비스' '앤티가 바부다' '세이셸' '팔라우' '중화인민공화국' '적도 기니'\n",
      " '나우루' '피지' '벨리즈' '통가' '아르메니아' '사모아' '에스와티니' '마셜 제도' '투발루' '미크로네시아 연방'\n",
      " '바누아투' '키리바시']\n",
      "\n",
      "\n",
      "aids의 수정해야할 국가는 너무 많으니 따로 파일을 열람하시오.\n",
      "\n",
      "\n",
      "oil의 수정해야할 국가는 너무 많으니 따로 파일을 열람하시오.\n",
      "\n",
      "\n",
      "coast의 수정해야할 국가들은 0개입니다. :\n",
      " []\n",
      "\n",
      "\n"
     ]
    }
   ],
   "source": [
    "for i in range(len(data_list)):\n",
    "    data = data_list[i]\n",
    "    data_name = data_str_list[i]\n",
    "    cond = (df['국가'].isin(data['국가']))\n",
    "    repair = df[cond==False]['국가'].values\n",
    "    if len(repair) < 35:\n",
    "        print('{}의 수정해야할 국가들은 {}개입니다. :\\n'.format(data_name,len(repair)),repair)\n",
    "    else:\n",
    "        print('{}의 수정해야할 국가는 너무 많으니 따로 파일을 열람하시오.'.format(data_name))\n",
    "    print('\\n')"
   ]
  },
  {
   "cell_type": "code",
   "execution_count": 208,
   "metadata": {},
   "outputs": [
    {
     "name": "stdout",
     "output_type": "stream",
     "text": [
      "unemployment의 수정해야할 국가들은 36개입니다. :\n",
      " ['사우디아라비아' '오만' '세이셸' '트리니다드 토바고' '몰디브' '적도 기니' '태국' '북마케도니아' '사모아'\n",
      " '에스와티니' '투발루' '앙골라' '콩고 공화국' '솔로몬 제도' '상투메 프린시페' '코트디부아르' '미얀마' '베냉'\n",
      " '탄자니아' '기니' '에티오피아' '기니비사우' '아이티' '우간다' '감비아' '부르키나파소' '라이베리아' '토고'\n",
      " '콩고 민주 공화국' '마다가스카르' '중앙아프리카 공화국' '니제르' '말라위' '에리트레아' '부룬디' '남수단']\n",
      "\n",
      "\n",
      "aids의 수정해야할 국가들은 74개입니다. :\n",
      " ['룩셈부르크' '스위스' '노르웨이' '카타르' '아이슬란드' '싱가포르' '덴마크' '오스트리아' '핀란드' '산마리노' '독일'\n",
      " '벨기에' '이스라엘' '프랑스' '영국' '일본' '뉴질랜드' '아랍에미리트' '대한민국' '스페인' '쿠웨이트' '브루나이'\n",
      " '키프로스' '슬로베니아' '바레인' '에스토니아' '포르투갈' '사우디아라비아' '그리스' '슬로바키아' '세인트키츠 네비스'\n",
      " '앤티가 바부다' '오만' '헝가리' '세이셸' '팔라우' '몰디브' '폴란드' '그레나다' '모리셔스' '러시아' '세인트루시아'\n",
      " '카자흐스탄' '터키' '도미니카 연방' '나우루' '투르크메니스탄' '세인트빈센트 그레나딘' '북마케도니아'\n",
      " '보스니아 헤르체고비나' '이라크' '이란' '리비아' '통가' '아제르바이잔' '사모아' '요르단' '몽골' '마셜 제도'\n",
      " '투발루' '미크로네시아 연방' '부탄' '바누아투' '동티모르' '솔로몬 제도' '상투메 프린시페' '우즈베키스탄' '키리바시'\n",
      " '파키스탄' '코모로' '키르기스스탄' '미얀마' '타지키스탄' '아프가니스탄']\n",
      "\n",
      "\n",
      "oil의 수정해야할 국가들은 96개입니다. :\n",
      " ['룩셈부르크' '스위스' '아일랜드' '아이슬란드' '싱가포르' '스웨덴' '핀란드' '산마리노' '벨기에' '바하마' '몰타'\n",
      " '키프로스' '에스토니아' '포르투갈' '사우디아라비아' '세인트키츠 네비스' '라트비아' '앤티가 바부다' '세이셸' '우루과이'\n",
      " '팔라우' '트리니다드 토바고' '파나마' '몰디브' '코스타리카' '그레나다' '모리셔스' '세인트루시아' '중화인민공화국'\n",
      " '레바논' '적도 기니' '몬테네그로' '도미니카 공화국' '도미니카 연방' '나우루' '보츠와나' '태국'\n",
      " '세인트빈센트 그레나딘' '피지' '북마케도니아' '나미비아' '보스니아 헤르체고비나' '파라과이' '자메이카' '가이아나'\n",
      " '통가' '아르메니아' '사모아' '에스와티니' '엘살바도르' '스리랑카' '마셜 제도' '투발루' '미크로네시아 연방'\n",
      " '카보베르데' '부탄' '몰도바' '바누아투' '지부티' '라오스' '온두라스' '솔로몬 제도' '케냐' '상투메 프린시페'\n",
      " '니카라과' '캄보디아' '키리바시' '세네갈' '코모로' '레소토' '잠비아' '베냉' '탄자니아' '네팔' '기니'\n",
      " '에티오피아' '말리' '짐바브웨' '르완다' '기니비사우' '아이티' '우간다' '감비아' '부르키나파소' '수단' '라이베리아'\n",
      " '토고' '시에라리온' '아프가니스탄' '모잠비크' '마다가스카르' '중앙아프리카 공화국' '말라위' '에리트레아' '부룬디'\n",
      " '남수단']\n",
      "\n",
      "\n"
     ]
    }
   ],
   "source": [
    "data_list=[unemployment,aids,oil]\n",
    "data_str_list=['unemployment','aids','oil']\n",
    "for i in range(len(data_list)):\n",
    "    data = data_list[i]\n",
    "    data_name = data_str_list[i]\n",
    "    cond = (df['국가'].isin(data['국가']))\n",
    "    repair = df[cond==False]['국가'].values\n",
    "    print('{}의 수정해야할 국가들은 {}개입니다. :\\n'.format(data_name,len(repair)),repair)\n",
    "    print('\\n')"
   ]
  },
  {
   "cell_type": "code",
   "execution_count": 209,
   "metadata": {},
   "outputs": [],
   "source": [
    "# unemployment의 수정해야할 국가들은 36개입니다. :\n",
    "# ['사우디아라비아' '오만' '세이셸' '트리니다드 토바고' '몰디브' '적도 기니' '태국' '북마케도니아' '사모아'\n",
    "# '에스와티니' '투발루' '앙골라' '콩고 공화국' '솔로몬 제도' '상투메 프린시페' '코트디부아르' '미얀마' '베냉'\n",
    "# '탄자니아' '기니' '에티오피아' '기니비사우' '아이티' '우간다' '감비아' '부르키나파소' '라이베리아' '토고'\n",
    "# '콩고 민주 공화국' '마다가스카르' '중앙아프리카 공화국' '니제르' '말라위' '에리트레아' '부룬디' '남수단']\n",
    "\n",
    "cond_dict={'사우디아라비아':'사우디 아라비아','트리니다드 토바고':'트리니다드토바고','적도 기니':'적도기니', \n",
    "           '태국':'타이', '북마케도니아':'마케도니아','에스와티니':'스와질란드'}\n",
    "def changing(name):\n",
    "    for k,v in cond_dict.items():\n",
    "        if name == v:\n",
    "            name = k\n",
    "    return name\n",
    "unemployment = unemployment.applymap(changing)"
   ]
  },
  {
   "cell_type": "code",
   "execution_count": 210,
   "metadata": {},
   "outputs": [],
   "source": [
    "# oil과 aids는 전부 0으로 채워주면 될 듯 하다."
   ]
  },
  {
   "cell_type": "code",
   "execution_count": 211,
   "metadata": {},
   "outputs": [],
   "source": [
    "df2 = df.merge(pop,how='left')\n",
    "df3 = df2.merge(region,how='left')\n",
    "df4 = df3.merge(life,how='left')\n",
    "df5 = df4.merge(birth,how='left')\n",
    "df6 = df5.merge(suicide,how='left')\n",
    "df7 = df6.merge(press_freedom,how='left')\n",
    "df8 = df7.merge(democ,how='left')\n",
    "df9 = df8.merge(corruption,how='left')\n",
    "df10 = df9.merge(unemployment,how='left')\n",
    "df11 = df10.merge(coast,how='left')\n",
    "df12 = df11.merge(aids,how='left')\n",
    "df13 = df12.merge(oil,how='left')"
   ]
  },
  {
   "cell_type": "code",
   "execution_count": 212,
   "metadata": {},
   "outputs": [
    {
     "data": {
      "text/html": [
       "<div>\n",
       "<style scoped>\n",
       "    .dataframe tbody tr th:only-of-type {\n",
       "        vertical-align: middle;\n",
       "    }\n",
       "\n",
       "    .dataframe tbody tr th {\n",
       "        vertical-align: top;\n",
       "    }\n",
       "\n",
       "    .dataframe thead th {\n",
       "        text-align: right;\n",
       "    }\n",
       "</style>\n",
       "<table border=\"1\" class=\"dataframe\">\n",
       "  <thead>\n",
       "    <tr style=\"text-align: right;\">\n",
       "      <th></th>\n",
       "      <th>순위</th>\n",
       "      <th>국가</th>\n",
       "      <th>1인당_GDP</th>\n",
       "      <th>영문</th>\n",
       "      <th>인지도</th>\n",
       "      <th>지역</th>\n",
       "      <th>정치체제</th>\n",
       "      <th>최상위_교육기관_수</th>\n",
       "      <th>복무기간</th>\n",
       "      <th>인구</th>\n",
       "      <th>...</th>\n",
       "      <th>기대수명</th>\n",
       "      <th>출산율</th>\n",
       "      <th>10만명당_자살률</th>\n",
       "      <th>언론자유지수</th>\n",
       "      <th>민주주의지수</th>\n",
       "      <th>청렴도</th>\n",
       "      <th>실업률</th>\n",
       "      <th>면적 대비 해안선 비율</th>\n",
       "      <th>에이즈감염률(%)</th>\n",
       "      <th>석유생산량</th>\n",
       "    </tr>\n",
       "  </thead>\n",
       "  <tbody>\n",
       "    <tr>\n",
       "      <td>0</td>\n",
       "      <td>1</td>\n",
       "      <td>룩셈부르크</td>\n",
       "      <td>113,196</td>\n",
       "      <td>Luxembourg</td>\n",
       "      <td>560000000</td>\n",
       "      <td>서유럽권&amp;기타</td>\n",
       "      <td>민주주의</td>\n",
       "      <td>0</td>\n",
       "      <td>0</td>\n",
       "      <td>613,894</td>\n",
       "      <td>...</td>\n",
       "      <td>81.34</td>\n",
       "      <td>1.5</td>\n",
       "      <td>8.5</td>\n",
       "      <td>15.66</td>\n",
       "      <td>8.81</td>\n",
       "      <td>81.0</td>\n",
       "      <td>6.5</td>\n",
       "      <td>0.000</td>\n",
       "      <td>NaN</td>\n",
       "      <td>NaN</td>\n",
       "    </tr>\n",
       "    <tr>\n",
       "      <td>1</td>\n",
       "      <td>2</td>\n",
       "      <td>스위스</td>\n",
       "      <td>83,717</td>\n",
       "      <td>Switzerland</td>\n",
       "      <td>682000000</td>\n",
       "      <td>서유럽권&amp;기타</td>\n",
       "      <td>민주주의</td>\n",
       "      <td>2</td>\n",
       "      <td>0</td>\n",
       "      <td>8,542,323</td>\n",
       "      <td>...</td>\n",
       "      <td>82.66</td>\n",
       "      <td>1.5</td>\n",
       "      <td>10.7</td>\n",
       "      <td>10.52</td>\n",
       "      <td>9.03</td>\n",
       "      <td>85.0</td>\n",
       "      <td>5.2</td>\n",
       "      <td>0.000</td>\n",
       "      <td>NaN</td>\n",
       "      <td>NaN</td>\n",
       "    </tr>\n",
       "    <tr>\n",
       "      <td>2</td>\n",
       "      <td>3</td>\n",
       "      <td>노르웨이</td>\n",
       "      <td>77,975</td>\n",
       "      <td>Norway</td>\n",
       "      <td>607000000</td>\n",
       "      <td>서유럽권&amp;기타</td>\n",
       "      <td>민주주의</td>\n",
       "      <td>0</td>\n",
       "      <td>0</td>\n",
       "      <td>5,334,762</td>\n",
       "      <td>...</td>\n",
       "      <td>81.32</td>\n",
       "      <td>1.7</td>\n",
       "      <td>9.3</td>\n",
       "      <td>7.82</td>\n",
       "      <td>9.87</td>\n",
       "      <td>84.0</td>\n",
       "      <td>4.0</td>\n",
       "      <td>100.000</td>\n",
       "      <td>NaN</td>\n",
       "      <td>1,647,975</td>\n",
       "    </tr>\n",
       "    <tr>\n",
       "      <td>3</td>\n",
       "      <td>4</td>\n",
       "      <td>아일랜드</td>\n",
       "      <td>77,771</td>\n",
       "      <td>Ireland</td>\n",
       "      <td>1320000000</td>\n",
       "      <td>서유럽권&amp;기타</td>\n",
       "      <td>민주주의</td>\n",
       "      <td>0</td>\n",
       "      <td>0</td>\n",
       "      <td>4,857,000</td>\n",
       "      <td>...</td>\n",
       "      <td>80.57</td>\n",
       "      <td>1.9</td>\n",
       "      <td>11.1</td>\n",
       "      <td>15.00</td>\n",
       "      <td>9.15</td>\n",
       "      <td>73.0</td>\n",
       "      <td>6.0</td>\n",
       "      <td>21.019</td>\n",
       "      <td>0.2</td>\n",
       "      <td>NaN</td>\n",
       "    </tr>\n",
       "    <tr>\n",
       "      <td>4</td>\n",
       "      <td>5</td>\n",
       "      <td>카타르</td>\n",
       "      <td>69,688</td>\n",
       "      <td>Qatar</td>\n",
       "      <td>719000000</td>\n",
       "      <td>아시아권</td>\n",
       "      <td>전제군주제</td>\n",
       "      <td>0</td>\n",
       "      <td>1년 이하</td>\n",
       "      <td>2,772,294</td>\n",
       "      <td>...</td>\n",
       "      <td>78.88</td>\n",
       "      <td>1.9</td>\n",
       "      <td>5.7</td>\n",
       "      <td>42.51</td>\n",
       "      <td>3.19</td>\n",
       "      <td>62.0</td>\n",
       "      <td>0.4</td>\n",
       "      <td>49.226</td>\n",
       "      <td>NaN</td>\n",
       "      <td>1,522,902</td>\n",
       "    </tr>\n",
       "    <tr>\n",
       "      <td>...</td>\n",
       "      <td>...</td>\n",
       "      <td>...</td>\n",
       "      <td>...</td>\n",
       "      <td>...</td>\n",
       "      <td>...</td>\n",
       "      <td>...</td>\n",
       "      <td>...</td>\n",
       "      <td>...</td>\n",
       "      <td>...</td>\n",
       "      <td>...</td>\n",
       "      <td>...</td>\n",
       "      <td>...</td>\n",
       "      <td>...</td>\n",
       "      <td>...</td>\n",
       "      <td>...</td>\n",
       "      <td>...</td>\n",
       "      <td>...</td>\n",
       "      <td>...</td>\n",
       "      <td>...</td>\n",
       "      <td>...</td>\n",
       "      <td>...</td>\n",
       "    </tr>\n",
       "    <tr>\n",
       "      <td>183</td>\n",
       "      <td>184</td>\n",
       "      <td>니제르</td>\n",
       "      <td>405</td>\n",
       "      <td>Niger</td>\n",
       "      <td>368000000</td>\n",
       "      <td>아프리카권</td>\n",
       "      <td>민주주의</td>\n",
       "      <td>0</td>\n",
       "      <td>18개월 이상</td>\n",
       "      <td>22,314,743</td>\n",
       "      <td>...</td>\n",
       "      <td>60.65</td>\n",
       "      <td>7.2</td>\n",
       "      <td>8.5</td>\n",
       "      <td>29.26</td>\n",
       "      <td>3.76</td>\n",
       "      <td>34.0</td>\n",
       "      <td>NaN</td>\n",
       "      <td>0.000</td>\n",
       "      <td>0.4</td>\n",
       "      <td>13,000</td>\n",
       "    </tr>\n",
       "    <tr>\n",
       "      <td>184</td>\n",
       "      <td>185</td>\n",
       "      <td>말라위</td>\n",
       "      <td>371</td>\n",
       "      <td>Malawi</td>\n",
       "      <td>269000000</td>\n",
       "      <td>아프리카권</td>\n",
       "      <td>민주주의</td>\n",
       "      <td>0</td>\n",
       "      <td>0</td>\n",
       "      <td>17,563,749</td>\n",
       "      <td>...</td>\n",
       "      <td>60.97</td>\n",
       "      <td>4.6</td>\n",
       "      <td>10.8</td>\n",
       "      <td>29.36</td>\n",
       "      <td>5.49</td>\n",
       "      <td>32.0</td>\n",
       "      <td>NaN</td>\n",
       "      <td>0.000</td>\n",
       "      <td>9.2</td>\n",
       "      <td>NaN</td>\n",
       "    </tr>\n",
       "    <tr>\n",
       "      <td>185</td>\n",
       "      <td>186</td>\n",
       "      <td>에리트레아</td>\n",
       "      <td>343</td>\n",
       "      <td>Eritrea</td>\n",
       "      <td>196000000</td>\n",
       "      <td>아프리카권</td>\n",
       "      <td>민주주의</td>\n",
       "      <td>0</td>\n",
       "      <td>18개월 이하</td>\n",
       "      <td>5,309,659</td>\n",
       "      <td>...</td>\n",
       "      <td>63.07</td>\n",
       "      <td>4.1</td>\n",
       "      <td>13.2</td>\n",
       "      <td>80.26</td>\n",
       "      <td>2.37</td>\n",
       "      <td>24.0</td>\n",
       "      <td>NaN</td>\n",
       "      <td>18.414</td>\n",
       "      <td>0.6</td>\n",
       "      <td>NaN</td>\n",
       "    </tr>\n",
       "    <tr>\n",
       "      <td>186</td>\n",
       "      <td>187</td>\n",
       "      <td>부룬디</td>\n",
       "      <td>310</td>\n",
       "      <td>Burundi</td>\n",
       "      <td>318000000</td>\n",
       "      <td>아프리카권</td>\n",
       "      <td>민주주의</td>\n",
       "      <td>0</td>\n",
       "      <td>0</td>\n",
       "      <td>10,953,317</td>\n",
       "      <td>...</td>\n",
       "      <td>56.07</td>\n",
       "      <td>5.7</td>\n",
       "      <td>13.0</td>\n",
       "      <td>52.89</td>\n",
       "      <td>2.33</td>\n",
       "      <td>17.0</td>\n",
       "      <td>NaN</td>\n",
       "      <td>0.000</td>\n",
       "      <td>1.1</td>\n",
       "      <td>NaN</td>\n",
       "    </tr>\n",
       "    <tr>\n",
       "      <td>187</td>\n",
       "      <td>188</td>\n",
       "      <td>남수단</td>\n",
       "      <td>275</td>\n",
       "      <td>Republic of South Sudan</td>\n",
       "      <td>391000000</td>\n",
       "      <td>아프리카권</td>\n",
       "      <td>민주주의</td>\n",
       "      <td>0</td>\n",
       "      <td>0</td>\n",
       "      <td>12,778,250</td>\n",
       "      <td>...</td>\n",
       "      <td>55.06</td>\n",
       "      <td>4.9</td>\n",
       "      <td>9.6</td>\n",
       "      <td>45.65</td>\n",
       "      <td>NaN</td>\n",
       "      <td>13.0</td>\n",
       "      <td>NaN</td>\n",
       "      <td>0.000</td>\n",
       "      <td>2.7</td>\n",
       "      <td>NaN</td>\n",
       "    </tr>\n",
       "  </tbody>\n",
       "</table>\n",
       "<p>188 rows × 21 columns</p>\n",
       "</div>"
      ],
      "text/plain": [
       "      순위     국가  1인당_GDP                       영문         인지도       지역   정치체제  \\\n",
       "0      1  룩셈부르크  113,196               Luxembourg   560000000  서유럽권&기타   민주주의   \n",
       "1      2    스위스   83,717              Switzerland   682000000  서유럽권&기타   민주주의   \n",
       "2      3   노르웨이   77,975                   Norway   607000000  서유럽권&기타   민주주의   \n",
       "3      4   아일랜드   77,771                  Ireland  1320000000  서유럽권&기타   민주주의   \n",
       "4      5    카타르   69,688                    Qatar   719000000     아시아권  전제군주제   \n",
       "..   ...    ...      ...                      ...         ...      ...    ...   \n",
       "183  184    니제르      405                    Niger   368000000    아프리카권   민주주의   \n",
       "184  185    말라위      371                   Malawi   269000000    아프리카권   민주주의   \n",
       "185  186  에리트레아      343                  Eritrea   196000000    아프리카권   민주주의   \n",
       "186  187    부룬디      310                  Burundi   318000000    아프리카권   민주주의   \n",
       "187  188    남수단      275  Republic of South Sudan   391000000    아프리카권   민주주의   \n",
       "\n",
       "     최상위_교육기관_수     복무기간          인구  ...   기대수명  출산율  10만명당_자살률  언론자유지수  \\\n",
       "0             0        0     613,894  ...  81.34  1.5        8.5   15.66   \n",
       "1             2        0   8,542,323  ...  82.66  1.5       10.7   10.52   \n",
       "2             0        0   5,334,762  ...  81.32  1.7        9.3    7.82   \n",
       "3             0        0   4,857,000  ...  80.57  1.9       11.1   15.00   \n",
       "4             0    1년 이하   2,772,294  ...  78.88  1.9        5.7   42.51   \n",
       "..          ...      ...         ...  ...    ...  ...        ...     ...   \n",
       "183           0  18개월 이상  22,314,743  ...  60.65  7.2        8.5   29.26   \n",
       "184           0        0  17,563,749  ...  60.97  4.6       10.8   29.36   \n",
       "185           0  18개월 이하   5,309,659  ...  63.07  4.1       13.2   80.26   \n",
       "186           0        0  10,953,317  ...  56.07  5.7       13.0   52.89   \n",
       "187           0        0  12,778,250  ...  55.06  4.9        9.6   45.65   \n",
       "\n",
       "     민주주의지수   청렴도  실업률 면적 대비 해안선 비율  에이즈감염률(%)      석유생산량  \n",
       "0      8.81  81.0  6.5        0.000        NaN        NaN  \n",
       "1      9.03  85.0  5.2        0.000        NaN        NaN  \n",
       "2      9.87  84.0  4.0      100.000        NaN  1,647,975  \n",
       "3      9.15  73.0  6.0       21.019        0.2        NaN  \n",
       "4      3.19  62.0  0.4       49.226        NaN  1,522,902  \n",
       "..      ...   ...  ...          ...        ...        ...  \n",
       "183    3.76  34.0  NaN        0.000        0.4     13,000  \n",
       "184    5.49  32.0  NaN        0.000        9.2        NaN  \n",
       "185    2.37  24.0  NaN       18.414        0.6        NaN  \n",
       "186    2.33  17.0  NaN        0.000        1.1        NaN  \n",
       "187     NaN  13.0  NaN        0.000        2.7        NaN  \n",
       "\n",
       "[188 rows x 21 columns]"
      ]
     },
     "execution_count": 212,
     "metadata": {},
     "output_type": "execute_result"
    }
   ],
   "source": [
    "df13"
   ]
  },
  {
   "cell_type": "code",
   "execution_count": 213,
   "metadata": {},
   "outputs": [
    {
     "data": {
      "text/plain": [
       "순위               0\n",
       "국가               0\n",
       "1인당_GDP          0\n",
       "영문               0\n",
       "인지도              0\n",
       "지역               0\n",
       "정치체제             0\n",
       "최상위_교육기관_수       0\n",
       "복무기간             0\n",
       "인구               0\n",
       "크기               0\n",
       "기대수명             8\n",
       "출산율             13\n",
       "10만명당_자살률        8\n",
       "언론자유지수          18\n",
       "민주주의지수          25\n",
       "청렴도             21\n",
       "실업률             30\n",
       "면적 대비 해안선 비율     0\n",
       "에이즈감염률(%)       75\n",
       "석유생산량           97\n",
       "dtype: int64"
      ]
     },
     "execution_count": 213,
     "metadata": {},
     "output_type": "execute_result"
    }
   ],
   "source": [
    "df13.isnull().sum()"
   ]
  },
  {
   "cell_type": "markdown",
   "metadata": {},
   "source": [
    "# 시각화\n",
    "- 1인당 GDP와 각 지표들의 관계를 시각화하도록 한다."
   ]
  },
  {
   "cell_type": "code",
   "execution_count": 214,
   "metadata": {},
   "outputs": [],
   "source": [
    "# 에이즈감염률과 석유생산량의 빈값은 전부 0으로 채운다. \n",
    "fill_dict={'에이즈감염률(%)':0,'석유생산량':'0'}\n",
    "df13.fillna(fill_dict,inplace=True)"
   ]
  },
  {
   "cell_type": "code",
   "execution_count": 215,
   "metadata": {},
   "outputs": [],
   "source": [
    "# 차트의 한글 깨짐 방지를 위한 코드 추가\n",
    "\n",
    "from matplotlib import font_manager, rc\n",
    "import platform\n",
    "\n",
    "# 그래프에서 한글 표기를 위한 글꼴 변경(윈도우)\n",
    "font_path = ''\n",
    "font_path = 'c:/Windows/Fonts/malgun.ttf'\n",
    "font_name = font_manager.FontProperties(fname = font_path).get_name()\n",
    "rc('font',family = font_name)\n",
    "\n",
    "%matplotlib inline"
   ]
  },
  {
   "cell_type": "markdown",
   "metadata": {},
   "source": [
    "중간저장"
   ]
  },
  {
   "cell_type": "code",
   "execution_count": 216,
   "metadata": {},
   "outputs": [],
   "source": [
    "df13.to_excel('prediction_GDP/all.xlsx',index=False)"
   ]
  },
  {
   "cell_type": "code",
   "execution_count": 217,
   "metadata": {},
   "outputs": [],
   "source": [
    "df = pd.read_excel('prediction_GDP/all.xlsx')"
   ]
  },
  {
   "cell_type": "code",
   "execution_count": 218,
   "metadata": {},
   "outputs": [
    {
     "data": {
      "text/html": [
       "<div>\n",
       "<style scoped>\n",
       "    .dataframe tbody tr th:only-of-type {\n",
       "        vertical-align: middle;\n",
       "    }\n",
       "\n",
       "    .dataframe tbody tr th {\n",
       "        vertical-align: top;\n",
       "    }\n",
       "\n",
       "    .dataframe thead th {\n",
       "        text-align: right;\n",
       "    }\n",
       "</style>\n",
       "<table border=\"1\" class=\"dataframe\">\n",
       "  <thead>\n",
       "    <tr style=\"text-align: right;\">\n",
       "      <th></th>\n",
       "      <th>순위</th>\n",
       "      <th>국가</th>\n",
       "      <th>1인당_GDP</th>\n",
       "      <th>영문</th>\n",
       "      <th>인지도</th>\n",
       "      <th>지역</th>\n",
       "      <th>정치체제</th>\n",
       "      <th>최상위_교육기관_수</th>\n",
       "      <th>복무기간</th>\n",
       "      <th>인구</th>\n",
       "      <th>...</th>\n",
       "      <th>기대수명</th>\n",
       "      <th>출산율</th>\n",
       "      <th>10만명당_자살률</th>\n",
       "      <th>언론자유지수</th>\n",
       "      <th>민주주의지수</th>\n",
       "      <th>청렴도</th>\n",
       "      <th>실업률</th>\n",
       "      <th>면적 대비 해안선 비율</th>\n",
       "      <th>에이즈감염률(%)</th>\n",
       "      <th>석유생산량</th>\n",
       "    </tr>\n",
       "  </thead>\n",
       "  <tbody>\n",
       "    <tr>\n",
       "      <td>0</td>\n",
       "      <td>1</td>\n",
       "      <td>룩셈부르크</td>\n",
       "      <td>113,196</td>\n",
       "      <td>Luxembourg</td>\n",
       "      <td>560000000</td>\n",
       "      <td>서유럽권&amp;기타</td>\n",
       "      <td>민주주의</td>\n",
       "      <td>0</td>\n",
       "      <td>0</td>\n",
       "      <td>613,894</td>\n",
       "      <td>...</td>\n",
       "      <td>81.34</td>\n",
       "      <td>1.5</td>\n",
       "      <td>8.5</td>\n",
       "      <td>15.66</td>\n",
       "      <td>8.81</td>\n",
       "      <td>81.0</td>\n",
       "      <td>6.5</td>\n",
       "      <td>0.000</td>\n",
       "      <td>0.0</td>\n",
       "      <td>0</td>\n",
       "    </tr>\n",
       "    <tr>\n",
       "      <td>1</td>\n",
       "      <td>2</td>\n",
       "      <td>스위스</td>\n",
       "      <td>83,717</td>\n",
       "      <td>Switzerland</td>\n",
       "      <td>682000000</td>\n",
       "      <td>서유럽권&amp;기타</td>\n",
       "      <td>민주주의</td>\n",
       "      <td>2</td>\n",
       "      <td>0</td>\n",
       "      <td>8,542,323</td>\n",
       "      <td>...</td>\n",
       "      <td>82.66</td>\n",
       "      <td>1.5</td>\n",
       "      <td>10.7</td>\n",
       "      <td>10.52</td>\n",
       "      <td>9.03</td>\n",
       "      <td>85.0</td>\n",
       "      <td>5.2</td>\n",
       "      <td>0.000</td>\n",
       "      <td>0.0</td>\n",
       "      <td>0</td>\n",
       "    </tr>\n",
       "    <tr>\n",
       "      <td>2</td>\n",
       "      <td>3</td>\n",
       "      <td>노르웨이</td>\n",
       "      <td>77,975</td>\n",
       "      <td>Norway</td>\n",
       "      <td>607000000</td>\n",
       "      <td>서유럽권&amp;기타</td>\n",
       "      <td>민주주의</td>\n",
       "      <td>0</td>\n",
       "      <td>0</td>\n",
       "      <td>5,334,762</td>\n",
       "      <td>...</td>\n",
       "      <td>81.32</td>\n",
       "      <td>1.7</td>\n",
       "      <td>9.3</td>\n",
       "      <td>7.82</td>\n",
       "      <td>9.87</td>\n",
       "      <td>84.0</td>\n",
       "      <td>4.0</td>\n",
       "      <td>100.000</td>\n",
       "      <td>0.0</td>\n",
       "      <td>1,647,975</td>\n",
       "    </tr>\n",
       "    <tr>\n",
       "      <td>3</td>\n",
       "      <td>4</td>\n",
       "      <td>아일랜드</td>\n",
       "      <td>77,771</td>\n",
       "      <td>Ireland</td>\n",
       "      <td>1320000000</td>\n",
       "      <td>서유럽권&amp;기타</td>\n",
       "      <td>민주주의</td>\n",
       "      <td>0</td>\n",
       "      <td>0</td>\n",
       "      <td>4,857,000</td>\n",
       "      <td>...</td>\n",
       "      <td>80.57</td>\n",
       "      <td>1.9</td>\n",
       "      <td>11.1</td>\n",
       "      <td>15.00</td>\n",
       "      <td>9.15</td>\n",
       "      <td>73.0</td>\n",
       "      <td>6.0</td>\n",
       "      <td>21.019</td>\n",
       "      <td>0.2</td>\n",
       "      <td>0</td>\n",
       "    </tr>\n",
       "    <tr>\n",
       "      <td>4</td>\n",
       "      <td>5</td>\n",
       "      <td>카타르</td>\n",
       "      <td>69,688</td>\n",
       "      <td>Qatar</td>\n",
       "      <td>719000000</td>\n",
       "      <td>아시아권</td>\n",
       "      <td>전제군주제</td>\n",
       "      <td>0</td>\n",
       "      <td>1년 이하</td>\n",
       "      <td>2,772,294</td>\n",
       "      <td>...</td>\n",
       "      <td>78.88</td>\n",
       "      <td>1.9</td>\n",
       "      <td>5.7</td>\n",
       "      <td>42.51</td>\n",
       "      <td>3.19</td>\n",
       "      <td>62.0</td>\n",
       "      <td>0.4</td>\n",
       "      <td>49.226</td>\n",
       "      <td>0.0</td>\n",
       "      <td>1,522,902</td>\n",
       "    </tr>\n",
       "  </tbody>\n",
       "</table>\n",
       "<p>5 rows × 21 columns</p>\n",
       "</div>"
      ],
      "text/plain": [
       "   순위     국가  1인당_GDP           영문         인지도       지역   정치체제  최상위_교육기관_수  \\\n",
       "0   1  룩셈부르크  113,196   Luxembourg   560000000  서유럽권&기타   민주주의           0   \n",
       "1   2    스위스   83,717  Switzerland   682000000  서유럽권&기타   민주주의           2   \n",
       "2   3   노르웨이   77,975       Norway   607000000  서유럽권&기타   민주주의           0   \n",
       "3   4   아일랜드   77,771      Ireland  1320000000  서유럽권&기타   민주주의           0   \n",
       "4   5    카타르   69,688        Qatar   719000000     아시아권  전제군주제           0   \n",
       "\n",
       "    복무기간         인구  ...   기대수명  출산율  10만명당_자살률  언론자유지수  민주주의지수   청렴도  실업률  \\\n",
       "0      0    613,894  ...  81.34  1.5        8.5   15.66    8.81  81.0  6.5   \n",
       "1      0  8,542,323  ...  82.66  1.5       10.7   10.52    9.03  85.0  5.2   \n",
       "2      0  5,334,762  ...  81.32  1.7        9.3    7.82    9.87  84.0  4.0   \n",
       "3      0  4,857,000  ...  80.57  1.9       11.1   15.00    9.15  73.0  6.0   \n",
       "4  1년 이하  2,772,294  ...  78.88  1.9        5.7   42.51    3.19  62.0  0.4   \n",
       "\n",
       "  면적 대비 해안선 비율  에이즈감염률(%)      석유생산량  \n",
       "0        0.000        0.0          0  \n",
       "1        0.000        0.0          0  \n",
       "2      100.000        0.0  1,647,975  \n",
       "3       21.019        0.2          0  \n",
       "4       49.226        0.0  1,522,902  \n",
       "\n",
       "[5 rows x 21 columns]"
      ]
     },
     "execution_count": 218,
     "metadata": {},
     "output_type": "execute_result"
    }
   ],
   "source": [
    "df.head(5)"
   ]
  },
  {
   "cell_type": "code",
   "execution_count": 219,
   "metadata": {},
   "outputs": [],
   "source": [
    "# 우선 문자열로 저장된 숫자들을 실수형으로 바꿔주도록 한다.\n",
    "\n",
    "def change_type(x):\n",
    "    try:\n",
    "        x=x.split(\"[\")[0]\n",
    "        x=x.split(\"(\")[0]\n",
    "        x=x.split(\"-\")[0]\n",
    "        x=float(x.replace(\" \",\"\").replace(\",\",\"\"))\n",
    "    except:\n",
    "        x=x\n",
    "    return x"
   ]
  },
  {
   "cell_type": "code",
   "execution_count": 220,
   "metadata": {},
   "outputs": [],
   "source": [
    "df = df.applymap(change_type)"
   ]
  },
  {
   "cell_type": "code",
   "execution_count": 221,
   "metadata": {},
   "outputs": [],
   "source": [
    "# 연속형 변수들의 관계를 시각화 해주는 함수를 만든다.\n",
    "\n",
    "def viz_conti(feature):\n",
    "    x=df[feature]\n",
    "    y=df['1인당_GDP']\n",
    "    plt.plot([x.min(),x.max()],[y.min(),y.max()])\n",
    "    plt.scatter(x,y,s=15)\n",
    "    plt.scatter(x[26],y[26],c='r',marker='*',s=100)\n",
    "    xtic = np.linspace(x.min(),x.max(),5)\n",
    "    ytic = np.linspace(y.min(),y.max(),5)\n",
    "    plt.xticks(xtic)\n",
    "    plt.yticks(ytic)\n",
    "    plt.xlabel('{}'.format(feature))\n",
    "    plt.show()\n",
    "    print(\"1인당 GDP와 {}의 상관계수는 \".format(feature),x.corr(y),\"입니다.\")"
   ]
  },
  {
   "cell_type": "code",
   "execution_count": 222,
   "metadata": {},
   "outputs": [],
   "source": [
    "# 이산형 변수들의 관계를 시각화 해주는 함수를 만든다.\n",
    "\n",
    "def viz_disc(feature):\n",
    "    sns.boxplot(x = feature, y='1인당_GDP',data=df)\n",
    "    plt.show()"
   ]
  },
  {
   "cell_type": "code",
   "execution_count": 223,
   "metadata": {},
   "outputs": [],
   "source": [
    "discrete_values=['지역','정치체제','복무기간','최상위_교육기관_수']\n",
    "continuous_values=['인지도','인구','크기','기대수명','출산율','10만명당_자살률',\n",
    "                  '언론자유지수','민주주의지수','청렴도','실업률','에이즈감염률(%)','석유생산량','면적 대비 해안선 비율']"
   ]
  },
  {
   "cell_type": "code",
   "execution_count": 224,
   "metadata": {},
   "outputs": [
    {
     "data": {
      "image/png": "[encoded data removed]",
      "text/plain": [
       "<Figure size 432x288 with 1 Axes>"
      ]
     },
     "metadata": {
      "needs_background": "light"
     },
     "output_type": "display_data"
    },
    {
     "data": {
      "image/png": "[encoded data removed]",
      "text/plain": [
       "<Figure size 432x288 with 1 Axes>"
      ]
     },
     "metadata": {
      "needs_background": "light"
     },
     "output_type": "display_data"
    },
    {
     "data": {
      "image/png": "[encoded data removed]",
      "text/plain": [
       "<Figure size 432x288 with 1 Axes>"
      ]
     },
     "metadata": {
      "needs_background": "light"
     },
     "output_type": "display_data"
    },
    {
     "data": {
      "image/png": "[encoded data removed]",
      "text/plain": [
       "<Figure size 432x288 with 1 Axes>"
      ]
     },
     "metadata": {
      "needs_background": "light"
     },
     "output_type": "display_data"
    }
   ],
   "source": [
    "for i in discrete_values:\n",
    "    viz_disc(i)"
   ]
  },
  {
   "cell_type": "markdown",
   "metadata": {},
   "source": [
    "- 어느 지역권에 있느냐는 역사,문화,경제적으로 많은 영향을 주고 받았기에 1인당_GDP와 밀접한 관련이 있어보인다.\n",
    "- 정치체제는 공산국가일수록 가난한 반면 전제군주국일 수록 평균치가 높다. 아마 민주국가의 범위가 넓고 전제군주국 중에는 산유국이 많아서 그런 듯 하지만 여기서는 결과만을 사용하도록 하겠다.\n",
    "- 반면 복무기간은 큰 관련이 없어보인다.\n",
    "- 최상위 교육기관을 보유한 국가들은 대체로 1인당 GDP가 높다."
   ]
  },
  {
   "cell_type": "code",
   "execution_count": 225,
   "metadata": {},
   "outputs": [
    {
     "data": {
      "image/png": "[encoded data removed]",
      "text/plain": [
       "<Figure size 432x288 with 1 Axes>"
      ]
     },
     "metadata": {
      "needs_background": "light"
     },
     "output_type": "display_data"
    },
    {
     "name": "stdout",
     "output_type": "stream",
     "text": [
      "1인당 GDP와 인지도의 상관계수는  0.33573326902121614 입니다.\n"
     ]
    },
    {
     "data": {
      "image/png": "[encoded data removed]",
      "text/plain": [
       "<Figure size 432x288 with 1 Axes>"
      ]
     },
     "metadata": {
      "needs_background": "light"
     },
     "output_type": "display_data"
    },
    {
     "name": "stdout",
     "output_type": "stream",
     "text": [
      "1인당 GDP와 인구의 상관계수는  -0.036411588543710065 입니다.\n"
     ]
    },
    {
     "data": {
      "image/png": "[encoded data removed]",
      "text/plain": [
       "<Figure size 432x288 with 1 Axes>"
      ]
     },
     "metadata": {
      "needs_background": "light"
     },
     "output_type": "display_data"
    },
    {
     "name": "stdout",
     "output_type": "stream",
     "text": [
      "1인당 GDP와 크기의 상관계수는  0.056890324120920974 입니다.\n"
     ]
    },
    {
     "data": {
      "image/png": "[encoded data removed]",
      "text/plain": [
       "<Figure size 432x288 with 1 Axes>"
      ]
     },
     "metadata": {
      "needs_background": "light"
     },
     "output_type": "display_data"
    },
    {
     "name": "stdout",
     "output_type": "stream",
     "text": [
      "1인당 GDP와 기대수명의 상관계수는  0.6401493033129791 입니다.\n"
     ]
    },
    {
     "data": {
      "image/png": "[encoded data removed]",
      "text/plain": [
       "<Figure size 432x288 with 1 Axes>"
      ]
     },
     "metadata": {
      "needs_background": "light"
     },
     "output_type": "display_data"
    },
    {
     "name": "stdout",
     "output_type": "stream",
     "text": [
      "1인당 GDP와 출산율의 상관계수는  -0.48606288670288755 입니다.\n"
     ]
    },
    {
     "data": {
      "image/png": "[encoded data removed]",
      "text/plain": [
       "<Figure size 432x288 with 1 Axes>"
      ]
     },
     "metadata": {
      "needs_background": "light"
     },
     "output_type": "display_data"
    },
    {
     "name": "stdout",
     "output_type": "stream",
     "text": [
      "1인당 GDP와 10만명당_자살률의 상관계수는  -0.06777523258018017 입니다.\n"
     ]
    },
    {
     "data": {
      "image/png": "[encoded data removed]",
      "text/plain": [
       "<Figure size 432x288 with 1 Axes>"
      ]
     },
     "metadata": {
      "needs_background": "light"
     },
     "output_type": "display_data"
    },
    {
     "name": "stdout",
     "output_type": "stream",
     "text": [
      "1인당 GDP와 언론자유지수의 상관계수는  -0.421931719174487 입니다.\n"
     ]
    },
    {
     "data": {
      "image/png": "[encoded data removed]",
      "text/plain": [
       "<Figure size 432x288 with 1 Axes>"
      ]
     },
     "metadata": {
      "needs_background": "light"
     },
     "output_type": "display_data"
    },
    {
     "name": "stdout",
     "output_type": "stream",
     "text": [
      "1인당 GDP와 민주주의지수의 상관계수는  0.5868675157418239 입니다.\n"
     ]
    },
    {
     "data": {
      "image/png": "[encoded data removed]",
      "text/plain": [
       "<Figure size 432x288 with 1 Axes>"
      ]
     },
     "metadata": {
      "needs_background": "light"
     },
     "output_type": "display_data"
    },
    {
     "name": "stdout",
     "output_type": "stream",
     "text": [
      "1인당 GDP와 청렴도의 상관계수는  0.7915323370933969 입니다.\n"
     ]
    },
    {
     "data": {
      "image/png": "[encoded data removed]",
      "text/plain": [
       "<Figure size 432x288 with 1 Axes>"
      ]
     },
     "metadata": {
      "needs_background": "light"
     },
     "output_type": "display_data"
    },
    {
     "name": "stdout",
     "output_type": "stream",
     "text": [
      "1인당 GDP와 실업률의 상관계수는  -0.318685403664336 입니다.\n"
     ]
    },
    {
     "data": {
      "image/png": "[encoded data removed]",
      "text/plain": [
       "<Figure size 432x288 with 1 Axes>"
      ]
     },
     "metadata": {
      "needs_background": "light"
     },
     "output_type": "display_data"
    },
    {
     "name": "stdout",
     "output_type": "stream",
     "text": [
      "1인당 GDP와 에이즈감염률(%)의 상관계수는  -0.17887414053177159 입니다.\n"
     ]
    },
    {
     "data": {
      "image/png": "[encoded data removed]",
      "text/plain": [
       "<Figure size 432x288 with 1 Axes>"
      ]
     },
     "metadata": {
      "needs_background": "light"
     },
     "output_type": "display_data"
    },
    {
     "name": "stdout",
     "output_type": "stream",
     "text": [
      "1인당 GDP와 석유생산량의 상관계수는  0.15277831340796355 입니다.\n"
     ]
    },
    {
     "data": {
      "image/png": "[encoded data removed]",
      "text/plain": [
       "<Figure size 432x288 with 1 Axes>"
      ]
     },
     "metadata": {
      "needs_background": "light"
     },
     "output_type": "display_data"
    },
    {
     "name": "stdout",
     "output_type": "stream",
     "text": [
      "1인당 GDP와 면적 대비 해안선 비율의 상관계수는  0.1555671406342624 입니다.\n"
     ]
    }
   ],
   "source": [
    "for i in continuous_values:\n",
    "    viz_conti(i)"
   ]
  },
  {
   "cell_type": "code",
   "execution_count": 226,
   "metadata": {},
   "outputs": [
    {
     "name": "stdout",
     "output_type": "stream",
     "text": [
      "1인당 GDP와 인지도의 상관계수는  0.33573326902121614 입니다.\n",
      "1인당 GDP와 인구의 상관계수는  -0.036411588543710065 입니다.\n",
      "1인당 GDP와 크기의 상관계수는  0.056890324120920974 입니다.\n",
      "1인당 GDP와 기대수명의 상관계수는  0.6401493033129791 입니다.\n",
      "1인당 GDP와 출산율의 상관계수는  -0.48606288670288755 입니다.\n",
      "1인당 GDP와 10만명당_자살률의 상관계수는  -0.06777523258018017 입니다.\n",
      "1인당 GDP와 언론자유지수의 상관계수는  -0.421931719174487 입니다.\n",
      "1인당 GDP와 민주주의지수의 상관계수는  0.5868675157418239 입니다.\n",
      "1인당 GDP와 청렴도의 상관계수는  0.7915323370933969 입니다.\n",
      "1인당 GDP와 실업률의 상관계수는  -0.318685403664336 입니다.\n",
      "1인당 GDP와 에이즈감염률(%)의 상관계수는  -0.17887414053177159 입니다.\n",
      "1인당 GDP와 석유생산량의 상관계수는  0.15277831340796355 입니다.\n",
      "1인당 GDP와 면적 대비 해안선 비율의 상관계수는  0.1555671406342624 입니다.\n"
     ]
    },
    {
     "data": {
      "image/png": "[encoded data removed]",
      "text/plain": [
       "<Figure size 720x720 with 15 Axes>"
      ]
     },
     "metadata": {
      "needs_background": "light"
     },
     "output_type": "display_data"
    }
   ],
   "source": [
    "# 위와 똑같은 결과를 간편하게 보여줌\n",
    "\n",
    "fig,ax = plt.subplots(3,5,figsize=(10,10))\n",
    "cc= continuous_values+[0]+[0]\n",
    "arr = np.array(cc).reshape(3,5)\n",
    "y=df['1인당_GDP']\n",
    "try:\n",
    "    for i in range(3):\n",
    "        for j in range(5):\n",
    "            feature = arr[i,j]\n",
    "            x=df[feature]\n",
    "            ax[i,j].plot([x.min(),x.max()],[y.min(),y.max()])\n",
    "            ax[i,j].scatter(x,y,s=15)\n",
    "            ax[i,j].scatter(x[26],y[26],c='r',marker='*',s=100)\n",
    "            xtic = np.linspace(x.min(),x.max(),5)\n",
    "            ytic = np.linspace(y.min(),y.max(),5)\n",
    "            ax[i,j].set_xticks(xtic)\n",
    "            ax[i,j].set_yticks(ytic)\n",
    "            ax[i,j].set_xlabel('{}'.format(feature))\n",
    "            print(\"1인당 GDP와 {}의 상관계수는 \".format(feature),x.corr(y),\"입니다.\")\n",
    "except:\n",
    "    pass"
   ]
  },
  {
   "cell_type": "markdown",
   "metadata": {},
   "source": [
    "그래프의 각 선은 완벽한 상관관계가 있다 가정했을 때의 기울기이다. <br>\n",
    "지표들간 양의 상관계수가 클 수록 선을 중심으로 뭉쳐있어야하고<br>\n",
    "지표들간 음의 상관계수가 클 수록 선과 대칭 모양을 이루어야한다.\n",
    "- 1인당 GDP와 청렴도는 가장 큰 상관계수를 갖는다.(0.7915)\n",
    "- 1인당 GDP와 청렴도,기대수명,민주주의지수와 높은 상관관계가 있다.(0.5이상)\n",
    "- 1인당 GDP와 인지도,최상위 교육기관 수, 출산율, 언론자유지수, 실업률은 어느 정도 상관관계가 있다.(0.2~0.49)\n",
    "- 1인당 GDP와 에이즈 감염률, 석유 생산량, 면적 대비 해안선 비율은 상관관계가 별로 없을 것으로 생각된다.(0.1~0.2)\n",
    "- 1인당 GDP와 인구, 면적, 자살율은 거의 상관관계가 없다.(0.1 이하)"
   ]
  },
  {
   "cell_type": "code",
   "execution_count": 227,
   "metadata": {},
   "outputs": [
    {
     "data": {
      "text/plain": [
       "<matplotlib.collections.PathCollection at 0x1fc9720ef08>"
      ]
     },
     "execution_count": 227,
     "metadata": {},
     "output_type": "execute_result"
    },
    {
     "data": {
      "image/png": "[encoded data removed]",
      "text/plain": [
       "<Figure size 432x288 with 1 Axes>"
      ]
     },
     "metadata": {
      "needs_background": "light"
     },
     "output_type": "display_data"
    }
   ],
   "source": [
    "sns.boxplot(df['청렴도'],showmeans=True)\n",
    "plt.scatter(df['청렴도'].iloc[26],y=0,c='red',marker='*',linewidth=10)"
   ]
  },
  {
   "cell_type": "markdown",
   "metadata": {},
   "source": [
    "## 빈값 채우기\n",
    "서로 상관관계가 높은 값들로부터 빈값을 채울 수 있는 insight를 얻을 수도 있으므로 상관관수를 데이터프레임으로 나타낸다.<br>\n",
    "이산형 자료가 '지역','정치체제','복무기간' 인데 숫자로 나타낼 수 있는 복무기간은 숫자로 바꾸고, '정치체제'는 공산국가,민주주의,전제군주제 순으로 숫자를 매기고, 지역 역시 1인당 GDP가 낮은 지역에서 높은 지역 순으로 숫자를 매긴다.(위의 그래프를 참고했다.)"
   ]
  },
  {
   "cell_type": "code",
   "execution_count": 228,
   "metadata": {},
   "outputs": [],
   "source": [
    "df2 = df.drop('영문',axis=1)"
   ]
  },
  {
   "cell_type": "code",
   "execution_count": 229,
   "metadata": {},
   "outputs": [
    {
     "name": "stdout",
     "output_type": "stream",
     "text": [
      "['서유럽권&기타' '아시아권' '동아시아' '중남미&카리브권' '동유럽권' '아프리카권']\n",
      "['민주주의' '전제군주제' '공산주의']\n",
      "[0 '1년 이하' '18개월 이상' '18개월 이하']\n"
     ]
    }
   ],
   "source": [
    "# discrete_values=['지역','정치체제','복무기간']\n",
    "\n",
    "print(df2['지역'].unique())\n",
    "print(df2['정치체제'].unique())\n",
    "print(df2['복무기간'].unique())\n"
   ]
  },
  {
   "cell_type": "code",
   "execution_count": 230,
   "metadata": {},
   "outputs": [],
   "source": [
    "cond_dict1 = {'아프리카권':0,'아시아권':1,'중남미&카리브권':2,'동유럽권':3,'동아시아':4,'서유럽권&기타':5}\n",
    "cond_dict2 = {'공산주의':0,'민주주의':1,'전제군주제':2}\n",
    "cond_dict3 = {0:0,'1년 이하':1, '18개월 이하':2, '18개월 이상':3}\n",
    "\n",
    "df2['지역'] = df2['지역'].map(cond_dict1)\n",
    "df2['정치체제'] = df2['정치체제'].map(cond_dict2)\n",
    "df2['복무기간'] = df2['복무기간'].map(cond_dict3)\n"
   ]
  },
  {
   "cell_type": "code",
   "execution_count": 231,
   "metadata": {},
   "outputs": [
    {
     "name": "stderr",
     "output_type": "stream",
     "text": [
      "C:\\Users\\hp\\Anaconda3\\lib\\site-packages\\matplotlib\\backends\\backend_agg.py:211: RuntimeWarning: Glyph 8722 missing from current font.\n",
      "  font.set_text(s, 0.0, flags=flags)\n",
      "C:\\Users\\hp\\Anaconda3\\lib\\site-packages\\matplotlib\\backends\\backend_agg.py:180: RuntimeWarning: Glyph 8722 missing from current font.\n",
      "  font.set_text(s, 0, flags=flags)\n"
     ]
    },
    {
     "data": {
      "text/plain": [
       "<matplotlib.axes._subplots.AxesSubplot at 0x1fc9721a188>"
      ]
     },
     "execution_count": 231,
     "metadata": {},
     "output_type": "execute_result"
    },
    {
     "data": {
      "image/png": "[encoded data removed]",
      "text/plain": [
       "<Figure size 432x288 with 2 Axes>"
      ]
     },
     "metadata": {
      "needs_background": "light"
     },
     "output_type": "display_data"
    }
   ],
   "source": [
    "corr = df2.corr()\n",
    "f, ax = plt.subplots()\n",
    "sns.heatmap(corr, cmap = 'RdYlGn', ax = ax)"
   ]
  },
  {
   "cell_type": "code",
   "execution_count": 232,
   "metadata": {},
   "outputs": [
    {
     "data": {
      "text/html": [
       "<div>\n",
       "<style scoped>\n",
       "    .dataframe tbody tr th:only-of-type {\n",
       "        vertical-align: middle;\n",
       "    }\n",
       "\n",
       "    .dataframe tbody tr th {\n",
       "        vertical-align: top;\n",
       "    }\n",
       "\n",
       "    .dataframe thead th {\n",
       "        text-align: right;\n",
       "    }\n",
       "</style>\n",
       "<table border=\"1\" class=\"dataframe\">\n",
       "  <thead>\n",
       "    <tr style=\"text-align: right;\">\n",
       "      <th></th>\n",
       "      <th>기대수명</th>\n",
       "      <th>출산율</th>\n",
       "      <th>10만명당_자살률</th>\n",
       "      <th>언론자유지수</th>\n",
       "      <th>민주주의지수</th>\n",
       "      <th>청렴도</th>\n",
       "      <th>실업률</th>\n",
       "    </tr>\n",
       "  </thead>\n",
       "  <tbody>\n",
       "    <tr>\n",
       "      <td>인지도</td>\n",
       "      <td>0.294574</td>\n",
       "      <td>-0.243383</td>\n",
       "      <td>-0.016649</td>\n",
       "      <td>-0.069569</td>\n",
       "      <td>0.313352</td>\n",
       "      <td>0.327890</td>\n",
       "      <td>-0.229827</td>\n",
       "    </tr>\n",
       "    <tr>\n",
       "      <td>지역</td>\n",
       "      <td>0.762787</td>\n",
       "      <td>-0.670903</td>\n",
       "      <td>-0.067433</td>\n",
       "      <td>-0.444912</td>\n",
       "      <td>0.661406</td>\n",
       "      <td>0.672279</td>\n",
       "      <td>-0.353760</td>\n",
       "    </tr>\n",
       "    <tr>\n",
       "      <td>정치체제</td>\n",
       "      <td>0.017567</td>\n",
       "      <td>-0.040356</td>\n",
       "      <td>-0.099996</td>\n",
       "      <td>-0.043504</td>\n",
       "      <td>-0.075503</td>\n",
       "      <td>0.161259</td>\n",
       "      <td>0.093567</td>\n",
       "    </tr>\n",
       "    <tr>\n",
       "      <td>최상위_교육기관_수</td>\n",
       "      <td>0.144954</td>\n",
       "      <td>-0.109431</td>\n",
       "      <td>0.033669</td>\n",
       "      <td>-0.034973</td>\n",
       "      <td>0.145811</td>\n",
       "      <td>0.217517</td>\n",
       "      <td>-0.102104</td>\n",
       "    </tr>\n",
       "    <tr>\n",
       "      <td>복무기간</td>\n",
       "      <td>-0.132327</td>\n",
       "      <td>0.148277</td>\n",
       "      <td>0.053502</td>\n",
       "      <td>0.361972</td>\n",
       "      <td>-0.351905</td>\n",
       "      <td>-0.228761</td>\n",
       "      <td>-0.007737</td>\n",
       "    </tr>\n",
       "    <tr>\n",
       "      <td>인구</td>\n",
       "      <td>0.011706</td>\n",
       "      <td>-0.023306</td>\n",
       "      <td>0.004620</td>\n",
       "      <td>0.242122</td>\n",
       "      <td>-0.015593</td>\n",
       "      <td>-0.044336</td>\n",
       "      <td>-0.124079</td>\n",
       "    </tr>\n",
       "    <tr>\n",
       "      <td>크기</td>\n",
       "      <td>0.043559</td>\n",
       "      <td>-0.048734</td>\n",
       "      <td>0.052835</td>\n",
       "      <td>0.140770</td>\n",
       "      <td>-0.033238</td>\n",
       "      <td>-0.022429</td>\n",
       "      <td>-0.092745</td>\n",
       "    </tr>\n",
       "    <tr>\n",
       "      <td>기대수명</td>\n",
       "      <td>1.000000</td>\n",
       "      <td>-0.822924</td>\n",
       "      <td>-0.330397</td>\n",
       "      <td>-0.311826</td>\n",
       "      <td>0.612281</td>\n",
       "      <td>0.675006</td>\n",
       "      <td>-0.484888</td>\n",
       "    </tr>\n",
       "    <tr>\n",
       "      <td>출산율</td>\n",
       "      <td>-0.822924</td>\n",
       "      <td>1.000000</td>\n",
       "      <td>0.175930</td>\n",
       "      <td>0.222781</td>\n",
       "      <td>-0.517937</td>\n",
       "      <td>-0.560043</td>\n",
       "      <td>0.444667</td>\n",
       "    </tr>\n",
       "    <tr>\n",
       "      <td>10만명당_자살률</td>\n",
       "      <td>-0.330397</td>\n",
       "      <td>0.175930</td>\n",
       "      <td>1.000000</td>\n",
       "      <td>-0.102349</td>\n",
       "      <td>0.014819</td>\n",
       "      <td>-0.030582</td>\n",
       "      <td>-0.030024</td>\n",
       "    </tr>\n",
       "    <tr>\n",
       "      <td>언론자유지수</td>\n",
       "      <td>-0.311826</td>\n",
       "      <td>0.222781</td>\n",
       "      <td>-0.102349</td>\n",
       "      <td>1.000000</td>\n",
       "      <td>-0.789337</td>\n",
       "      <td>-0.605673</td>\n",
       "      <td>0.106322</td>\n",
       "    </tr>\n",
       "    <tr>\n",
       "      <td>민주주의지수</td>\n",
       "      <td>0.612281</td>\n",
       "      <td>-0.517937</td>\n",
       "      <td>0.014819</td>\n",
       "      <td>-0.789337</td>\n",
       "      <td>1.000000</td>\n",
       "      <td>0.750033</td>\n",
       "      <td>-0.251075</td>\n",
       "    </tr>\n",
       "    <tr>\n",
       "      <td>청렴도</td>\n",
       "      <td>0.675006</td>\n",
       "      <td>-0.560043</td>\n",
       "      <td>-0.030582</td>\n",
       "      <td>-0.605673</td>\n",
       "      <td>0.750033</td>\n",
       "      <td>1.000000</td>\n",
       "      <td>-0.273877</td>\n",
       "    </tr>\n",
       "    <tr>\n",
       "      <td>실업률</td>\n",
       "      <td>-0.484888</td>\n",
       "      <td>0.444667</td>\n",
       "      <td>-0.030024</td>\n",
       "      <td>0.106322</td>\n",
       "      <td>-0.251075</td>\n",
       "      <td>-0.273877</td>\n",
       "      <td>1.000000</td>\n",
       "    </tr>\n",
       "    <tr>\n",
       "      <td>면적 대비 해안선 비율</td>\n",
       "      <td>0.288697</td>\n",
       "      <td>-0.221442</td>\n",
       "      <td>-0.273521</td>\n",
       "      <td>-0.223894</td>\n",
       "      <td>0.323652</td>\n",
       "      <td>0.316545</td>\n",
       "      <td>0.009390</td>\n",
       "    </tr>\n",
       "    <tr>\n",
       "      <td>에이즈감염률(%)</td>\n",
       "      <td>-0.498608</td>\n",
       "      <td>0.232539</td>\n",
       "      <td>0.186625</td>\n",
       "      <td>-0.001616</td>\n",
       "      <td>-0.073075</td>\n",
       "      <td>-0.111112</td>\n",
       "      <td>0.354072</td>\n",
       "    </tr>\n",
       "    <tr>\n",
       "      <td>석유생산량</td>\n",
       "      <td>0.090536</td>\n",
       "      <td>-0.095545</td>\n",
       "      <td>-0.019514</td>\n",
       "      <td>0.120180</td>\n",
       "      <td>-0.075451</td>\n",
       "      <td>-0.003364</td>\n",
       "      <td>-0.108057</td>\n",
       "    </tr>\n",
       "  </tbody>\n",
       "</table>\n",
       "</div>"
      ],
      "text/plain": [
       "                  기대수명       출산율  10만명당_자살률    언론자유지수    민주주의지수       청렴도  \\\n",
       "인지도           0.294574 -0.243383  -0.016649 -0.069569  0.313352  0.327890   \n",
       "지역            0.762787 -0.670903  -0.067433 -0.444912  0.661406  0.672279   \n",
       "정치체제          0.017567 -0.040356  -0.099996 -0.043504 -0.075503  0.161259   \n",
       "최상위_교육기관_수    0.144954 -0.109431   0.033669 -0.034973  0.145811  0.217517   \n",
       "복무기간         -0.132327  0.148277   0.053502  0.361972 -0.351905 -0.228761   \n",
       "인구            0.011706 -0.023306   0.004620  0.242122 -0.015593 -0.044336   \n",
       "크기            0.043559 -0.048734   0.052835  0.140770 -0.033238 -0.022429   \n",
       "기대수명          1.000000 -0.822924  -0.330397 -0.311826  0.612281  0.675006   \n",
       "출산율          -0.822924  1.000000   0.175930  0.222781 -0.517937 -0.560043   \n",
       "10만명당_자살률    -0.330397  0.175930   1.000000 -0.102349  0.014819 -0.030582   \n",
       "언론자유지수       -0.311826  0.222781  -0.102349  1.000000 -0.789337 -0.605673   \n",
       "민주주의지수        0.612281 -0.517937   0.014819 -0.789337  1.000000  0.750033   \n",
       "청렴도           0.675006 -0.560043  -0.030582 -0.605673  0.750033  1.000000   \n",
       "실업률          -0.484888  0.444667  -0.030024  0.106322 -0.251075 -0.273877   \n",
       "면적 대비 해안선 비율  0.288697 -0.221442  -0.273521 -0.223894  0.323652  0.316545   \n",
       "에이즈감염률(%)    -0.498608  0.232539   0.186625 -0.001616 -0.073075 -0.111112   \n",
       "석유생산량         0.090536 -0.095545  -0.019514  0.120180 -0.075451 -0.003364   \n",
       "\n",
       "                   실업률  \n",
       "인지도          -0.229827  \n",
       "지역           -0.353760  \n",
       "정치체제          0.093567  \n",
       "최상위_교육기관_수   -0.102104  \n",
       "복무기간         -0.007737  \n",
       "인구           -0.124079  \n",
       "크기           -0.092745  \n",
       "기대수명         -0.484888  \n",
       "출산율           0.444667  \n",
       "10만명당_자살률    -0.030024  \n",
       "언론자유지수        0.106322  \n",
       "민주주의지수       -0.251075  \n",
       "청렴도          -0.273877  \n",
       "실업률           1.000000  \n",
       "면적 대비 해안선 비율  0.009390  \n",
       "에이즈감염률(%)     0.354072  \n",
       "석유생산량        -0.108057  "
      ]
     },
     "execution_count": 232,
     "metadata": {},
     "output_type": "execute_result"
    }
   ],
   "source": [
    "# 상관계수 비교시 순위와 1인당 GDP는 레이블 값에 해당하므로 제외하도록 한다.\n",
    "# 컬럼에는 null 값이 있는 지표들만 표시한다.\n",
    "\n",
    "corr[['기대수명','출산율','10만명당_자살률','언론자유지수','민주주의지수','청렴도','실업률']].drop(['순위','1인당_GDP'],axis=0)"
   ]
  },
  {
   "cell_type": "markdown",
   "metadata": {},
   "source": [
    "기대수명은 지역,출산율,청렴도와 큰 상관계수를 갖는다<br>\n",
    "출산율은 지역,기대수명과 큰 상관계수를 갖는다.<br>\n",
    "10만명당 자살률은 두드러진 상관관계를 보이지 않는다.<br>\n",
    "언론자유지수는 민주주의지수와 큰 상관계수를 갖는다.<br>\n",
    "민주주의지수는 지역,언론자유지수와 큰 상관계수를 갖는다.<br>\n",
    "청렴도는 지역,기대수명,민주주의지수와 큰 상관계수를 갖는다.<br>\n",
    "실업률은 두드러진 상관관계를 보이지 않는다.\n",
    "\n",
    "### 빈값 처리\n",
    "- 기대수명은 지역을 기준으로 평균값으로 채워준다.\n",
    "- 민주주의지수 역시 지역을 기준으로 평균값으로 채워준다.\n",
    "- 출산율은 기대수명을 기준으로 비슷한 나라들의 평균값으로 채워준다.\n",
    "- 언론자유지수, 청렴도는 민주주의지수 기준으로 비슷한 나라들의 평균값으로 채워준다.\n",
    "- 실업률은 그나마 상관계수가 좀 있는 기대수명을 기준으로 평균값으로 채워준다."
   ]
  },
  {
   "cell_type": "code",
   "execution_count": 233,
   "metadata": {},
   "outputs": [],
   "source": [
    "df2['기대수명'].fillna(df2.groupby('지역')['기대수명'].transform('mean'),inplace=True)\n",
    "df2['민주주의지수'].fillna(df2.groupby('지역')['민주주의지수'].transform('mean'),inplace=True)"
   ]
  },
  {
   "cell_type": "code",
   "execution_count": 234,
   "metadata": {},
   "outputs": [
    {
     "data": {
      "text/plain": [
       "기대수명      0\n",
       "민주주의지수    0\n",
       "dtype: int64"
      ]
     },
     "execution_count": 234,
     "metadata": {},
     "output_type": "execute_result"
    }
   ],
   "source": [
    "df2[['기대수명','민주주의지수']].isnull().sum()"
   ]
  },
  {
   "cell_type": "markdown",
   "metadata": {},
   "source": [
    "중간저장"
   ]
  },
  {
   "cell_type": "code",
   "execution_count": 235,
   "metadata": {},
   "outputs": [],
   "source": [
    "df2.to_excel('prediction_GDP/second_all.xlsx',index=False)"
   ]
  },
  {
   "cell_type": "code",
   "execution_count": 236,
   "metadata": {},
   "outputs": [],
   "source": [
    "df = pd.read_excel('prediction_GDP/second_all.xlsx')"
   ]
  },
  {
   "cell_type": "code",
   "execution_count": 237,
   "metadata": {},
   "outputs": [
    {
     "name": "stdout",
     "output_type": "stream",
     "text": [
      "기대수명의 구간:\n",
      "  IntervalIndex([(49.179, 61.452], (61.452, 68.363], (68.363, 72.69], (72.69, 74.757], (74.757, 78.877], (78.877, 84.74]],\n",
      "              closed='right',\n",
      "              dtype='interval[float64]')\n"
     ]
    }
   ],
   "source": [
    "# 기대수명의 빈값을 채웠으니 출산율,실업률의 빈값을 채울 기준으로 삼는다.\n",
    "# 민주주의지수의 빈값을 채웠으니 언론자유지수,청렴도 빈값을 채울 기준으로 삼는다.\n",
    "# 단, 기대수명과 민주주의지수는 연속형 자료이므로 그대로 groupby를 사용할 수는 없다. 범위를 나눠 구간별로 groupby를 사용하도록 한다.\n",
    "\n",
    "cat_life = pd.qcut(df['기대수명'],6)\n",
    "cat_life2 = pd.Categorical(cat_life)\n",
    "life_interval = cat_life2.codes\n",
    "print(\"기대수명의 구간:\\n \",cat_life2.categories)\n"
   ]
  },
  {
   "cell_type": "code",
   "execution_count": 238,
   "metadata": {},
   "outputs": [
    {
     "name": "stdout",
     "output_type": "stream",
     "text": [
      "민주주의지수의 구간:\n",
      "  IntervalIndex([(1.489, 3.205], (3.205, 4.398], (4.398, 5.605], (5.605, 6.41], (6.41, 7.768], (7.768, 9.87]],\n",
      "              closed='right',\n",
      "              dtype='interval[float64]')\n"
     ]
    }
   ],
   "source": [
    "cat_democ = pd.qcut(df['민주주의지수'],6)\n",
    "cat_democ2 = pd.Categorical(cat_democ)\n",
    "democ_interval = cat_democ2.codes\n",
    "print(\"민주주의지수의 구간:\\n \",cat_democ2.categories)\n"
   ]
  },
  {
   "cell_type": "code",
   "execution_count": 239,
   "metadata": {},
   "outputs": [],
   "source": [
    "# groupby사용을 위해 임시로 컬럼 추가\n",
    "df['수명_구간'] = life_interval\n",
    "df['민주주의지수_구간'] = democ_interval"
   ]
  },
  {
   "cell_type": "code",
   "execution_count": 240,
   "metadata": {},
   "outputs": [],
   "source": [
    "df['출산율'].fillna(df.groupby('수명_구간')['출산율'].transform('mean'),inplace=True)\n",
    "df['실업률'].fillna(df.groupby('수명_구간')['실업률'].transform('mean'),inplace=True)\n",
    "\n",
    "df['언론자유지수'].fillna(df.groupby('민주주의지수_구간')['언론자유지수'].transform('mean'),inplace=True)\n",
    "df['청렴도'].fillna(df.groupby('민주주의지수_구간')['청렴도'].transform('mean'),inplace=True)\n"
   ]
  },
  {
   "cell_type": "code",
   "execution_count": 241,
   "metadata": {},
   "outputs": [],
   "source": [
    "# 임시로 만들었던 컬럼은 다시 제거\n",
    "df.drop(['민주주의지수_구간','수명_구간'],axis=1,inplace=True)"
   ]
  },
  {
   "cell_type": "code",
   "execution_count": 242,
   "metadata": {
    "scrolled": true
   },
   "outputs": [
    {
     "data": {
      "text/plain": [
       "순위              0\n",
       "국가              0\n",
       "1인당_GDP         0\n",
       "인지도             0\n",
       "지역              0\n",
       "정치체제            0\n",
       "최상위_교육기관_수      0\n",
       "복무기간            0\n",
       "인구              0\n",
       "크기              0\n",
       "기대수명            0\n",
       "출산율             0\n",
       "10만명당_자살률       8\n",
       "언론자유지수          0\n",
       "민주주의지수          0\n",
       "청렴도             0\n",
       "실업률             0\n",
       "면적 대비 해안선 비율    0\n",
       "에이즈감염률(%)       0\n",
       "석유생산량           0\n",
       "dtype: int64"
      ]
     },
     "execution_count": 242,
     "metadata": {},
     "output_type": "execute_result"
    }
   ],
   "source": [
    "df.isnull().sum()"
   ]
  },
  {
   "cell_type": "code",
   "execution_count": 243,
   "metadata": {},
   "outputs": [
    {
     "data": {
      "text/plain": [
       "14          산마리노\n",
       "41     세인트키츠 네비스\n",
       "49           팔라우\n",
       "74       도미니카 연방\n",
       "75           나우루\n",
       "81          세르비아\n",
       "113        마셜 제도\n",
       "114          투발루\n",
       "Name: 국가, dtype: object"
      ]
     },
     "execution_count": 243,
     "metadata": {},
     "output_type": "execute_result"
    }
   ],
   "source": [
    "df[df['10만명당_자살률'].isnull()==True]['국가']"
   ]
  },
  {
   "cell_type": "code",
   "execution_count": 244,
   "metadata": {},
   "outputs": [],
   "source": [
    "# 10만명당_자살률은 어느 지표와도 의미있는 상관관계가 보이지 않는다. \n",
    "# 산마리노는 이탈리아, 도미니카 연방은 도미니카 공화국, 세르비아는 몬테네그로, 세인트키츠 네비스는 세인트빈센트 그레나딘,\n",
    "# 나머지 남태평양 국가들은 미크로네시아 연방의 값을 그대로 사용하기로 한다. \n",
    "\n",
    "df.loc[14,'10만명당_자살률'] = 5.4\n",
    "df.loc[41,'10만명당_자살률'] = 2.6\n",
    "df.loc[49,'10만명당_자살률'] = 11.2\n",
    "df.loc[74,'10만명당_자살률'] = 7.3\n",
    "df.loc[75,'10만명당_자살률'] = 11.2\n",
    "df.loc[81,'10만명당_자살률'] = 8.7\n",
    "df.loc[113,'10만명당_자살률'] = 11.2\n",
    "df.loc[114,'10만명당_자살률'] = 11.2"
   ]
  },
  {
   "cell_type": "code",
   "execution_count": 245,
   "metadata": {},
   "outputs": [
    {
     "data": {
      "text/plain": [
       "순위              0\n",
       "국가              0\n",
       "1인당_GDP         0\n",
       "인지도             0\n",
       "지역              0\n",
       "정치체제            0\n",
       "최상위_교육기관_수      0\n",
       "복무기간            0\n",
       "인구              0\n",
       "크기              0\n",
       "기대수명            0\n",
       "출산율             0\n",
       "10만명당_자살률       0\n",
       "언론자유지수          0\n",
       "민주주의지수          0\n",
       "청렴도             0\n",
       "실업률             0\n",
       "면적 대비 해안선 비율    0\n",
       "에이즈감염률(%)       0\n",
       "석유생산량           0\n",
       "dtype: int64"
      ]
     },
     "execution_count": 245,
     "metadata": {},
     "output_type": "execute_result"
    }
   ],
   "source": [
    "df.isnull().sum()"
   ]
  },
  {
   "cell_type": "markdown",
   "metadata": {},
   "source": [
    "모든 빈값을 채웠다.\n",
    "\n",
    "중간저장"
   ]
  },
  {
   "cell_type": "code",
   "execution_count": 246,
   "metadata": {},
   "outputs": [],
   "source": [
    "df.to_excel('prediction_GDP/third_all.xlsx',index=False)"
   ]
  },
  {
   "cell_type": "markdown",
   "metadata": {},
   "source": [
    "# 머신러닝의 적용"
   ]
  },
  {
   "cell_type": "code",
   "execution_count": 2,
   "metadata": {},
   "outputs": [],
   "source": [
    "df = pd.read_excel('prediction_GDP/third_all.xlsx')"
   ]
  },
  {
   "cell_type": "code",
   "execution_count": 3,
   "metadata": {},
   "outputs": [
    {
     "data": {
      "text/html": [
       "<div>\n",
       "<style scoped>\n",
       "    .dataframe tbody tr th:only-of-type {\n",
       "        vertical-align: middle;\n",
       "    }\n",
       "\n",
       "    .dataframe tbody tr th {\n",
       "        vertical-align: top;\n",
       "    }\n",
       "\n",
       "    .dataframe thead th {\n",
       "        text-align: right;\n",
       "    }\n",
       "</style>\n",
       "<table border=\"1\" class=\"dataframe\">\n",
       "  <thead>\n",
       "    <tr style=\"text-align: right;\">\n",
       "      <th></th>\n",
       "      <th>순위</th>\n",
       "      <th>국가</th>\n",
       "      <th>1인당_GDP</th>\n",
       "      <th>인지도</th>\n",
       "      <th>지역</th>\n",
       "      <th>정치체제</th>\n",
       "      <th>최상위_교육기관_수</th>\n",
       "      <th>복무기간</th>\n",
       "      <th>인구</th>\n",
       "      <th>크기</th>\n",
       "      <th>기대수명</th>\n",
       "      <th>출산율</th>\n",
       "      <th>10만명당_자살률</th>\n",
       "      <th>언론자유지수</th>\n",
       "      <th>민주주의지수</th>\n",
       "      <th>청렴도</th>\n",
       "      <th>실업률</th>\n",
       "      <th>면적 대비 해안선 비율</th>\n",
       "      <th>에이즈감염률(%)</th>\n",
       "      <th>석유생산량</th>\n",
       "    </tr>\n",
       "  </thead>\n",
       "  <tbody>\n",
       "    <tr>\n",
       "      <td>0</td>\n",
       "      <td>1</td>\n",
       "      <td>룩셈부르크</td>\n",
       "      <td>113196</td>\n",
       "      <td>515000000</td>\n",
       "      <td>5</td>\n",
       "      <td>1</td>\n",
       "      <td>0</td>\n",
       "      <td>0</td>\n",
       "      <td>613894</td>\n",
       "      <td>2586</td>\n",
       "      <td>81.34</td>\n",
       "      <td>1.5</td>\n",
       "      <td>8.5</td>\n",
       "      <td>15.66</td>\n",
       "      <td>8.81</td>\n",
       "      <td>81.0</td>\n",
       "      <td>6.5</td>\n",
       "      <td>0.0</td>\n",
       "      <td>0.0</td>\n",
       "      <td>0</td>\n",
       "    </tr>\n",
       "    <tr>\n",
       "      <td>1</td>\n",
       "      <td>2</td>\n",
       "      <td>스위스</td>\n",
       "      <td>83717</td>\n",
       "      <td>712000000</td>\n",
       "      <td>5</td>\n",
       "      <td>1</td>\n",
       "      <td>2</td>\n",
       "      <td>0</td>\n",
       "      <td>8542323</td>\n",
       "      <td>41284</td>\n",
       "      <td>82.66</td>\n",
       "      <td>1.5</td>\n",
       "      <td>10.7</td>\n",
       "      <td>10.52</td>\n",
       "      <td>9.03</td>\n",
       "      <td>85.0</td>\n",
       "      <td>5.2</td>\n",
       "      <td>0.0</td>\n",
       "      <td>0.0</td>\n",
       "      <td>0</td>\n",
       "    </tr>\n",
       "  </tbody>\n",
       "</table>\n",
       "</div>"
      ],
      "text/plain": [
       "   순위     국가  1인당_GDP        인지도  지역  정치체제  최상위_교육기관_수  복무기간       인구     크기  \\\n",
       "0   1  룩셈부르크   113196  515000000   5     1           0     0   613894   2586   \n",
       "1   2    스위스    83717  712000000   5     1           2     0  8542323  41284   \n",
       "\n",
       "    기대수명  출산율  10만명당_자살률  언론자유지수  민주주의지수   청렴도  실업률  면적 대비 해안선 비율  에이즈감염률(%)  \\\n",
       "0  81.34  1.5        8.5   15.66    8.81  81.0  6.5           0.0        0.0   \n",
       "1  82.66  1.5       10.7   10.52    9.03  85.0  5.2           0.0        0.0   \n",
       "\n",
       "   석유생산량  \n",
       "0      0  \n",
       "1      0  "
      ]
     },
     "execution_count": 3,
     "metadata": {},
     "output_type": "execute_result"
    }
   ],
   "source": [
    "df.head(2)"
   ]
  },
  {
   "cell_type": "code",
   "execution_count": 4,
   "metadata": {},
   "outputs": [],
   "source": [
    "# 데이터\n",
    "X = df.iloc[:,3:]\n",
    "# 레이블: 순위 자체와 1인당 GDP를 모두 레이블로 삼고 둘 중 더 잘 작동하는 것을 사용하도록 한다.\n",
    "y_rank = df.iloc[:,0]\n",
    "y_gdp = df.iloc[:,2]"
   ]
  },
  {
   "cell_type": "code",
   "execution_count": 5,
   "metadata": {},
   "outputs": [],
   "source": [
    "from sklearn.model_selection import train_test_split\n",
    "X_train,X_test,y_rank_train,y_rank_test,y_gdp_train,y_gdp_test = train_test_split(X,y_rank,y_gdp,random_state=5)"
   ]
  },
  {
   "cell_type": "code",
   "execution_count": 6,
   "metadata": {},
   "outputs": [],
   "source": [
    "# 데이터 스케일에 영향을 받지 않는 결정트리 모델(앙상블을 사용)부터 사용한다.\n",
    "from sklearn.ensemble import RandomForestRegressor\n",
    "tree = RandomForestRegressor(random_state=0,n_estimators=15,max_features=5,max_depth=15)\n",
    "tree2 = RandomForestRegressor(random_state=0,n_estimators=30,max_features=17,max_depth=30)"
   ]
  },
  {
   "cell_type": "code",
   "execution_count": 7,
   "metadata": {},
   "outputs": [
    {
     "data": {
      "text/plain": [
       "RandomForestRegressor(bootstrap=True, ccp_alpha=0.0, criterion='mse',\n",
       "                      max_depth=30, max_features=17, max_leaf_nodes=None,\n",
       "                      max_samples=None, min_impurity_decrease=0.0,\n",
       "                      min_impurity_split=None, min_samples_leaf=1,\n",
       "                      min_samples_split=2, min_weight_fraction_leaf=0.0,\n",
       "                      n_estimators=30, n_jobs=None, oob_score=False,\n",
       "                      random_state=0, verbose=0, warm_start=False)"
      ]
     },
     "execution_count": 7,
     "metadata": {},
     "output_type": "execute_result"
    }
   ],
   "source": [
    "tree.fit(X_train,y_rank_train)\n",
    "tree2.fit(X_train,y_gdp_train)"
   ]
  },
  {
   "cell_type": "code",
   "execution_count": 8,
   "metadata": {
    "scrolled": true
   },
   "outputs": [
    {
     "name": "stdout",
     "output_type": "stream",
     "text": [
      "0.9625543182839991\n",
      "0.8936215137498238\n",
      "0.9589505835707351\n",
      "0.7729412848121618\n"
     ]
    }
   ],
   "source": [
    "print(tree.score(X_train,y_rank_train))\n",
    "print(tree.score(X_test,y_rank_test))\n",
    "print(tree2.score(X_train,y_gdp_train))\n",
    "print(tree2.score(X_test,y_gdp_test))"
   ]
  },
  {
   "cell_type": "code",
   "execution_count": 9,
   "metadata": {},
   "outputs": [],
   "source": [
    "# 그래디언트 부스팅 회귀\n",
    "from sklearn.ensemble import GradientBoostingRegressor\n",
    "gbrt = GradientBoostingRegressor(random_state=0,learning_rate=0.1,max_depth=1,n_estimators=130,max_features=17)\n",
    "gbrt2 = GradientBoostingRegressor(random_state=0,learning_rate=0.1,max_depth=1,n_estimators=130,max_features=17)"
   ]
  },
  {
   "cell_type": "code",
   "execution_count": 10,
   "metadata": {},
   "outputs": [
    {
     "data": {
      "text/plain": [
       "GradientBoostingRegressor(alpha=0.9, ccp_alpha=0.0, criterion='friedman_mse',\n",
       "                          init=None, learning_rate=0.1, loss='ls', max_depth=1,\n",
       "                          max_features=17, max_leaf_nodes=None,\n",
       "                          min_impurity_decrease=0.0, min_impurity_split=None,\n",
       "                          min_samples_leaf=1, min_samples_split=2,\n",
       "                          min_weight_fraction_leaf=0.0, n_estimators=130,\n",
       "                          n_iter_no_change=None, presort='deprecated',\n",
       "                          random_state=0, subsample=1.0, tol=0.0001,\n",
       "                          validation_fraction=0.1, verbose=0, warm_start=False)"
      ]
     },
     "execution_count": 10,
     "metadata": {},
     "output_type": "execute_result"
    }
   ],
   "source": [
    "gbrt.fit(X_train,y_rank_train)\n",
    "gbrt2.fit(X_train,y_gdp_train)"
   ]
  },
  {
   "cell_type": "code",
   "execution_count": 11,
   "metadata": {},
   "outputs": [
    {
     "name": "stdout",
     "output_type": "stream",
     "text": [
      "0.8972750500598866\n",
      "0.8650248769278002\n",
      "0.9187814635391958\n",
      "0.7329296721976828\n"
     ]
    }
   ],
   "source": [
    "print(gbrt.score(X_train,y_rank_train))\n",
    "print(gbrt.score(X_test,y_rank_test))\n",
    "print(gbrt2.score(X_train,y_gdp_train))\n",
    "print(gbrt2.score(X_test,y_gdp_test))"
   ]
  },
  {
   "cell_type": "code",
   "execution_count": 12,
   "metadata": {},
   "outputs": [],
   "source": [
    "# 이번에는 다른 모델들을 사용하는데 데이터간 값의 차이가 너무 심하므로 minmax스케일링을 진행 후 적용한다.\n",
    "\n",
    "min_value = X.min(axis=0)\n",
    "max_value = X.max(axis=0)\n",
    "range_value = (X - min_value).max(axis=0) \n",
    "\n",
    "X_scaled = (X - min_value)/range_value\n",
    "\n",
    "X_scaled_train,X_scaled_test,y_rank_train,y_rank_test,y_gdp_train,y_gdp_test = train_test_split(X_scaled,y_rank,y_gdp,random_state=5)"
   ]
  },
  {
   "cell_type": "code",
   "execution_count": 13,
   "metadata": {},
   "outputs": [],
   "source": [
    "from sklearn.svm import SVR\n",
    "svr = SVR()\n",
    "svr2 = SVR()\n",
    "from sklearn.linear_model import LinearRegression\n",
    "lr = LinearRegression()\n",
    "lr2 = LinearRegression()\n",
    "from sklearn.linear_model import Ridge\n",
    "rigde = Ridge()\n",
    "rigde2 = Ridge()\n",
    "from sklearn.linear_model import Lasso\n",
    "lasso = Lasso()\n",
    "lasso2 = Lasso()\n",
    "from sklearn.neural_network import MLPRegressor\n",
    "mlp = MLPRegressor(random_state=0)\n",
    "mlp2 = MLPRegressor(random_state=0)"
   ]
  },
  {
   "cell_type": "code",
   "execution_count": 14,
   "metadata": {},
   "outputs": [
    {
     "name": "stderr",
     "output_type": "stream",
     "text": [
      "C:\\Users\\hp\\Anaconda3\\lib\\site-packages\\sklearn\\neural_network\\_multilayer_perceptron.py:571: ConvergenceWarning: Stochastic Optimizer: Maximum iterations (200) reached and the optimization hasn't converged yet.\n",
      "  % self.max_iter, ConvergenceWarning)\n",
      "C:\\Users\\hp\\Anaconda3\\lib\\site-packages\\sklearn\\neural_network\\_multilayer_perceptron.py:571: ConvergenceWarning: Stochastic Optimizer: Maximum iterations (200) reached and the optimization hasn't converged yet.\n",
      "  % self.max_iter, ConvergenceWarning)\n"
     ]
    },
    {
     "data": {
      "text/plain": [
       "MLPRegressor(activation='relu', alpha=0.0001, batch_size='auto', beta_1=0.9,\n",
       "             beta_2=0.999, early_stopping=False, epsilon=1e-08,\n",
       "             hidden_layer_sizes=(100,), learning_rate='constant',\n",
       "             learning_rate_init=0.001, max_fun=15000, max_iter=200,\n",
       "             momentum=0.9, n_iter_no_change=10, nesterovs_momentum=True,\n",
       "             power_t=0.5, random_state=0, shuffle=True, solver='adam',\n",
       "             tol=0.0001, validation_fraction=0.1, verbose=False,\n",
       "             warm_start=False)"
      ]
     },
     "execution_count": 14,
     "metadata": {},
     "output_type": "execute_result"
    }
   ],
   "source": [
    "svr.fit(X_scaled_train,y_rank_train)\n",
    "svr2.fit(X_scaled_train,y_gdp_train)\n",
    "lr.fit(X_scaled_train,y_rank_train)\n",
    "lr2.fit(X_scaled_train,y_gdp_train)\n",
    "rigde.fit(X_scaled_train,y_rank_train)\n",
    "rigde2.fit(X_scaled_train,y_gdp_train)\n",
    "lasso.fit(X_scaled_train,y_rank_train)\n",
    "lasso2.fit(X_scaled_train,y_gdp_train)\n",
    "mlp.fit(X_scaled_train,y_rank_train)\n",
    "mlp2.fit(X_scaled_train,y_gdp_train)"
   ]
  },
  {
   "cell_type": "code",
   "execution_count": 15,
   "metadata": {},
   "outputs": [
    {
     "name": "stdout",
     "output_type": "stream",
     "text": [
      "svr.score: 0.3013374129804469\n",
      "svr.score: 0.3122684110127698\n",
      "svr.score: -0.17628025344536646\n",
      "svr.score: -0.22809738021612036\n",
      "lr.score: 0.8292483503781629\n",
      "lr.score: 0.7623078381223538\n",
      "lr.score: 0.7365882864338015\n",
      "lr.score: 0.7180878353895876\n",
      "rigde.score: 0.8137479885699563\n",
      "rigde.score: 0.8445376617382511\n",
      "rigde.score: 0.7211414633068687\n",
      "rigde.score: 0.7064755428469105\n",
      "lasso.score: 0.7579127922764126\n",
      "lasso.score: 0.8187112401540033\n",
      "lasso.score: 0.736578602758048\n",
      "lasso.score: 0.7163194067195862\n",
      "mlp.score: -1.6896367096887595\n",
      "mlp.score: -1.4314436028122386\n",
      "mlp.score: -0.5043615951620968\n",
      "mlp.score: -0.5723810005267969\n"
     ]
    }
   ],
   "source": [
    "print('svr.score:',svr.score(X_scaled_train,y_rank_train))\n",
    "print('svr.score:',svr.score(X_scaled_test,y_rank_test))\n",
    "print('svr.score:',svr2.score(X_scaled_train,y_gdp_train))\n",
    "print('svr.score:',svr2.score(X_scaled_test,y_gdp_test))\n",
    "print('lr.score:',lr.score(X_scaled_train,y_rank_train))\n",
    "print('lr.score:',lr.score(X_scaled_test,y_rank_test))\n",
    "print('lr.score:',lr2.score(X_scaled_train,y_gdp_train))\n",
    "print('lr.score:',lr2.score(X_scaled_test,y_gdp_test))\n",
    "print('rigde.score:',rigde.score(X_scaled_train,y_rank_train))\n",
    "print('rigde.score:',rigde.score(X_scaled_test,y_rank_test))\n",
    "print('rigde.score:',rigde2.score(X_scaled_train,y_gdp_train))\n",
    "print('rigde.score:',rigde2.score(X_scaled_test,y_gdp_test))\n",
    "print('lasso.score:',lasso.score(X_scaled_train,y_rank_train))\n",
    "print('lasso.score:',lasso.score(X_scaled_test,y_rank_test))\n",
    "print('lasso.score:',lasso2.score(X_scaled_train,y_gdp_train))\n",
    "print('lasso.score:',lasso2.score(X_scaled_test,y_gdp_test))\n",
    "print('mlp.score:',mlp.score(X_scaled_train,y_rank_train))\n",
    "print('mlp.score:',mlp.score(X_scaled_test,y_rank_test))\n",
    "print('mlp.score:',mlp2.score(X_scaled_train,y_gdp_train))\n",
    "print('mlp.score:',mlp2.score(X_scaled_test,y_gdp_test))"
   ]
  },
  {
   "cell_type": "code",
   "execution_count": 16,
   "metadata": {},
   "outputs": [],
   "source": [
    "# minmax 스케일링 말고 정규화로 전처리를 해보도록 한다.\n",
    "\n",
    "mean_value = X.mean(axis=0)\n",
    "std_value = X.std(axis=0)\n",
    "\n",
    "X_scaled = (X - mean_value)/std_value\n",
    "\n",
    "X_scaled_train,X_scaled_test,y_rank_train,y_rank_test,y_gdp_train,y_gdp_test = train_test_split(X_scaled,y_rank,y_gdp,random_state=5)\n"
   ]
  },
  {
   "cell_type": "code",
   "execution_count": 17,
   "metadata": {},
   "outputs": [],
   "source": [
    "svr = SVR()\n",
    "svr2 = SVR()\n",
    "lr = LinearRegression()\n",
    "lr2 = LinearRegression()\n",
    "rigde = Ridge()\n",
    "rigde2 = Ridge()\n",
    "lasso = Lasso()\n",
    "lasso2 = Lasso()\n",
    "mlp = MLPRegressor(random_state=0)\n",
    "mlp2 = MLPRegressor(random_state=0)"
   ]
  },
  {
   "cell_type": "code",
   "execution_count": 18,
   "metadata": {},
   "outputs": [
    {
     "name": "stderr",
     "output_type": "stream",
     "text": [
      "C:\\Users\\hp\\Anaconda3\\lib\\site-packages\\sklearn\\neural_network\\_multilayer_perceptron.py:571: ConvergenceWarning: Stochastic Optimizer: Maximum iterations (200) reached and the optimization hasn't converged yet.\n",
      "  % self.max_iter, ConvergenceWarning)\n",
      "C:\\Users\\hp\\Anaconda3\\lib\\site-packages\\sklearn\\neural_network\\_multilayer_perceptron.py:571: ConvergenceWarning: Stochastic Optimizer: Maximum iterations (200) reached and the optimization hasn't converged yet.\n",
      "  % self.max_iter, ConvergenceWarning)\n"
     ]
    },
    {
     "data": {
      "text/plain": [
       "MLPRegressor(activation='relu', alpha=0.0001, batch_size='auto', beta_1=0.9,\n",
       "             beta_2=0.999, early_stopping=False, epsilon=1e-08,\n",
       "             hidden_layer_sizes=(100,), learning_rate='constant',\n",
       "             learning_rate_init=0.001, max_fun=15000, max_iter=200,\n",
       "             momentum=0.9, n_iter_no_change=10, nesterovs_momentum=True,\n",
       "             power_t=0.5, random_state=0, shuffle=True, solver='adam',\n",
       "             tol=0.0001, validation_fraction=0.1, verbose=False,\n",
       "             warm_start=False)"
      ]
     },
     "execution_count": 18,
     "metadata": {},
     "output_type": "execute_result"
    }
   ],
   "source": [
    "svr.fit(X_scaled_train,y_rank_train)\n",
    "svr2.fit(X_scaled_train,y_gdp_train)\n",
    "lr.fit(X_scaled_train,y_rank_train)\n",
    "lr2.fit(X_scaled_train,y_gdp_train)\n",
    "rigde.fit(X_scaled_train,y_rank_train)\n",
    "rigde2.fit(X_scaled_train,y_gdp_train)\n",
    "lasso.fit(X_scaled_train,y_rank_train)\n",
    "lasso2.fit(X_scaled_train,y_gdp_train)\n",
    "mlp.fit(X_scaled_train,y_rank_train)\n",
    "mlp2.fit(X_scaled_train,y_gdp_train)"
   ]
  },
  {
   "cell_type": "code",
   "execution_count": 19,
   "metadata": {
    "scrolled": true
   },
   "outputs": [
    {
     "name": "stdout",
     "output_type": "stream",
     "text": [
      "svr.score: 0.2808932518622089\n",
      "svr.score: 0.28967998667418815\n",
      "svr.score: -0.1765767871489057\n",
      "svr.score: -0.22844858105560162\n",
      "lr.score: 0.829248350378163\n",
      "lr.score: 0.7623078381223539\n",
      "lr.score: 0.7365882864338015\n",
      "lr.score: 0.7180878353895874\n",
      "rigde.score: 0.8291311904048468\n",
      "rigde.score: 0.7678334517134404\n",
      "rigde.score: 0.7364924624066879\n",
      "rigde.score: 0.7210969668950129\n",
      "lasso.score: 0.818990804803367\n",
      "lasso.score: 0.8536672870790853\n",
      "lasso.score: 0.7365880946440626\n",
      "lasso.score: 0.7179947057332787\n",
      "mlp.score: -1.4682118738549954\n",
      "mlp.score: -1.3495026220046191\n",
      "mlp.score: -0.5032887493653846\n",
      "mlp.score: -0.5711969675789577\n"
     ]
    }
   ],
   "source": [
    "print('svr.score:',svr.score(X_scaled_train,y_rank_train))\n",
    "print('svr.score:',svr.score(X_scaled_test,y_rank_test))\n",
    "print('svr.score:',svr2.score(X_scaled_train,y_gdp_train))\n",
    "print('svr.score:',svr2.score(X_scaled_test,y_gdp_test))\n",
    "print('lr.score:',lr.score(X_scaled_train,y_rank_train))\n",
    "print('lr.score:',lr.score(X_scaled_test,y_rank_test))\n",
    "print('lr.score:',lr2.score(X_scaled_train,y_gdp_train))\n",
    "print('lr.score:',lr2.score(X_scaled_test,y_gdp_test))\n",
    "print('rigde.score:',rigde.score(X_scaled_train,y_rank_train))\n",
    "print('rigde.score:',rigde.score(X_scaled_test,y_rank_test))\n",
    "print('rigde.score:',rigde2.score(X_scaled_train,y_gdp_train))\n",
    "print('rigde.score:',rigde2.score(X_scaled_test,y_gdp_test))\n",
    "print('lasso.score:',lasso.score(X_scaled_train,y_rank_train))\n",
    "print('lasso.score:',lasso.score(X_scaled_test,y_rank_test))\n",
    "print('lasso.score:',lasso2.score(X_scaled_train,y_gdp_train))\n",
    "print('lasso.score:',lasso2.score(X_scaled_test,y_gdp_test))\n",
    "print('mlp.score:',mlp.score(X_scaled_train,y_rank_train))\n",
    "print('mlp.score:',mlp.score(X_scaled_test,y_rank_test))\n",
    "print('mlp.score:',mlp2.score(X_scaled_train,y_gdp_train))\n",
    "print('mlp.score:',mlp2.score(X_scaled_test,y_gdp_test))"
   ]
  },
  {
   "cell_type": "markdown",
   "metadata": {},
   "source": [
    "과대적합된 모델이면 매개변수를 바꿔가며 조정해볼 수 있는데 현재 score를 평가한 모델 중에 매력적인 모델은 보이지 않는다.\n",
    "\n",
    "랜덤포레스트의 순위 예측이 89%의 성능을 보인다."
   ]
  },
  {
   "cell_type": "code",
   "execution_count": 20,
   "metadata": {},
   "outputs": [
    {
     "name": "stdout",
     "output_type": "stream",
     "text": [
      "0.8936215137498238\n"
     ]
    }
   ],
   "source": [
    "print(tree.score(X_test,y_rank_test))"
   ]
  },
  {
   "cell_type": "code",
   "execution_count": 21,
   "metadata": {},
   "outputs": [
    {
     "data": {
      "text/plain": [
       "array([ 49.87,  38.13, 102.13, 105.2 , 150.  , 126.67, 105.2 ,  86.93,\n",
       "       111.87,  15.87,  51.33, 116.6 ,  37.6 ,  68.67, 168.87,  43.8 ,\n",
       "       102.4 ,  32.73,  19.47,  19.87,  51.33, 107.27,  71.33,  91.4 ,\n",
       "       100.  , 163.6 , 159.67, 100.47,  86.73, 166.13, 102.67, 135.53,\n",
       "       138.87,  73.33,  76.67, 164.13,  25.87,   9.  , 157.87,  75.67,\n",
       "       161.6 , 119.07,  74.2 , 163.93,  58.33, 153.4 ,  82.53])"
      ]
     },
     "execution_count": 21,
     "metadata": {},
     "output_type": "execute_result"
    }
   ],
   "source": [
    "y_pred = np.round(tree.predict(X_test),2)\n",
    "y_pred"
   ]
  },
  {
   "cell_type": "code",
   "execution_count": 22,
   "metadata": {},
   "outputs": [
    {
     "data": {
      "text/plain": [
       "array([ 26,   7,  95, 122, 173, 171, 122,  91, 144,   4,  56, 118,  29,\n",
       "        41, 177,  57, 114,  27,  22,  18,  50,  99,  58,  52, 103, 165,\n",
       "       142,  68,  83, 185, 124, 138, 140,  53,  44, 188,  24,   2, 183,\n",
       "        42, 174, 125,  76, 147,  45, 152,  98], dtype=int64)"
      ]
     },
     "execution_count": 22,
     "metadata": {},
     "output_type": "execute_result"
    }
   ],
   "source": [
    "y_real = np.array(y_rank_test)\n",
    "y_real"
   ]
  },
  {
   "cell_type": "code",
   "execution_count": 23,
   "metadata": {},
   "outputs": [
    {
     "data": {
      "text/plain": [
       "array([32.73333333])"
      ]
     },
     "execution_count": 23,
     "metadata": {},
     "output_type": "execute_result"
    }
   ],
   "source": [
    "# 대한민국에 대한 예측값이다. 5순위 정도 차이가 난다.\n",
    "dd = X.iloc[26]\n",
    "dd2=np.array(dd)\n",
    "tree.predict(dd2.reshape(-1,17))"
   ]
  },
  {
   "cell_type": "code",
   "execution_count": 24,
   "metadata": {},
   "outputs": [
    {
     "data": {
      "text/plain": [
       "순위                      27\n",
       "국가                    대한민국\n",
       "1인당_GDP              31431\n",
       "인지도             1610000000\n",
       "지역                       4\n",
       "정치체제                     1\n",
       "최상위_교육기관_수               1\n",
       "복무기간                     3\n",
       "인구                51780579\n",
       "크기                  100378\n",
       "기대수명                 83.31\n",
       "출산율                    1.2\n",
       "10만명당_자살률             26.5\n",
       "언론자유지수               24.94\n",
       "민주주의지수                   8\n",
       "청렴도                     57\n",
       "실업률                    4.9\n",
       "면적 대비 해안선 비율        24.242\n",
       "에이즈감염률(%)                0\n",
       "석유생산량                 1000\n",
       "Name: 26, dtype: object"
      ]
     },
     "execution_count": 24,
     "metadata": {},
     "output_type": "execute_result"
    }
   ],
   "source": [
    "korea = df.iloc[26]\n",
    "korea"
   ]
  },
  {
   "cell_type": "code",
   "execution_count": 25,
   "metadata": {},
   "outputs": [],
   "source": [
    "# 2019년 6월 기준 oecd 국가들\n",
    "oecd_list = ['캐나다','미국','영국','덴마크','아이슬란드','노르웨이','터키','스페인','포르투갈','아일랜드','프랑스',\n",
    "             '벨기에','독일','그리스','스웨덴','스위스','오스트리아','네덜란드','룩셈부르크','이탈리아','일본','핀란드',\n",
    "            '오스트레일리아','뉴질랜드','멕시코','체코','헝가리','폴란드','대한민국','슬로바키아','칠레','슬로베니아',\n",
    "            '이스라엘','에스토니아','라트비아','리투아니아']"
   ]
  },
  {
   "cell_type": "code",
   "execution_count": 26,
   "metadata": {},
   "outputs": [
    {
     "data": {
      "text/plain": [
       "36"
      ]
     },
     "execution_count": 26,
     "metadata": {},
     "output_type": "execute_result"
    }
   ],
   "source": [
    "len(oecd_list)"
   ]
  },
  {
   "cell_type": "code",
   "execution_count": 27,
   "metadata": {},
   "outputs": [
    {
     "data": {
      "text/plain": [
       "36"
      ]
     },
     "execution_count": 27,
     "metadata": {},
     "output_type": "execute_result"
    }
   ],
   "source": [
    "cond = df['국가'].isin(oecd_list)==True\n",
    "len(df[cond]['국가'])"
   ]
  },
  {
   "cell_type": "markdown",
   "metadata": {},
   "source": [
    "이름이 DataFrame그대로 입력되어있다."
   ]
  },
  {
   "cell_type": "code",
   "execution_count": 28,
   "metadata": {},
   "outputs": [],
   "source": [
    "oecd_mean = df[cond].mean(axis=0)"
   ]
  },
  {
   "cell_type": "code",
   "execution_count": 29,
   "metadata": {},
   "outputs": [
    {
     "data": {
      "text/html": [
       "<div>\n",
       "<style scoped>\n",
       "    .dataframe tbody tr th:only-of-type {\n",
       "        vertical-align: middle;\n",
       "    }\n",
       "\n",
       "    .dataframe tbody tr th {\n",
       "        vertical-align: top;\n",
       "    }\n",
       "\n",
       "    .dataframe thead th {\n",
       "        text-align: right;\n",
       "    }\n",
       "</style>\n",
       "<table border=\"1\" class=\"dataframe\">\n",
       "  <thead>\n",
       "    <tr style=\"text-align: right;\">\n",
       "      <th></th>\n",
       "      <th>26</th>\n",
       "      <th>Unnamed 0</th>\n",
       "    </tr>\n",
       "  </thead>\n",
       "  <tbody>\n",
       "    <tr>\n",
       "      <td>순위</td>\n",
       "      <td>27</td>\n",
       "      <td>26</td>\n",
       "    </tr>\n",
       "    <tr>\n",
       "      <td>국가</td>\n",
       "      <td>대한민국</td>\n",
       "      <td>NaN</td>\n",
       "    </tr>\n",
       "    <tr>\n",
       "      <td>1인당_GDP</td>\n",
       "      <td>31431</td>\n",
       "      <td>41112.7</td>\n",
       "    </tr>\n",
       "    <tr>\n",
       "      <td>인지도</td>\n",
       "      <td>1.61e+09</td>\n",
       "      <td>1.91739e+09</td>\n",
       "    </tr>\n",
       "    <tr>\n",
       "      <td>지역</td>\n",
       "      <td>4</td>\n",
       "      <td>4.3</td>\n",
       "    </tr>\n",
       "    <tr>\n",
       "      <td>정치체제</td>\n",
       "      <td>1</td>\n",
       "      <td>1</td>\n",
       "    </tr>\n",
       "    <tr>\n",
       "      <td>최상위_교육기관_수</td>\n",
       "      <td>1</td>\n",
       "      <td>0.6</td>\n",
       "    </tr>\n",
       "    <tr>\n",
       "      <td>복무기간</td>\n",
       "      <td>3</td>\n",
       "      <td>0.3</td>\n",
       "    </tr>\n",
       "    <tr>\n",
       "      <td>인구</td>\n",
       "      <td>5.17806e+07</td>\n",
       "      <td>3.62629e+07</td>\n",
       "    </tr>\n",
       "    <tr>\n",
       "      <td>크기</td>\n",
       "      <td>100378</td>\n",
       "      <td>1.00879e+06</td>\n",
       "    </tr>\n",
       "    <tr>\n",
       "      <td>기대수명</td>\n",
       "      <td>83.31</td>\n",
       "      <td>79.9</td>\n",
       "    </tr>\n",
       "    <tr>\n",
       "      <td>출산율</td>\n",
       "      <td>1.2</td>\n",
       "      <td>1.7</td>\n",
       "    </tr>\n",
       "    <tr>\n",
       "      <td>10만명당_자살률</td>\n",
       "      <td>26.5</td>\n",
       "      <td>11.7</td>\n",
       "    </tr>\n",
       "    <tr>\n",
       "      <td>언론자유지수</td>\n",
       "      <td>24.94</td>\n",
       "      <td>20.5</td>\n",
       "    </tr>\n",
       "    <tr>\n",
       "      <td>민주주의지수</td>\n",
       "      <td>8</td>\n",
       "      <td>8.1</td>\n",
       "    </tr>\n",
       "    <tr>\n",
       "      <td>청렴도</td>\n",
       "      <td>57</td>\n",
       "      <td>68.4</td>\n",
       "    </tr>\n",
       "    <tr>\n",
       "      <td>실업률</td>\n",
       "      <td>4.9</td>\n",
       "      <td>6.8</td>\n",
       "    </tr>\n",
       "    <tr>\n",
       "      <td>면적 대비 해안선 비율</td>\n",
       "      <td>24.242</td>\n",
       "      <td>23.4</td>\n",
       "    </tr>\n",
       "    <tr>\n",
       "      <td>에이즈감염률(%)</td>\n",
       "      <td>0</td>\n",
       "      <td>0.1</td>\n",
       "    </tr>\n",
       "    <tr>\n",
       "      <td>석유생산량</td>\n",
       "      <td>1000</td>\n",
       "      <td>501384</td>\n",
       "    </tr>\n",
       "  </tbody>\n",
       "</table>\n",
       "</div>"
      ],
      "text/plain": [
       "                       26    Unnamed 0\n",
       "순위                     27           26\n",
       "국가                   대한민국          NaN\n",
       "1인당_GDP             31431      41112.7\n",
       "인지도              1.61e+09  1.91739e+09\n",
       "지역                      4          4.3\n",
       "정치체제                    1            1\n",
       "최상위_교육기관_수              1          0.6\n",
       "복무기간                    3          0.3\n",
       "인구            5.17806e+07  3.62629e+07\n",
       "크기                 100378  1.00879e+06\n",
       "기대수명                83.31         79.9\n",
       "출산율                   1.2          1.7\n",
       "10만명당_자살률            26.5         11.7\n",
       "언론자유지수              24.94         20.5\n",
       "민주주의지수                  8          8.1\n",
       "청렴도                    57         68.4\n",
       "실업률                   4.9          6.8\n",
       "면적 대비 해안선 비율       24.242         23.4\n",
       "에이즈감염률(%)               0          0.1\n",
       "석유생산량                1000       501384"
      ]
     },
     "execution_count": 29,
     "metadata": {},
     "output_type": "execute_result"
    }
   ],
   "source": [
    "pd.DataFrame([korea,oecd_mean.round(1)]).T"
   ]
  },
  {
   "cell_type": "code",
   "execution_count": 30,
   "metadata": {},
   "outputs": [
    {
     "data": {
      "text/plain": [
       "10만명당_자살률           -14.825\n",
       "1인당_GDP             9681.69\n",
       "국가                      NaN\n",
       "기대수명               -3.39754\n",
       "면적 대비 해안선 비율      -0.833278\n",
       "민주주의지수            0.0913889\n",
       "복무기간               -2.72222\n",
       "석유생산량                500383\n",
       "순위                -0.972222\n",
       "실업률                 1.85833\n",
       "언론자유지수             -4.48083\n",
       "에이즈감염률(%)         0.0944444\n",
       "인구             -1.55177e+07\n",
       "인지도             3.07389e+08\n",
       "정치체제                      0\n",
       "지역                 0.333333\n",
       "청렴도                 11.3509\n",
       "최상위_교육기관_수        -0.416667\n",
       "출산율                   0.475\n",
       "크기                   908410\n",
       "dtype: object"
      ]
     },
     "execution_count": 30,
     "metadata": {},
     "output_type": "execute_result"
    }
   ],
   "source": [
    "oecd_mean - korea"
   ]
  },
  {
   "cell_type": "markdown",
   "metadata": {},
   "source": [
    "oecd 평균과 대한민국의 차이를 비교하되 면적,인구 등 현실적으로 어떻게 할 수 없는 것들은 제외한다.<br>\n",
    "어떤 것들은 숫자가 커야 좋고 어떤 것들은 작아야 좋다.\n",
    "\n",
    "앞서나가는 부분:\n",
    "- 기대수명\n",
    "- 실업률\n",
    "- 최상위 교육기관\n",
    "<br>\n",
    "\n",
    "뒤쳐지는 부분:\n",
    "- 자살율\n",
    "- 민주주의지수\n",
    "- 복무기간\n",
    "- 석유생산량\n",
    "- 언론자유지수\n",
    "- 인지도\n",
    "- 청렴도\n",
    "- 출산율\n"
   ]
  },
  {
   "cell_type": "code",
   "execution_count": 31,
   "metadata": {},
   "outputs": [
    {
     "data": {
      "text/plain": [
       "array([1610000000, 4, 1, 1, 3, 51780579, 100378, 83.31, 1.2, 26.5, 24.94,\n",
       "       8.0, 57.0, 4.9, 24.242, 0.0, 1000], dtype=object)"
      ]
     },
     "execution_count": 31,
     "metadata": {},
     "output_type": "execute_result"
    }
   ],
   "source": [
    "# 순서대로 인지도, 지역, 정치체제, 최상위 교육기관, 복무기간, 인구, 크기, 기대수명, 출산율, 10만명당 자살율,\n",
    "# 언론자유지수, 민주주의지수,청렴도,실업률, 면적 대비 해안선 비율, 에이즈 감염률, 석유생산량\n",
    "\n",
    "korea_array = np.array(korea)[3:]\n",
    "korea_array"
   ]
  },
  {
   "cell_type": "code",
   "execution_count": 32,
   "metadata": {},
   "outputs": [
    {
     "data": {
      "text/plain": [
       "순위              2.602778e+01\n",
       "1인당_GDP         4.111269e+04\n",
       "인지도             1.917389e+09\n",
       "지역              4.333333e+00\n",
       "정치체제            1.000000e+00\n",
       "최상위_교육기관_수      5.833333e-01\n",
       "복무기간            2.777778e-01\n",
       "인구              3.626288e+07\n",
       "크기              1.008788e+06\n",
       "기대수명            7.991246e+01\n",
       "출산율             1.675000e+00\n",
       "10만명당_자살률       1.167500e+01\n",
       "언론자유지수          2.045917e+01\n",
       "민주주의지수          8.091389e+00\n",
       "청렴도             6.835093e+01\n",
       "실업률             6.758333e+00\n",
       "면적 대비 해안선 비율    2.340872e+01\n",
       "에이즈감염률(%)       9.444444e-02\n",
       "석유생산량           5.013835e+05\n",
       "dtype: float64"
      ]
     },
     "execution_count": 32,
     "metadata": {},
     "output_type": "execute_result"
    }
   ],
   "source": [
    "oecd_mean"
   ]
  },
  {
   "cell_type": "code",
   "execution_count": 33,
   "metadata": {},
   "outputs": [
    {
     "data": {
      "text/plain": [
       "array([29.46666667])"
      ]
     },
     "execution_count": 33,
     "metadata": {},
     "output_type": "execute_result"
    }
   ],
   "source": [
    "dd = oecd_mean[2:]\n",
    "dd2=np.array(dd)\n",
    "tree.predict(dd2.reshape(-1,17))"
   ]
  },
  {
   "cell_type": "markdown",
   "metadata": {},
   "source": [
    "oecd 평균 순위는 26위이고 랜덤포레스트는 29.46위로 예측했다."
   ]
  },
  {
   "cell_type": "markdown",
   "metadata": {},
   "source": [
    "### 한국의 지표가 다음과 같이 바뀌었다고 가정하자. 각 개선치는 oecd 평균에 맞추었다.\n",
    "대한민국의 GDP는 27위이고 랜덤포레스트는 32.73위로 예측했다."
   ]
  },
  {
   "cell_type": "code",
   "execution_count": 35,
   "metadata": {},
   "outputs": [
    {
     "data": {
      "text/plain": [
       "array([32.73333333])"
      ]
     },
     "execution_count": 35,
     "metadata": {},
     "output_type": "execute_result"
    }
   ],
   "source": [
    "# 순서대로 인지도, 지역, 정치체제, 최상위 교육기관, 복무기간, 인구, 크기, 기대수명, 출산율, 10만명당 자살율,\n",
    "# 언론자유지수, 민주주의지수,청렴도,실업률, 면적 대비 해안선 비율, 에이즈 감염률, 석유생산량\n",
    "\n",
    "# 징병제 폐지\n",
    "\n",
    "korea_updated = np.array([1280000000, 4, 1, 1, 0, 51780579, 100378, 83.31,\n",
    "       1.2, 26.5, 24.94, 8.0, 57.0, 4.9, 24.242, 0.0, 1000], dtype=object)\n",
    "tree.predict(korea_updated.reshape(-1,17))"
   ]
  },
  {
   "cell_type": "code",
   "execution_count": 36,
   "metadata": {},
   "outputs": [
    {
     "data": {
      "text/plain": [
       "array([32.86666667])"
      ]
     },
     "execution_count": 36,
     "metadata": {},
     "output_type": "execute_result"
    }
   ],
   "source": [
    "# 출산율 증가\n",
    "\n",
    "korea_updated = np.array([1280000000, 4, 1, 1, 3, 51780579, 100378, 83.31,\n",
    "       1.2+0.475, 26.5, 24.94, 8.0, 57.0, 4.9, 24.242, 0.0, 1000], dtype=object)\n",
    "tree.predict(korea_updated.reshape(-1,17))"
   ]
  },
  {
   "cell_type": "code",
   "execution_count": 37,
   "metadata": {},
   "outputs": [
    {
     "data": {
      "text/plain": [
       "array([31.86666667])"
      ]
     },
     "execution_count": 37,
     "metadata": {},
     "output_type": "execute_result"
    }
   ],
   "source": [
    "# 자살율 감소\n",
    "\n",
    "korea_updated = np.array([1280000000, 4, 1, 1, 3, 51780579, 100378, 83.31,\n",
    "       1.2, 26.5-14.825, 24.94, 8.0, 57.0, 4.9, 24.242, 0.0, 1000], dtype=object)\n",
    "tree.predict(korea_updated.reshape(-1,17))"
   ]
  },
  {
   "cell_type": "code",
   "execution_count": 38,
   "metadata": {},
   "outputs": [
    {
     "data": {
      "text/plain": [
       "array([32.73333333])"
      ]
     },
     "execution_count": 38,
     "metadata": {},
     "output_type": "execute_result"
    }
   ],
   "source": [
    "# 언론자유지수의 개선\n",
    "\n",
    "korea_updated = np.array([1280000000, 4, 1, 1, 3, 51780579, 100378, 83.31,\n",
    "       1.2, 26.5, 24.94-4.48083, 8.0, 57.0, 4.9, 24.242, 0.0, 1000], dtype=object)\n",
    "tree.predict(korea_updated.reshape(-1,17))"
   ]
  },
  {
   "cell_type": "code",
   "execution_count": 39,
   "metadata": {},
   "outputs": [
    {
     "data": {
      "text/plain": [
       "array([33.])"
      ]
     },
     "execution_count": 39,
     "metadata": {},
     "output_type": "execute_result"
    }
   ],
   "source": [
    "# 민주주의지수의 개선\n",
    "\n",
    "korea_updated = np.array([1280000000, 4, 1, 1, 3, 51780579, 100378, 83.31,\n",
    "       1.2, 26.5, 24.94, 8.0+0.0913889, 57.0, 4.9, 24.242, 0.0, 1000], dtype=object)\n",
    "tree.predict(korea_updated.reshape(-1,17))"
   ]
  },
  {
   "cell_type": "code",
   "execution_count": 40,
   "metadata": {},
   "outputs": [
    {
     "data": {
      "text/plain": [
       "array([25.6])"
      ]
     },
     "execution_count": 40,
     "metadata": {},
     "output_type": "execute_result"
    }
   ],
   "source": [
    "# 청렴도의 개선\n",
    "\n",
    "korea_updated = np.array([1280000000, 4, 1, 1, 3, 51780579, 100378, 83.31,\n",
    "       1.2, 26.5, 24.94, 8.0, 57.0+11.3509, 4.9, 24.242, 0.0, 1000], dtype=object)\n",
    "tree.predict(korea_updated.reshape(-1,17))"
   ]
  },
  {
   "cell_type": "code",
   "execution_count": 41,
   "metadata": {},
   "outputs": [
    {
     "data": {
      "text/plain": [
       "array([32.73333333])"
      ]
     },
     "execution_count": 41,
     "metadata": {},
     "output_type": "execute_result"
    }
   ],
   "source": [
    "# 실업률의 악화\n",
    "\n",
    "korea_updated = np.array([1280000000, 4, 1, 1, 3, 51780579, 100378, 83.31,\n",
    "       1.2, 26.5, 24.94, 8.0, 57.0, 4.9+1.85833, 24.242, 0.0, 1000], dtype=object)\n",
    "tree.predict(korea_updated.reshape(-1,17))"
   ]
  },
  {
   "cell_type": "code",
   "execution_count": 42,
   "metadata": {},
   "outputs": [
    {
     "data": {
      "text/plain": [
       "array([32.93333333])"
      ]
     },
     "execution_count": 42,
     "metadata": {},
     "output_type": "execute_result"
    }
   ],
   "source": [
    "# 석유생산량의 증가\n",
    "\n",
    "korea_updated = np.array([1280000000, 4, 1, 1, 3, 51780579, 100378, 83.31,\n",
    "       1.2, 26.5, 24.94, 8.0, 57.0, 4.9, 24.242, 0.0, 1000+500383], dtype=object)\n",
    "tree.predict(korea_updated.reshape(-1,17))"
   ]
  },
  {
   "cell_type": "markdown",
   "metadata": {},
   "source": [
    "모델의 예측은 데이터셋의 수치적인 측면만을 반영한 것으로써 각 지표의 의미를 완벽하게 담고 있다 보기는 어렵다."
   ]
  },
  {
   "cell_type": "markdown",
   "metadata": {},
   "source": [
    "## 청렴도를 개선했을 때의 영향이 매우 큰 것을 알 수 있다.\n",
    "### 공직자 윤리 개선을 목표로 정책을 수립하다보면 경제분야에서도 큰 성과가 있다는 결론이 나온다."
   ]
  },
  {
   "cell_type": "code",
   "execution_count": null,
   "metadata": {},
   "outputs": [],
   "source": [
    "# 자연적인 조건들 외 인지도 포함 뒤쳐지는 모든 부분을 oecd 수준으로 끌어올렸을 때\n",
    "\n",
    "korea_updated = np.array([1610000000+3.07389e+08, 4, 1, 1, 0, 51780579, 100378, 83.31,\n",
    "       1.2+0.475, 26.5-14.825, 24.94-4.48083, 8.0+0.0913889, 57.0+11.3509, 4.9, 24.242, 0.0, 1000+500383], dtype=object)\n",
    "tree.predict(korea_updated.reshape(-1,17))"
   ]
  },
  {
   "cell_type": "markdown",
   "metadata": {},
   "source": [
    "랜덤 포레스트가 잘못 예측한 것이 32.06위인 것으로 미루어보아 자연적인 조건을 제외하고 모든 것을 oecd 평균까지 끌어올린다면 20위권 안쪽까지 진입할 수 있을 것으로 예상된다."
   ]
  },
  {
   "cell_type": "markdown",
   "metadata": {},
   "source": [
    "### 대한민국이 통일되었을 때의 순위 역시 예측해보자. \n",
    "### 면적, 인구 등은 남북한을 단순히 합쳤고 사회적 수치들은 대한민국 수준까지 끌어올렸다 가정했다."
   ]
  },
  {
   "cell_type": "code",
   "execution_count": 44,
   "metadata": {},
   "outputs": [
    {
     "data": {
      "text/plain": [
       "array([32.93333333])"
      ]
     },
     "execution_count": 44,
     "metadata": {},
     "output_type": "execute_result"
    }
   ],
   "source": [
    "# 징병제 폐지\n",
    "# 인구 증가\n",
    "# 면적의 증가\n",
    "# 해안선 길이 변화\n",
    "\n",
    "\n",
    "korea_updated = np.array([1610000000, 4, 1, 1, 0, 51780579+25750000, 100378+123138, 83.31,\n",
    "       1.2, 26.5, 24.94, 8.0, 57.0, 4.9, 22.078, 0.0, 1000], dtype=object)\n",
    "tree.predict(korea_updated.reshape(-1,17))"
   ]
  },
  {
   "cell_type": "code",
   "execution_count": 45,
   "metadata": {},
   "outputs": [
    {
     "data": {
      "text/plain": [
       "array([23.33333333])"
      ]
     },
     "execution_count": 45,
     "metadata": {},
     "output_type": "execute_result"
    }
   ],
   "source": [
    "# 통일 후 oecd 평균 수준의 사회적 제반을 갖추고 있을 때\n",
    "\n",
    "korea_updated = np.array([1610000000+3.07389e+08, 4, 1, 1, 0, 51780579+25750000, 100378+123138, 83.31,\n",
    "       1.2+0.475, 26.5-14.825, 24.94-4.48083, 8.0+0.0913889, 57.0+11.3509, 4.9, 22.078, 0.0, 1000+500383], dtype=object)\n",
    "tree.predict(korea_updated.reshape(-1,17))"
   ]
  },
  {
   "cell_type": "markdown",
   "metadata": {},
   "source": [
    "아쉽지만 약간 낮은 수치로 예측된다.\n",
    "\n",
    "넓은 면적에서 오는 잠재력은 분명 긍정적 영향을 미칠 수 있지만 땅이 넓은 아프리카 국가들의 수치를 반영하다보니 예측에 하락세를 가져온 듯 하다."
   ]
  },
  {
   "cell_type": "code",
   "execution_count": null,
   "metadata": {},
   "outputs": [],
   "source": []
  }
 ],
 "metadata": {
  "kernelspec": {
   "display_name": "Python 3",
   "language": "python",
   "name": "python3"
  },
  "language_info": {
   "codemirror_mode": {
    "name": "ipython",
    "version": 3
   },
   "file_extension": ".py",
   "mimetype": "text/x-python",
   "name": "python",
   "nbconvert_exporter": "python",
   "pygments_lexer": "ipython3",
   "version": "3.7.4"
  }
 },
 "nbformat": 4,
 "nbformat_minor": 2
}
