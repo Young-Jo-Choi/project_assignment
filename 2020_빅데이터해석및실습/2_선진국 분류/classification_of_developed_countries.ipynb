{
 "cells": [
  {
   "cell_type": "code",
   "execution_count": 2,
   "metadata": {},
   "outputs": [],
   "source": [
    "import numpy as np\n",
    "import pandas as pd"
   ]
  },
  {
   "cell_type": "code",
   "execution_count": 3,
   "metadata": {},
   "outputs": [],
   "source": [
    "import requests\n",
    "from bs4 import BeautifulSoup"
   ]
  },
  {
   "cell_type": "markdown",
   "metadata": {},
   "source": [
    "# 데이터 수집"
   ]
  },
  {
   "cell_type": "markdown",
   "metadata": {},
   "source": [
    "## 유엔 회원국\n",
    "193개국"
   ]
  },
  {
   "cell_type": "code",
   "execution_count": 3,
   "metadata": {},
   "outputs": [],
   "source": [
    "url = 'https://ko.wikipedia.org/wiki/유엔_회원국'"
   ]
  },
  {
   "cell_type": "code",
   "execution_count": 4,
   "metadata": {},
   "outputs": [],
   "source": [
    "page = requests.get(url)\n",
    "soup = BeautifulSoup(page.text, 'html.parser')"
   ]
  },
  {
   "cell_type": "code",
   "execution_count": 5,
   "metadata": {},
   "outputs": [
    {
     "data": {
      "text/plain": [
       "723"
      ]
     },
     "execution_count": 5,
     "metadata": {},
     "output_type": "execute_result"
    }
   ],
   "source": [
    "document1 = soup.find_all('td')\n",
    "len(document1)"
   ]
  },
  {
   "cell_type": "code",
   "execution_count": 6,
   "metadata": {},
   "outputs": [
    {
     "data": {
      "text/plain": [
       "' 가나'"
      ]
     },
     "execution_count": 6,
     "metadata": {},
     "output_type": "execute_result"
    }
   ],
   "source": [
    "document1[0].text"
   ]
  },
  {
   "cell_type": "code",
   "execution_count": 7,
   "metadata": {},
   "outputs": [
    {
     "data": {
      "text/plain": [
       "'1957년 3월 8일\\n'"
      ]
     },
     "execution_count": 7,
     "metadata": {},
     "output_type": "execute_result"
    }
   ],
   "source": [
    "document1[1].text"
   ]
  },
  {
   "cell_type": "code",
   "execution_count": 8,
   "metadata": {},
   "outputs": [
    {
     "data": {
      "text/plain": [
       "' 가봉'"
      ]
     },
     "execution_count": 8,
     "metadata": {},
     "output_type": "execute_result"
    }
   ],
   "source": [
    "document1[2].text"
   ]
  },
  {
   "cell_type": "code",
   "execution_count": 9,
   "metadata": {},
   "outputs": [
    {
     "data": {
      "text/plain": [
       "'1960년 9월 20일\\n'"
      ]
     },
     "execution_count": 9,
     "metadata": {},
     "output_type": "execute_result"
    }
   ],
   "source": [
    "document1[3].text"
   ]
  },
  {
   "cell_type": "code",
   "execution_count": 10,
   "metadata": {},
   "outputs": [
    {
     "data": {
      "text/plain": [
       "'가이아나'"
      ]
     },
     "execution_count": 10,
     "metadata": {},
     "output_type": "execute_result"
    }
   ],
   "source": [
    "document1[4].text.strip()"
   ]
  },
  {
   "cell_type": "code",
   "execution_count": 11,
   "metadata": {},
   "outputs": [
    {
     "data": {
      "text/plain": [
       "'감비아[1]'"
      ]
     },
     "execution_count": 11,
     "metadata": {},
     "output_type": "execute_result"
    }
   ],
   "source": [
    "document1[6].text.strip()"
   ]
  },
  {
   "cell_type": "code",
   "execution_count": 12,
   "metadata": {},
   "outputs": [
    {
     "data": {
      "text/plain": [
       "'독일동독과 서독 참조'"
      ]
     },
     "execution_count": 12,
     "metadata": {},
     "output_type": "execute_result"
    }
   ],
   "source": [
    "document1[48].text.strip()"
   ]
  },
  {
   "cell_type": "code",
   "execution_count": 13,
   "metadata": {},
   "outputs": [
    {
     "data": {
      "text/plain": [
       "' 헝가리'"
      ]
     },
     "execution_count": 13,
     "metadata": {},
     "output_type": "execute_result"
    }
   ],
   "source": [
    "document1[384].text"
   ]
  },
  {
   "cell_type": "code",
   "execution_count": 14,
   "metadata": {},
   "outputs": [
    {
     "name": "stdout",
     "output_type": "stream",
     "text": [
      "10월 24일\n",
      "3월 8일\n"
     ]
    }
   ],
   "source": [
    "print(document1[387].text)\n",
    "print(document1[501].text)"
   ]
  },
  {
   "cell_type": "markdown",
   "metadata": {},
   "source": [
    "document1 리스트의 384번째 원소까지에 회원국이 담겨있고 짝수번째 원소가 국가명에 관한 것임. 그 이후는 신경쓰지 않아도 됨<br>\n",
    "감비아[1] 과 같은 표기가 있으니 [1]등을 제거해야한다.<br>\n",
    "\n",
    "독일동독과 서독 참조와 같은 표기는 차후 수정"
   ]
  },
  {
   "cell_type": "code",
   "execution_count": 15,
   "metadata": {},
   "outputs": [
    {
     "name": "stdout",
     "output_type": "stream",
     "text": [
      "193\n",
      "['가나', '가봉', '가이아나', '감비아', '과테말라', '그레나다', '그리스', '기니']\n"
     ]
    }
   ],
   "source": [
    "un_list = []\n",
    "for i in range(193):\n",
    "    # 중간 띄어쓰기 생략\n",
    "    nation =  document1[2*i].text.replace(' ','')\n",
    "    if nation[-1] == ']':\n",
    "        temp_list = nation.split('[')\n",
    "        nation = temp_list[0]\n",
    "    un_list.append(nation)\n",
    "\n",
    "print(len(un_list))    \n",
    "print(un_list[:8])\n"
   ]
  },
  {
   "cell_type": "code",
   "execution_count": 16,
   "metadata": {},
   "outputs": [
    {
     "data": {
      "text/plain": [
       "0        가나\n",
       "1        가봉\n",
       "2      가이아나\n",
       "3       감비아\n",
       "4      과테말라\n",
       "       ... \n",
       "188     프랑스\n",
       "189      피지\n",
       "190     핀란드\n",
       "191     필리핀\n",
       "192     헝가리\n",
       "Length: 193, dtype: object"
      ]
     },
     "execution_count": 16,
     "metadata": {},
     "output_type": "execute_result"
    }
   ],
   "source": [
    "un_series = pd.Series(un_list)\n",
    "un_series"
   ]
  },
  {
   "cell_type": "markdown",
   "metadata": {},
   "source": [
    "## 1인당 GDP\n",
    "2019년 국제통화기금"
   ]
  },
  {
   "cell_type": "code",
   "execution_count": 17,
   "metadata": {},
   "outputs": [],
   "source": [
    "url = 'https://ko.wikipedia.org/wiki/일인당_명목_국내_총생산순_나라_목록'"
   ]
  },
  {
   "cell_type": "code",
   "execution_count": 18,
   "metadata": {},
   "outputs": [],
   "source": [
    "page = requests.get(url)\n",
    "soup = BeautifulSoup(page.text, 'html.parser')"
   ]
  },
  {
   "cell_type": "code",
   "execution_count": 19,
   "metadata": {},
   "outputs": [],
   "source": [
    "# 원래 soup.prettify()를 조회해 확인하였으나 파일의 용량을 너무 크게 차지하는 관계로 주석처리하였습니다.\n",
    "# 아래 주석 처리된 셀들도 모두 마찬가지입니다."
   ]
  },
  {
   "cell_type": "code",
   "execution_count": 20,
   "metadata": {},
   "outputs": [],
   "source": [
    "gdp = list(soup.children)[3]"
   ]
  },
  {
   "cell_type": "code",
   "execution_count": 21,
   "metadata": {},
   "outputs": [],
   "source": [
    "# gdp.find_all('tbody')[1].find_all('tr')"
   ]
  },
  {
   "cell_type": "code",
   "execution_count": 22,
   "metadata": {},
   "outputs": [],
   "source": [
    "gdp_doc = gdp.find_all('tbody')[1].find_all('tr')[1]"
   ]
  },
  {
   "cell_type": "code",
   "execution_count": 23,
   "metadata": {},
   "outputs": [],
   "source": [
    "# gdp_doc"
   ]
  },
  {
   "cell_type": "code",
   "execution_count": 24,
   "metadata": {},
   "outputs": [
    {
     "data": {
      "text/plain": [
       "'1'"
      ]
     },
     "execution_count": 24,
     "metadata": {},
     "output_type": "execute_result"
    }
   ],
   "source": [
    "gdp_doc.find_all('td')[1].text"
   ]
  },
  {
   "cell_type": "code",
   "execution_count": 25,
   "metadata": {},
   "outputs": [
    {
     "data": {
      "text/plain": [
       "' 룩셈부르크'"
      ]
     },
     "execution_count": 25,
     "metadata": {},
     "output_type": "execute_result"
    }
   ],
   "source": [
    "gdp_doc.find_all('td')[2].text"
   ]
  },
  {
   "cell_type": "code",
   "execution_count": 26,
   "metadata": {},
   "outputs": [
    {
     "data": {
      "text/plain": [
       "'113,196\\n'"
      ]
     },
     "execution_count": 26,
     "metadata": {},
     "output_type": "execute_result"
    }
   ],
   "source": [
    "gdp_doc.find_all('td')[3].text"
   ]
  },
  {
   "cell_type": "code",
   "execution_count": 27,
   "metadata": {},
   "outputs": [
    {
     "data": {
      "text/plain": [
       "<td>2</td>"
      ]
     },
     "execution_count": 27,
     "metadata": {},
     "output_type": "execute_result"
    }
   ],
   "source": [
    "gdp_doc.find_all('td')[4]"
   ]
  },
  {
   "cell_type": "markdown",
   "metadata": {},
   "source": [
    "국가별로 리스트의 3개씩 원소 차지<br>\n",
    "위키항목을 확인하면 남수단이 제일 마지막이므로 while문을 이용해 정보를 가져올 수 있다. "
   ]
  },
  {
   "cell_type": "code",
   "execution_count": 28,
   "metadata": {},
   "outputs": [
    {
     "name": "stdout",
     "output_type": "stream",
     "text": [
      "191 191\n"
     ]
    }
   ],
   "source": [
    "nation = []\n",
    "gdp = []\n",
    "info = gdp_doc.find_all('td')\n",
    "\n",
    "i = 1\n",
    "name = 'aa'\n",
    "while name != '남수단':\n",
    "    # 중간 띄어쓰기 생략\n",
    "    name = info[(3*i)-1].text.replace(' ','')\n",
    "    money = info[3*i].text[:-1].replace(',','')\n",
    "    nation.append(name)\n",
    "    gdp.append(int(money))\n",
    "    i+=1\n",
    "\n",
    "print(len(nation),len(gdp))    "
   ]
  },
  {
   "cell_type": "code",
   "execution_count": 29,
   "metadata": {},
   "outputs": [
    {
     "name": "stdout",
     "output_type": "stream",
     "text": [
      "['룩셈부르크', '스위스', '마카오', '노르웨이', '아일랜드']\n",
      "[113196, 83717, 81151, 77975, 77771]\n"
     ]
    }
   ],
   "source": [
    "print(nation[:5])\n",
    "print(gdp[:5])"
   ]
  },
  {
   "cell_type": "code",
   "execution_count": 30,
   "metadata": {},
   "outputs": [],
   "source": [
    "gdp_df = pd.DataFrame(np.array([nation,gdp]).T,columns=['국가','gdp'])"
   ]
  },
  {
   "cell_type": "code",
   "execution_count": 31,
   "metadata": {},
   "outputs": [
    {
     "data": {
      "text/html": [
       "<div>\n",
       "<style scoped>\n",
       "    .dataframe tbody tr th:only-of-type {\n",
       "        vertical-align: middle;\n",
       "    }\n",
       "\n",
       "    .dataframe tbody tr th {\n",
       "        vertical-align: top;\n",
       "    }\n",
       "\n",
       "    .dataframe thead th {\n",
       "        text-align: right;\n",
       "    }\n",
       "</style>\n",
       "<table border=\"1\" class=\"dataframe\">\n",
       "  <thead>\n",
       "    <tr style=\"text-align: right;\">\n",
       "      <th></th>\n",
       "      <th>국가</th>\n",
       "      <th>gdp</th>\n",
       "    </tr>\n",
       "  </thead>\n",
       "  <tbody>\n",
       "    <tr>\n",
       "      <td>0</td>\n",
       "      <td>룩셈부르크</td>\n",
       "      <td>113196</td>\n",
       "    </tr>\n",
       "    <tr>\n",
       "      <td>1</td>\n",
       "      <td>스위스</td>\n",
       "      <td>83717</td>\n",
       "    </tr>\n",
       "    <tr>\n",
       "      <td>2</td>\n",
       "      <td>마카오</td>\n",
       "      <td>81151</td>\n",
       "    </tr>\n",
       "    <tr>\n",
       "      <td>3</td>\n",
       "      <td>노르웨이</td>\n",
       "      <td>77975</td>\n",
       "    </tr>\n",
       "    <tr>\n",
       "      <td>4</td>\n",
       "      <td>아일랜드</td>\n",
       "      <td>77771</td>\n",
       "    </tr>\n",
       "    <tr>\n",
       "      <td>...</td>\n",
       "      <td>...</td>\n",
       "      <td>...</td>\n",
       "    </tr>\n",
       "    <tr>\n",
       "      <td>186</td>\n",
       "      <td>니제르</td>\n",
       "      <td>405</td>\n",
       "    </tr>\n",
       "    <tr>\n",
       "      <td>187</td>\n",
       "      <td>말라위</td>\n",
       "      <td>371</td>\n",
       "    </tr>\n",
       "    <tr>\n",
       "      <td>188</td>\n",
       "      <td>에리트레아</td>\n",
       "      <td>343</td>\n",
       "    </tr>\n",
       "    <tr>\n",
       "      <td>189</td>\n",
       "      <td>부룬디</td>\n",
       "      <td>310</td>\n",
       "    </tr>\n",
       "    <tr>\n",
       "      <td>190</td>\n",
       "      <td>남수단</td>\n",
       "      <td>275</td>\n",
       "    </tr>\n",
       "  </tbody>\n",
       "</table>\n",
       "<p>191 rows × 2 columns</p>\n",
       "</div>"
      ],
      "text/plain": [
       "        국가     gdp\n",
       "0    룩셈부르크  113196\n",
       "1      스위스   83717\n",
       "2      마카오   81151\n",
       "3     노르웨이   77975\n",
       "4     아일랜드   77771\n",
       "..     ...     ...\n",
       "186    니제르     405\n",
       "187    말라위     371\n",
       "188  에리트레아     343\n",
       "189    부룬디     310\n",
       "190    남수단     275\n",
       "\n",
       "[191 rows x 2 columns]"
      ]
     },
     "execution_count": 31,
     "metadata": {},
     "output_type": "execute_result"
    }
   ],
   "source": [
    "gdp_df"
   ]
  },
  {
   "cell_type": "markdown",
   "metadata": {},
   "source": [
    "## 평균수명\n",
    "유엔이 발표한 2015~2020년 각국의 기대수명 순위이다. 성별로 따로 집계돼 있기도 하지만 따로 고려하지 않도록 한다."
   ]
  },
  {
   "cell_type": "code",
   "execution_count": 32,
   "metadata": {},
   "outputs": [],
   "source": [
    "url = 'https://ko.wikipedia.org/wiki/평균_수명순_나라_목록'\n",
    "page = requests.get(url)\n",
    "soup = BeautifulSoup(page.text, 'html.parser')"
   ]
  },
  {
   "cell_type": "code",
   "execution_count": 33,
   "metadata": {},
   "outputs": [],
   "source": [
    "exp_life_list = list(soup.children)[3].find_all('tr')"
   ]
  },
  {
   "cell_type": "code",
   "execution_count": 34,
   "metadata": {},
   "outputs": [
    {
     "data": {
      "text/plain": [
       "<tr>\n",
       "<th>순위</th>\n",
       "<th>국가/영토</th>\n",
       "<th>전체</th>\n",
       "<th>남성</th>\n",
       "<th>여성\n",
       "</th></tr>"
      ]
     },
     "execution_count": 34,
     "metadata": {},
     "output_type": "execute_result"
    }
   ],
   "source": [
    "exp_life_list[0]"
   ]
  },
  {
   "cell_type": "code",
   "execution_count": 35,
   "metadata": {},
   "outputs": [
    {
     "data": {
      "text/plain": [
       "<tr>\n",
       "<td>1</td>\n",
       "<td><span class=\"flagicon\"><a class=\"image\" href=\"/wiki/%ED%8C%8C%EC%9D%BC:Flag_of_Japan.svg\" title=\"일본\"><img alt=\"일본\" class=\"thumbborder\" data-file-height=\"600\" data-file-width=\"900\" decoding=\"async\" height=\"15\" src=\"//upload.wikimedia.org/wikipedia/commons/thumb/9/9e/Flag_of_Japan.svg/22px-Flag_of_Japan.svg.png\" srcset=\"//upload.wikimedia.org/wikipedia/commons/thumb/9/9e/Flag_of_Japan.svg/33px-Flag_of_Japan.svg.png 1.5x, //upload.wikimedia.org/wikipedia/commons/thumb/9/9e/Flag_of_Japan.svg/44px-Flag_of_Japan.svg.png 2x\" width=\"22\"/></a></span> <a href=\"/wiki/%EC%9D%BC%EB%B3%B8\" title=\"일본\">일본</a></td>\n",
       "<td>84.74</td>\n",
       "<td>81.91</td>\n",
       "<td>87.58\n",
       "</td></tr>"
      ]
     },
     "execution_count": 35,
     "metadata": {},
     "output_type": "execute_result"
    }
   ],
   "source": [
    "exp_life_list[1]"
   ]
  },
  {
   "cell_type": "code",
   "execution_count": 36,
   "metadata": {},
   "outputs": [
    {
     "data": {
      "text/plain": [
       "[<td>2</td>,\n",
       " <td><span class=\"flagicon\"><a class=\"image\" href=\"/wiki/%ED%8C%8C%EC%9D%BC:Flag_of_South_Korea.svg\" title=\"대한민국\"><img alt=\"대한민국\" class=\"thumbborder\" data-file-height=\"600\" data-file-width=\"900\" decoding=\"async\" height=\"15\" src=\"//upload.wikimedia.org/wikipedia/commons/thumb/0/09/Flag_of_South_Korea.svg/22px-Flag_of_South_Korea.svg.png\" srcset=\"//upload.wikimedia.org/wikipedia/commons/thumb/0/09/Flag_of_South_Korea.svg/33px-Flag_of_South_Korea.svg.png 1.5x, //upload.wikimedia.org/wikipedia/commons/thumb/0/09/Flag_of_South_Korea.svg/44px-Flag_of_South_Korea.svg.png 2x\" width=\"22\"/></a></span> <a href=\"/wiki/%EB%8C%80%ED%95%9C%EB%AF%BC%EA%B5%AD\" title=\"대한민국\">대한민국</a></td>,\n",
       " <td>83.31</td>,\n",
       " <td>80.00</td>,\n",
       " <td>86.49\n",
       " </td>]"
      ]
     },
     "execution_count": 36,
     "metadata": {},
     "output_type": "execute_result"
    }
   ],
   "source": [
    "exp_life_list[2].find_all('td')"
   ]
  },
  {
   "cell_type": "code",
   "execution_count": 37,
   "metadata": {},
   "outputs": [
    {
     "data": {
      "text/plain": [
       "' 대한민국'"
      ]
     },
     "execution_count": 37,
     "metadata": {},
     "output_type": "execute_result"
    }
   ],
   "source": [
    "exp_life_list[2].find_all('td')[1].text"
   ]
  },
  {
   "cell_type": "code",
   "execution_count": 38,
   "metadata": {},
   "outputs": [
    {
     "data": {
      "text/plain": [
       "'83.31'"
      ]
     },
     "execution_count": 38,
     "metadata": {},
     "output_type": "execute_result"
    }
   ],
   "source": [
    "exp_life_list[2].find_all('td')[2].text"
   ]
  },
  {
   "cell_type": "code",
   "execution_count": 39,
   "metadata": {},
   "outputs": [
    {
     "data": {
      "text/plain": [
       "407"
      ]
     },
     "execution_count": 39,
     "metadata": {},
     "output_type": "execute_result"
    }
   ],
   "source": [
    "len(exp_life_list)"
   ]
  },
  {
   "cell_type": "markdown",
   "metadata": {},
   "source": [
    "문서내에는 407개 정도가 입력한 태그와 일치하는 것 같으나 201개만 조회하면 된다."
   ]
  },
  {
   "cell_type": "code",
   "execution_count": 40,
   "metadata": {},
   "outputs": [],
   "source": [
    "nation = []\n",
    "life = []\n",
    "\n",
    "for i in range(1,202):\n",
    "    # 중간 띄어쓰기 생략\n",
    "    name = exp_life_list[i].find_all('td')[1].text.replace(' ','')\n",
    "    num = exp_life_list[i].find_all('td')[2].text\n",
    "    nation.append(name)\n",
    "    life.append(float(num))"
   ]
  },
  {
   "cell_type": "code",
   "execution_count": 41,
   "metadata": {},
   "outputs": [
    {
     "name": "stdout",
     "output_type": "stream",
     "text": [
      "201\n",
      "201\n"
     ]
    }
   ],
   "source": [
    "print(len(nation))\n",
    "print(len(life))"
   ]
  },
  {
   "cell_type": "code",
   "execution_count": 42,
   "metadata": {},
   "outputs": [
    {
     "data": {
      "text/plain": [
       "'스와질란드'"
      ]
     },
     "execution_count": 42,
     "metadata": {},
     "output_type": "execute_result"
    }
   ],
   "source": [
    "# 잘 스크래핑된 것 확인\n",
    "nation[-1]"
   ]
  },
  {
   "cell_type": "code",
   "execution_count": 43,
   "metadata": {},
   "outputs": [
    {
     "data": {
      "text/html": [
       "<div>\n",
       "<style scoped>\n",
       "    .dataframe tbody tr th:only-of-type {\n",
       "        vertical-align: middle;\n",
       "    }\n",
       "\n",
       "    .dataframe tbody tr th {\n",
       "        vertical-align: top;\n",
       "    }\n",
       "\n",
       "    .dataframe thead th {\n",
       "        text-align: right;\n",
       "    }\n",
       "</style>\n",
       "<table border=\"1\" class=\"dataframe\">\n",
       "  <thead>\n",
       "    <tr style=\"text-align: right;\">\n",
       "      <th></th>\n",
       "      <th>국가</th>\n",
       "      <th>평균수명</th>\n",
       "    </tr>\n",
       "  </thead>\n",
       "  <tbody>\n",
       "    <tr>\n",
       "      <td>0</td>\n",
       "      <td>일본</td>\n",
       "      <td>84.74</td>\n",
       "    </tr>\n",
       "    <tr>\n",
       "      <td>1</td>\n",
       "      <td>대한민국</td>\n",
       "      <td>83.31</td>\n",
       "    </tr>\n",
       "    <tr>\n",
       "      <td>2</td>\n",
       "      <td>이탈리아</td>\n",
       "      <td>82.84</td>\n",
       "    </tr>\n",
       "    <tr>\n",
       "      <td>3</td>\n",
       "      <td>스위스</td>\n",
       "      <td>82.66</td>\n",
       "    </tr>\n",
       "    <tr>\n",
       "      <td>4</td>\n",
       "      <td>싱가포르</td>\n",
       "      <td>82.64</td>\n",
       "    </tr>\n",
       "    <tr>\n",
       "      <td>...</td>\n",
       "      <td>...</td>\n",
       "      <td>...</td>\n",
       "    </tr>\n",
       "    <tr>\n",
       "      <td>196</td>\n",
       "      <td>코트디부아르</td>\n",
       "      <td>50.97</td>\n",
       "    </tr>\n",
       "    <tr>\n",
       "      <td>197</td>\n",
       "      <td>시에라리온</td>\n",
       "      <td>50.19</td>\n",
       "    </tr>\n",
       "    <tr>\n",
       "      <td>198</td>\n",
       "      <td>중앙아프리카공화국</td>\n",
       "      <td>49.53</td>\n",
       "    </tr>\n",
       "    <tr>\n",
       "      <td>199</td>\n",
       "      <td>레소토</td>\n",
       "      <td>49.5</td>\n",
       "    </tr>\n",
       "    <tr>\n",
       "      <td>200</td>\n",
       "      <td>스와질란드</td>\n",
       "      <td>49.18</td>\n",
       "    </tr>\n",
       "  </tbody>\n",
       "</table>\n",
       "<p>201 rows × 2 columns</p>\n",
       "</div>"
      ],
      "text/plain": [
       "            국가   평균수명\n",
       "0           일본  84.74\n",
       "1         대한민국  83.31\n",
       "2         이탈리아  82.84\n",
       "3          스위스  82.66\n",
       "4         싱가포르  82.64\n",
       "..         ...    ...\n",
       "196     코트디부아르  50.97\n",
       "197      시에라리온  50.19\n",
       "198  중앙아프리카공화국  49.53\n",
       "199        레소토   49.5\n",
       "200      스와질란드  49.18\n",
       "\n",
       "[201 rows x 2 columns]"
      ]
     },
     "execution_count": 43,
     "metadata": {},
     "output_type": "execute_result"
    }
   ],
   "source": [
    "life_df = pd.DataFrame(np.array([nation,life]).T,columns=['국가','평균수명'])\n",
    "life_df"
   ]
  },
  {
   "cell_type": "markdown",
   "metadata": {},
   "source": [
    "## 언론자유지수\n",
    "국경 없는 기자회(RSF)에서 매년 언론자유지수를 발표한다.<br>\n",
    "'https://rsf.org/en/ranking' 를 통해 자료를 얻을 수도 있지만 위키백과에 2019년 자료가 똑같이 업데이트되어있으니 그것을 이용하도록 한다."
   ]
  },
  {
   "cell_type": "code",
   "execution_count": 44,
   "metadata": {},
   "outputs": [],
   "source": [
    "url = 'https://ko.wikipedia.org/wiki/언론_자유_지수'\n",
    "page = requests.get(url)\n",
    "soup = BeautifulSoup(page.text, 'html.parser')"
   ]
  },
  {
   "cell_type": "code",
   "execution_count": 45,
   "metadata": {},
   "outputs": [],
   "source": [
    "html = list(soup.children)[3]"
   ]
  },
  {
   "cell_type": "code",
   "execution_count": 46,
   "metadata": {},
   "outputs": [
    {
     "data": {
      "text/plain": [
       "' 노르웨이\\n'"
      ]
     },
     "execution_count": 46,
     "metadata": {},
     "output_type": "execute_result"
    }
   ],
   "source": [
    "# html 변수의 4번째에서부터 순위 시작\n",
    "html.find_all('tr')[3].find_all('td')[0].text"
   ]
  },
  {
   "cell_type": "code",
   "execution_count": 47,
   "metadata": {},
   "outputs": [
    {
     "data": {
      "text/plain": [
       "'(001)7,82\\n'"
      ]
     },
     "execution_count": 47,
     "metadata": {},
     "output_type": "execute_result"
    }
   ],
   "source": [
    "html.find_all('tr')[3].find_all('td')[1].text"
   ]
  },
  {
   "cell_type": "code",
   "execution_count": 48,
   "metadata": {},
   "outputs": [
    {
     "name": "stdout",
     "output_type": "stream",
     "text": [
      "180 180\n"
     ]
    }
   ],
   "source": [
    "# 마지막 순위는 투르크메니스탄\n",
    "\n",
    "nation = []\n",
    "press_ = []\n",
    "\n",
    "i = 1\n",
    "name = 'aa'\n",
    "while name != '투르크메니스탄':\n",
    "    info = html.find_all('tr')[i+2].find_all('td')\n",
    "    # 중간 띄어쓰기 생략\n",
    "    name = info[0].text[:-1].replace(' ','')\n",
    "    number = info[1].text[:-1][5:].replace(',','.')\n",
    "    nation.append(name)\n",
    "    press_.append(float(number))\n",
    "    i+=1\n",
    "\n",
    "print(len(nation),len(press_))    "
   ]
  },
  {
   "cell_type": "code",
   "execution_count": 49,
   "metadata": {},
   "outputs": [
    {
     "name": "stdout",
     "output_type": "stream",
     "text": [
      "['노르웨이', '핀란드', '스웨덴', '네덜란드'] [7.82, 7.9, 8.31, 8.63]\n",
      "['중국', '에리트레아', '조선민주주의인민공화국', '투르크메니스탄'] [78.92, 80.26, 83.4, 85.44]\n"
     ]
    }
   ],
   "source": [
    "print(nation[:4],press_[:4])\n",
    "print(nation[-4:],press_[-4:])"
   ]
  },
  {
   "cell_type": "code",
   "execution_count": 50,
   "metadata": {},
   "outputs": [
    {
     "data": {
      "text/html": [
       "<div>\n",
       "<style scoped>\n",
       "    .dataframe tbody tr th:only-of-type {\n",
       "        vertical-align: middle;\n",
       "    }\n",
       "\n",
       "    .dataframe tbody tr th {\n",
       "        vertical-align: top;\n",
       "    }\n",
       "\n",
       "    .dataframe thead th {\n",
       "        text-align: right;\n",
       "    }\n",
       "</style>\n",
       "<table border=\"1\" class=\"dataframe\">\n",
       "  <thead>\n",
       "    <tr style=\"text-align: right;\">\n",
       "      <th></th>\n",
       "      <th>국가</th>\n",
       "      <th>언론자유지수</th>\n",
       "    </tr>\n",
       "  </thead>\n",
       "  <tbody>\n",
       "    <tr>\n",
       "      <td>0</td>\n",
       "      <td>노르웨이</td>\n",
       "      <td>7.82</td>\n",
       "    </tr>\n",
       "    <tr>\n",
       "      <td>1</td>\n",
       "      <td>핀란드</td>\n",
       "      <td>7.9</td>\n",
       "    </tr>\n",
       "    <tr>\n",
       "      <td>2</td>\n",
       "      <td>스웨덴</td>\n",
       "      <td>8.31</td>\n",
       "    </tr>\n",
       "    <tr>\n",
       "      <td>3</td>\n",
       "      <td>네덜란드</td>\n",
       "      <td>8.63</td>\n",
       "    </tr>\n",
       "    <tr>\n",
       "      <td>4</td>\n",
       "      <td>덴마크</td>\n",
       "      <td>9.87</td>\n",
       "    </tr>\n",
       "    <tr>\n",
       "      <td>...</td>\n",
       "      <td>...</td>\n",
       "      <td>...</td>\n",
       "    </tr>\n",
       "    <tr>\n",
       "      <td>175</td>\n",
       "      <td>베트남</td>\n",
       "      <td>74.93</td>\n",
       "    </tr>\n",
       "    <tr>\n",
       "      <td>176</td>\n",
       "      <td>중국</td>\n",
       "      <td>78.92</td>\n",
       "    </tr>\n",
       "    <tr>\n",
       "      <td>177</td>\n",
       "      <td>에리트레아</td>\n",
       "      <td>80.26</td>\n",
       "    </tr>\n",
       "    <tr>\n",
       "      <td>178</td>\n",
       "      <td>조선민주주의인민공화국</td>\n",
       "      <td>83.4</td>\n",
       "    </tr>\n",
       "    <tr>\n",
       "      <td>179</td>\n",
       "      <td>투르크메니스탄</td>\n",
       "      <td>85.44</td>\n",
       "    </tr>\n",
       "  </tbody>\n",
       "</table>\n",
       "<p>180 rows × 2 columns</p>\n",
       "</div>"
      ],
      "text/plain": [
       "              국가 언론자유지수\n",
       "0           노르웨이   7.82\n",
       "1            핀란드    7.9\n",
       "2            스웨덴   8.31\n",
       "3           네덜란드   8.63\n",
       "4            덴마크   9.87\n",
       "..           ...    ...\n",
       "175          베트남  74.93\n",
       "176           중국  78.92\n",
       "177        에리트레아  80.26\n",
       "178  조선민주주의인민공화국   83.4\n",
       "179      투르크메니스탄  85.44\n",
       "\n",
       "[180 rows x 2 columns]"
      ]
     },
     "execution_count": 50,
     "metadata": {},
     "output_type": "execute_result"
    }
   ],
   "source": [
    "press = pd.DataFrame(np.array([nation,press_]).T,columns=['국가','언론자유지수'])\n",
    "press"
   ]
  },
  {
   "cell_type": "markdown",
   "metadata": {},
   "source": [
    "## 민주주의지수\n",
    "영국의 '이코노미스트'에서 발표된 2018년 자료를 기준으로 한다."
   ]
  },
  {
   "cell_type": "code",
   "execution_count": 51,
   "metadata": {},
   "outputs": [],
   "source": [
    "url = 'https://ko.wikipedia.org/wiki/민주주의_지수'\n",
    "page = requests.get(url)\n",
    "soup = BeautifulSoup(page.text, 'html.parser')\n",
    "html = list(soup.children)[3]"
   ]
  },
  {
   "cell_type": "code",
   "execution_count": 52,
   "metadata": {},
   "outputs": [
    {
     "data": {
      "text/plain": [
       "' 노르웨이'"
      ]
     },
     "execution_count": 52,
     "metadata": {},
     "output_type": "execute_result"
    }
   ],
   "source": [
    "# 2에서부터 시작\n",
    "html.find_all('tr')[2].find_all('td')[1].text"
   ]
  },
  {
   "cell_type": "code",
   "execution_count": 53,
   "metadata": {},
   "outputs": [
    {
     "data": {
      "text/plain": [
       "'9.87'"
      ]
     },
     "execution_count": 53,
     "metadata": {},
     "output_type": "execute_result"
    }
   ],
   "source": [
    "html.find_all('tr')[2].find_all('td')[2].text"
   ]
  },
  {
   "cell_type": "code",
   "execution_count": 55,
   "metadata": {},
   "outputs": [
    {
     "name": "stdout",
     "output_type": "stream",
     "text": [
      "167 167\n",
      "['노르웨이', '아이슬란드', '스웨덴', '뉴질랜드'] [9.87, 9.58, 9.39, 9.26]\n",
      "['시리아', '중앙아프리카공화국', '콩고민주공화국', '북한'] [1.43, 1.32, 1.13, 1.08]\n"
     ]
    }
   ],
   "source": [
    "# 마지막 순위는 북한\n",
    "\n",
    "nation = []\n",
    "democ = []\n",
    "\n",
    "i = 1\n",
    "name = 'aa'\n",
    "while name != '북한':\n",
    "    info = html.find_all('tr')[i+1].find_all('td')\n",
    "    # 중간 띄어쓰기 생략\n",
    "    name = info[1].text.replace(\" \",'')\n",
    "    number = info[2].text\n",
    "    nation.append(name)\n",
    "    democ.append(float(number))\n",
    "    i+=1\n",
    "\n",
    "print(len(nation),len(democ))\n",
    "print(nation[:4],democ[:4])\n",
    "print(nation[-4:],democ[-4:])"
   ]
  },
  {
   "cell_type": "code",
   "execution_count": 56,
   "metadata": {},
   "outputs": [
    {
     "data": {
      "text/html": [
       "<div>\n",
       "<style scoped>\n",
       "    .dataframe tbody tr th:only-of-type {\n",
       "        vertical-align: middle;\n",
       "    }\n",
       "\n",
       "    .dataframe tbody tr th {\n",
       "        vertical-align: top;\n",
       "    }\n",
       "\n",
       "    .dataframe thead th {\n",
       "        text-align: right;\n",
       "    }\n",
       "</style>\n",
       "<table border=\"1\" class=\"dataframe\">\n",
       "  <thead>\n",
       "    <tr style=\"text-align: right;\">\n",
       "      <th></th>\n",
       "      <th>국가</th>\n",
       "      <th>민주주의지수</th>\n",
       "    </tr>\n",
       "  </thead>\n",
       "  <tbody>\n",
       "    <tr>\n",
       "      <td>0</td>\n",
       "      <td>노르웨이</td>\n",
       "      <td>9.87</td>\n",
       "    </tr>\n",
       "    <tr>\n",
       "      <td>1</td>\n",
       "      <td>아이슬란드</td>\n",
       "      <td>9.58</td>\n",
       "    </tr>\n",
       "    <tr>\n",
       "      <td>2</td>\n",
       "      <td>스웨덴</td>\n",
       "      <td>9.39</td>\n",
       "    </tr>\n",
       "    <tr>\n",
       "      <td>3</td>\n",
       "      <td>뉴질랜드</td>\n",
       "      <td>9.26</td>\n",
       "    </tr>\n",
       "    <tr>\n",
       "      <td>4</td>\n",
       "      <td>핀란드</td>\n",
       "      <td>9.25</td>\n",
       "    </tr>\n",
       "    <tr>\n",
       "      <td>...</td>\n",
       "      <td>...</td>\n",
       "      <td>...</td>\n",
       "    </tr>\n",
       "    <tr>\n",
       "      <td>162</td>\n",
       "      <td>차드</td>\n",
       "      <td>1.61</td>\n",
       "    </tr>\n",
       "    <tr>\n",
       "      <td>163</td>\n",
       "      <td>시리아</td>\n",
       "      <td>1.43</td>\n",
       "    </tr>\n",
       "    <tr>\n",
       "      <td>164</td>\n",
       "      <td>중앙아프리카공화국</td>\n",
       "      <td>1.32</td>\n",
       "    </tr>\n",
       "    <tr>\n",
       "      <td>165</td>\n",
       "      <td>콩고민주공화국</td>\n",
       "      <td>1.13</td>\n",
       "    </tr>\n",
       "    <tr>\n",
       "      <td>166</td>\n",
       "      <td>북한</td>\n",
       "      <td>1.08</td>\n",
       "    </tr>\n",
       "  </tbody>\n",
       "</table>\n",
       "<p>167 rows × 2 columns</p>\n",
       "</div>"
      ],
      "text/plain": [
       "            국가 민주주의지수\n",
       "0         노르웨이   9.87\n",
       "1        아이슬란드   9.58\n",
       "2          스웨덴   9.39\n",
       "3         뉴질랜드   9.26\n",
       "4          핀란드   9.25\n",
       "..         ...    ...\n",
       "162         차드   1.61\n",
       "163        시리아   1.43\n",
       "164  중앙아프리카공화국   1.32\n",
       "165    콩고민주공화국   1.13\n",
       "166         북한   1.08\n",
       "\n",
       "[167 rows x 2 columns]"
      ]
     },
     "execution_count": 56,
     "metadata": {},
     "output_type": "execute_result"
    }
   ],
   "source": [
    "demo = pd.DataFrame(np.array([nation,democ]).T,columns=['국가','민주주의지수'])\n",
    "demo"
   ]
  },
  {
   "cell_type": "markdown",
   "metadata": {},
   "source": [
    "## 부패인식지수\n",
    "국제투명성기구(TI)에서 2018년 발표한 자료를 출처로 한다.<br>\n",
    "높을수록 부정부패로부터 깨끗한 상태이다."
   ]
  },
  {
   "cell_type": "code",
   "execution_count": 57,
   "metadata": {},
   "outputs": [],
   "source": [
    "url = 'https://ko.wikipedia.org/wiki/부패_인식_지수'\n",
    "page = requests.get(url)\n",
    "soup = BeautifulSoup(page.text, 'html.parser')\n",
    "html = list(soup.children)[3]"
   ]
  },
  {
   "cell_type": "code",
   "execution_count": 58,
   "metadata": {},
   "outputs": [
    {
     "data": {
      "text/plain": [
       "' 덴마크'"
      ]
     },
     "execution_count": 58,
     "metadata": {},
     "output_type": "execute_result"
    }
   ],
   "source": [
    "# 4에서부터 시작\n",
    "html.find_all('tr')[4].find_all('td')[1].text"
   ]
  },
  {
   "cell_type": "code",
   "execution_count": 59,
   "metadata": {},
   "outputs": [
    {
     "data": {
      "text/plain": [
       "'88'"
      ]
     },
     "execution_count": 59,
     "metadata": {},
     "output_type": "execute_result"
    }
   ],
   "source": [
    "html.find_all('tr')[4].find_all('td')[2].text"
   ]
  },
  {
   "cell_type": "code",
   "execution_count": 60,
   "metadata": {},
   "outputs": [
    {
     "name": "stdout",
     "output_type": "stream",
     "text": [
      "169 169\n",
      "['덴마크', '뉴질랜드', '핀란드', '스웨덴'] [88.0, 87.0, 85.0, 85.0]\n",
      "['예멘', '시리아', '남수단', '소말리아'] [14.0, 13.0, 13.0, 10.0]\n"
     ]
    }
   ],
   "source": [
    "# 마지막 순위는 소말리아\n",
    "\n",
    "nation = []\n",
    "corrupt = []\n",
    "\n",
    "i = 1\n",
    "name = 'aa'\n",
    "while name != '소말리아':\n",
    "    info = html.find_all('tr')[3+i].find_all('td')\n",
    "    # 중간 띄어쓰기 생략\n",
    "    name = info[1].text.replace(' ','')\n",
    "    number = info[2].text\n",
    "    nation.append(name)\n",
    "    corrupt.append(float(number))\n",
    "    i+=1\n",
    "\n",
    "print(len(nation),len(corrupt))\n",
    "print(nation[:4],corrupt[:4])\n",
    "print(nation[-4:],corrupt[-4:])"
   ]
  },
  {
   "cell_type": "code",
   "execution_count": 61,
   "metadata": {},
   "outputs": [
    {
     "data": {
      "text/html": [
       "<div>\n",
       "<style scoped>\n",
       "    .dataframe tbody tr th:only-of-type {\n",
       "        vertical-align: middle;\n",
       "    }\n",
       "\n",
       "    .dataframe tbody tr th {\n",
       "        vertical-align: top;\n",
       "    }\n",
       "\n",
       "    .dataframe thead th {\n",
       "        text-align: right;\n",
       "    }\n",
       "</style>\n",
       "<table border=\"1\" class=\"dataframe\">\n",
       "  <thead>\n",
       "    <tr style=\"text-align: right;\">\n",
       "      <th></th>\n",
       "      <th>국가</th>\n",
       "      <th>청렴도</th>\n",
       "    </tr>\n",
       "  </thead>\n",
       "  <tbody>\n",
       "    <tr>\n",
       "      <td>0</td>\n",
       "      <td>덴마크</td>\n",
       "      <td>88.0</td>\n",
       "    </tr>\n",
       "    <tr>\n",
       "      <td>1</td>\n",
       "      <td>뉴질랜드</td>\n",
       "      <td>87.0</td>\n",
       "    </tr>\n",
       "    <tr>\n",
       "      <td>2</td>\n",
       "      <td>핀란드</td>\n",
       "      <td>85.0</td>\n",
       "    </tr>\n",
       "    <tr>\n",
       "      <td>3</td>\n",
       "      <td>스웨덴</td>\n",
       "      <td>85.0</td>\n",
       "    </tr>\n",
       "    <tr>\n",
       "      <td>4</td>\n",
       "      <td>스위스</td>\n",
       "      <td>85.0</td>\n",
       "    </tr>\n",
       "    <tr>\n",
       "      <td>...</td>\n",
       "      <td>...</td>\n",
       "      <td>...</td>\n",
       "    </tr>\n",
       "    <tr>\n",
       "      <td>164</td>\n",
       "      <td>수단</td>\n",
       "      <td>16.0</td>\n",
       "    </tr>\n",
       "    <tr>\n",
       "      <td>165</td>\n",
       "      <td>예멘</td>\n",
       "      <td>14.0</td>\n",
       "    </tr>\n",
       "    <tr>\n",
       "      <td>166</td>\n",
       "      <td>시리아</td>\n",
       "      <td>13.0</td>\n",
       "    </tr>\n",
       "    <tr>\n",
       "      <td>167</td>\n",
       "      <td>남수단</td>\n",
       "      <td>13.0</td>\n",
       "    </tr>\n",
       "    <tr>\n",
       "      <td>168</td>\n",
       "      <td>소말리아</td>\n",
       "      <td>10.0</td>\n",
       "    </tr>\n",
       "  </tbody>\n",
       "</table>\n",
       "<p>169 rows × 2 columns</p>\n",
       "</div>"
      ],
      "text/plain": [
       "       국가   청렴도\n",
       "0     덴마크  88.0\n",
       "1    뉴질랜드  87.0\n",
       "2     핀란드  85.0\n",
       "3     스웨덴  85.0\n",
       "4     스위스  85.0\n",
       "..    ...   ...\n",
       "164    수단  16.0\n",
       "165    예멘  14.0\n",
       "166   시리아  13.0\n",
       "167   남수단  13.0\n",
       "168  소말리아  10.0\n",
       "\n",
       "[169 rows x 2 columns]"
      ]
     },
     "execution_count": 61,
     "metadata": {},
     "output_type": "execute_result"
    }
   ],
   "source": [
    "corruption = pd.DataFrame(np.array([nation,corrupt]).T,columns=['국가','청렴도'])\n",
    "corruption"
   ]
  },
  {
   "cell_type": "markdown",
   "metadata": {},
   "source": [
    "## 문해율\n",
    "2013년 CIA 월드 팩트북"
   ]
  },
  {
   "cell_type": "code",
   "execution_count": 63,
   "metadata": {},
   "outputs": [],
   "source": [
    "url = 'https://ko.wikipedia.org/wiki/문해율에 따른 나라 목록'\n",
    "page = requests.get(url)\n",
    "soup = BeautifulSoup(page.text, 'html.parser')\n",
    "html = list(soup.children)[3]"
   ]
  },
  {
   "cell_type": "code",
   "execution_count": 64,
   "metadata": {},
   "outputs": [
    {
     "data": {
      "text/plain": [
       "4"
      ]
     },
     "execution_count": 64,
     "metadata": {},
     "output_type": "execute_result"
    }
   ],
   "source": [
    "len(html.find_all('table'))"
   ]
  },
  {
   "cell_type": "code",
   "execution_count": 65,
   "metadata": {},
   "outputs": [],
   "source": [
    "table = html.find_all('table')[2]"
   ]
  },
  {
   "cell_type": "code",
   "execution_count": 66,
   "metadata": {},
   "outputs": [
    {
     "data": {
      "text/plain": [
       "<td>1</td>"
      ]
     },
     "execution_count": 66,
     "metadata": {},
     "output_type": "execute_result"
    }
   ],
   "source": [
    "table.find_all('td')[0]"
   ]
  },
  {
   "cell_type": "code",
   "execution_count": 67,
   "metadata": {},
   "outputs": [
    {
     "data": {
      "text/plain": [
       "' 안도라'"
      ]
     },
     "execution_count": 67,
     "metadata": {},
     "output_type": "execute_result"
    }
   ],
   "source": [
    "table.find_all('td')[1].text"
   ]
  },
  {
   "cell_type": "code",
   "execution_count": 68,
   "metadata": {},
   "outputs": [
    {
     "data": {
      "text/plain": [
       "'100.00\\n'"
      ]
     },
     "execution_count": 68,
     "metadata": {},
     "output_type": "execute_result"
    }
   ],
   "source": [
    "table.find_all('td')[2].text"
   ]
  },
  {
   "cell_type": "code",
   "execution_count": 69,
   "metadata": {},
   "outputs": [
    {
     "data": {
      "text/plain": [
       "<td>2</td>"
      ]
     },
     "execution_count": 69,
     "metadata": {},
     "output_type": "execute_result"
    }
   ],
   "source": [
    "table.find_all('td')[3]"
   ]
  },
  {
   "cell_type": "code",
   "execution_count": 70,
   "metadata": {},
   "outputs": [
    {
     "data": {
      "text/plain": [
       "651"
      ]
     },
     "execution_count": 70,
     "metadata": {},
     "output_type": "execute_result"
    }
   ],
   "source": [
    "len(table.find_all('td'))"
   ]
  },
  {
   "cell_type": "code",
   "execution_count": 71,
   "metadata": {},
   "outputs": [
    {
     "data": {
      "text/plain": [
       "<td>27.00\n",
       "</td>"
      ]
     },
     "execution_count": 71,
     "metadata": {},
     "output_type": "execute_result"
    }
   ],
   "source": [
    "table.find_all('td')[216*3+2]"
   ]
  },
  {
   "cell_type": "code",
   "execution_count": 72,
   "metadata": {},
   "outputs": [
    {
     "name": "stdout",
     "output_type": "stream",
     "text": [
      "217 217\n",
      "['안도라', '핀란드', '그린란드', '바티칸시국'] [100.0, 100.0, 100.0, 100.0]\n",
      "['부르키나파소', '니제르', '아프가니스탄', '남수단'] [28.7, 28.7, 28.1, 27.0]\n"
     ]
    }
   ],
   "source": [
    "nation = []\n",
    "liter = []\n",
    "info = table.find_all('td')\n",
    "\n",
    "for i in range(217):\n",
    "    # 중간 띄어쓰기 생략\n",
    "    name = info[3*i+1].text.replace(' ','')\n",
    "    number = info[3*i+2].text[:-1]\n",
    "    nation.append(name)\n",
    "    liter.append(float(number))\n",
    "    \n",
    "print(len(nation),len(liter))\n",
    "print(nation[:4],liter[:4])\n",
    "print(nation[-4:],liter[-4:])"
   ]
  },
  {
   "cell_type": "code",
   "execution_count": 73,
   "metadata": {},
   "outputs": [
    {
     "data": {
      "text/html": [
       "<div>\n",
       "<style scoped>\n",
       "    .dataframe tbody tr th:only-of-type {\n",
       "        vertical-align: middle;\n",
       "    }\n",
       "\n",
       "    .dataframe tbody tr th {\n",
       "        vertical-align: top;\n",
       "    }\n",
       "\n",
       "    .dataframe thead th {\n",
       "        text-align: right;\n",
       "    }\n",
       "</style>\n",
       "<table border=\"1\" class=\"dataframe\">\n",
       "  <thead>\n",
       "    <tr style=\"text-align: right;\">\n",
       "      <th></th>\n",
       "      <th>국가</th>\n",
       "      <th>문해율</th>\n",
       "    </tr>\n",
       "  </thead>\n",
       "  <tbody>\n",
       "    <tr>\n",
       "      <td>0</td>\n",
       "      <td>안도라</td>\n",
       "      <td>100.0</td>\n",
       "    </tr>\n",
       "    <tr>\n",
       "      <td>1</td>\n",
       "      <td>핀란드</td>\n",
       "      <td>100.0</td>\n",
       "    </tr>\n",
       "    <tr>\n",
       "      <td>2</td>\n",
       "      <td>그린란드</td>\n",
       "      <td>100.0</td>\n",
       "    </tr>\n",
       "    <tr>\n",
       "      <td>3</td>\n",
       "      <td>바티칸시국</td>\n",
       "      <td>100.0</td>\n",
       "    </tr>\n",
       "    <tr>\n",
       "      <td>4</td>\n",
       "      <td>리히텐슈타인</td>\n",
       "      <td>100.0</td>\n",
       "    </tr>\n",
       "    <tr>\n",
       "      <td>...</td>\n",
       "      <td>...</td>\n",
       "      <td>...</td>\n",
       "    </tr>\n",
       "    <tr>\n",
       "      <td>212</td>\n",
       "      <td>말리</td>\n",
       "      <td>33.4</td>\n",
       "    </tr>\n",
       "    <tr>\n",
       "      <td>213</td>\n",
       "      <td>부르키나파소</td>\n",
       "      <td>28.7</td>\n",
       "    </tr>\n",
       "    <tr>\n",
       "      <td>214</td>\n",
       "      <td>니제르</td>\n",
       "      <td>28.7</td>\n",
       "    </tr>\n",
       "    <tr>\n",
       "      <td>215</td>\n",
       "      <td>아프가니스탄</td>\n",
       "      <td>28.1</td>\n",
       "    </tr>\n",
       "    <tr>\n",
       "      <td>216</td>\n",
       "      <td>남수단</td>\n",
       "      <td>27.0</td>\n",
       "    </tr>\n",
       "  </tbody>\n",
       "</table>\n",
       "<p>217 rows × 2 columns</p>\n",
       "</div>"
      ],
      "text/plain": [
       "         국가    문해율\n",
       "0       안도라  100.0\n",
       "1       핀란드  100.0\n",
       "2      그린란드  100.0\n",
       "3     바티칸시국  100.0\n",
       "4    리히텐슈타인  100.0\n",
       "..      ...    ...\n",
       "212      말리   33.4\n",
       "213  부르키나파소   28.7\n",
       "214     니제르   28.7\n",
       "215  아프가니스탄   28.1\n",
       "216     남수단   27.0\n",
       "\n",
       "[217 rows x 2 columns]"
      ]
     },
     "execution_count": 73,
     "metadata": {},
     "output_type": "execute_result"
    }
   ],
   "source": [
    "literacy = pd.DataFrame(np.array([nation,liter]).T,columns=['국가','문해율'])\n",
    "literacy"
   ]
  },
  {
   "cell_type": "markdown",
   "metadata": {},
   "source": [
    "## 교육지수\n",
    "“Human Development Data (1990-2015)”. United Nations Development Programme.<br>\n",
    "인간개발보고서(2016)"
   ]
  },
  {
   "cell_type": "code",
   "execution_count": 77,
   "metadata": {},
   "outputs": [],
   "source": [
    "url = 'https://ko.wikipedia.org/wiki/교육 지수'\n",
    "page = requests.get(url)\n",
    "soup = BeautifulSoup(page.text, 'html.parser')\n",
    "html = list(soup.children)[3]"
   ]
  },
  {
   "cell_type": "code",
   "execution_count": 82,
   "metadata": {},
   "outputs": [
    {
     "data": {
      "text/plain": [
       "['', '1', ' 오스트레일리아', '0.939', '20.4', '13.2', '2', '']"
      ]
     },
     "execution_count": 82,
     "metadata": {},
     "output_type": "execute_result"
    }
   ],
   "source": [
    "html.find_all('tr')[2].text.split('\\n')"
   ]
  },
  {
   "cell_type": "code",
   "execution_count": 84,
   "metadata": {},
   "outputs": [
    {
     "name": "stdout",
     "output_type": "stream",
     "text": [
      "188 188\n",
      "['오스트레일리아', '덴마크', '뉴질랜드', '노르웨이'] [0.939, 0.923, 0.917, 0.916]\n",
      "['차드', '에리트레아', '부르키나파소', '니제르'] [0.28, 0.267, 0.262, 0.206]\n"
     ]
    }
   ],
   "source": [
    "# 마지막은 니제르\n",
    "\n",
    "nation = []\n",
    "edu = []\n",
    "info = html.find_all('tr')\n",
    "\n",
    "i=2\n",
    "name='aa'\n",
    "while name != '니제르':\n",
    "    info_list = info[i].text.split('\\n')\n",
    "    name = info_list[2].replace(' ','')\n",
    "    number = info_list[3]\n",
    "    nation.append(name)\n",
    "    edu.append(float(number))\n",
    "    i+=1\n",
    "\n",
    "print(len(nation),len(edu))\n",
    "print(nation[:4],edu[:4])\n",
    "print(nation[-4:],edu[-4:])"
   ]
  },
  {
   "cell_type": "code",
   "execution_count": 87,
   "metadata": {},
   "outputs": [
    {
     "data": {
      "text/html": [
       "<div>\n",
       "<style scoped>\n",
       "    .dataframe tbody tr th:only-of-type {\n",
       "        vertical-align: middle;\n",
       "    }\n",
       "\n",
       "    .dataframe tbody tr th {\n",
       "        vertical-align: top;\n",
       "    }\n",
       "\n",
       "    .dataframe thead th {\n",
       "        text-align: right;\n",
       "    }\n",
       "</style>\n",
       "<table border=\"1\" class=\"dataframe\">\n",
       "  <thead>\n",
       "    <tr style=\"text-align: right;\">\n",
       "      <th></th>\n",
       "      <th>국가</th>\n",
       "      <th>교육지수</th>\n",
       "    </tr>\n",
       "  </thead>\n",
       "  <tbody>\n",
       "    <tr>\n",
       "      <td>0</td>\n",
       "      <td>오스트레일리아</td>\n",
       "      <td>0.939</td>\n",
       "    </tr>\n",
       "    <tr>\n",
       "      <td>1</td>\n",
       "      <td>덴마크</td>\n",
       "      <td>0.923</td>\n",
       "    </tr>\n",
       "    <tr>\n",
       "      <td>2</td>\n",
       "      <td>뉴질랜드</td>\n",
       "      <td>0.917</td>\n",
       "    </tr>\n",
       "    <tr>\n",
       "      <td>3</td>\n",
       "      <td>노르웨이</td>\n",
       "      <td>0.916</td>\n",
       "    </tr>\n",
       "    <tr>\n",
       "      <td>4</td>\n",
       "      <td>독일</td>\n",
       "      <td>0.914</td>\n",
       "    </tr>\n",
       "    <tr>\n",
       "      <td>...</td>\n",
       "      <td>...</td>\n",
       "      <td>...</td>\n",
       "    </tr>\n",
       "    <tr>\n",
       "      <td>183</td>\n",
       "      <td>남수단</td>\n",
       "      <td>0.297</td>\n",
       "    </tr>\n",
       "    <tr>\n",
       "      <td>184</td>\n",
       "      <td>차드</td>\n",
       "      <td>0.28</td>\n",
       "    </tr>\n",
       "    <tr>\n",
       "      <td>185</td>\n",
       "      <td>에리트레아</td>\n",
       "      <td>0.267</td>\n",
       "    </tr>\n",
       "    <tr>\n",
       "      <td>186</td>\n",
       "      <td>부르키나파소</td>\n",
       "      <td>0.262</td>\n",
       "    </tr>\n",
       "    <tr>\n",
       "      <td>187</td>\n",
       "      <td>니제르</td>\n",
       "      <td>0.206</td>\n",
       "    </tr>\n",
       "  </tbody>\n",
       "</table>\n",
       "<p>188 rows × 2 columns</p>\n",
       "</div>"
      ],
      "text/plain": [
       "          국가   교육지수\n",
       "0    오스트레일리아  0.939\n",
       "1        덴마크  0.923\n",
       "2       뉴질랜드  0.917\n",
       "3       노르웨이  0.916\n",
       "4         독일  0.914\n",
       "..       ...    ...\n",
       "183      남수단  0.297\n",
       "184       차드   0.28\n",
       "185    에리트레아  0.267\n",
       "186   부르키나파소  0.262\n",
       "187      니제르  0.206\n",
       "\n",
       "[188 rows x 2 columns]"
      ]
     },
     "execution_count": 87,
     "metadata": {},
     "output_type": "execute_result"
    }
   ],
   "source": [
    "education = pd.DataFrame(np.array([nation,edu]).T,columns=['국가','교육지수'])\n",
    "education"
   ]
  },
  {
   "cell_type": "markdown",
   "metadata": {},
   "source": [
    "# 중간저장"
   ]
  },
  {
   "cell_type": "code",
   "execution_count": 88,
   "metadata": {},
   "outputs": [],
   "source": [
    "un_series.to_excel('un.xlsx',index=False)\n",
    "gdp_df.to_excel('gdp.xlsx',index=False)\n",
    "life_df.to_excel('life.xlsx',index=False)\n",
    "corruption.to_excel('corruption.xlsx',index=False)\n",
    "demo.to_excel('demo.xlsx',index=False)\n",
    "press.to_excel('press.xlsx',index=False)\n",
    "literacy.to_excel('literacy.xlsx',index=False)\n",
    "education.to_excel('education.xlsx',index=False)"
   ]
  },
  {
   "cell_type": "markdown",
   "metadata": {},
   "source": [
    "# 선진국 여부\n",
    "국제통화기금(IMF)이 분류한 39개국(홍콩,마카오,대만 등이 포함되어있음)"
   ]
  },
  {
   "cell_type": "code",
   "execution_count": 89,
   "metadata": {},
   "outputs": [],
   "source": [
    "url = 'https://ko.wikipedia.org/wiki/선진국'\n",
    "page = requests.get(url)\n",
    "soup = BeautifulSoup(page.text, 'html.parser')\n",
    "html = list(soup.children)[3]"
   ]
  },
  {
   "cell_type": "code",
   "execution_count": 90,
   "metadata": {},
   "outputs": [
    {
     "data": {
      "text/plain": [
       "9"
      ]
     },
     "execution_count": 90,
     "metadata": {},
     "output_type": "execute_result"
    }
   ],
   "source": [
    "len(html.find_all('table'))"
   ]
  },
  {
   "cell_type": "code",
   "execution_count": 107,
   "metadata": {},
   "outputs": [
    {
     "data": {
      "text/plain": [
       "'\\n\\n•  그리스\\n•  독일\\n•  스웨덴\\n•  아일랜드\\n•  대한민국\\n\\n\\n\\n•  프랑스\\n•  네덜란드\\n•  룩셈부르크\\n•  스위스\\n•  영국\\n\\n\\n\\n•  중화민국\\n•  핀란드\\n•  노르웨이\\n•  몰타\\n•  스페인\\n\\n\\n\\n•  오스트레일리아\\n•  체코\\n•  뉴질랜드\\n•  미국\\n•  슬로베니아\\n\\n\\n\\n•  슬로바키아\\n•  오스트리아\\n•  캐나다\\n•  에스토니아\\n•  일본\\n\\n\\n\\n•  벨기에\\n•  싱가포르\\n•  이스라엘\\n•  키프로스\\n•  덴마크\\n\\n\\n\\n•  라트비아\\n•  리투아니아\\n•  홍콩\\n•  포르투갈\\n•  이탈리아\\n\\n\\n•  산마리노[4]\\n•  아이슬란드\\n•  푸에르토리코\\n•  마카오\\n\\n'"
      ]
     },
     "execution_count": 107,
     "metadata": {},
     "output_type": "execute_result"
    }
   ],
   "source": [
    "html.find_all('table')[2].text"
   ]
  },
  {
   "cell_type": "code",
   "execution_count": 109,
   "metadata": {},
   "outputs": [
    {
     "data": {
      "text/plain": [
       "'•그리스•독일•스웨덴•아일랜드•대한민국•프랑스•네덜란드•룩셈부르크•스위스•영국•중화민국•핀란드•노르웨이•몰타•스페인•오스트레일리아•체코•뉴질랜드•미국•슬로베니아•슬로바키아•오스트리아•캐나다•에스토니아•일본•벨기에•싱가포르•이스라엘•키프로스•덴마크•라트비아•리투아니아•홍콩•포르투갈•이탈리아•산마리노[4]•아이슬란드•푸에르토리코•마카오'"
      ]
     },
     "execution_count": 109,
     "metadata": {},
     "output_type": "execute_result"
    }
   ],
   "source": [
    "html.find_all('table')[2].text.replace('\\n','').replace(' ','')"
   ]
  },
  {
   "cell_type": "code",
   "execution_count": 110,
   "metadata": {},
   "outputs": [
    {
     "data": {
      "text/plain": [
       "'•그리스•독일•스웨덴•아일랜드•대한민국•프랑스•네덜란드•룩셈부르크•스위스•영국•중화민국•핀란드•노르웨이•몰타•스페인•오스트레일리아•체코•뉴질랜드•미국•슬로베니아•슬로바키아•오스트리아•캐나다•에스토니아•일본•벨기에•싱가포르•이스라엘•키프로스•덴마크•라트비아•리투아니아•홍콩•포르투갈•이탈리아•산마리노•아이슬란드•푸에르토리코•마카오'"
      ]
     },
     "execution_count": 110,
     "metadata": {},
     "output_type": "execute_result"
    }
   ],
   "source": [
    "html.find_all('table')[2].text.replace('\\n','').replace(' ','').replace('[4]','')"
   ]
  },
  {
   "cell_type": "code",
   "execution_count": 113,
   "metadata": {},
   "outputs": [],
   "source": [
    "nations = html.find_all('table')[2].text.replace('\\n','').replace(' ','').replace('[4]','').split('•')[1:]"
   ]
  },
  {
   "cell_type": "code",
   "execution_count": 115,
   "metadata": {},
   "outputs": [
    {
     "name": "stdout",
     "output_type": "stream",
     "text": [
      "['그리스', '독일', '스웨덴', '아일랜드', '대한민국', '프랑스', '네덜란드', '룩셈부르크', '스위스', '영국', '중화민국', '핀란드', '노르웨이', '몰타', '스페인', '오스트레일리아', '체코', '뉴질랜드', '미국', '슬로베니아', '슬로바키아', '오스트리아', '캐나다', '에스토니아', '일본', '벨기에', '싱가포르', '이스라엘', '키프로스', '덴마크', '라트비아', '리투아니아', '홍콩', '포르투갈', '이탈리아', '산마리노', '아이슬란드', '푸에르토리코', '마카오']\n"
     ]
    }
   ],
   "source": [
    "print(nations)"
   ]
  },
  {
   "cell_type": "markdown",
   "metadata": {},
   "source": [
    "CIA는 해당 목록에 8개국을 추가했다. 비 UN국을 제거하면 국가들 개수가 너무 적으므로 CIA가 추가한 선진국들을 같이 고려하도록 한다."
   ]
  },
  {
   "cell_type": "code",
   "execution_count": 117,
   "metadata": {},
   "outputs": [
    {
     "name": "stdout",
     "output_type": "stream",
     "text": [
      "['리히텐슈타인', '모나코', '바티칸시국', '버뮤다', '안도라', '페로제도', '저지섬', '건지섬']\n"
     ]
    }
   ],
   "source": [
    "nations_ = html.find_all('table')[3].text.replace('\\n','').replace(' ','').replace('[4]','').split('•')[1:]\n",
    "print(nations_)"
   ]
  },
  {
   "cell_type": "code",
   "execution_count": 118,
   "metadata": {},
   "outputs": [
    {
     "name": "stdout",
     "output_type": "stream",
     "text": [
      "['그리스', '독일', '스웨덴', '아일랜드', '대한민국', '프랑스', '네덜란드', '룩셈부르크', '스위스', '영국', '중화민국', '핀란드', '노르웨이', '몰타', '스페인', '오스트레일리아', '체코', '뉴질랜드', '미국', '슬로베니아', '슬로바키아', '오스트리아', '캐나다', '에스토니아', '일본', '벨기에', '싱가포르', '이스라엘', '키프로스', '덴마크', '라트비아', '리투아니아', '홍콩', '포르투갈', '이탈리아', '산마리노', '아이슬란드', '푸에르토리코', '마카오', '리히텐슈타인', '모나코', '바티칸시국', '버뮤다', '안도라', '페로제도', '저지섬', '건지섬']\n"
     ]
    }
   ],
   "source": [
    "nations.extend(nations_)\n",
    "print(nations)"
   ]
  },
  {
   "cell_type": "code",
   "execution_count": 119,
   "metadata": {},
   "outputs": [],
   "source": [
    "developed = pd.Series(nations)\n",
    "developed.to_excel('developed.xlsx',index=False)"
   ]
  },
  {
   "cell_type": "markdown",
   "metadata": {},
   "source": [
    "# 데이터간 표기 일치"
   ]
  },
  {
   "cell_type": "code",
   "execution_count": 68,
   "metadata": {},
   "outputs": [],
   "source": [
    "un = pd.read_excel('un.xlsx')\n",
    "developed = pd.read_excel('developed.xlsx')\n",
    "corruption = pd.read_excel('corruption.xlsx')\n",
    "demo = pd.read_excel('demo.xlsx')\n",
    "education = pd.read_excel('education.xlsx')\n",
    "gdp = pd.read_excel('gdp.xlsx')\n",
    "life = pd.read_excel('life.xlsx')\n",
    "literacy = pd.read_excel('literacy.xlsx')\n",
    "press = pd.read_excel('press.xlsx')"
   ]
  },
  {
   "cell_type": "markdown",
   "metadata": {},
   "source": [
    "### un 회원국의 표기에 에러가 많으니 수정을 거쳐야함"
   ]
  },
  {
   "cell_type": "code",
   "execution_count": 69,
   "metadata": {},
   "outputs": [],
   "source": [
    "# DataFrame으로 불러왔으니 Series로 저장\n",
    "un = un[0]"
   ]
  },
  {
   "cell_type": "code",
   "execution_count": 70,
   "metadata": {},
   "outputs": [
    {
     "data": {
      "text/plain": [
       "20          대한민국\n",
       "21           덴마크\n",
       "22       도미니카공화국\n",
       "23        도미니카연방\n",
       "24     독일동독과서독참조\n",
       "25          동티모르\n",
       "26           라오스\n",
       "27         라이베리아\n",
       "28      라트비아소련참조\n",
       "29    러시아[6]소련참조\n",
       "Name: 0, dtype: object"
      ]
     },
     "execution_count": 70,
     "metadata": {},
     "output_type": "execute_result"
    }
   ],
   "source": [
    "un[20:30]"
   ]
  },
  {
   "cell_type": "code",
   "execution_count": 71,
   "metadata": {},
   "outputs": [],
   "source": [
    "def repair(x):\n",
    "    x1 = x.replace('소련참조','')\n",
    "    x2 = x1.replace('동독과서독참조','')\n",
    "    x3 = x2.replace('유고슬라비아참조','')\n",
    "    x4 = x3.replace('중화민국참조','')\n",
    "    if x4[-1]== ']':\n",
    "        x4 = x4[:-3]\n",
    "    return x4"
   ]
  },
  {
   "cell_type": "code",
   "execution_count": 72,
   "metadata": {},
   "outputs": [],
   "source": [
    "un = un.map(repair)"
   ]
  },
  {
   "cell_type": "code",
   "execution_count": 73,
   "metadata": {},
   "outputs": [
    {
     "data": {
      "text/plain": [
       "20       대한민국\n",
       "21        덴마크\n",
       "22    도미니카공화국\n",
       "23     도미니카연방\n",
       "24         독일\n",
       "25       동티모르\n",
       "26        라오스\n",
       "27      라이베리아\n",
       "28       라트비아\n",
       "29        러시아\n",
       "Name: 0, dtype: object"
      ]
     },
     "execution_count": 73,
     "metadata": {},
     "output_type": "execute_result"
    }
   ],
   "source": [
    "un[20:30]"
   ]
  },
  {
   "cell_type": "code",
   "execution_count": 74,
   "metadata": {
    "scrolled": false
   },
   "outputs": [
    {
     "name": "stdout",
     "output_type": "stream",
     "text": [
      "말레이시아말라야연방참조\n",
      "슬로바키아체코슬로바키아참조\n",
      "시리아[23]아랍연합공화국참조\n",
      "싱가포르말라야연방참조\n",
      "예멘북예멘과남예멘참조\n",
      "이집트아랍연합공화국참조\n",
      "체코체코슬로바키아참조\n",
      "탄자니아[39]탕가니카와잔지바르참조\n"
     ]
    }
   ],
   "source": [
    "for i in range(len(un)):\n",
    "    country = un.iloc[i]\n",
    "    if country[-1] =='조':\n",
    "        print(country)"
   ]
  },
  {
   "cell_type": "code",
   "execution_count": 75,
   "metadata": {},
   "outputs": [],
   "source": [
    "repair_dict = {'말레이시아말라야연방참조':'말레이시아','슬로바키아체코슬로바키아참조':'슬로바키아',\n",
    "               '시리아[23]아랍연합공화국참조':'시리아','싱가포르말라야연방참조':'싱가포르','예멘북예멘과남예멘참조':'예멘',\n",
    "              '이집트아랍연합공화국참조':'이집트','체코체코슬로바키아참조':'체코','탄자니아[39]탕가니카와잔지바르참조':'탄자니아'}\n",
    "def repair2(x):\n",
    "    for k,v in repair_dict.items():\n",
    "        if x == k:\n",
    "            x = v\n",
    "    if x[-1]=='[':\n",
    "        x = x[:-1]\n",
    "    return x\n",
    "\n",
    "un = un.map(repair2)"
   ]
  },
  {
   "cell_type": "code",
   "execution_count": 76,
   "metadata": {},
   "outputs": [],
   "source": [
    "# 엑셀파일로 저장해 이상한 부분이 없는지 체크한다.\n",
    "un.to_excel('check.xlsx')"
   ]
  },
  {
   "cell_type": "markdown",
   "metadata": {},
   "source": [
    "이상이 없으므로 un을 사용"
   ]
  },
  {
   "cell_type": "code",
   "execution_count": 77,
   "metadata": {},
   "outputs": [
    {
     "data": {
      "text/plain": [
       "193"
      ]
     },
     "execution_count": 77,
     "metadata": {},
     "output_type": "execute_result"
    }
   ],
   "source": [
    "len(un)"
   ]
  },
  {
   "cell_type": "code",
   "execution_count": 78,
   "metadata": {},
   "outputs": [],
   "source": [
    "# 홍콩과 대만, 코소보는 집계된 수치가 많으니 un회원국은 아니지만 사용하기로 한다.\n",
    "un[193] = '중화민국'\n",
    "un[194] = '홍콩'\n",
    "un[195] = '코소보'"
   ]
  },
  {
   "cell_type": "code",
   "execution_count": 79,
   "metadata": {},
   "outputs": [],
   "source": [
    "# developed는 DataFrame으로 바꾼후 사용\n",
    "developed2 = pd.DataFrame(developed)"
   ]
  },
  {
   "cell_type": "code",
   "execution_count": 80,
   "metadata": {},
   "outputs": [],
   "source": [
    "developed2.columns=['국가']"
   ]
  },
  {
   "cell_type": "code",
   "execution_count": 81,
   "metadata": {},
   "outputs": [],
   "source": [
    "data_list = [developed2,corruption,demo,education,gdp,life,literacy,press]\n",
    "data_str_list = ['developed2','corruption','demo','education','gdp','life','literacy','press']"
   ]
  },
  {
   "cell_type": "code",
   "execution_count": 82,
   "metadata": {
    "scrolled": true
   },
   "outputs": [
    {
     "name": "stdout",
     "output_type": "stream",
     "text": [
      "developed2의 수정해야할 국가는 너무 많으니 따로 파일을 열람하시오.\n",
      "\n",
      "\n",
      "corruption의 수정해야할 국가들은 27개입니다. :\n",
      " un에만 있는 표기 ['나우루' '리히텐슈타인' '마셜제도' '모나코' '미크로네시아연방' '바누아투' '벨리즈' '사모아' '산마리노' '세이셸'\n",
      " '세인트키츠네비스' '아르메니아' '안도라' '앤티가바부다' '에스와티니' '이스라엘' '적도기니' '조선민주주의인민공화국'\n",
      " '중화인민공화국' '키리바시' '키프로스' '통가' '투발루' '팔라우' '피지' '중화민국' '홍콩'] \n",
      "\n",
      " corruption에만 있는 표기 []\n",
      "\n",
      "\n",
      "demo의 수정해야할 국가들은 33개입니다. :\n",
      " un에만 있는 표기 ['그레나다' '나우루' '남수단' '도미니카연방' '리히텐슈타인' '마셜제도' '모나코' '몰디브' '미크로네시아연방' '바누아투'\n",
      " '바베이도스' '바하마' '벨리즈' '브루나이' '사모아' '산마리노' '상투메프린시페' '세이셸' '세인트루시아'\n",
      " '세인트빈센트그레나딘' '세인트키츠네비스' '소말리아' '솔로몬제도' '안도라' '앤티가바부다' '조선민주주의인민공화국'\n",
      " '중화인민공화국' '키리바시' '통가' '투발루' '팔라우' '중화민국' '코소보'] \n",
      "\n",
      " demo에만 있는 표기 ['대만' '팔레스타인' '중국' '북한']\n",
      "\n",
      "\n",
      "education의 수정해야할 국가들은 14개입니다. :\n",
      " un에만 있는 표기 ['나우루' '마셜제도' '모나코' '북마케도니아' '산마리노' '소말리아' '에스와티니' '조선민주주의인민공화국' '중화인민공화국'\n",
      " '콩고민주공화국' '태국' '투발루' '중화민국' '코소보'] \n",
      "\n",
      " education에만 있는 표기 ['마케도니아' '팔레스타인' '타이' '중국' '스와질란드']\n",
      "\n",
      "\n",
      "gdp의 수정해야할 국가들은 9개입니다. :\n",
      " un에만 있는 표기 ['리히텐슈타인' '모나코' '소말리아' '시리아' '안도라' '조선민주주의인민공화국' '중화인민공화국' '쿠바' '중화민국'] \n",
      "\n",
      " gdp에만 있는 표기 ['마카오' '푸에르토리코' '타이완' '중국']\n",
      "\n",
      "\n",
      "life의 수정해야할 국가들은 17개입니다. :\n",
      " un에만 있는 표기 ['나우루' '도미니카연방' '레바논' '리히텐슈타인' '마셜제도' '모나코' '북마케도니아' '세인트키츠네비스' '안도라'\n",
      " '에스와티니' '중화인민공화국' '콩고공화국' '태국' '투발루' '팔라우' '프랑스' '중화민국'] \n",
      "\n",
      " life에만 있는 표기 ['프랑스(본토)' '타이완' '과들루프(프랑스령)' '채널제도(영국령)' '마카오' '미국령버진아일랜드(미국령)'\n",
      " '레위니옹(프랑스령)' '마요트(프랑스령)' '푸에르토리코(미국령)' '프랑스령기아나(프랑스령)' '괌(미국령)'\n",
      " '퀴라소(네덜란드령)' '누벨칼레도니(프랑스령)' '프랑스령폴리네시아(프랑스령)' '중국' '아루바(네덜란드령)' '마케도니아'\n",
      " '타이' '팔레스타인' '서사하라' '콩고' '스와질란드']\n",
      "\n",
      "\n",
      "literacy의 수정해야할 국가들은 5개입니다. :\n",
      " un에만 있는 표기 ['나우루' '세르비아' '키리바시' '투발루' '프랑스'] \n",
      "\n",
      " literacy에만 있는 표기 ['그린란드' '바티칸시국' '프랑스령남방및남극' '생피에르미클롱' '괌' '케이맨제도' '버뮤다' '프랑스령폴리네시아'\n",
      " '세르비아몬테네그로' '터크스케이커스제도' '영국령버진아일랜드' '세인트헬레나' '북마리아나제도' '아메리칸사모아' '몬트세랫'\n",
      " '아루바' '누벨칼레도니' '마카오' '요르단강서안지구' '가자지구' '앵귈라' '쿡제도' '니우에' '푸에르토리코' '지브롤터'\n",
      " '왈리스푸투나']\n",
      "\n",
      "\n",
      "press의 수정해야할 국가들은 25개입니다. :\n",
      " un에만 있는 표기 ['그레나다' '나우루' '도미니카연방' '마셜제도' '모나코' '몬테네그로' '미크로네시아연방' '바누아투' '바베이도스'\n",
      " '바하마' '산마리노' '상투메프린시페' '세르비아' '세인트루시아' '세인트빈센트그레나딘' '세인트키츠네비스' '솔로몬제도'\n",
      " '앤티가바부다' '이스라엘' '중화인민공화국' '키리바시' '키프로스' '투발루' '팔라우' '코소보'] \n",
      "\n",
      " press에만 있는 표기 ['키프로스[b]' '동카리브국가기구' '북키프로스[b]' '코소보[c]' '이스라엘[d]' '세르비아[c]' '몬테네그로[c]'\n",
      " '팔레스타인' '중국']\n",
      "\n",
      "\n"
     ]
    }
   ],
   "source": [
    "# 각 목록별 un 시리즈의 국가명과 일치하지 않는것들 체크\n",
    "\n",
    "for i in range(len(data_list)):\n",
    "    data = data_list[i]\n",
    "    data_name = data_str_list[i]\n",
    "    cond = (un.isin(data['국가']))\n",
    "    repair = un[cond==False].values\n",
    "    cond2 = (data['국가'].isin(un))\n",
    "    repair2 = data[cond2==False]['국가'].values\n",
    "    if len(repair) < 35:\n",
    "        print('{}의 수정해야할 국가들은 {}개입니다. :\\n'.format(data_name,len(repair)),\n",
    "              'un에만 있는 표기',repair,'\\n\\n {}에만 있는 표기'.format(data_name),repair2)\n",
    "    else:\n",
    "        print('{}의 수정해야할 국가는 너무 많으니 따로 파일을 열람하시오.'.format(data_name))\n",
    "    print('\\n')"
   ]
  },
  {
   "cell_type": "markdown",
   "metadata": {},
   "source": [
    "- corruption에는 수정할 것 없음\n",
    "- demo에는 중국,대만\n",
    "- education에는 타이,중국,스와질란드,마케도니아\n",
    "- gdp에는 중국,타이완\n",
    "- life에는 프랑스(본토),타이,중국,마케도니아,콩고,스와질란드,타이완\n",
    "- literacy에는 수정할 것 없음\n",
    "- press에는 코소보[c],이스라엘[d],세르비아[c],몬테네그로[c],중국"
   ]
  },
  {
   "cell_type": "code",
   "execution_count": 83,
   "metadata": {},
   "outputs": [],
   "source": [
    "# demo\n",
    "\n",
    "def rep_demo(x):\n",
    "    if x == '중국':\n",
    "        x = '중화인민공화국'\n",
    "    if x == '대만':\n",
    "        x = '중화민국'\n",
    "    return x\n",
    "\n",
    "demo['국가'] = demo['국가'].map(rep_demo)"
   ]
  },
  {
   "cell_type": "code",
   "execution_count": 84,
   "metadata": {},
   "outputs": [],
   "source": [
    "# education\n",
    "\n",
    "def rep_edu(x):\n",
    "    if x == '타이':\n",
    "        x = '태국'\n",
    "    if x == '중국':\n",
    "        x = '중화인민공화국'\n",
    "    if x == '스와질란드':\n",
    "        x = '에스와티니'\n",
    "    if x == '마케도니아':\n",
    "        x = '북마케도니아'\n",
    "    return x\n",
    "\n",
    "education['국가'] = education['국가'].map(rep_edu)"
   ]
  },
  {
   "cell_type": "code",
   "execution_count": 85,
   "metadata": {},
   "outputs": [],
   "source": [
    "# gdp\n",
    "\n",
    "def rep_gdp(x):\n",
    "    if x == '중국':\n",
    "        x = '중화인민공화국'\n",
    "    if x == '타이완':\n",
    "        x = '중화민국'\n",
    "    return x\n",
    "\n",
    "gdp['국가'] = gdp['국가'].map(rep_gdp)"
   ]
  },
  {
   "cell_type": "code",
   "execution_count": 86,
   "metadata": {},
   "outputs": [],
   "source": [
    "# life\n",
    "\n",
    "def rep_life(x):\n",
    "    if x == '프랑스(본토)':\n",
    "        x = '프랑스'\n",
    "    if x == '타이':\n",
    "        x = '태국'\n",
    "    if x == '중국':\n",
    "        x = '중화인민공화국'\n",
    "    if x == '콩고':\n",
    "        x = '콩고공화국'\n",
    "    if x == '스와질란드':\n",
    "        x = '에스와티니'\n",
    "    if x == '타이완':\n",
    "        x = '중화민국'\n",
    "    return x\n",
    "    \n",
    "life['국가'] = life['국가'].map(rep_life)"
   ]
  },
  {
   "cell_type": "code",
   "execution_count": 88,
   "metadata": {},
   "outputs": [],
   "source": [
    "# press\n",
    "\n",
    "def rep_liter(x):\n",
    "    if x == '코소보[c]':\n",
    "        x = '코소보'\n",
    "    if x == '이스라엘[d]':\n",
    "        x = '이스라엘'\n",
    "    if x == '세르비아[c]':\n",
    "        x = '세르비아'\n",
    "    if x == '몬테네그로[c]':\n",
    "        x = '몬테네그로'\n",
    "    if x == '중국':\n",
    "        x = '중화인민공화국'\n",
    "    return x\n",
    "\n",
    "press['국가'] = press['국가'].map(rep_liter)"
   ]
  },
  {
   "cell_type": "code",
   "execution_count": 89,
   "metadata": {},
   "outputs": [
    {
     "name": "stdout",
     "output_type": "stream",
     "text": [
      "developed2의 수정해야할 국가는 너무 많으니 따로 파일을 열람하시오.\n",
      "\n",
      "\n",
      "corruption의 수정해야할 국가들은 27개입니다. :\n",
      " un에만 있는 표기 ['나우루' '리히텐슈타인' '마셜제도' '모나코' '미크로네시아연방' '바누아투' '벨리즈' '사모아' '산마리노' '세이셸'\n",
      " '세인트키츠네비스' '아르메니아' '안도라' '앤티가바부다' '에스와티니' '이스라엘' '적도기니' '조선민주주의인민공화국'\n",
      " '중화인민공화국' '키리바시' '키프로스' '통가' '투발루' '팔라우' '피지' '중화민국' '홍콩'] \n",
      "\n",
      " corruption에만 있는 표기 []\n",
      "\n",
      "\n",
      "demo의 수정해야할 국가들은 31개입니다. :\n",
      " un에만 있는 표기 ['그레나다' '나우루' '남수단' '도미니카연방' '리히텐슈타인' '마셜제도' '모나코' '몰디브' '미크로네시아연방' '바누아투'\n",
      " '바베이도스' '바하마' '벨리즈' '브루나이' '사모아' '산마리노' '상투메프린시페' '세이셸' '세인트루시아'\n",
      " '세인트빈센트그레나딘' '세인트키츠네비스' '소말리아' '솔로몬제도' '안도라' '앤티가바부다' '조선민주주의인민공화국'\n",
      " '키리바시' '통가' '투발루' '팔라우' '코소보'] \n",
      "\n",
      " demo에만 있는 표기 ['팔레스타인' '북한']\n",
      "\n",
      "\n",
      "education의 수정해야할 국가들은 10개입니다. :\n",
      " un에만 있는 표기 ['나우루' '마셜제도' '모나코' '산마리노' '소말리아' '조선민주주의인민공화국' '콩고민주공화국' '투발루' '중화민국'\n",
      " '코소보'] \n",
      "\n",
      " education에만 있는 표기 ['팔레스타인']\n",
      "\n",
      "\n",
      "gdp의 수정해야할 국가들은 7개입니다. :\n",
      " un에만 있는 표기 ['리히텐슈타인' '모나코' '소말리아' '시리아' '안도라' '조선민주주의인민공화국' '쿠바'] \n",
      "\n",
      " gdp에만 있는 표기 ['마카오' '푸에르토리코']\n",
      "\n",
      "\n",
      "life의 수정해야할 국가들은 11개입니다. :\n",
      " un에만 있는 표기 ['나우루' '도미니카연방' '레바논' '리히텐슈타인' '마셜제도' '모나코' '북마케도니아' '세인트키츠네비스' '안도라'\n",
      " '투발루' '팔라우'] \n",
      "\n",
      " life에만 있는 표기 ['과들루프(프랑스령)' '채널제도(영국령)' '마카오' '미국령버진아일랜드(미국령)' '레위니옹(프랑스령)' '마요트(프랑스령)'\n",
      " '푸에르토리코(미국령)' '프랑스령기아나(프랑스령)' '괌(미국령)' '퀴라소(네덜란드령)' '누벨칼레도니(프랑스령)'\n",
      " '프랑스령폴리네시아(프랑스령)' '아루바(네덜란드령)' '마케도니아' '팔레스타인' '서사하라']\n",
      "\n",
      "\n",
      "literacy의 수정해야할 국가들은 5개입니다. :\n",
      " un에만 있는 표기 ['나우루' '세르비아' '키리바시' '투발루' '프랑스'] \n",
      "\n",
      " literacy에만 있는 표기 ['그린란드' '바티칸시국' '프랑스령남방및남극' '생피에르미클롱' '괌' '케이맨제도' '버뮤다' '프랑스령폴리네시아'\n",
      " '세르비아몬테네그로' '터크스케이커스제도' '영국령버진아일랜드' '세인트헬레나' '북마리아나제도' '아메리칸사모아' '몬트세랫'\n",
      " '아루바' '누벨칼레도니' '마카오' '요르단강서안지구' '가자지구' '앵귈라' '쿡제도' '니우에' '푸에르토리코' '지브롤터'\n",
      " '왈리스푸투나']\n",
      "\n",
      "\n",
      "press의 수정해야할 국가들은 20개입니다. :\n",
      " un에만 있는 표기 ['그레나다' '나우루' '도미니카연방' '마셜제도' '모나코' '미크로네시아연방' '바누아투' '바베이도스' '바하마' '산마리노'\n",
      " '상투메프린시페' '세인트루시아' '세인트빈센트그레나딘' '세인트키츠네비스' '솔로몬제도' '앤티가바부다' '키리바시' '키프로스'\n",
      " '투발루' '팔라우'] \n",
      "\n",
      " press에만 있는 표기 ['키프로스[b]' '동카리브국가기구' '북키프로스[b]' '팔레스타인']\n",
      "\n",
      "\n"
     ]
    }
   ],
   "source": [
    "for i in range(len(data_list)):\n",
    "    data = data_list[i]\n",
    "    data_name = data_str_list[i]\n",
    "    cond = (un.isin(data['국가']))\n",
    "    repair = un[cond==False].values\n",
    "    cond2 = (data['국가'].isin(un))\n",
    "    repair2 = data[cond2==False]['국가'].values\n",
    "    if len(repair) < 35:\n",
    "        print('{}의 수정해야할 국가들은 {}개입니다. :\\n'.format(data_name,len(repair)),\n",
    "              'un에만 있는 표기',repair,'\\n\\n {}에만 있는 표기'.format(data_name),repair2)\n",
    "    else:\n",
    "        print('{}의 수정해야할 국가는 너무 많으니 따로 파일을 열람하시오.'.format(data_name))\n",
    "    print('\\n')"
   ]
  },
  {
   "cell_type": "code",
   "execution_count": 95,
   "metadata": {},
   "outputs": [
    {
     "name": "stdout",
     "output_type": "stream",
     "text": [
      "['가나' '가봉' '가이아나' '감비아' '과테말라' '그레나다' '기니' '기니비사우' '나미비아' '나우루' '나이지리아'\n",
      " '남수단' '남아프리카공화국' '네팔' '니제르' '니카라과' '도미니카공화국' '도미니카연방' '동티모르' '라오스'\n",
      " '라이베리아' '러시아' '레바논' '레소토' '루마니아' '르완다' '리비아' '마다가스카르' '마셜제도' '말라위'\n",
      " '말레이시아' '말리' '멕시코' '모로코' '모리셔스' '모리타니' '모잠비크' '몬테네그로' '몰도바' '몰디브' '몽골'\n",
      " '미얀마' '미크로네시아연방' '바누아투' '바레인' '바베이도스' '바하마' '방글라데시' '베냉' '베네수엘라' '베트남'\n",
      " '벨라루스' '벨리즈' '보스니아헤르체고비나' '보츠와나' '볼리비아' '부룬디' '부르키나파소' '부탄' '북마케도니아'\n",
      " '불가리아' '브라질' '브루나이' '사모아' '사우디아라비아' '상투메프린시페' '세네갈' '세르비아' '세이셸' '세인트루시아'\n",
      " '세인트빈센트그레나딘' '세인트키츠네비스' '소말리아' '솔로몬제도' '수단' '수리남' '스리랑카' '시리아' '시에라리온'\n",
      " '아랍에미리트' '아르메니아' '아르헨티나' '아이티' '아제르바이잔' '아프가니스탄' '알바니아' '알제리' '앙골라'\n",
      " '앤티가바부다' '에리트레아' '에스와티니' '에콰도르' '에티오피아' '엘살바도르' '예멘' '오만' '온두라스' '요르단'\n",
      " '우간다' '우루과이' '우즈베키스탄' '우크라이나' '이라크' '이란' '이집트' '인도' '인도네시아' '자메이카' '잠비아'\n",
      " '적도기니' '조선민주주의인민공화국' '조지아' '중앙아프리카공화국' '중화인민공화국' '지부티' '짐바브웨' '차드' '칠레'\n",
      " '카메룬' '카보베르데' '카자흐스탄' '카타르' '캄보디아' '케냐' '코모로' '코스타리카' '코트디부아르' '콜롬비아'\n",
      " '콩고공화국' '콩고민주공화국' '쿠바' '쿠웨이트' '크로아티아' '키르기스스탄' '키리바시' '타지키스탄' '탄자니아' '태국'\n",
      " '터키' '토고' '통가' '투르크메니스탄' '투발루' '튀니지' '트리니다드토바고' '파나마' '파라과이' '파키스탄'\n",
      " '파푸아뉴기니' '팔라우' '페루' '폴란드' '피지' '필리핀' '헝가리' '코소보']\n",
      "['푸에르토리코' '마카오' '바티칸시국' '버뮤다' '페로제도' '저지섬' '건지섬']\n"
     ]
    }
   ],
   "source": [
    "# developed2에서 표기 일치시키기\n",
    "cond = (un.isin(developed2['국가']))\n",
    "repair = un[cond==False].values\n",
    "cond2 = (developed2['국가'].isin(un))\n",
    "repair2 = developed2[cond2==False]['국가'].values\n",
    "\n",
    "print(repair)\n",
    "print(repair2)"
   ]
  },
  {
   "cell_type": "markdown",
   "metadata": {},
   "source": [
    "### 일치하지 않는 표기명은 없음"
   ]
  },
  {
   "cell_type": "markdown",
   "metadata": {},
   "source": [
    "# 데이터 병합"
   ]
  },
  {
   "cell_type": "code",
   "execution_count": 96,
   "metadata": {},
   "outputs": [],
   "source": [
    "developed2['선진국여부'] = 1"
   ]
  },
  {
   "cell_type": "code",
   "execution_count": 97,
   "metadata": {},
   "outputs": [],
   "source": [
    "un2 = pd.DataFrame(un)\n",
    "un2.columns=['국가']"
   ]
  },
  {
   "cell_type": "code",
   "execution_count": 98,
   "metadata": {},
   "outputs": [],
   "source": [
    "df = un2.merge(developed2,how='left')\n",
    "df2 = df.merge(corruption,how='left')\n",
    "df3 = df2.merge(demo,how='left')\n",
    "df4 = df3.merge(education,how='left')\n",
    "df5 = df4.merge(gdp,how='left')\n",
    "df6 = df5.merge(life,how='left')\n",
    "df7 = df6.merge(literacy,how='left')\n",
    "df8 = df7.merge(press,how='left')"
   ]
  },
  {
   "cell_type": "code",
   "execution_count": 99,
   "metadata": {},
   "outputs": [
    {
     "data": {
      "text/html": [
       "<div>\n",
       "<style scoped>\n",
       "    .dataframe tbody tr th:only-of-type {\n",
       "        vertical-align: middle;\n",
       "    }\n",
       "\n",
       "    .dataframe tbody tr th {\n",
       "        vertical-align: top;\n",
       "    }\n",
       "\n",
       "    .dataframe thead th {\n",
       "        text-align: right;\n",
       "    }\n",
       "</style>\n",
       "<table border=\"1\" class=\"dataframe\">\n",
       "  <thead>\n",
       "    <tr style=\"text-align: right;\">\n",
       "      <th></th>\n",
       "      <th>국가</th>\n",
       "      <th>선진국여부</th>\n",
       "      <th>청렴도</th>\n",
       "      <th>민주주의지수</th>\n",
       "      <th>교육지수</th>\n",
       "      <th>gdp</th>\n",
       "      <th>평균수명</th>\n",
       "      <th>문해율</th>\n",
       "      <th>언론자유지수</th>\n",
       "    </tr>\n",
       "  </thead>\n",
       "  <tbody>\n",
       "    <tr>\n",
       "      <td>0</td>\n",
       "      <td>가나</td>\n",
       "      <td>NaN</td>\n",
       "      <td>41.0</td>\n",
       "      <td>6.63</td>\n",
       "      <td>0.551</td>\n",
       "      <td>2223.0</td>\n",
       "      <td>61.03</td>\n",
       "      <td>71.5</td>\n",
       "      <td>20.81</td>\n",
       "    </tr>\n",
       "    <tr>\n",
       "      <td>1</td>\n",
       "      <td>가봉</td>\n",
       "      <td>NaN</td>\n",
       "      <td>31.0</td>\n",
       "      <td>3.61</td>\n",
       "      <td>0.618</td>\n",
       "      <td>8112.0</td>\n",
       "      <td>63.65</td>\n",
       "      <td>89.0</td>\n",
       "      <td>35.60</td>\n",
       "    </tr>\n",
       "    <tr>\n",
       "      <td>2</td>\n",
       "      <td>가이아나</td>\n",
       "      <td>NaN</td>\n",
       "      <td>37.0</td>\n",
       "      <td>6.15</td>\n",
       "      <td>0.568</td>\n",
       "      <td>5252.0</td>\n",
       "      <td>66.24</td>\n",
       "      <td>91.8</td>\n",
       "      <td>26.63</td>\n",
       "    </tr>\n",
       "    <tr>\n",
       "      <td>3</td>\n",
       "      <td>감비아</td>\n",
       "      <td>NaN</td>\n",
       "      <td>37.0</td>\n",
       "      <td>4.33</td>\n",
       "      <td>0.358</td>\n",
       "      <td>755.0</td>\n",
       "      <td>59.83</td>\n",
       "      <td>51.1</td>\n",
       "      <td>31.35</td>\n",
       "    </tr>\n",
       "    <tr>\n",
       "      <td>4</td>\n",
       "      <td>과테말라</td>\n",
       "      <td>NaN</td>\n",
       "      <td>27.0</td>\n",
       "      <td>5.26</td>\n",
       "      <td>0.508</td>\n",
       "      <td>4617.0</td>\n",
       "      <td>71.47</td>\n",
       "      <td>75.9</td>\n",
       "      <td>35.94</td>\n",
       "    </tr>\n",
       "    <tr>\n",
       "      <td>...</td>\n",
       "      <td>...</td>\n",
       "      <td>...</td>\n",
       "      <td>...</td>\n",
       "      <td>...</td>\n",
       "      <td>...</td>\n",
       "      <td>...</td>\n",
       "      <td>...</td>\n",
       "      <td>...</td>\n",
       "      <td>...</td>\n",
       "    </tr>\n",
       "    <tr>\n",
       "      <td>192</td>\n",
       "      <td>필리핀</td>\n",
       "      <td>NaN</td>\n",
       "      <td>36.0</td>\n",
       "      <td>6.64</td>\n",
       "      <td>0.637</td>\n",
       "      <td>3294.0</td>\n",
       "      <td>67.99</td>\n",
       "      <td>95.4</td>\n",
       "      <td>43.91</td>\n",
       "    </tr>\n",
       "    <tr>\n",
       "      <td>193</td>\n",
       "      <td>헝가리</td>\n",
       "      <td>NaN</td>\n",
       "      <td>46.0</td>\n",
       "      <td>6.63</td>\n",
       "      <td>0.834</td>\n",
       "      <td>17463.0</td>\n",
       "      <td>74.98</td>\n",
       "      <td>99.0</td>\n",
       "      <td>30.44</td>\n",
       "    </tr>\n",
       "    <tr>\n",
       "      <td>194</td>\n",
       "      <td>중화민국</td>\n",
       "      <td>1.0</td>\n",
       "      <td>NaN</td>\n",
       "      <td>7.73</td>\n",
       "      <td>NaN</td>\n",
       "      <td>24878.0</td>\n",
       "      <td>81.18</td>\n",
       "      <td>96.1</td>\n",
       "      <td>24.98</td>\n",
       "    </tr>\n",
       "    <tr>\n",
       "      <td>195</td>\n",
       "      <td>홍콩</td>\n",
       "      <td>1.0</td>\n",
       "      <td>NaN</td>\n",
       "      <td>6.02</td>\n",
       "      <td>0.822</td>\n",
       "      <td>49334.0</td>\n",
       "      <td>81.78</td>\n",
       "      <td>93.5</td>\n",
       "      <td>29.65</td>\n",
       "    </tr>\n",
       "    <tr>\n",
       "      <td>196</td>\n",
       "      <td>코소보</td>\n",
       "      <td>NaN</td>\n",
       "      <td>37.0</td>\n",
       "      <td>NaN</td>\n",
       "      <td>NaN</td>\n",
       "      <td>4442.0</td>\n",
       "      <td>74.15</td>\n",
       "      <td>91.9</td>\n",
       "      <td>29.68</td>\n",
       "    </tr>\n",
       "  </tbody>\n",
       "</table>\n",
       "<p>197 rows × 9 columns</p>\n",
       "</div>"
      ],
      "text/plain": [
       "       국가  선진국여부   청렴도  민주주의지수   교육지수      gdp   평균수명   문해율  언론자유지수\n",
       "0      가나    NaN  41.0    6.63  0.551   2223.0  61.03  71.5   20.81\n",
       "1      가봉    NaN  31.0    3.61  0.618   8112.0  63.65  89.0   35.60\n",
       "2    가이아나    NaN  37.0    6.15  0.568   5252.0  66.24  91.8   26.63\n",
       "3     감비아    NaN  37.0    4.33  0.358    755.0  59.83  51.1   31.35\n",
       "4    과테말라    NaN  27.0    5.26  0.508   4617.0  71.47  75.9   35.94\n",
       "..    ...    ...   ...     ...    ...      ...    ...   ...     ...\n",
       "192   필리핀    NaN  36.0    6.64  0.637   3294.0  67.99  95.4   43.91\n",
       "193   헝가리    NaN  46.0    6.63  0.834  17463.0  74.98  99.0   30.44\n",
       "194  중화민국    1.0   NaN    7.73    NaN  24878.0  81.18  96.1   24.98\n",
       "195    홍콩    1.0   NaN    6.02  0.822  49334.0  81.78  93.5   29.65\n",
       "196   코소보    NaN  37.0     NaN    NaN   4442.0  74.15  91.9   29.68\n",
       "\n",
       "[197 rows x 9 columns]"
      ]
     },
     "execution_count": 99,
     "metadata": {},
     "output_type": "execute_result"
    }
   ],
   "source": [
    "df8"
   ]
  },
  {
   "cell_type": "code",
   "execution_count": 101,
   "metadata": {},
   "outputs": [
    {
     "data": {
      "text/html": [
       "<div>\n",
       "<style scoped>\n",
       "    .dataframe tbody tr th:only-of-type {\n",
       "        vertical-align: middle;\n",
       "    }\n",
       "\n",
       "    .dataframe tbody tr th {\n",
       "        vertical-align: top;\n",
       "    }\n",
       "\n",
       "    .dataframe thead th {\n",
       "        text-align: right;\n",
       "    }\n",
       "</style>\n",
       "<table border=\"1\" class=\"dataframe\">\n",
       "  <thead>\n",
       "    <tr style=\"text-align: right;\">\n",
       "      <th></th>\n",
       "      <th>국가</th>\n",
       "      <th>선진국여부</th>\n",
       "      <th>청렴도</th>\n",
       "      <th>민주주의지수</th>\n",
       "      <th>교육지수</th>\n",
       "      <th>gdp</th>\n",
       "      <th>평균수명</th>\n",
       "      <th>문해율</th>\n",
       "      <th>언론자유지수</th>\n",
       "    </tr>\n",
       "  </thead>\n",
       "  <tbody>\n",
       "    <tr>\n",
       "      <td>0</td>\n",
       "      <td>가나</td>\n",
       "      <td>0.0</td>\n",
       "      <td>41.0</td>\n",
       "      <td>6.63</td>\n",
       "      <td>0.551</td>\n",
       "      <td>2223.0</td>\n",
       "      <td>61.03</td>\n",
       "      <td>71.5</td>\n",
       "      <td>20.81</td>\n",
       "    </tr>\n",
       "    <tr>\n",
       "      <td>1</td>\n",
       "      <td>가봉</td>\n",
       "      <td>0.0</td>\n",
       "      <td>31.0</td>\n",
       "      <td>3.61</td>\n",
       "      <td>0.618</td>\n",
       "      <td>8112.0</td>\n",
       "      <td>63.65</td>\n",
       "      <td>89.0</td>\n",
       "      <td>35.60</td>\n",
       "    </tr>\n",
       "    <tr>\n",
       "      <td>2</td>\n",
       "      <td>가이아나</td>\n",
       "      <td>0.0</td>\n",
       "      <td>37.0</td>\n",
       "      <td>6.15</td>\n",
       "      <td>0.568</td>\n",
       "      <td>5252.0</td>\n",
       "      <td>66.24</td>\n",
       "      <td>91.8</td>\n",
       "      <td>26.63</td>\n",
       "    </tr>\n",
       "    <tr>\n",
       "      <td>3</td>\n",
       "      <td>감비아</td>\n",
       "      <td>0.0</td>\n",
       "      <td>37.0</td>\n",
       "      <td>4.33</td>\n",
       "      <td>0.358</td>\n",
       "      <td>755.0</td>\n",
       "      <td>59.83</td>\n",
       "      <td>51.1</td>\n",
       "      <td>31.35</td>\n",
       "    </tr>\n",
       "    <tr>\n",
       "      <td>4</td>\n",
       "      <td>과테말라</td>\n",
       "      <td>0.0</td>\n",
       "      <td>27.0</td>\n",
       "      <td>5.26</td>\n",
       "      <td>0.508</td>\n",
       "      <td>4617.0</td>\n",
       "      <td>71.47</td>\n",
       "      <td>75.9</td>\n",
       "      <td>35.94</td>\n",
       "    </tr>\n",
       "    <tr>\n",
       "      <td>...</td>\n",
       "      <td>...</td>\n",
       "      <td>...</td>\n",
       "      <td>...</td>\n",
       "      <td>...</td>\n",
       "      <td>...</td>\n",
       "      <td>...</td>\n",
       "      <td>...</td>\n",
       "      <td>...</td>\n",
       "      <td>...</td>\n",
       "    </tr>\n",
       "    <tr>\n",
       "      <td>192</td>\n",
       "      <td>필리핀</td>\n",
       "      <td>0.0</td>\n",
       "      <td>36.0</td>\n",
       "      <td>6.64</td>\n",
       "      <td>0.637</td>\n",
       "      <td>3294.0</td>\n",
       "      <td>67.99</td>\n",
       "      <td>95.4</td>\n",
       "      <td>43.91</td>\n",
       "    </tr>\n",
       "    <tr>\n",
       "      <td>193</td>\n",
       "      <td>헝가리</td>\n",
       "      <td>0.0</td>\n",
       "      <td>46.0</td>\n",
       "      <td>6.63</td>\n",
       "      <td>0.834</td>\n",
       "      <td>17463.0</td>\n",
       "      <td>74.98</td>\n",
       "      <td>99.0</td>\n",
       "      <td>30.44</td>\n",
       "    </tr>\n",
       "    <tr>\n",
       "      <td>194</td>\n",
       "      <td>중화민국</td>\n",
       "      <td>1.0</td>\n",
       "      <td>NaN</td>\n",
       "      <td>7.73</td>\n",
       "      <td>NaN</td>\n",
       "      <td>24878.0</td>\n",
       "      <td>81.18</td>\n",
       "      <td>96.1</td>\n",
       "      <td>24.98</td>\n",
       "    </tr>\n",
       "    <tr>\n",
       "      <td>195</td>\n",
       "      <td>홍콩</td>\n",
       "      <td>1.0</td>\n",
       "      <td>NaN</td>\n",
       "      <td>6.02</td>\n",
       "      <td>0.822</td>\n",
       "      <td>49334.0</td>\n",
       "      <td>81.78</td>\n",
       "      <td>93.5</td>\n",
       "      <td>29.65</td>\n",
       "    </tr>\n",
       "    <tr>\n",
       "      <td>196</td>\n",
       "      <td>코소보</td>\n",
       "      <td>0.0</td>\n",
       "      <td>37.0</td>\n",
       "      <td>NaN</td>\n",
       "      <td>NaN</td>\n",
       "      <td>4442.0</td>\n",
       "      <td>74.15</td>\n",
       "      <td>91.9</td>\n",
       "      <td>29.68</td>\n",
       "    </tr>\n",
       "  </tbody>\n",
       "</table>\n",
       "<p>197 rows × 9 columns</p>\n",
       "</div>"
      ],
      "text/plain": [
       "       국가  선진국여부   청렴도  민주주의지수   교육지수      gdp   평균수명   문해율  언론자유지수\n",
       "0      가나    0.0  41.0    6.63  0.551   2223.0  61.03  71.5   20.81\n",
       "1      가봉    0.0  31.0    3.61  0.618   8112.0  63.65  89.0   35.60\n",
       "2    가이아나    0.0  37.0    6.15  0.568   5252.0  66.24  91.8   26.63\n",
       "3     감비아    0.0  37.0    4.33  0.358    755.0  59.83  51.1   31.35\n",
       "4    과테말라    0.0  27.0    5.26  0.508   4617.0  71.47  75.9   35.94\n",
       "..    ...    ...   ...     ...    ...      ...    ...   ...     ...\n",
       "192   필리핀    0.0  36.0    6.64  0.637   3294.0  67.99  95.4   43.91\n",
       "193   헝가리    0.0  46.0    6.63  0.834  17463.0  74.98  99.0   30.44\n",
       "194  중화민국    1.0   NaN    7.73    NaN  24878.0  81.18  96.1   24.98\n",
       "195    홍콩    1.0   NaN    6.02  0.822  49334.0  81.78  93.5   29.65\n",
       "196   코소보    0.0  37.0     NaN    NaN   4442.0  74.15  91.9   29.68\n",
       "\n",
       "[197 rows x 9 columns]"
      ]
     },
     "execution_count": 101,
     "metadata": {},
     "output_type": "execute_result"
    }
   ],
   "source": [
    "df8['선진국여부'] = df8['선진국여부'].fillna(0)\n",
    "df8"
   ]
  },
  {
   "cell_type": "code",
   "execution_count": 103,
   "metadata": {},
   "outputs": [
    {
     "data": {
      "text/plain": [
       "40.0"
      ]
     },
     "execution_count": 103,
     "metadata": {},
     "output_type": "execute_result"
    }
   ],
   "source": [
    "df8['선진국여부'].sum()"
   ]
  },
  {
   "cell_type": "markdown",
   "metadata": {},
   "source": [
    "### 예측모델 사용시 양성클래스로 분류시킬 샘플들이 40개, 음성클래스가 157개이다."
   ]
  },
  {
   "cell_type": "markdown",
   "metadata": {},
   "source": [
    "# 중간저장"
   ]
  },
  {
   "cell_type": "code",
   "execution_count": 104,
   "metadata": {},
   "outputs": [],
   "source": [
    "df8.to_excel('first_result.xlsx',index=False)"
   ]
  },
  {
   "cell_type": "markdown",
   "metadata": {},
   "source": [
    "# 빈값 처리"
   ]
  },
  {
   "cell_type": "code",
   "execution_count": 2,
   "metadata": {},
   "outputs": [
    {
     "data": {
      "text/html": [
       "<div>\n",
       "<style scoped>\n",
       "    .dataframe tbody tr th:only-of-type {\n",
       "        vertical-align: middle;\n",
       "    }\n",
       "\n",
       "    .dataframe tbody tr th {\n",
       "        vertical-align: top;\n",
       "    }\n",
       "\n",
       "    .dataframe thead th {\n",
       "        text-align: right;\n",
       "    }\n",
       "</style>\n",
       "<table border=\"1\" class=\"dataframe\">\n",
       "  <thead>\n",
       "    <tr style=\"text-align: right;\">\n",
       "      <th></th>\n",
       "      <th>국가</th>\n",
       "      <th>선진국여부</th>\n",
       "      <th>청렴도</th>\n",
       "      <th>민주주의지수</th>\n",
       "      <th>교육지수</th>\n",
       "      <th>gdp</th>\n",
       "      <th>평균수명</th>\n",
       "      <th>문해율</th>\n",
       "      <th>언론자유지수</th>\n",
       "    </tr>\n",
       "  </thead>\n",
       "  <tbody>\n",
       "    <tr>\n",
       "      <td>0</td>\n",
       "      <td>가나</td>\n",
       "      <td>0</td>\n",
       "      <td>41.0</td>\n",
       "      <td>6.63</td>\n",
       "      <td>0.551</td>\n",
       "      <td>2223.0</td>\n",
       "      <td>61.03</td>\n",
       "      <td>71.5</td>\n",
       "      <td>20.81</td>\n",
       "    </tr>\n",
       "    <tr>\n",
       "      <td>1</td>\n",
       "      <td>가봉</td>\n",
       "      <td>0</td>\n",
       "      <td>31.0</td>\n",
       "      <td>3.61</td>\n",
       "      <td>0.618</td>\n",
       "      <td>8112.0</td>\n",
       "      <td>63.65</td>\n",
       "      <td>89.0</td>\n",
       "      <td>35.60</td>\n",
       "    </tr>\n",
       "    <tr>\n",
       "      <td>2</td>\n",
       "      <td>가이아나</td>\n",
       "      <td>0</td>\n",
       "      <td>37.0</td>\n",
       "      <td>6.15</td>\n",
       "      <td>0.568</td>\n",
       "      <td>5252.0</td>\n",
       "      <td>66.24</td>\n",
       "      <td>91.8</td>\n",
       "      <td>26.63</td>\n",
       "    </tr>\n",
       "    <tr>\n",
       "      <td>3</td>\n",
       "      <td>감비아</td>\n",
       "      <td>0</td>\n",
       "      <td>37.0</td>\n",
       "      <td>4.33</td>\n",
       "      <td>0.358</td>\n",
       "      <td>755.0</td>\n",
       "      <td>59.83</td>\n",
       "      <td>51.1</td>\n",
       "      <td>31.35</td>\n",
       "    </tr>\n",
       "    <tr>\n",
       "      <td>4</td>\n",
       "      <td>과테말라</td>\n",
       "      <td>0</td>\n",
       "      <td>27.0</td>\n",
       "      <td>5.26</td>\n",
       "      <td>0.508</td>\n",
       "      <td>4617.0</td>\n",
       "      <td>71.47</td>\n",
       "      <td>75.9</td>\n",
       "      <td>35.94</td>\n",
       "    </tr>\n",
       "  </tbody>\n",
       "</table>\n",
       "</div>"
      ],
      "text/plain": [
       "     국가  선진국여부   청렴도  민주주의지수   교육지수     gdp   평균수명   문해율  언론자유지수\n",
       "0    가나      0  41.0    6.63  0.551  2223.0  61.03  71.5   20.81\n",
       "1    가봉      0  31.0    3.61  0.618  8112.0  63.65  89.0   35.60\n",
       "2  가이아나      0  37.0    6.15  0.568  5252.0  66.24  91.8   26.63\n",
       "3   감비아      0  37.0    4.33  0.358   755.0  59.83  51.1   31.35\n",
       "4  과테말라      0  27.0    5.26  0.508  4617.0  71.47  75.9   35.94"
      ]
     },
     "execution_count": 2,
     "metadata": {},
     "output_type": "execute_result"
    }
   ],
   "source": [
    "df = pd.read_excel('first_result.xlsx')\n",
    "df.head()"
   ]
  },
  {
   "cell_type": "code",
   "execution_count": 3,
   "metadata": {
    "scrolled": true
   },
   "outputs": [],
   "source": [
    "# 빈값이 너무 많은 국가는 제거\n",
    "cond = (df.isnull().sum(axis=1)>=1)\n",
    "s1 = df[cond == True]['국가']\n",
    "s2 = df.isnull().sum(axis=1)"
   ]
  },
  {
   "cell_type": "code",
   "execution_count": 4,
   "metadata": {},
   "outputs": [],
   "source": [
    "s3 = s2[s2>=1]"
   ]
  },
  {
   "cell_type": "code",
   "execution_count": 5,
   "metadata": {},
   "outputs": [],
   "source": [
    "df1 = pd.DataFrame(s1,columns=['국가'])\n",
    "df2 = pd.DataFrame(s3,columns=['빈값의 개수'])"
   ]
  },
  {
   "cell_type": "code",
   "execution_count": 6,
   "metadata": {},
   "outputs": [
    {
     "data": {
      "text/plain": [
       "1    17\n",
       "2    14\n",
       "3     5\n",
       "4     7\n",
       "5     1\n",
       "6     3\n",
       "Name: 빈값의 개수, dtype: int64"
      ]
     },
     "execution_count": 6,
     "metadata": {},
     "output_type": "execute_result"
    }
   ],
   "source": [
    "null_df = pd.merge(df1,df2,left_index=True,right_index=True)\n",
    "null_df['빈값의 개수'].value_counts().sort_index()"
   ]
  },
  {
   "cell_type": "code",
   "execution_count": 7,
   "metadata": {},
   "outputs": [
    {
     "data": {
      "text/html": [
       "<div>\n",
       "<style scoped>\n",
       "    .dataframe tbody tr th:only-of-type {\n",
       "        vertical-align: middle;\n",
       "    }\n",
       "\n",
       "    .dataframe tbody tr th {\n",
       "        vertical-align: top;\n",
       "    }\n",
       "\n",
       "    .dataframe thead th {\n",
       "        text-align: right;\n",
       "    }\n",
       "</style>\n",
       "<table border=\"1\" class=\"dataframe\">\n",
       "  <thead>\n",
       "    <tr style=\"text-align: right;\">\n",
       "      <th></th>\n",
       "      <th>국가</th>\n",
       "      <th>빈값의 개수</th>\n",
       "    </tr>\n",
       "  </thead>\n",
       "  <tbody>\n",
       "    <tr>\n",
       "      <td>10</td>\n",
       "      <td>나우루</td>\n",
       "      <td>6</td>\n",
       "    </tr>\n",
       "    <tr>\n",
       "      <td>39</td>\n",
       "      <td>마셜제도</td>\n",
       "      <td>5</td>\n",
       "    </tr>\n",
       "    <tr>\n",
       "      <td>44</td>\n",
       "      <td>모나코</td>\n",
       "      <td>6</td>\n",
       "    </tr>\n",
       "    <tr>\n",
       "      <td>178</td>\n",
       "      <td>투발루</td>\n",
       "      <td>6</td>\n",
       "    </tr>\n",
       "  </tbody>\n",
       "</table>\n",
       "</div>"
      ],
      "text/plain": [
       "       국가  빈값의 개수\n",
       "10    나우루       6\n",
       "39   마셜제도       5\n",
       "44    모나코       6\n",
       "178   투발루       6"
      ]
     },
     "execution_count": 7,
     "metadata": {},
     "output_type": "execute_result"
    }
   ],
   "source": [
    "# 빈값이 너무 많은데 4개 밖에 되지 않으니 제거하도록 한다.\n",
    "null_df[null_df['빈값의 개수']>=5]"
   ]
  },
  {
   "cell_type": "code",
   "execution_count": 8,
   "metadata": {},
   "outputs": [],
   "source": [
    "df.drop([10,39,44,178],axis=0,inplace=True)"
   ]
  },
  {
   "cell_type": "code",
   "execution_count": 9,
   "metadata": {},
   "outputs": [
    {
     "data": {
      "text/html": [
       "<div>\n",
       "<style scoped>\n",
       "    .dataframe tbody tr th:only-of-type {\n",
       "        vertical-align: middle;\n",
       "    }\n",
       "\n",
       "    .dataframe tbody tr th {\n",
       "        vertical-align: top;\n",
       "    }\n",
       "\n",
       "    .dataframe thead th {\n",
       "        text-align: right;\n",
       "    }\n",
       "</style>\n",
       "<table border=\"1\" class=\"dataframe\">\n",
       "  <thead>\n",
       "    <tr style=\"text-align: right;\">\n",
       "      <th></th>\n",
       "      <th>국가</th>\n",
       "      <th>선진국여부</th>\n",
       "      <th>청렴도</th>\n",
       "      <th>민주주의지수</th>\n",
       "      <th>교육지수</th>\n",
       "      <th>gdp</th>\n",
       "      <th>평균수명</th>\n",
       "      <th>문해율</th>\n",
       "      <th>언론자유지수</th>\n",
       "    </tr>\n",
       "  </thead>\n",
       "  <tbody>\n",
       "    <tr>\n",
       "      <td>8</td>\n",
       "      <td>기니비사우</td>\n",
       "      <td>0</td>\n",
       "      <td>28.0</td>\n",
       "      <td>2.63</td>\n",
       "      <td>0.353</td>\n",
       "      <td>786.0</td>\n",
       "      <td>54.72</td>\n",
       "      <td>55.3</td>\n",
       "      <td>30.95</td>\n",
       "    </tr>\n",
       "    <tr>\n",
       "      <td>9</td>\n",
       "      <td>나미비아</td>\n",
       "      <td>0</td>\n",
       "      <td>53.0</td>\n",
       "      <td>6.43</td>\n",
       "      <td>0.546</td>\n",
       "      <td>5842.0</td>\n",
       "      <td>64.34</td>\n",
       "      <td>88.8</td>\n",
       "      <td>18.95</td>\n",
       "    </tr>\n",
       "    <tr>\n",
       "      <td>10</td>\n",
       "      <td>나이지리아</td>\n",
       "      <td>0</td>\n",
       "      <td>27.0</td>\n",
       "      <td>4.12</td>\n",
       "      <td>0.477</td>\n",
       "      <td>2222.0</td>\n",
       "      <td>52.29</td>\n",
       "      <td>61.3</td>\n",
       "      <td>36.50</td>\n",
       "    </tr>\n",
       "    <tr>\n",
       "      <td>11</td>\n",
       "      <td>남수단</td>\n",
       "      <td>0</td>\n",
       "      <td>13.0</td>\n",
       "      <td>NaN</td>\n",
       "      <td>0.297</td>\n",
       "      <td>275.0</td>\n",
       "      <td>55.06</td>\n",
       "      <td>27.0</td>\n",
       "      <td>45.65</td>\n",
       "    </tr>\n",
       "    <tr>\n",
       "      <td>12</td>\n",
       "      <td>남아프리카공화국</td>\n",
       "      <td>0</td>\n",
       "      <td>43.0</td>\n",
       "      <td>7.24</td>\n",
       "      <td>0.705</td>\n",
       "      <td>6100.0</td>\n",
       "      <td>57.11</td>\n",
       "      <td>93.0</td>\n",
       "      <td>22.19</td>\n",
       "    </tr>\n",
       "  </tbody>\n",
       "</table>\n",
       "</div>"
      ],
      "text/plain": [
       "          국가  선진국여부   청렴도  민주주의지수   교육지수     gdp   평균수명   문해율  언론자유지수\n",
       "8      기니비사우      0  28.0    2.63  0.353   786.0  54.72  55.3   30.95\n",
       "9       나미비아      0  53.0    6.43  0.546  5842.0  64.34  88.8   18.95\n",
       "10     나이지리아      0  27.0    4.12  0.477  2222.0  52.29  61.3   36.50\n",
       "11       남수단      0  13.0     NaN  0.297   275.0  55.06  27.0   45.65\n",
       "12  남아프리카공화국      0  43.0    7.24  0.705  6100.0  57.11  93.0   22.19"
      ]
     },
     "execution_count": 9,
     "metadata": {},
     "output_type": "execute_result"
    }
   ],
   "source": [
    "df.reset_index(drop=True,inplace=True)\n",
    "df[8:13]"
   ]
  },
  {
   "cell_type": "markdown",
   "metadata": {},
   "source": [
    "# 다른 지표와의 상관계수를 통해 빈값 채우기\n",
    "상관계수가 높은 다른 지표를 구간화해 그룹을 만들고 그 그룹의 평균값으로 대치한다.<br>\n",
    "단 선진국 여부는 레이블 값이므로 사용하지 않는다."
   ]
  },
  {
   "cell_type": "code",
   "execution_count": 10,
   "metadata": {},
   "outputs": [
    {
     "data": {
      "text/html": [
       "<div>\n",
       "<style scoped>\n",
       "    .dataframe tbody tr th:only-of-type {\n",
       "        vertical-align: middle;\n",
       "    }\n",
       "\n",
       "    .dataframe tbody tr th {\n",
       "        vertical-align: top;\n",
       "    }\n",
       "\n",
       "    .dataframe thead th {\n",
       "        text-align: right;\n",
       "    }\n",
       "</style>\n",
       "<table border=\"1\" class=\"dataframe\">\n",
       "  <thead>\n",
       "    <tr style=\"text-align: right;\">\n",
       "      <th></th>\n",
       "      <th>선진국여부</th>\n",
       "      <th>청렴도</th>\n",
       "      <th>민주주의지수</th>\n",
       "      <th>교육지수</th>\n",
       "      <th>gdp</th>\n",
       "      <th>평균수명</th>\n",
       "      <th>문해율</th>\n",
       "      <th>언론자유지수</th>\n",
       "    </tr>\n",
       "  </thead>\n",
       "  <tbody>\n",
       "    <tr>\n",
       "      <td>선진국여부</td>\n",
       "      <td>1.000000</td>\n",
       "      <td>0.724403</td>\n",
       "      <td>0.653464</td>\n",
       "      <td>0.614227</td>\n",
       "      <td>0.784802</td>\n",
       "      <td>0.582733</td>\n",
       "      <td>0.375101</td>\n",
       "      <td>-0.497759</td>\n",
       "    </tr>\n",
       "    <tr>\n",
       "      <td>청렴도</td>\n",
       "      <td>0.724403</td>\n",
       "      <td>1.000000</td>\n",
       "      <td>0.754702</td>\n",
       "      <td>0.692898</td>\n",
       "      <td>0.799814</td>\n",
       "      <td>0.685937</td>\n",
       "      <td>0.492228</td>\n",
       "      <td>-0.609598</td>\n",
       "    </tr>\n",
       "    <tr>\n",
       "      <td>민주주의지수</td>\n",
       "      <td>0.653464</td>\n",
       "      <td>0.754702</td>\n",
       "      <td>1.000000</td>\n",
       "      <td>0.634811</td>\n",
       "      <td>0.584570</td>\n",
       "      <td>0.609721</td>\n",
       "      <td>0.434454</td>\n",
       "      <td>-0.796713</td>\n",
       "    </tr>\n",
       "    <tr>\n",
       "      <td>교육지수</td>\n",
       "      <td>0.614227</td>\n",
       "      <td>0.692898</td>\n",
       "      <td>0.634811</td>\n",
       "      <td>1.000000</td>\n",
       "      <td>0.647391</td>\n",
       "      <td>0.814684</td>\n",
       "      <td>0.843460</td>\n",
       "      <td>-0.401827</td>\n",
       "    </tr>\n",
       "    <tr>\n",
       "      <td>gdp</td>\n",
       "      <td>0.784802</td>\n",
       "      <td>0.799814</td>\n",
       "      <td>0.584570</td>\n",
       "      <td>0.647391</td>\n",
       "      <td>1.000000</td>\n",
       "      <td>0.648601</td>\n",
       "      <td>0.459014</td>\n",
       "      <td>-0.421734</td>\n",
       "    </tr>\n",
       "    <tr>\n",
       "      <td>평균수명</td>\n",
       "      <td>0.582733</td>\n",
       "      <td>0.685937</td>\n",
       "      <td>0.609721</td>\n",
       "      <td>0.814684</td>\n",
       "      <td>0.648601</td>\n",
       "      <td>1.000000</td>\n",
       "      <td>0.716786</td>\n",
       "      <td>-0.301231</td>\n",
       "    </tr>\n",
       "    <tr>\n",
       "      <td>문해율</td>\n",
       "      <td>0.375101</td>\n",
       "      <td>0.492228</td>\n",
       "      <td>0.434454</td>\n",
       "      <td>0.843460</td>\n",
       "      <td>0.459014</td>\n",
       "      <td>0.716786</td>\n",
       "      <td>1.000000</td>\n",
       "      <td>-0.164576</td>\n",
       "    </tr>\n",
       "    <tr>\n",
       "      <td>언론자유지수</td>\n",
       "      <td>-0.497759</td>\n",
       "      <td>-0.609598</td>\n",
       "      <td>-0.796713</td>\n",
       "      <td>-0.401827</td>\n",
       "      <td>-0.421734</td>\n",
       "      <td>-0.301231</td>\n",
       "      <td>-0.164576</td>\n",
       "      <td>1.000000</td>\n",
       "    </tr>\n",
       "  </tbody>\n",
       "</table>\n",
       "</div>"
      ],
      "text/plain": [
       "           선진국여부       청렴도    민주주의지수      교육지수       gdp      평균수명       문해율  \\\n",
       "선진국여부   1.000000  0.724403  0.653464  0.614227  0.784802  0.582733  0.375101   \n",
       "청렴도     0.724403  1.000000  0.754702  0.692898  0.799814  0.685937  0.492228   \n",
       "민주주의지수  0.653464  0.754702  1.000000  0.634811  0.584570  0.609721  0.434454   \n",
       "교육지수    0.614227  0.692898  0.634811  1.000000  0.647391  0.814684  0.843460   \n",
       "gdp     0.784802  0.799814  0.584570  0.647391  1.000000  0.648601  0.459014   \n",
       "평균수명    0.582733  0.685937  0.609721  0.814684  0.648601  1.000000  0.716786   \n",
       "문해율     0.375101  0.492228  0.434454  0.843460  0.459014  0.716786  1.000000   \n",
       "언론자유지수 -0.497759 -0.609598 -0.796713 -0.401827 -0.421734 -0.301231 -0.164576   \n",
       "\n",
       "          언론자유지수  \n",
       "선진국여부  -0.497759  \n",
       "청렴도    -0.609598  \n",
       "민주주의지수 -0.796713  \n",
       "교육지수   -0.401827  \n",
       "gdp    -0.421734  \n",
       "평균수명   -0.301231  \n",
       "문해율    -0.164576  \n",
       "언론자유지수  1.000000  "
      ]
     },
     "execution_count": 10,
     "metadata": {},
     "output_type": "execute_result"
    }
   ],
   "source": [
    "df.corr()"
   ]
  },
  {
   "cell_type": "code",
   "execution_count": 11,
   "metadata": {},
   "outputs": [
    {
     "data": {
      "text/plain": [
       "국가         0\n",
       "선진국여부      0\n",
       "청렴도       23\n",
       "민주주의지수    27\n",
       "교육지수       6\n",
       "gdp        6\n",
       "평균수명       7\n",
       "문해율        3\n",
       "언론자유지수    16\n",
       "dtype: int64"
      ]
     },
     "execution_count": 11,
     "metadata": {},
     "output_type": "execute_result"
    }
   ],
   "source": [
    "df.isnull().sum()"
   ]
  },
  {
   "cell_type": "markdown",
   "metadata": {},
   "source": [
    "- 청렴도는 민주주의지수\n",
    "- 민주주의지수는 언론자유지수\n",
    "- 교육지수는 문해율\n",
    "- gdp는 청렴도\n",
    "- 평균수명은 교육지수\n",
    "- 문해율은 교육지수\n",
    "- 언론자유지수는 민주주의지수\n",
    "\n",
    "와 가장 상관관계가 높음\n",
    "\n",
    "이 중 상관계수가 가장 큰 교육지수-문해율, 평균수명-교육지수, gdp와 청렴도, 민주주의지수-언론자유지수, 청렴도-민주주의지수 순으로 적용"
   ]
  },
  {
   "cell_type": "code",
   "execution_count": 12,
   "metadata": {},
   "outputs": [
    {
     "name": "stdout",
     "output_type": "stream",
     "text": [
      "교육지수의 구간:\n",
      "  IntervalIndex([(0.205, 0.445], (0.445, 0.551], (0.551, 0.659], (0.659, 0.725], (0.725, 0.818], (0.818, 0.939]],\n",
      "              closed='right',\n",
      "              dtype='interval[float64]')\n"
     ]
    }
   ],
   "source": [
    "# 문해율\n",
    "\n",
    "cat_edu = pd.qcut(df['교육지수'],6)\n",
    "cat_edu2 = pd.Categorical(cat_edu)\n",
    "edu_interval = cat_edu2.codes\n",
    "print(\"교육지수의 구간:\\n \",cat_edu2.categories)"
   ]
  },
  {
   "cell_type": "code",
   "execution_count": 13,
   "metadata": {},
   "outputs": [],
   "source": [
    "df['임시_교육'] = edu_interval\n",
    "df['문해율'].fillna(df.groupby('임시_교육')['문해율'].transform('mean'),inplace=True)"
   ]
  },
  {
   "cell_type": "code",
   "execution_count": 14,
   "metadata": {},
   "outputs": [
    {
     "name": "stdout",
     "output_type": "stream",
     "text": [
      "교육지수의 구간:\n",
      "  IntervalIndex([(26.999, 66.8], (66.8, 85.0], (85.0, 93.1], (93.1, 97.389], (97.389, 99.0], (99.0, 100.0]],\n",
      "              closed='right',\n",
      "              dtype='interval[float64]')\n"
     ]
    }
   ],
   "source": [
    "# 교육지수\n",
    "\n",
    "cat_liter = pd.qcut(df['문해율'],6)\n",
    "cat_liter2 = pd.Categorical(cat_liter)\n",
    "liter_interval = cat_liter2.codes\n",
    "print(\"교육지수의 구간:\\n \",cat_liter2.categories)"
   ]
  },
  {
   "cell_type": "code",
   "execution_count": 15,
   "metadata": {},
   "outputs": [],
   "source": [
    "df['임시_문해'] = liter_interval\n",
    "df['교육지수'].fillna(df.groupby('임시_문해')['교육지수'].transform('mean'),inplace=True)"
   ]
  },
  {
   "cell_type": "code",
   "execution_count": 16,
   "metadata": {},
   "outputs": [],
   "source": [
    "# 평균수명\n",
    "\n",
    "df['평균수명'].fillna(df.groupby('임시_교육')['평균수명'].transform('mean'),inplace=True)"
   ]
  },
  {
   "cell_type": "code",
   "execution_count": 17,
   "metadata": {},
   "outputs": [
    {
     "name": "stdout",
     "output_type": "stream",
     "text": [
      "교육지수의 구간:\n",
      "  IntervalIndex([(9.999, 26.0], (26.0, 32.0], (32.0, 37.0], (37.0, 47.0], (47.0, 62.833], (62.833, 88.0]],\n",
      "              closed='right',\n",
      "              dtype='interval[float64]')\n"
     ]
    }
   ],
   "source": [
    "# gdp\n",
    "\n",
    "cat_clean = pd.qcut(df['청렴도'],6)\n",
    "cat_clean2 = pd.Categorical(cat_clean)\n",
    "clean_interval = cat_clean2.codes\n",
    "print(\"교육지수의 구간:\\n \",cat_clean2.categories)"
   ]
  },
  {
   "cell_type": "code",
   "execution_count": 18,
   "metadata": {},
   "outputs": [],
   "source": [
    "df['임시_청렴'] = clean_interval\n",
    "df['gdp'].fillna(df.groupby('임시_청렴')['gdp'].transform('mean'),inplace=True)"
   ]
  },
  {
   "cell_type": "code",
   "execution_count": 19,
   "metadata": {},
   "outputs": [
    {
     "name": "stdout",
     "output_type": "stream",
     "text": [
      "교육지수의 구간:\n",
      "  IntervalIndex([(1.129, 3.0], (3.0, 4.05], (4.05, 5.7], (5.7, 6.63], (6.63, 7.835], (7.835, 9.87]],\n",
      "              closed='right',\n",
      "              dtype='interval[float64]')\n"
     ]
    }
   ],
   "source": [
    "# 언론자유지수\n",
    "\n",
    "cat_demo = pd.qcut(df['민주주의지수'],6)\n",
    "cat_demo2 = pd.Categorical(cat_demo)\n",
    "demo_interval = cat_demo2.codes\n",
    "print(\"교육지수의 구간:\\n \",cat_demo2.categories)"
   ]
  },
  {
   "cell_type": "code",
   "execution_count": 20,
   "metadata": {},
   "outputs": [],
   "source": [
    "df['임시_민주'] = demo_interval\n",
    "df['언론자유지수'].fillna(df.groupby('임시_민주')['언론자유지수'].transform('mean'),inplace=True)"
   ]
  },
  {
   "cell_type": "code",
   "execution_count": 21,
   "metadata": {},
   "outputs": [
    {
     "name": "stdout",
     "output_type": "stream",
     "text": [
      "교육지수의 구간:\n",
      "  IntervalIndex([(7.819, 22.31], (22.31, 29.26], (29.26, 32.4], (32.4, 36.967], (36.967, 49.1], (49.1, 85.44]],\n",
      "              closed='right',\n",
      "              dtype='interval[float64]')\n"
     ]
    }
   ],
   "source": [
    "# 민주주의지수\n",
    "\n",
    "cat_press = pd.qcut(df['언론자유지수'],6)\n",
    "cat_press2 = pd.Categorical(cat_press)\n",
    "press_interval = cat_press2.codes\n",
    "print(\"교육지수의 구간:\\n \",cat_press2.categories)"
   ]
  },
  {
   "cell_type": "code",
   "execution_count": 22,
   "metadata": {},
   "outputs": [],
   "source": [
    "df['임시_언론'] = press_interval\n",
    "df['민주주의지수'].fillna(df.groupby('임시_언론')['민주주의지수'].transform('mean'),inplace=True)"
   ]
  },
  {
   "cell_type": "code",
   "execution_count": 23,
   "metadata": {},
   "outputs": [],
   "source": [
    "# 청렴도\n",
    "\n",
    "df['청렴도'].fillna(df.groupby('임시_민주')['청렴도'].transform('mean'),inplace=True)"
   ]
  },
  {
   "cell_type": "code",
   "execution_count": 26,
   "metadata": {},
   "outputs": [],
   "source": [
    "df.drop(['임시_민주','임시_언론','임시_청렴','임시_문해','임시_교육'],axis=1,inplace=True)"
   ]
  },
  {
   "cell_type": "code",
   "execution_count": 28,
   "metadata": {},
   "outputs": [
    {
     "data": {
      "text/plain": [
       "국가        0\n",
       "선진국여부     0\n",
       "청렴도       0\n",
       "민주주의지수    0\n",
       "교육지수      0\n",
       "gdp       0\n",
       "평균수명      0\n",
       "문해율       0\n",
       "언론자유지수    0\n",
       "dtype: int64"
      ]
     },
     "execution_count": 28,
     "metadata": {},
     "output_type": "execute_result"
    }
   ],
   "source": [
    "df.isnull().sum()"
   ]
  },
  {
   "cell_type": "code",
   "execution_count": 82,
   "metadata": {},
   "outputs": [],
   "source": [
    "df.to_excel('result.xlsx',index=False)"
   ]
  },
  {
   "cell_type": "markdown",
   "metadata": {},
   "source": [
    "# 머신러닝\n",
    "머신러닝을 적용하는 부분에서는 선진국 여부보다는 음성, 양성이라는 표현을 쓰도록 한다."
   ]
  },
  {
   "cell_type": "code",
   "execution_count": 3,
   "metadata": {},
   "outputs": [],
   "source": [
    "df = pd.read_excel('result.xlsx')"
   ]
  },
  {
   "cell_type": "code",
   "execution_count": 4,
   "metadata": {},
   "outputs": [],
   "source": [
    "import matplotlib.pyplot as plt\n",
    "%matplotlib inline"
   ]
  },
  {
   "cell_type": "code",
   "execution_count": 5,
   "metadata": {},
   "outputs": [],
   "source": [
    "# 레이블과 데이터 분리\n",
    "\n",
    "y = df['선진국여부']\n",
    "X = df.drop(['국가','선진국여부'],axis=1)"
   ]
  },
  {
   "cell_type": "code",
   "execution_count": 6,
   "metadata": {},
   "outputs": [],
   "source": [
    "from sklearn.model_selection import cross_val_score"
   ]
  },
  {
   "cell_type": "code",
   "execution_count": 7,
   "metadata": {},
   "outputs": [],
   "source": [
    "from sklearn.tree import DecisionTreeClassifier\n",
    "tree = DecisionTreeClassifier()"
   ]
  },
  {
   "cell_type": "code",
   "execution_count": 8,
   "metadata": {},
   "outputs": [
    {
     "data": {
      "text/plain": [
       "array([0.94871795, 1.        , 1.        , 0.97368421, 0.94736842])"
      ]
     },
     "execution_count": 8,
     "metadata": {},
     "output_type": "execute_result"
    }
   ],
   "source": [
    "# binary classification은 기본적으로 Stratified Kfold 사용\n",
    "cross_val_score(tree,X,y,cv=5)"
   ]
  },
  {
   "cell_type": "code",
   "execution_count": 9,
   "metadata": {},
   "outputs": [],
   "source": [
    "# 아래 예측모델들은 StandardScaler 사용\n",
    "from sklearn.preprocessing import StandardScaler\n",
    "scaler = StandardScaler()\n",
    "X_scaled = scaler.fit_transform(X)"
   ]
  },
  {
   "cell_type": "code",
   "execution_count": 10,
   "metadata": {},
   "outputs": [],
   "source": [
    "from sklearn.svm import SVC\n",
    "svc = SVC()"
   ]
  },
  {
   "cell_type": "code",
   "execution_count": 11,
   "metadata": {},
   "outputs": [
    {
     "data": {
      "text/plain": [
       "array([1.        , 0.94871795, 0.94871795, 0.89473684, 1.        ])"
      ]
     },
     "execution_count": 11,
     "metadata": {},
     "output_type": "execute_result"
    }
   ],
   "source": [
    "cross_val_score(svc,X_scaled,y,cv=5)"
   ]
  },
  {
   "cell_type": "code",
   "execution_count": 12,
   "metadata": {},
   "outputs": [],
   "source": [
    "from sklearn.neighbors import KNeighborsClassifier\n",
    "knn = KNeighborsClassifier(n_neighbors=3)"
   ]
  },
  {
   "cell_type": "code",
   "execution_count": 13,
   "metadata": {},
   "outputs": [
    {
     "data": {
      "text/plain": [
       "array([0.97435897, 0.97435897, 0.94871795, 0.92105263, 0.94736842])"
      ]
     },
     "execution_count": 13,
     "metadata": {},
     "output_type": "execute_result"
    }
   ],
   "source": [
    "cross_val_score(knn,X_scaled,y,cv=5)"
   ]
  },
  {
   "cell_type": "code",
   "execution_count": 14,
   "metadata": {},
   "outputs": [],
   "source": [
    "from sklearn.linear_model import LogisticRegression\n",
    "log = LogisticRegression(solver='liblinear')"
   ]
  },
  {
   "cell_type": "code",
   "execution_count": 15,
   "metadata": {},
   "outputs": [
    {
     "data": {
      "text/plain": [
       "array([1.        , 0.97435897, 0.94871795, 0.89473684, 1.        ])"
      ]
     },
     "execution_count": 15,
     "metadata": {},
     "output_type": "execute_result"
    }
   ],
   "source": [
    "cross_val_score(log,X_scaled,y,cv=5)"
   ]
  },
  {
   "cell_type": "code",
   "execution_count": 16,
   "metadata": {},
   "outputs": [
    {
     "data": {
      "text/plain": [
       "array([1.        , 0.97435897, 0.94871795, 0.86842105, 0.94736842])"
      ]
     },
     "execution_count": 16,
     "metadata": {},
     "output_type": "execute_result"
    }
   ],
   "source": [
    "from sklearn.neural_network import MLPClassifier\n",
    "mlp = MLPClassifier(solver='lbfgs')\n",
    "cross_val_score(mlp,X_scaled,y,cv=5)"
   ]
  },
  {
   "cell_type": "markdown",
   "metadata": {},
   "source": [
    "기본적으로 정확도 측면에서는 매우 높은 성능을 보인다."
   ]
  },
  {
   "cell_type": "code",
   "execution_count": 17,
   "metadata": {},
   "outputs": [
    {
     "data": {
      "text/plain": [
       "0    154\n",
       "1     39\n",
       "Name: 선진국여부, dtype: int64"
      ]
     },
     "execution_count": 17,
     "metadata": {},
     "output_type": "execute_result"
    }
   ],
   "source": [
    "y.value_counts()"
   ]
  },
  {
   "cell_type": "markdown",
   "metadata": {},
   "source": [
    "다만 이 성능은 대부분이 음성이기 때문에 그런 것일 가능성이 크다. 만약 분류기가 모든 샘플을 음성으로만 분류한다 해도 0.7972 정도의 정확도가 나온다."
   ]
  },
  {
   "cell_type": "code",
   "execution_count": 18,
   "metadata": {},
   "outputs": [],
   "source": [
    "from sklearn.model_selection import train_test_split\n",
    "\n",
    "# 샘플의 개수가 적으므로 test_set의 크기를 키우도록 하겠음\n",
    "X_train,X_test,y_train,y_test = train_test_split(X,y,test_size=0.5,random_state=1234)"
   ]
  },
  {
   "cell_type": "code",
   "execution_count": 19,
   "metadata": {},
   "outputs": [
    {
     "data": {
      "text/plain": [
       "LogisticRegression(C=1.0, class_weight=None, dual=False, fit_intercept=True,\n",
       "                   intercept_scaling=1, l1_ratio=None, max_iter=100,\n",
       "                   multi_class='auto', n_jobs=None, penalty='l2',\n",
       "                   random_state=None, solver='liblinear', tol=0.0001, verbose=0,\n",
       "                   warm_start=False)"
      ]
     },
     "execution_count": 19,
     "metadata": {},
     "output_type": "execute_result"
    }
   ],
   "source": [
    "log.fit(X_train,y_train)"
   ]
  },
  {
   "cell_type": "code",
   "execution_count": 20,
   "metadata": {},
   "outputs": [
    {
     "data": {
      "text/plain": [
       "0.9278350515463918"
      ]
     },
     "execution_count": 20,
     "metadata": {},
     "output_type": "execute_result"
    }
   ],
   "source": [
    "log.score(X_test,y_test)"
   ]
  },
  {
   "cell_type": "code",
   "execution_count": 21,
   "metadata": {},
   "outputs": [],
   "source": [
    "y_pred_log = log.predict(X_test)"
   ]
  },
  {
   "cell_type": "code",
   "execution_count": 22,
   "metadata": {},
   "outputs": [
    {
     "name": "stdout",
     "output_type": "stream",
     "text": [
      "[[72  1]\n",
      " [ 6 18]]\n"
     ]
    }
   ],
   "source": [
    "from sklearn.metrics import confusion_matrix\n",
    "\n",
    "log_matrix = confusion_matrix(y_test,y_pred_log)\n",
    "print(log_matrix)"
   ]
  },
  {
   "cell_type": "code",
   "execution_count": 23,
   "metadata": {},
   "outputs": [
    {
     "name": "stdout",
     "output_type": "stream",
     "text": [
      "              precision    recall  f1-score   support\n",
      "\n",
      "           0       0.92      0.99      0.95        73\n",
      "           1       0.95      0.75      0.84        24\n",
      "\n",
      "    accuracy                           0.93        97\n",
      "   macro avg       0.94      0.87      0.90        97\n",
      "weighted avg       0.93      0.93      0.92        97\n",
      "\n"
     ]
    }
   ],
   "source": [
    "from sklearn.metrics import classification_report\n",
    "print(classification_report(y_test,y_pred_log))"
   ]
  },
  {
   "cell_type": "markdown",
   "metadata": {},
   "source": [
    "accuracy와 precision은 좋은데 recall의 측면에서 약간 뒤떨어진다."
   ]
  },
  {
   "cell_type": "code",
   "execution_count": 24,
   "metadata": {},
   "outputs": [
    {
     "data": {
      "text/plain": [
       "array([0.00238474, 0.00864511, 0.02193542, 0.060308  , 0.07711219,\n",
       "       0.08291237, 0.10068248, 0.17235522, 0.19055287, 0.22163288,\n",
       "       0.44840119, 0.94484655, 0.94808048, 0.9831114 , 0.99882762,\n",
       "       0.99934721, 0.99977464, 0.99983439, 0.9999222 , 0.99995086,\n",
       "       0.99998458, 0.99999999, 0.99999999, 1.        , 1.        ,\n",
       "       1.        , 1.        , 1.        , 1.        , 1.        ])"
      ]
     },
     "execution_count": 24,
     "metadata": {},
     "output_type": "execute_result"
    }
   ],
   "source": [
    "np.sort(log.predict_proba(X_test)[:,1])[-30:]"
   ]
  },
  {
   "cell_type": "code",
   "execution_count": 25,
   "metadata": {},
   "outputs": [
    {
     "data": {
      "text/plain": [
       "DecisionTreeClassifier(ccp_alpha=0.0, class_weight=None, criterion='gini',\n",
       "                       max_depth=None, max_features=None, max_leaf_nodes=None,\n",
       "                       min_impurity_decrease=0.0, min_impurity_split=None,\n",
       "                       min_samples_leaf=1, min_samples_split=2,\n",
       "                       min_weight_fraction_leaf=0.0, presort='deprecated',\n",
       "                       random_state=None, splitter='best')"
      ]
     },
     "execution_count": 25,
     "metadata": {},
     "output_type": "execute_result"
    }
   ],
   "source": [
    "# decision tree\n",
    "\n",
    "tree.fit(X_train,y_train)"
   ]
  },
  {
   "cell_type": "code",
   "execution_count": 26,
   "metadata": {},
   "outputs": [
    {
     "data": {
      "text/plain": [
       "0.9278350515463918"
      ]
     },
     "execution_count": 26,
     "metadata": {},
     "output_type": "execute_result"
    }
   ],
   "source": [
    "tree.score(X_test,y_test)"
   ]
  },
  {
   "cell_type": "code",
   "execution_count": 27,
   "metadata": {},
   "outputs": [
    {
     "name": "stdout",
     "output_type": "stream",
     "text": [
      "[[71  2]\n",
      " [ 5 19]]\n"
     ]
    }
   ],
   "source": [
    "y_pred_tree = tree.predict(X_test)\n",
    "tree_matrix = confusion_matrix(y_test,y_pred_tree)\n",
    "print(tree_matrix)"
   ]
  },
  {
   "cell_type": "code",
   "execution_count": 28,
   "metadata": {},
   "outputs": [
    {
     "name": "stdout",
     "output_type": "stream",
     "text": [
      "              precision    recall  f1-score   support\n",
      "\n",
      "           0       0.93      0.97      0.95        73\n",
      "           1       0.90      0.79      0.84        24\n",
      "\n",
      "    accuracy                           0.93        97\n",
      "   macro avg       0.92      0.88      0.90        97\n",
      "weighted avg       0.93      0.93      0.93        97\n",
      "\n"
     ]
    }
   ],
   "source": [
    "print(classification_report(y_test,y_pred_tree))"
   ]
  },
  {
   "cell_type": "code",
   "execution_count": 29,
   "metadata": {},
   "outputs": [],
   "source": [
    "# ROC와 AUC\n",
    "from sklearn.metrics import roc_curve, roc_auc_score"
   ]
  },
  {
   "cell_type": "code",
   "execution_count": 30,
   "metadata": {},
   "outputs": [
    {
     "data": {
      "text/plain": [
       "<matplotlib.legend.Legend at 0x20a60382b88>"
      ]
     },
     "execution_count": 30,
     "metadata": {},
     "output_type": "execute_result"
    },
    {
     "data": {
      "image/png": "[encoded data removed]",
      "text/plain": [
       "<Figure size 432x288 with 1 Axes>"
      ]
     },
     "metadata": {
      "needs_background": "light"
     },
     "output_type": "display_data"
    },
    {
     "data": {
      "image/png": "[encoded data removed]",
      "text/plain": [
       "<Figure size 432x288 with 1 Axes>"
      ]
     },
     "metadata": {
      "needs_background": "light"
     },
     "output_type": "display_data"
    }
   ],
   "source": [
    "fpr, tpr, thresholds = roc_curve(y_test,log.predict_proba(X_test)[:,1])\n",
    "auc = roc_auc_score(y_test,log.predict_proba(X_test)[:,1])\n",
    "plt.figure()\n",
    "plt.plot(fpr,tpr)\n",
    "plt.xlabel(\"FPR\")\n",
    "plt.ylabel(\"TPR(=recall)\")\n",
    "\n",
    "# threshold에 따라서\n",
    "for i,v in enumerate(list(thresholds)):\n",
    "    plt.plot(fpr[i],tpr[i],'r*',label='threshold={}'.format(v),markersize=5)\n",
    "plt.title('roc_auc_score={}'.format(auc))\n",
    "plt.legend()\n",
    "\n",
    "fpr, tpr, thresholds = roc_curve(y_test,tree.predict_proba(X_test)[:,1])\n",
    "auc = roc_auc_score(y_test,tree.predict_proba(X_test)[:,1])\n",
    "plt.figure()\n",
    "plt.plot(fpr,tpr)\n",
    "plt.xlabel(\"FPR\")\n",
    "plt.ylabel(\"TPR(=recall)\")\n",
    "\n",
    "# threshold에 따라서\n",
    "for i,v in enumerate(list(thresholds)):\n",
    "    plt.plot(fpr[i],tpr[i],'r*',label='threshold={}'.format(v),markersize=5)\n",
    "plt.title('roc_auc_score={}'.format(auc))\n",
    "plt.legend()"
   ]
  },
  {
   "cell_type": "code",
   "execution_count": 31,
   "metadata": {},
   "outputs": [],
   "source": [
    "from sklearn.preprocessing import StandardScaler\n",
    "scaler = StandardScaler()\n",
    "scaler.fit(X_train)\n",
    "X_train_scaled = scaler.transform(X_train)\n",
    "X_test_scaled = scaler.transform(X_test)"
   ]
  },
  {
   "cell_type": "markdown",
   "metadata": {},
   "source": [
    "최적의 파라미터를 찾아 그 파라미터를 토대로 recall과 precision이 제일 좋은 모델을 찾도록 한다."
   ]
  },
  {
   "cell_type": "code",
   "execution_count": 32,
   "metadata": {},
   "outputs": [
    {
     "data": {
      "text/html": [
       "<div>\n",
       "<style scoped>\n",
       "    .dataframe tbody tr th:only-of-type {\n",
       "        vertical-align: middle;\n",
       "    }\n",
       "\n",
       "    .dataframe tbody tr th {\n",
       "        vertical-align: top;\n",
       "    }\n",
       "\n",
       "    .dataframe thead th {\n",
       "        text-align: right;\n",
       "    }\n",
       "</style>\n",
       "<table border=\"1\" class=\"dataframe\">\n",
       "  <thead>\n",
       "    <tr style=\"text-align: right;\">\n",
       "      <th></th>\n",
       "      <th>mean_fit_time</th>\n",
       "      <th>std_fit_time</th>\n",
       "      <th>mean_score_time</th>\n",
       "      <th>std_score_time</th>\n",
       "      <th>param_C</th>\n",
       "      <th>param_solver</th>\n",
       "      <th>params</th>\n",
       "      <th>split0_test_score</th>\n",
       "      <th>split1_test_score</th>\n",
       "      <th>split2_test_score</th>\n",
       "      <th>...</th>\n",
       "      <th>mean_test_score</th>\n",
       "      <th>std_test_score</th>\n",
       "      <th>rank_test_score</th>\n",
       "      <th>split0_train_score</th>\n",
       "      <th>split1_train_score</th>\n",
       "      <th>split2_train_score</th>\n",
       "      <th>split3_train_score</th>\n",
       "      <th>split4_train_score</th>\n",
       "      <th>mean_train_score</th>\n",
       "      <th>std_train_score</th>\n",
       "    </tr>\n",
       "  </thead>\n",
       "  <tbody>\n",
       "    <tr>\n",
       "      <td>3</td>\n",
       "      <td>0.000776</td>\n",
       "      <td>0.000389</td>\n",
       "      <td>0.000611</td>\n",
       "      <td>0.000500</td>\n",
       "      <td>0.1</td>\n",
       "      <td>liblinear</td>\n",
       "      <td>{'C': 0.1, 'solver': 'liblinear'}</td>\n",
       "      <td>1.0</td>\n",
       "      <td>1.000000</td>\n",
       "      <td>0.974359</td>\n",
       "      <td>...</td>\n",
       "      <td>0.973819</td>\n",
       "      <td>0.040769</td>\n",
       "      <td>1</td>\n",
       "      <td>0.967532</td>\n",
       "      <td>0.961039</td>\n",
       "      <td>0.974026</td>\n",
       "      <td>0.980645</td>\n",
       "      <td>0.967742</td>\n",
       "      <td>0.970197</td>\n",
       "      <td>0.006646</td>\n",
       "    </tr>\n",
       "    <tr>\n",
       "      <td>5</td>\n",
       "      <td>0.000596</td>\n",
       "      <td>0.000487</td>\n",
       "      <td>0.000418</td>\n",
       "      <td>0.000512</td>\n",
       "      <td>1</td>\n",
       "      <td>liblinear</td>\n",
       "      <td>{'C': 1, 'solver': 'liblinear'}</td>\n",
       "      <td>1.0</td>\n",
       "      <td>0.974359</td>\n",
       "      <td>0.948718</td>\n",
       "      <td>...</td>\n",
       "      <td>0.963563</td>\n",
       "      <td>0.039317</td>\n",
       "      <td>2</td>\n",
       "      <td>0.980519</td>\n",
       "      <td>0.974026</td>\n",
       "      <td>0.993506</td>\n",
       "      <td>0.993548</td>\n",
       "      <td>0.987097</td>\n",
       "      <td>0.985739</td>\n",
       "      <td>0.007584</td>\n",
       "    </tr>\n",
       "    <tr>\n",
       "      <td>6</td>\n",
       "      <td>0.003968</td>\n",
       "      <td>0.000028</td>\n",
       "      <td>0.000000</td>\n",
       "      <td>0.000000</td>\n",
       "      <td>10</td>\n",
       "      <td>lbfgs</td>\n",
       "      <td>{'C': 10, 'solver': 'lbfgs'}</td>\n",
       "      <td>1.0</td>\n",
       "      <td>0.974359</td>\n",
       "      <td>0.974359</td>\n",
       "      <td>...</td>\n",
       "      <td>0.963428</td>\n",
       "      <td>0.035778</td>\n",
       "      <td>3</td>\n",
       "      <td>0.980519</td>\n",
       "      <td>0.993506</td>\n",
       "      <td>0.993506</td>\n",
       "      <td>0.993548</td>\n",
       "      <td>0.980645</td>\n",
       "      <td>0.988345</td>\n",
       "      <td>0.006339</td>\n",
       "    </tr>\n",
       "    <tr>\n",
       "      <td>7</td>\n",
       "      <td>0.001378</td>\n",
       "      <td>0.000466</td>\n",
       "      <td>0.000199</td>\n",
       "      <td>0.000399</td>\n",
       "      <td>10</td>\n",
       "      <td>liblinear</td>\n",
       "      <td>{'C': 10, 'solver': 'liblinear'}</td>\n",
       "      <td>1.0</td>\n",
       "      <td>0.974359</td>\n",
       "      <td>0.974359</td>\n",
       "      <td>...</td>\n",
       "      <td>0.963428</td>\n",
       "      <td>0.035778</td>\n",
       "      <td>3</td>\n",
       "      <td>0.987013</td>\n",
       "      <td>0.993506</td>\n",
       "      <td>0.987013</td>\n",
       "      <td>0.993548</td>\n",
       "      <td>0.987097</td>\n",
       "      <td>0.989636</td>\n",
       "      <td>0.003178</td>\n",
       "    </tr>\n",
       "    <tr>\n",
       "      <td>4</td>\n",
       "      <td>0.002965</td>\n",
       "      <td>0.000034</td>\n",
       "      <td>0.000812</td>\n",
       "      <td>0.000406</td>\n",
       "      <td>1</td>\n",
       "      <td>lbfgs</td>\n",
       "      <td>{'C': 1, 'solver': 'lbfgs'}</td>\n",
       "      <td>1.0</td>\n",
       "      <td>0.974359</td>\n",
       "      <td>0.948718</td>\n",
       "      <td>...</td>\n",
       "      <td>0.958300</td>\n",
       "      <td>0.035681</td>\n",
       "      <td>5</td>\n",
       "      <td>0.967532</td>\n",
       "      <td>0.974026</td>\n",
       "      <td>0.980519</td>\n",
       "      <td>0.993548</td>\n",
       "      <td>0.980645</td>\n",
       "      <td>0.979254</td>\n",
       "      <td>0.008632</td>\n",
       "    </tr>\n",
       "  </tbody>\n",
       "</table>\n",
       "<p>5 rows × 22 columns</p>\n",
       "</div>"
      ],
      "text/plain": [
       "   mean_fit_time  std_fit_time  mean_score_time  std_score_time param_C  \\\n",
       "3       0.000776      0.000389         0.000611        0.000500     0.1   \n",
       "5       0.000596      0.000487         0.000418        0.000512       1   \n",
       "6       0.003968      0.000028         0.000000        0.000000      10   \n",
       "7       0.001378      0.000466         0.000199        0.000399      10   \n",
       "4       0.002965      0.000034         0.000812        0.000406       1   \n",
       "\n",
       "  param_solver                             params  split0_test_score  \\\n",
       "3    liblinear  {'C': 0.1, 'solver': 'liblinear'}                1.0   \n",
       "5    liblinear    {'C': 1, 'solver': 'liblinear'}                1.0   \n",
       "6        lbfgs       {'C': 10, 'solver': 'lbfgs'}                1.0   \n",
       "7    liblinear   {'C': 10, 'solver': 'liblinear'}                1.0   \n",
       "4        lbfgs        {'C': 1, 'solver': 'lbfgs'}                1.0   \n",
       "\n",
       "   split1_test_score  split2_test_score  ...  mean_test_score  std_test_score  \\\n",
       "3           1.000000           0.974359  ...         0.973819        0.040769   \n",
       "5           0.974359           0.948718  ...         0.963563        0.039317   \n",
       "6           0.974359           0.974359  ...         0.963428        0.035778   \n",
       "7           0.974359           0.974359  ...         0.963428        0.035778   \n",
       "4           0.974359           0.948718  ...         0.958300        0.035681   \n",
       "\n",
       "   rank_test_score  split0_train_score  split1_train_score  \\\n",
       "3                1            0.967532            0.961039   \n",
       "5                2            0.980519            0.974026   \n",
       "6                3            0.980519            0.993506   \n",
       "7                3            0.987013            0.993506   \n",
       "4                5            0.967532            0.974026   \n",
       "\n",
       "   split2_train_score  split3_train_score  split4_train_score  \\\n",
       "3            0.974026            0.980645            0.967742   \n",
       "5            0.993506            0.993548            0.987097   \n",
       "6            0.993506            0.993548            0.980645   \n",
       "7            0.987013            0.993548            0.987097   \n",
       "4            0.980519            0.993548            0.980645   \n",
       "\n",
       "   mean_train_score  std_train_score  \n",
       "3          0.970197         0.006646  \n",
       "5          0.985739         0.007584  \n",
       "6          0.988345         0.006339  \n",
       "7          0.989636         0.003178  \n",
       "4          0.979254         0.008632  \n",
       "\n",
       "[5 rows x 22 columns]"
      ]
     },
     "execution_count": 32,
     "metadata": {},
     "output_type": "execute_result"
    }
   ],
   "source": [
    "params = {'C':[0.01,0.1,1,10,100],'solver':['lbfgs','liblinear']}\n",
    "from sklearn.model_selection import GridSearchCV\n",
    "grid_search = GridSearchCV(LogisticRegression(),params,cv=5,return_train_score=True)\n",
    "grid_search.fit(X_scaled,y)\n",
    "pd.DataFrame(grid_search.cv_results_).sort_values(by='rank_test_score').head()"
   ]
  },
  {
   "cell_type": "markdown",
   "metadata": {},
   "source": [
    "가장 좋은 파라미터는 C=0.1, solver=liblinear"
   ]
  },
  {
   "cell_type": "code",
   "execution_count": 33,
   "metadata": {},
   "outputs": [],
   "source": [
    "log = LogisticRegression(C=0.1,solver='liblinear')"
   ]
  },
  {
   "cell_type": "code",
   "execution_count": 34,
   "metadata": {},
   "outputs": [],
   "source": [
    "log.fit(X_train_scaled,y_train)\n",
    "y_pred_scaler = log.predict(X_test_scaled)"
   ]
  },
  {
   "cell_type": "code",
   "execution_count": 35,
   "metadata": {},
   "outputs": [
    {
     "name": "stdout",
     "output_type": "stream",
     "text": [
      "              precision    recall  f1-score   support\n",
      "\n",
      "           0       0.96      0.96      0.96        73\n",
      "           1       0.88      0.88      0.88        24\n",
      "\n",
      "    accuracy                           0.94        97\n",
      "   macro avg       0.92      0.92      0.92        97\n",
      "weighted avg       0.94      0.94      0.94        97\n",
      "\n"
     ]
    }
   ],
   "source": [
    "print(classification_report(y_test,y_pred_scaler))"
   ]
  },
  {
   "cell_type": "markdown",
   "metadata": {},
   "source": [
    "accuracy는 괜찮게 나오지만 precision과 recall의 점수가 낮으므로 개선시킬 수 있는 임계치를 찾도록 한다.<br>"
   ]
  },
  {
   "cell_type": "code",
   "execution_count": 36,
   "metadata": {},
   "outputs": [
    {
     "data": {
      "text/plain": [
       "<matplotlib.legend.Legend at 0x20a604b3c88>"
      ]
     },
     "execution_count": 36,
     "metadata": {},
     "output_type": "execute_result"
    },
    {
     "data": {
      "image/png": "[encoded data removed]",
      "text/plain": [
       "<Figure size 432x288 with 1 Axes>"
      ]
     },
     "metadata": {
      "needs_background": "light"
     },
     "output_type": "display_data"
    }
   ],
   "source": [
    "fpr, tpr, thresholds = roc_curve(y_test,log.predict_proba(X_test_scaled)[:,1])\n",
    "auc = roc_auc_score(y_test,log.predict_proba(X_test_scaled)[:,1])\n",
    "plt.figure()\n",
    "plt.plot(fpr,tpr)\n",
    "plt.xlabel(\"FPR\")\n",
    "plt.ylabel(\"TPR(=recall)\")\n",
    "\n",
    "# threshold에 따라서\n",
    "for i,v in enumerate(list(thresholds)):\n",
    "    plt.plot(fpr[i],tpr[i],'r*',label='threshold={}'.format(v),markersize=5)\n",
    "plt.title('roc_auc_score={}'.format(auc))\n",
    "plt.legend()"
   ]
  },
  {
   "cell_type": "code",
   "execution_count": 37,
   "metadata": {},
   "outputs": [
    {
     "data": {
      "image/png": "[encoded data removed]",
      "text/plain": [
       "<Figure size 432x288 with 1 Axes>"
      ]
     },
     "metadata": {
      "needs_background": "light"
     },
     "output_type": "display_data"
    }
   ],
   "source": [
    "from sklearn.metrics import precision_recall_curve\n",
    "precision,recall,thresholds = precision_recall_curve(y_test,log.predict_proba(X_test_scaled)[:,1])\n",
    "\n",
    "plt.figure()\n",
    "plt.plot(precision,recall)\n",
    "plt.xlabel(\"precision\")\n",
    "plt.ylabel(\"recall\")\n",
    "\n",
    "# threshold에 따라서\n",
    "for i,v in enumerate(list(thresholds)):\n",
    "    plt.plot(precision[i],recall[i],'r*',markersize=5)"
   ]
  },
  {
   "cell_type": "markdown",
   "metadata": {},
   "source": [
    "precision이 0.95 정도 근처에서의 threshold가 recall값도 괜찮게 나오므로 해당 값을 찾도록한다."
   ]
  },
  {
   "cell_type": "code",
   "execution_count": 38,
   "metadata": {},
   "outputs": [
    {
     "name": "stdout",
     "output_type": "stream",
     "text": [
      "precision : 0.9444444444444444, recall : 0.7083333333333334, threshold: 0.6068233242171948\n",
      "precision : 0.9523809523809523, recall : 0.8333333333333334, threshold: 0.5381762193387903\n",
      "precision : 0.9523809523809523, recall : 0.8333333333333334, threshold: 0.5381762193387903\n",
      "precision : 0.9523809523809523, recall : 0.8333333333333334, threshold: 0.5381762193387903\n",
      "precision : 1.0, recall : 0.5, threshold: 0.8039500808411543\n",
      "precision : 1.0, recall : 0.5, threshold: 0.8039500808411543\n",
      "precision : 1.0, recall : 0.5, threshold: 0.8039500808411543\n",
      "precision : 1.0, recall : 0.5, threshold: 0.8039500808411543\n",
      "precision : 1.0, recall : 0.5, threshold: 0.8039500808411543\n",
      "precision : 1.0, recall : 0.5, threshold: 0.8039500808411543\n",
      "precision : 1.0, recall : 0.5, threshold: 0.8039500808411543\n",
      "precision : 1.0, recall : 0.5, threshold: 0.8039500808411543\n",
      "precision : 1.0, recall : 0.5, threshold: 0.8039500808411543\n",
      "precision : 1.0, recall : 0.5, threshold: 0.8039500808411543\n",
      "precision : 1.0, recall : 0.5, threshold: 0.8039500808411543\n"
     ]
    }
   ],
   "source": [
    "for k in range(0,15):\n",
    "    i = np.argmin(np.abs(precision-0.945-k/100))\n",
    "    print('precision : {}, recall : {}, threshold: {}'.format(precision[i],recall[i],thresholds[i]))"
   ]
  },
  {
   "cell_type": "markdown",
   "metadata": {},
   "source": [
    "threshold가 0.54 정도면 괜찮은 수치가 나오지만 조금 더 만족스러운 수치를 위해 solver를 lbfgs(기본값)로 바꾸고 진행한다. <br>이때 C값은 10일 때가 정확도 측면에서 최적이다."
   ]
  },
  {
   "cell_type": "code",
   "execution_count": 39,
   "metadata": {},
   "outputs": [],
   "source": [
    "log = LogisticRegression(C=10)"
   ]
  },
  {
   "cell_type": "code",
   "execution_count": 40,
   "metadata": {},
   "outputs": [],
   "source": [
    "log.fit(X_train_scaled,y_train)\n",
    "y_pred_scaler = log.predict(X_test_scaled)"
   ]
  },
  {
   "cell_type": "code",
   "execution_count": 41,
   "metadata": {},
   "outputs": [
    {
     "name": "stdout",
     "output_type": "stream",
     "text": [
      "              precision    recall  f1-score   support\n",
      "\n",
      "           0       0.94      0.99      0.96        73\n",
      "           1       0.95      0.79      0.86        24\n",
      "\n",
      "    accuracy                           0.94        97\n",
      "   macro avg       0.94      0.89      0.91        97\n",
      "weighted avg       0.94      0.94      0.94        97\n",
      "\n"
     ]
    }
   ],
   "source": [
    "print(classification_report(y_test,y_pred_scaler))"
   ]
  },
  {
   "cell_type": "markdown",
   "metadata": {},
   "source": [
    "precision이 꽤 괜찮게 나오지만 recall이 낮기 때문에 균형을 이룰 수 있는 threshold를 찾도록 한다."
   ]
  },
  {
   "cell_type": "code",
   "execution_count": 42,
   "metadata": {},
   "outputs": [
    {
     "data": {
      "text/plain": [
       "<matplotlib.legend.Legend at 0x20a60621dc8>"
      ]
     },
     "execution_count": 42,
     "metadata": {},
     "output_type": "execute_result"
    },
    {
     "data": {
      "image/png": "[encoded data removed]",
      "text/plain": [
       "<Figure size 432x288 with 1 Axes>"
      ]
     },
     "metadata": {
      "needs_background": "light"
     },
     "output_type": "display_data"
    }
   ],
   "source": [
    "fpr, tpr, thresholds = roc_curve(y_test,log.predict_proba(X_test_scaled)[:,1])\n",
    "auc = roc_auc_score(y_test,log.predict_proba(X_test_scaled)[:,1])\n",
    "plt.figure()\n",
    "plt.plot(fpr,tpr)\n",
    "plt.xlabel(\"FPR\")\n",
    "plt.ylabel(\"TPR(=recall)\")\n",
    "\n",
    "# threshold에 따라서\n",
    "for i,v in enumerate(list(thresholds)):\n",
    "    plt.plot(fpr[i],tpr[i],'r*',label='threshold={}'.format(v),markersize=5)\n",
    "plt.title('roc_auc_score={}'.format(auc))\n",
    "plt.legend()"
   ]
  },
  {
   "cell_type": "code",
   "execution_count": 43,
   "metadata": {},
   "outputs": [
    {
     "data": {
      "image/png": "[encoded data removed]",
      "text/plain": [
       "<Figure size 432x288 with 1 Axes>"
      ]
     },
     "metadata": {
      "needs_background": "light"
     },
     "output_type": "display_data"
    }
   ],
   "source": [
    "precision,recall,thresholds = precision_recall_curve(y_test,log.predict_proba(X_test_scaled)[:,1])\n",
    "\n",
    "plt.figure()\n",
    "plt.plot(precision,recall)\n",
    "plt.xlabel(\"precision\")\n",
    "plt.ylabel(\"recall\")\n",
    "\n",
    "# threshold에 따라서\n",
    "for i,v in enumerate(list(thresholds)):\n",
    "    plt.plot(precision[i],recall[i],'r*',markersize=5)"
   ]
  },
  {
   "cell_type": "markdown",
   "metadata": {},
   "source": [
    "precision이 0.95 정도 근처에서의 threshold가 recall값도 괜찮게 나오므로 해당 값을 찾도록한다."
   ]
  },
  {
   "cell_type": "code",
   "execution_count": 44,
   "metadata": {},
   "outputs": [
    {
     "name": "stdout",
     "output_type": "stream",
     "text": [
      "precision : 0.9444444444444444, recall : 0.7083333333333334, threshold: 0.8227574941522426\n",
      "precision : 0.9545454545454546, recall : 0.875, threshold: 0.4098948021210839\n",
      "precision : 0.9583333333333334, recall : 0.9583333333333334, threshold: 0.32718593695339226\n",
      "precision : 0.9583333333333334, recall : 0.9583333333333334, threshold: 0.32718593695339226\n",
      "precision : 1.0, recall : 0.5, threshold: 0.9952401060995255\n",
      "precision : 1.0, recall : 0.5, threshold: 0.9952401060995255\n",
      "precision : 1.0, recall : 0.5, threshold: 0.9952401060995255\n",
      "precision : 1.0, recall : 0.5, threshold: 0.9952401060995255\n",
      "precision : 1.0, recall : 0.5, threshold: 0.9952401060995255\n",
      "precision : 1.0, recall : 0.5, threshold: 0.9952401060995255\n",
      "precision : 1.0, recall : 0.5, threshold: 0.9952401060995255\n",
      "precision : 1.0, recall : 0.5, threshold: 0.9952401060995255\n",
      "precision : 1.0, recall : 0.5, threshold: 0.9952401060995255\n",
      "precision : 1.0, recall : 0.5, threshold: 0.9952401060995255\n",
      "precision : 1.0, recall : 0.5, threshold: 0.9952401060995255\n"
     ]
    }
   ],
   "source": [
    "for k in range(0,15):\n",
    "    i = np.argmin(np.abs(precision-0.945-k/100))\n",
    "    print('precision : {}, recall : {}, threshold: {}'.format(precision[i],recall[i],thresholds[i]))"
   ]
  },
  {
   "cell_type": "markdown",
   "metadata": {},
   "source": [
    "threshold가 0.33 정도일 때 precision과 recall 모두 매우 높은 값을 갖는다. <br>\n",
    "비록 정확도 측면에서는 solver 파라미터가 liblinear일 때 높지만 recall이나 precision같은 수치 측면에서는 solver를 기본값으로 하는게 더 낫다.\n",
    "\n",
    "이 threshold에서의 정확도를 체크해보도록 한다."
   ]
  },
  {
   "cell_type": "code",
   "execution_count": 45,
   "metadata": {},
   "outputs": [
    {
     "data": {
      "text/plain": [
       "array([False, False, False, False, False, False, False, False, False,\n",
       "       False, False, False,  True,  True, False, False, False,  True,\n",
       "        True, False, False, False, False, False,  True,  True, False,\n",
       "       False, False, False, False, False,  True, False, False, False,\n",
       "        True, False,  True,  True, False, False, False,  True, False,\n",
       "       False, False, False,  True, False, False, False,  True, False,\n",
       "       False, False, False, False, False,  True, False,  True,  True,\n",
       "       False,  True, False,  True, False, False, False, False,  True,\n",
       "       False, False, False,  True,  True, False, False, False, False,\n",
       "       False, False, False, False,  True, False, False, False,  True,\n",
       "       False, False, False, False, False, False, False])"
      ]
     },
     "execution_count": 45,
     "metadata": {},
     "output_type": "execute_result"
    }
   ],
   "source": [
    "log.predict_proba(X_test_scaled)[:,1]>0.33"
   ]
  },
  {
   "cell_type": "code",
   "execution_count": 46,
   "metadata": {},
   "outputs": [],
   "source": [
    "real_pred_df = pd.DataFrame(y_test)\n",
    "real_pred_df['예측값'] = log.predict_proba(X_test_scaled)[:,1]>0.33"
   ]
  },
  {
   "cell_type": "code",
   "execution_count": 47,
   "metadata": {},
   "outputs": [
    {
     "data": {
      "text/html": [
       "<div>\n",
       "<style scoped>\n",
       "    .dataframe tbody tr th:only-of-type {\n",
       "        vertical-align: middle;\n",
       "    }\n",
       "\n",
       "    .dataframe tbody tr th {\n",
       "        vertical-align: top;\n",
       "    }\n",
       "\n",
       "    .dataframe thead th {\n",
       "        text-align: right;\n",
       "    }\n",
       "</style>\n",
       "<table border=\"1\" class=\"dataframe\">\n",
       "  <thead>\n",
       "    <tr style=\"text-align: right;\">\n",
       "      <th></th>\n",
       "      <th>선진국여부</th>\n",
       "      <th>예측값</th>\n",
       "    </tr>\n",
       "  </thead>\n",
       "  <tbody>\n",
       "    <tr>\n",
       "      <td>58</td>\n",
       "      <td>0</td>\n",
       "      <td>False</td>\n",
       "    </tr>\n",
       "    <tr>\n",
       "      <td>29</td>\n",
       "      <td>0</td>\n",
       "      <td>False</td>\n",
       "    </tr>\n",
       "    <tr>\n",
       "      <td>51</td>\n",
       "      <td>1</td>\n",
       "      <td>True</td>\n",
       "    </tr>\n",
       "    <tr>\n",
       "      <td>6</td>\n",
       "      <td>1</td>\n",
       "      <td>True</td>\n",
       "    </tr>\n",
       "    <tr>\n",
       "      <td>136</td>\n",
       "      <td>0</td>\n",
       "      <td>False</td>\n",
       "    </tr>\n",
       "    <tr>\n",
       "      <td>180</td>\n",
       "      <td>0</td>\n",
       "      <td>False</td>\n",
       "    </tr>\n",
       "    <tr>\n",
       "      <td>5</td>\n",
       "      <td>0</td>\n",
       "      <td>False</td>\n",
       "    </tr>\n",
       "    <tr>\n",
       "      <td>141</td>\n",
       "      <td>0</td>\n",
       "      <td>False</td>\n",
       "    </tr>\n",
       "    <tr>\n",
       "      <td>43</td>\n",
       "      <td>0</td>\n",
       "      <td>False</td>\n",
       "    </tr>\n",
       "    <tr>\n",
       "      <td>121</td>\n",
       "      <td>1</td>\n",
       "      <td>True</td>\n",
       "    </tr>\n",
       "  </tbody>\n",
       "</table>\n",
       "</div>"
      ],
      "text/plain": [
       "     선진국여부    예측값\n",
       "58       0  False\n",
       "29       0  False\n",
       "51       1   True\n",
       "6        1   True\n",
       "136      0  False\n",
       "180      0  False\n",
       "5        0  False\n",
       "141      0  False\n",
       "43       0  False\n",
       "121      1   True"
      ]
     },
     "execution_count": 47,
     "metadata": {},
     "output_type": "execute_result"
    }
   ],
   "source": [
    "real_pred_df[15:25]"
   ]
  },
  {
   "cell_type": "code",
   "execution_count": 48,
   "metadata": {},
   "outputs": [],
   "source": [
    "def convert_bool(x):\n",
    "    if x == False:\n",
    "        x=0\n",
    "    else:\n",
    "        x=1\n",
    "    return x\n",
    "real_pred_df['예측값'] = real_pred_df['예측값'].map(convert_bool)"
   ]
  },
  {
   "cell_type": "code",
   "execution_count": 49,
   "metadata": {},
   "outputs": [
    {
     "data": {
      "text/html": [
       "<div>\n",
       "<style scoped>\n",
       "    .dataframe tbody tr th:only-of-type {\n",
       "        vertical-align: middle;\n",
       "    }\n",
       "\n",
       "    .dataframe tbody tr th {\n",
       "        vertical-align: top;\n",
       "    }\n",
       "\n",
       "    .dataframe thead th {\n",
       "        text-align: right;\n",
       "    }\n",
       "</style>\n",
       "<table border=\"1\" class=\"dataframe\">\n",
       "  <thead>\n",
       "    <tr style=\"text-align: right;\">\n",
       "      <th></th>\n",
       "      <th>선진국여부</th>\n",
       "      <th>예측값</th>\n",
       "    </tr>\n",
       "  </thead>\n",
       "  <tbody>\n",
       "    <tr>\n",
       "      <td>58</td>\n",
       "      <td>0</td>\n",
       "      <td>0</td>\n",
       "    </tr>\n",
       "    <tr>\n",
       "      <td>29</td>\n",
       "      <td>0</td>\n",
       "      <td>0</td>\n",
       "    </tr>\n",
       "    <tr>\n",
       "      <td>51</td>\n",
       "      <td>1</td>\n",
       "      <td>1</td>\n",
       "    </tr>\n",
       "    <tr>\n",
       "      <td>6</td>\n",
       "      <td>1</td>\n",
       "      <td>1</td>\n",
       "    </tr>\n",
       "    <tr>\n",
       "      <td>136</td>\n",
       "      <td>0</td>\n",
       "      <td>0</td>\n",
       "    </tr>\n",
       "    <tr>\n",
       "      <td>180</td>\n",
       "      <td>0</td>\n",
       "      <td>0</td>\n",
       "    </tr>\n",
       "    <tr>\n",
       "      <td>5</td>\n",
       "      <td>0</td>\n",
       "      <td>0</td>\n",
       "    </tr>\n",
       "    <tr>\n",
       "      <td>141</td>\n",
       "      <td>0</td>\n",
       "      <td>0</td>\n",
       "    </tr>\n",
       "    <tr>\n",
       "      <td>43</td>\n",
       "      <td>0</td>\n",
       "      <td>0</td>\n",
       "    </tr>\n",
       "    <tr>\n",
       "      <td>121</td>\n",
       "      <td>1</td>\n",
       "      <td>1</td>\n",
       "    </tr>\n",
       "  </tbody>\n",
       "</table>\n",
       "</div>"
      ],
      "text/plain": [
       "     선진국여부  예측값\n",
       "58       0    0\n",
       "29       0    0\n",
       "51       1    1\n",
       "6        1    1\n",
       "136      0    0\n",
       "180      0    0\n",
       "5        0    0\n",
       "141      0    0\n",
       "43       0    0\n",
       "121      1    1"
      ]
     },
     "execution_count": 49,
     "metadata": {},
     "output_type": "execute_result"
    }
   ],
   "source": [
    "real_pred_df[15:25]"
   ]
  },
  {
   "cell_type": "code",
   "execution_count": 50,
   "metadata": {},
   "outputs": [
    {
     "data": {
      "text/plain": [
       "0    72\n",
       "2    22\n",
       "1     3\n",
       "dtype: int64"
      ]
     },
     "execution_count": 50,
     "metadata": {},
     "output_type": "execute_result"
    }
   ],
   "source": [
    "real_pred_df.sum(axis=1).value_counts()"
   ]
  },
  {
   "cell_type": "markdown",
   "metadata": {},
   "source": [
    "97개 중에서 3개 정도만 일치하지 않기 때문에 정확도 역시 매우 높다고 할 수 있다. "
   ]
  },
  {
   "cell_type": "code",
   "execution_count": 51,
   "metadata": {},
   "outputs": [
    {
     "data": {
      "text/plain": [
       "0.9690721649484536"
      ]
     },
     "execution_count": 51,
     "metadata": {},
     "output_type": "execute_result"
    }
   ],
   "source": [
    "94/97"
   ]
  },
  {
   "cell_type": "code",
   "execution_count": 52,
   "metadata": {},
   "outputs": [
    {
     "data": {
      "text/html": [
       "<div>\n",
       "<style scoped>\n",
       "    .dataframe tbody tr th:only-of-type {\n",
       "        vertical-align: middle;\n",
       "    }\n",
       "\n",
       "    .dataframe tbody tr th {\n",
       "        vertical-align: top;\n",
       "    }\n",
       "\n",
       "    .dataframe thead th {\n",
       "        text-align: right;\n",
       "    }\n",
       "</style>\n",
       "<table border=\"1\" class=\"dataframe\">\n",
       "  <thead>\n",
       "    <tr style=\"text-align: right;\">\n",
       "      <th></th>\n",
       "      <th>청렴도</th>\n",
       "      <th>민주주의지수</th>\n",
       "      <th>교육지수</th>\n",
       "      <th>gdp</th>\n",
       "      <th>평균수명</th>\n",
       "      <th>문해율</th>\n",
       "      <th>언론자유지수</th>\n",
       "    </tr>\n",
       "  </thead>\n",
       "  <tbody>\n",
       "    <tr>\n",
       "      <td>0</td>\n",
       "      <td>-0.533966</td>\n",
       "      <td>1.284279</td>\n",
       "      <td>2.246487</td>\n",
       "      <td>3.548757</td>\n",
       "      <td>1.773667</td>\n",
       "      <td>0.103054</td>\n",
       "      <td>-1.808646</td>\n",
       "    </tr>\n",
       "  </tbody>\n",
       "</table>\n",
       "</div>"
      ],
      "text/plain": [
       "        청렴도    민주주의지수      교육지수       gdp      평균수명       문해율    언론자유지수\n",
       "0 -0.533966  1.284279  2.246487  3.548757  1.773667  0.103054 -1.808646"
      ]
     },
     "execution_count": 52,
     "metadata": {},
     "output_type": "execute_result"
    }
   ],
   "source": [
    "# 이 모델이 판단을 내릴 때 가장 영향을 많이 미치는 변수 \n",
    "pd.DataFrame(list(log.coef_),columns=list(X.columns))"
   ]
  },
  {
   "cell_type": "code",
   "execution_count": 53,
   "metadata": {},
   "outputs": [
    {
     "data": {
      "text/html": [
       "<div>\n",
       "<style scoped>\n",
       "    .dataframe tbody tr th:only-of-type {\n",
       "        vertical-align: middle;\n",
       "    }\n",
       "\n",
       "    .dataframe tbody tr th {\n",
       "        vertical-align: top;\n",
       "    }\n",
       "\n",
       "    .dataframe thead th {\n",
       "        text-align: right;\n",
       "    }\n",
       "</style>\n",
       "<table border=\"1\" class=\"dataframe\">\n",
       "  <thead>\n",
       "    <tr style=\"text-align: right;\">\n",
       "      <th></th>\n",
       "      <th>국가</th>\n",
       "      <th>선진국여부</th>\n",
       "      <th>청렴도</th>\n",
       "      <th>민주주의지수</th>\n",
       "      <th>교육지수</th>\n",
       "      <th>gdp</th>\n",
       "      <th>평균수명</th>\n",
       "      <th>문해율</th>\n",
       "      <th>언론자유지수</th>\n",
       "    </tr>\n",
       "  </thead>\n",
       "  <tbody>\n",
       "    <tr>\n",
       "      <td>27</td>\n",
       "      <td>라트비아</td>\n",
       "      <td>1</td>\n",
       "      <td>58.000000</td>\n",
       "      <td>7.490000</td>\n",
       "      <td>0.835</td>\n",
       "      <td>18172.0</td>\n",
       "      <td>73.950000</td>\n",
       "      <td>99.8</td>\n",
       "      <td>19.53</td>\n",
       "    </tr>\n",
       "    <tr>\n",
       "      <td>106</td>\n",
       "      <td>안도라</td>\n",
       "      <td>1</td>\n",
       "      <td>46.076923</td>\n",
       "      <td>6.412069</td>\n",
       "      <td>0.718</td>\n",
       "      <td>15956.5</td>\n",
       "      <td>74.164839</td>\n",
       "      <td>100.0</td>\n",
       "      <td>24.63</td>\n",
       "    </tr>\n",
       "    <tr>\n",
       "      <td>151</td>\n",
       "      <td>카타르</td>\n",
       "      <td>0</td>\n",
       "      <td>62.000000</td>\n",
       "      <td>3.190000</td>\n",
       "      <td>0.698</td>\n",
       "      <td>69688.0</td>\n",
       "      <td>78.880000</td>\n",
       "      <td>96.3</td>\n",
       "      <td>42.51</td>\n",
       "    </tr>\n",
       "  </tbody>\n",
       "</table>\n",
       "</div>"
      ],
      "text/plain": [
       "       국가  선진국여부        청렴도    민주주의지수   교육지수      gdp       평균수명    문해율  \\\n",
       "27   라트비아      1  58.000000  7.490000  0.835  18172.0  73.950000   99.8   \n",
       "106   안도라      1  46.076923  6.412069  0.718  15956.5  74.164839  100.0   \n",
       "151   카타르      0  62.000000  3.190000  0.698  69688.0  78.880000   96.3   \n",
       "\n",
       "     언론자유지수  \n",
       "27    19.53  \n",
       "106   24.63  \n",
       "151   42.51  "
      ]
     },
     "execution_count": 53,
     "metadata": {},
     "output_type": "execute_result"
    }
   ],
   "source": [
    "# 해당 모델이 잘못 분류한 케이스\n",
    "df.iloc[y_test[real_pred_df.sum(axis=1)==1].index]"
   ]
  },
  {
   "cell_type": "code",
   "execution_count": 54,
   "metadata": {},
   "outputs": [
    {
     "data": {
      "text/html": [
       "<div>\n",
       "<style scoped>\n",
       "    .dataframe tbody tr th:only-of-type {\n",
       "        vertical-align: middle;\n",
       "    }\n",
       "\n",
       "    .dataframe tbody tr th {\n",
       "        vertical-align: top;\n",
       "    }\n",
       "\n",
       "    .dataframe thead th {\n",
       "        text-align: right;\n",
       "    }\n",
       "</style>\n",
       "<table border=\"1\" class=\"dataframe\">\n",
       "  <thead>\n",
       "    <tr style=\"text-align: right;\">\n",
       "      <th></th>\n",
       "      <th>청렴도</th>\n",
       "      <th>민주주의지수</th>\n",
       "      <th>교육지수</th>\n",
       "      <th>gdp</th>\n",
       "      <th>평균수명</th>\n",
       "      <th>문해율</th>\n",
       "      <th>언론자유지수</th>\n",
       "    </tr>\n",
       "    <tr>\n",
       "      <th>선진국여부</th>\n",
       "      <th></th>\n",
       "      <th></th>\n",
       "      <th></th>\n",
       "      <th></th>\n",
       "      <th></th>\n",
       "      <th></th>\n",
       "      <th></th>\n",
       "    </tr>\n",
       "  </thead>\n",
       "  <tbody>\n",
       "    <tr>\n",
       "      <td>0</td>\n",
       "      <td>36.760221</td>\n",
       "      <td>4.713732</td>\n",
       "      <td>0.584754</td>\n",
       "      <td>6705.213822</td>\n",
       "      <td>68.121165</td>\n",
       "      <td>81.258156</td>\n",
       "      <td>38.961710</td>\n",
       "    </tr>\n",
       "    <tr>\n",
       "      <td>1</td>\n",
       "      <td>67.473866</td>\n",
       "      <td>8.080886</td>\n",
       "      <td>0.845749</td>\n",
       "      <td>43307.153846</td>\n",
       "      <td>80.287531</td>\n",
       "      <td>98.396325</td>\n",
       "      <td>20.426304</td>\n",
       "    </tr>\n",
       "  </tbody>\n",
       "</table>\n",
       "</div>"
      ],
      "text/plain": [
       "             청렴도    민주주의지수      교육지수           gdp       평균수명        문해율  \\\n",
       "선진국여부                                                                      \n",
       "0      36.760221  4.713732  0.584754   6705.213822  68.121165  81.258156   \n",
       "1      67.473866  8.080886  0.845749  43307.153846  80.287531  98.396325   \n",
       "\n",
       "          언론자유지수  \n",
       "선진국여부             \n",
       "0      38.961710  \n",
       "1      20.426304  "
      ]
     },
     "execution_count": 54,
     "metadata": {},
     "output_type": "execute_result"
    }
   ],
   "source": [
    "df.groupby('선진국여부').mean()"
   ]
  },
  {
   "cell_type": "code",
   "execution_count": 55,
   "metadata": {},
   "outputs": [
    {
     "data": {
      "text/plain": [
       "1    19\n",
       "0     1\n",
       "Name: 선진국여부, dtype: int64"
      ]
     },
     "execution_count": 55,
     "metadata": {},
     "output_type": "execute_result"
    }
   ],
   "source": [
    "# threshold가 0.5일 때 선진국으로 분류한 국가들 중 실제 선진국인지 아닌지를 나타냄\n",
    "df.iloc[y_test[log.predict(X_test_scaled)==1].index]['선진국여부'].value_counts()"
   ]
  },
  {
   "cell_type": "code",
   "execution_count": 56,
   "metadata": {},
   "outputs": [
    {
     "data": {
      "text/plain": [
       "1    22\n",
       "0     1\n",
       "Name: 선진국여부, dtype: int64"
      ]
     },
     "execution_count": 56,
     "metadata": {},
     "output_type": "execute_result"
    }
   ],
   "source": [
    "# threshold가 0.33일 때 선진국으로 분류한 국가들 중 실제 선진국인지 아닌지를 나타냄\n",
    "df.iloc[y_test[real_pred_df['예측값']==1].index]['선진국여부'].value_counts()"
   ]
  },
  {
   "cell_type": "markdown",
   "metadata": {},
   "source": [
    "결론 : 정확도와 recall, precision을 모두 따졌을 때 LogisticRegression의 C=10, solver='lbfgs'를 파라마터로 갖는 모델에 threshold를 0.33 정도로 맞춰주면 상당한 효과를 얻을 수 있다.\n",
    "정확도 : 0.9691 , recall: 0.9583 , precision :  0.95833\n",
    "\n",
    "gdp, 교육지수, 언론자유지수, 평균수명, 민주주의지수, 청렴도, 문해율 순으로 이 모델의 분류에 영향을 미친다."
   ]
  },
  {
   "cell_type": "code",
   "execution_count": null,
   "metadata": {},
   "outputs": [],
   "source": []
  }
 ],
 "metadata": {
  "kernelspec": {
   "display_name": "Python 3",
   "language": "python",
   "name": "python3"
  },
  "language_info": {
   "codemirror_mode": {
    "name": "ipython",
    "version": 3
   },
   "file_extension": ".py",
   "mimetype": "text/x-python",
   "name": "python",
   "nbconvert_exporter": "python",
   "pygments_lexer": "ipython3",
   "version": "3.7.4"
  }
 },
 "nbformat": 4,
 "nbformat_minor": 2
}
